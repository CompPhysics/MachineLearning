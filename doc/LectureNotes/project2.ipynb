{
 "cells": [
  {
   "cell_type": "markdown",
   "id": "96e577ca",
   "metadata": {
    "editable": true
   },
   "source": [
    "<!-- HTML file automatically generated from DocOnce source (https://github.com/doconce/doconce/)\n",
    "doconce format html Project2.do.txt  -->\n",
    "<!-- dom:TITLE: Project 2 on Machine Learning, deadline November 10 (Midnight) -->"
   ]
  },
  {
   "cell_type": "markdown",
   "id": "067c02b9",
   "metadata": {
    "editable": true
   },
   "source": [
    "# Project 2 on Machine Learning, deadline November 10 (Midnight)\n",
    "**[Data Analysis and Machine Learning FYS-STK3155/FYS4155](http://www.uio.no/studier/emner/matnat/fys/FYS3155/index-eng.html)**, University of Oslo, Norway\n",
    "\n",
    "Date: **October 14, 2025**"
   ]
  },
  {
   "cell_type": "markdown",
   "id": "01f9fedd",
   "metadata": {
    "editable": true
   },
   "source": [
    "## Deliverables\n",
    "\n",
    "First, join a group in canvas with your group partners. Pick an avaliable group for Project 2 in the **People** page.\n",
    "\n",
    "In canvas, deliver as a group and include:\n",
    "\n",
    "* A PDF of your report which follows the guidelines covered below and in the week 39 exercises. Additional requirements include:\n",
    "\n",
    "  * It should be around 5000 words, use the word counter in Overleaf for this. This often corresponds to 10-12 pages. References and appendices are excluded from the word count\n",
    "\n",
    "  * It should include around 10-15 figures. You can include more figures in appendices and/or as supplemental material in your repository.\n",
    "\n",
    "* A comment linking to your github repository (or folder in one of your github repositories) for this project. The repository must include\n",
    "\n",
    "A PDF file of the report\n",
    "  * A folder named Code, where you put python files for your functions and notebooks for reproducing your results. Remember to use a seed for generating random data and for train-test splits when generating final results.\n",
    "\n",
    "  * A README file with the name of the group members\n",
    "\n",
    "  * a short description of the project\n",
    "\n",
    "  * a description of how to install the required packages to run your code from a requirements.txt file or similar (such as a plain text description) names and descriptions of the various notebooks in the Code folder and the results they produce"
   ]
  },
  {
   "cell_type": "markdown",
   "id": "9f8e4871",
   "metadata": {
    "editable": true
   },
   "source": [
    "### Preamble: Note on writing reports, using reference material, AI and other tools\n",
    "\n",
    "We want you to answer the three different projects by handing in\n",
    "reports written like a standard scientific/technical report. The links\n",
    "at\n",
    "https://github.com/CompPhysics/MachineLearning/tree/master/doc/Projects\n",
    "contain more information. There you can find examples of previous\n",
    "reports, the projects themselves, how we grade reports etc. How to\n",
    "write reports will also be discussed during the various lab\n",
    "sessions. Please do ask us if you are in doubt.\n",
    "\n",
    "When using codes and material from other sources, you should refer to\n",
    "these in the bibliography of your report, indicating wherefrom you for\n",
    "example got the code, whether this is from the lecture notes,\n",
    "softwares like Scikit-Learn, TensorFlow, PyTorch or other\n",
    "sources. These sources should always be cited correctly. How to cite\n",
    "some of the libraries is often indicated from their corresponding\n",
    "GitHub sites or websites, see for example how to cite Scikit-Learn at\n",
    "https://scikit-learn.org/dev/about.html.\n",
    "\n",
    "We enocurage you to use tools like ChatGPT or similar in writing the\n",
    "report. If you use for example ChatGPT, please do cite it properly and\n",
    "include (if possible) your questions and answers as an addition to the\n",
    "report. This can be uploaded to for example your website,\n",
    "GitHub/GitLab or similar as supplemental material.\n",
    "\n",
    "If you would like to study other data sets, feel free to propose other\n",
    "sets. What we have proposed here are mere suggestions from our\n",
    "side. If you opt for another data set, consider using a set which has\n",
    "been studied in the scientific literature. This makes it easier for\n",
    "you to compare and analyze your results. Comparing with existing\n",
    "results from the scientific literature is also an essential element of\n",
    "the scientific discussion. The University of California at Irvine with\n",
    "its Machine Learning repository at\n",
    "https://archive.ics.uci.edu/ml/index.php is an excellent site to look\n",
    "up for examples and inspiration. Kaggle.com is an equally interesting\n",
    "site. Feel free to explore these sites."
   ]
  },
  {
   "cell_type": "markdown",
   "id": "460cc6ea",
   "metadata": {
    "editable": true
   },
   "source": [
    "## Classification and Regression, writing our own neural network code\n",
    "\n",
    "The main aim of this project is to study both classification and\n",
    "regression problems by developing our own \n",
    "feed-forward neural network (FFNN) code. The exercises from week 41 and 42 (see <https://compphysics.github.io/MachineLearning/doc/LectureNotes/_build/html/exercisesweek41.html> and <https://compphysics.github.io/MachineLearning/doc/LectureNotes/_build/html/exercisesweek42.html>) as well as the lecture material from the same weeks (see  <https://compphysics.github.io/MachineLearning/doc/LectureNotes/_build/html/week41.html> and <https://compphysics.github.io/MachineLearning/doc/LectureNotes/_build/html/week42.html>) should contain enough information for you to get started with writing your own code.\n",
    "\n",
    "We will also reuse our codes on gradient descent methods from project 1.\n",
    "\n",
    "The data sets that we propose here are (the default sets)\n",
    "\n",
    "* Regression (fitting a continuous function). In this part you will need to bring back your results from project 1 and compare these with what you get from your Neural Network code to be developed here. The data sets could be\n",
    "\n",
    "  * The simple one-dimensional function Runge function from project 1, that is $f(x) = \\frac{1}{1+25x^2}$. We recommend using a simpler function when developing your neural network code for regression problems. Feel however free to discuss and study other functions, such as the two-dimensional Runge function $f(x,y)=\\left[(10x - 5)^2 + (10y - 5)^2 + 1 \\right]^{-1}$, or even more complicated two-dimensional functions (see the supplementary material of <https://www.nature.com/articles/s41467-025-61362-4> for an extensive list of two-dimensional functions). \n",
    "\n",
    "* Classification.\n",
    "\n",
    " * We will consider a multiclass classification problem given by the full MNIST data set. The full data set is at <https://www.kaggle.com/datasets/hojjatk/mnist-dataset>.\n",
    "\n",
    "We will start with a regression problem and we will reuse our codes on gradient descent methods from project 1."
   ]
  },
  {
   "cell_type": "markdown",
   "id": "d62a07ef",
   "metadata": {
    "editable": true
   },
   "source": [
    "### Part a): Analytical warm-up\n",
    "\n",
    "When using our gradient machinery from project 1, we will need the expressions for the cost/loss functions and their respective\n",
    "gradients. The functions whose gradients we need are:\n",
    "1. The mean-squared error (MSE) with and without the $L_1$ and $L_2$ norms (regression problems)\n",
    "\n",
    "2. The binary cross entropy (aka log loss)  for binary classification problems with and without $L_1$ and $L_2$ norms\n",
    "\n",
    "3. The multiclass cross entropy cost/loss function (aka Softmax cross entropy or just Softmax loss function)\n",
    "\n",
    "Set up these three cost/loss functions and their respective derivatives and explain the various terms. In this project you will however only use the MSE and the Softmax  cross entropy.\n",
    "\n",
    "We will test three activation functions for our neural network setup, these are the \n",
    "1. The Sigmoid (aka **logit**) function,\n",
    "\n",
    "2. the RELU function and\n",
    "\n",
    "3. the Leaky RELU function\n",
    "\n",
    "Set up their expressions and their first derivatives.\n",
    "You may consult the lecture notes (with codes and more) from week 42 at <https://compphysics.github.io/MachineLearning/doc/LectureNotes/_build/html/week42.html>."
   ]
  },
  {
   "cell_type": "markdown",
   "id": "9cd8b8ac",
   "metadata": {
    "editable": true
   },
   "source": [
    "### Reminder about the gradient machinery from project 1\n",
    "\n",
    "In the setup of a neural network code you will need your gradient descent codes from\n",
    "project 1.  For neural networks we will recommend using stochastic\n",
    "gradient descent with either the RMSprop or the ADAM algorithms for\n",
    "updating the learning rates. But you should feel free to try plain gradient descent as well.\n",
    "\n",
    "We recommend reading chapter 8 on optimization from the textbook of\n",
    "Goodfellow, Bengio and Courville at\n",
    "<https://www.deeplearningbook.org/>. This chapter contains many\n",
    "useful insights and discussions on the optimization part of machine\n",
    "learning.  A useful reference on the back progagation algorithm is\n",
    "Nielsen's book at <http://neuralnetworksanddeeplearning.com/>. \n",
    "\n",
    "You will find the Python [Seaborn\n",
    "package](https://seaborn.pydata.org/generated/seaborn.heatmap.html)\n",
    "useful when plotting the results as function of the learning rate\n",
    "$\\eta$ and the hyper-parameter $\\lambda$ ."
   ]
  },
  {
   "cell_type": "markdown",
   "id": "5931b155",
   "metadata": {
    "editable": true
   },
   "source": [
    "### Part b): Writing your own Neural Network code\n",
    "\n",
    "Your aim now, and this is the central part of this project, is to\n",
    "write your own FFNN code implementing the back\n",
    "propagation algorithm discussed in the lecture slides from week 41 at <https://compphysics.github.io/MachineLearning/doc/LectureNotes/_build/html/week41.html> and week 42 at <https://compphysics.github.io/MachineLearning/doc/LectureNotes/_build/html/week42.html>.\n",
    "\n",
    "We will focus on a regression problem first, using the one-dimensional Runge function"
   ]
  },
  {
   "cell_type": "markdown",
   "id": "b273fc8a",
   "metadata": {
    "editable": true
   },
   "source": [
    "$$\n",
    "f(x) = \\frac{1}{1+25x^2},\n",
    "$$"
   ]
  },
  {
   "cell_type": "markdown",
   "id": "e13db1ec",
   "metadata": {
    "editable": true
   },
   "source": [
    "from project 1.\n",
    "\n",
    "Use only the mean-squared error as cost function (no regularization terms) and \n",
    "write an FFNN code for a regression problem with a flexible number of hidden\n",
    "layers and nodes using only the Sigmoid function as activation function for\n",
    "the hidden layers. Initialize the weights using a normal\n",
    "distribution. How would you initialize the biases? And which\n",
    "activation function would you select for the final output layer?\n",
    "And how would you set up your design/feature matrix? Hint: does it have to represent a polynomial approximation as you did in project 1? \n",
    "\n",
    "Train your network and compare the results with those from your OLS\n",
    "regression code from project 1 using the one-dimensional Runge\n",
    "function.  When comparing your neural network code with the OLS\n",
    "results from project 1, use the same data sets which gave you the best\n",
    "MSE score. Moreover, use the polynomial order from project 1 that gave you the\n",
    "best result.  Compare these results with your neural network with one\n",
    "and two hidden layers using $50$ and $100$ hidden nodes, respectively.\n",
    "\n",
    "Comment your results and give a critical discussion of the results\n",
    "obtained with the OLS code from project 1 and your own neural network\n",
    "code.  Make an analysis of the learning rates employed to find the\n",
    "optimal MSE score. Test both stochastic gradient descent\n",
    "with RMSprop and ADAM and plain gradient descent with different\n",
    "learning rates.\n",
    "\n",
    "You should, as you did in project 1, scale your data."
   ]
  },
  {
   "cell_type": "markdown",
   "id": "4f864e31",
   "metadata": {
    "editable": true
   },
   "source": [
    "### Part c): Testing against other software libraries\n",
    "\n",
    "You should test your results against a similar code using **Scikit-Learn** (see the examples in the above lecture notes from weeks 41 and 42) or **tensorflow/keras** or **Pytorch** (for Pytorch, see Raschka et al.'s text chapters 12 and 13). \n",
    "\n",
    "Furthermore, you should also test that your derivatives are correctly\n",
    "calculated using automatic differentiation, using for example the\n",
    "**Autograd** library or the **JAX** library. It is optional to implement\n",
    "these libraries for the present project. In this project they serve as\n",
    "useful tests of our derivatives."
   ]
  },
  {
   "cell_type": "markdown",
   "id": "c9faeafd",
   "metadata": {
    "editable": true
   },
   "source": [
    "### Part d): Testing different activation functions and depths of the neural network\n",
    "\n",
    "You should also test different activation functions for the hidden\n",
    "layers. Try out the Sigmoid, the RELU and the Leaky RELU functions and\n",
    "discuss your results.  Test your results as functions of the number of hidden layers and nodes. Do you see signs of overfitting?\n",
    "It is optional in this project to perform a bias-variance trade-off analysis."
   ]
  },
  {
   "cell_type": "markdown",
   "id": "d865c22b",
   "metadata": {
    "editable": true
   },
   "source": [
    "### Part e): Testing different norms\n",
    "\n",
    "Finally, still using the one-dimensional Runge function, add now the\n",
    "hyperparameters $\\lambda$ with the $L_2$ and $L_1$ norms.  Find the\n",
    "optimal results for the hyperparameters $\\lambda$ and the learning\n",
    "rates $\\eta$ and neural network architecture and compare the $L_2$ results with Ridge regression from\n",
    "project 1 and the $L_1$ results with the Lasso calculations of project 1.\n",
    "Use again the same data sets and the best results from project 1 in your comparisons."
   ]
  },
  {
   "cell_type": "markdown",
   "id": "5270af8f",
   "metadata": {
    "editable": true
   },
   "source": [
    "### Part f): Classification  analysis using neural networks\n",
    "\n",
    "With a well-written code it should now be easy to change the\n",
    "activation function for the output layer.\n",
    "\n",
    "Here we will change the cost function for our neural network code\n",
    "developed in parts b), d) and e) in order to perform a classification\n",
    "analysis.  The classification problem we will study is the multiclass\n",
    "MNIST problem, see the description of the full data set at\n",
    "<https://www.kaggle.com/datasets/hojjatk/mnist-dataset>. We will use the Softmax cross entropy function discussed in a). \n",
    "The MNIST data set discussed in the lecture notes from week 42 is a downscaled variant of the full dataset. \n",
    "\n",
    "Feel free to suggest other data sets. If you find the classic MNIST data set somewhat limited, feel free to try the  \n",
    "MNIST-Fashion data set at for example <https://www.kaggle.com/datasets/zalando-research/fashionmnist>.\n",
    "\n",
    "To set up the data set, the following python programs may be useful"
   ]
  },
  {
   "cell_type": "code",
   "execution_count": 1,
   "id": "4e0e1fea",
   "metadata": {
    "collapsed": false,
    "editable": true
   },
   "outputs": [],
   "source": [
    "from sklearn.datasets import fetch_openml\n",
    "\n",
    "# Fetch the MNIST dataset\n",
    "mnist = fetch_openml('mnist_784', version=1, as_frame=False, parser='auto')\n",
    "\n",
    "# Extract data (features) and target (labels)\n",
    "X = mnist.data\n",
    "y = mnist.target"
   ]
  },
  {
   "cell_type": "markdown",
   "id": "8fe85677",
   "metadata": {
    "editable": true
   },
   "source": [
    "You should consider scaling the data. The Pixel values in MNIST range from 0 to 255. Scaling them to a 0-1 range can improve the performance of some models. That is, you could implement the following scaling"
   ]
  },
  {
   "cell_type": "code",
   "execution_count": 2,
   "id": "b28318b2",
   "metadata": {
    "collapsed": false,
    "editable": true
   },
   "outputs": [],
   "source": [
    "X = X / 255.0"
   ]
  },
  {
   "cell_type": "markdown",
   "id": "97e02c71",
   "metadata": {
    "editable": true
   },
   "source": [
    "And then perform the standard train-test splitting"
   ]
  },
  {
   "cell_type": "code",
   "execution_count": 3,
   "id": "88af355c",
   "metadata": {
    "collapsed": false,
    "editable": true
   },
   "outputs": [],
   "source": [
    "from sklearn.model_selection import train_test_split\n",
    "X_train, X_test, y_train, y_test = train_test_split(X, y, test_size=0.2, random_state=42)"
   ]
  },
  {
   "cell_type": "markdown",
   "id": "d1f8f0ed",
   "metadata": {
    "editable": true
   },
   "source": [
    "To measure the performance of our classification problem we will use the\n",
    "so-called *accuracy* score.  The accuracy is as you would expect just\n",
    "the number of correctly guessed targets $t_i$ divided by the total\n",
    "number of targets, that is"
   ]
  },
  {
   "cell_type": "markdown",
   "id": "554b3a48",
   "metadata": {
    "editable": true
   },
   "source": [
    "$$\n",
    "\\text{Accuracy} = \\frac{\\sum_{i=1}^n I(t_i = y_i)}{n} ,\n",
    "$$"
   ]
  },
  {
   "cell_type": "markdown",
   "id": "77bfdd5c",
   "metadata": {
    "editable": true
   },
   "source": [
    "where $I$ is the indicator function, $1$ if $t_i = y_i$ and $0$\n",
    "otherwise if we have a binary classification problem. Here $t_i$\n",
    "represents the target and $y_i$ the outputs of your FFNN code and $n$ is simply the number of targets $t_i$.\n",
    "\n",
    "Discuss your results and give a critical analysis of the various parameters, including hyper-parameters like the learning rates and the regularization parameter $\\lambda$, various activation functions, number of hidden layers and nodes and activation functions.  \n",
    "\n",
    "Again, we strongly recommend that you compare your own neural Network\n",
    "code for classification and pertinent results against a similar code using **Scikit-Learn**  or **tensorflow/keras** or **pytorch**.\n",
    "\n",
    "If you have time, you can use the functionality of **scikit-learn** and compare your neural network results with those from Logistic regression. This is optional.\n",
    "The weblink  here <https://medium.com/ai-in-plain-english/comparison-between-logistic-regression-and-neural-networks-in-classifying-digits-dc5e85cd93c3>compares logistic regression and FFNN using the so-called MNIST data set. You may find several useful hints and ideas from this article. Your neural network code can implement the equivalent of logistic regression by simply setting the number of hidden layers to zero and keeping just the input and the output layers. \n",
    "\n",
    "If you wish to compare with say Logisti Regression from **scikit-learn**, the following code uses the above data set"
   ]
  },
  {
   "cell_type": "code",
   "execution_count": 4,
   "id": "eaa9e72e",
   "metadata": {
    "collapsed": false,
    "editable": true
   },
   "outputs": [],
   "source": [
    "from sklearn.linear_model import LogisticRegression\n",
    "# Initialize the model\n",
    "model = LogisticRegression(solver='saga', multi_class='multinomial', max_iter=1000, random_state=42)\n",
    "# Train the model\n",
    "model.fit(X_train, y_train)\n",
    "from sklearn.metrics import accuracy_score\n",
    "# Make predictions on the test set\n",
    "y_pred = model.predict(X_test)\n",
    "# Calculate accuracy\n",
    "accuracy = accuracy_score(y_test, y_pred)\n",
    "print(f\"Model Accuracy: {accuracy:.4f}\")"
   ]
  },
  {
   "cell_type": "markdown",
   "id": "c7ba883e",
   "metadata": {
    "editable": true
   },
   "source": [
    "### Part g) Critical evaluation of the various algorithms\n",
    "\n",
    "After all these glorious calculations, you should now summarize the\n",
    "various algorithms and come with a critical evaluation of their pros\n",
    "and cons. Which algorithm works best for the regression case and which\n",
    "is best for the classification case. These codes can also be part of\n",
    "your final project 3, but now applied to other data sets."
   ]
  },
  {
   "cell_type": "markdown",
   "id": "595be693",
   "metadata": {
    "editable": true
   },
   "source": [
    "## Summary of methods to implement and analyze\n",
    "\n",
    "**Required Implementation:**\n",
    "1. Reuse the regression code and results from project 1, these will act as a benchmark for seeing how suited a neural network is for this regression task.\n",
    "\n",
    "2. Implement a neural network with\n",
    "\n",
    "  * A flexible number of layers\n",
    "\n",
    "  * A flexible number of nodes in each layer\n",
    "\n",
    "  * A changeable activation function in each layer (Sigmoid, ReLU, LeakyReLU, as well as Linear and Softmax)\n",
    "\n",
    "  * A changeable cost function, which will be set to MSE for regression and cross-entropy for multiple-classification\n",
    "\n",
    "  * An optional L1 or L2 norm of the weights and biases in the cost function (only used for computing gradients, not interpretable metrics)\n",
    "\n",
    "3. Implement the back-propagation algorithm to compute the gradient of your neural network\n",
    "\n",
    "4. Reuse the implementation of Plain and Stochastic Gradient Descent from Project 1 (and adapt the code to work with the your neural network)\n",
    "\n",
    "  * With no optimization algorithm\n",
    "\n",
    "  * With RMS Prop\n",
    "\n",
    "  * With ADAM\n",
    "\n",
    "5. Implement scaling and train-test splitting of your data, preferably using sklearn\n",
    "\n",
    "6. Implement and compute metrics like the MSE and Accuracy"
   ]
  },
  {
   "cell_type": "markdown",
   "id": "35138b41",
   "metadata": {
    "editable": true
   },
   "source": [
    "### Required Analysis:\n",
    "\n",
    "1. Briefly show and argue for the advantages and disadvantages of the methods from Project 1.\n",
    "\n",
    "2. Explore and show the impact of changing the number of layers, nodes per layer, choice of activation function, and inclusion of L1 and L2 norms. Present only the most interesting results from this exploration. 2D Heatmaps will be good for this: Start with finding a well performing set of hyper-parameters, then change two at a time in a range that shows good and bad performance.\n",
    "\n",
    "3. Show and argue for the advantages and disadvantages of using a neural network for regression on your data\n",
    "\n",
    "4. Show and argue for the advantages and disadvantages of using a neural network for classification on your data\n",
    "\n",
    "5. Show and argue for the advantages and disadvantages of the different gradient methods and learning rates when training the neural network"
   ]
  },
  {
   "cell_type": "markdown",
   "id": "b18bea03",
   "metadata": {
    "editable": true
   },
   "source": [
    "### Optional (Note that you should include at least two of these in the report):\n",
    "\n",
    "1. Implement Logistic Regression as simple classification model case (equivalent to a Neural Network with just the output layer)\n",
    "\n",
    "2. Compute the gradient of the neural network with autograd, to show that it gives the same result as your hand-written backpropagation.\n",
    "\n",
    "3. Compare your results with results from using a machine-learning library like pytorch (https://docs.pytorch.org/tutorials/beginner/basics/buildmodel_tutorial.html)\n",
    "\n",
    "4. Use a more complex classification dataset instead, like the fashion MNIST (see <https://www.kaggle.com/datasets/zalando-research/fashionmnist>)\n",
    "\n",
    "5. Use a more complex regression dataset instead, like the two-dimensional Runge function $f(x,y)=\\left[(10x - 5)^2 + (10y - 5)^2 + 1 \\right]^{-1}$, or even more complicated two-dimensional functions (see the supplementary material of <https://www.nature.com/articles/s41467-025-61362-4> for an extensive list of two-dimensional functions). \n",
    "\n",
    "6. Compute and interpret a confusion matrix of your best classification model (see <https://www.researchgate.net/figure/Confusion-matrix-of-MNIST-and-F-MNIST-embeddings_fig5_349758607>)"
   ]
  },
  {
   "cell_type": "markdown",
   "id": "580d8424",
   "metadata": {
    "editable": true
   },
   "source": [
    "## Background literature\n",
    "\n",
    "1. The text of Michael Nielsen is highly recommended, see Nielsen's book at <http://neuralnetworksanddeeplearning.com/>. It is an excellent read.\n",
    "\n",
    "2. Goodfellow, Bengio and Courville, Deep Learning at <https://www.deeplearningbook.org/>. Here we recommend chapters 6, 7 and 8\n",
    "\n",
    "3. Raschka et al. at <https://sebastianraschka.com/blog/2022/ml-pytorch-book.html>. Here we recommend chapters 11, 12 and 13."
   ]
  },
  {
   "cell_type": "markdown",
   "id": "96f5c67e",
   "metadata": {
    "editable": true
   },
   "source": [
    "## Introduction to numerical projects\n",
    "\n",
    "Here follows a brief recipe and recommendation on how to write a report for each\n",
    "project.\n",
    "\n",
    "  * Give a short description of the nature of the problem and the eventual  numerical methods you have used.\n",
    "\n",
    "  * Describe the algorithm you have used and/or developed. Here you may find it convenient to use pseudocoding. In many cases you can describe the algorithm in the program itself.\n",
    "\n",
    "  * Include the source code of your program. Comment your program properly.\n",
    "\n",
    "  * If possible, try to find analytic solutions, or known limits in order to test your program when developing the code.\n",
    "\n",
    "  * Include your results either in figure form or in a table. Remember to        label your results. All tables and figures should have relevant captions        and labels on the axes.\n",
    "\n",
    "  * Try to evaluate the reliabilty and numerical stability/precision of your results. If possible, include a qualitative and/or quantitative discussion of the numerical stability, eventual loss of precision etc.\n",
    "\n",
    "  * Try to give an interpretation of you results in your answers to  the problems.\n",
    "\n",
    "  * Critique: if possible include your comments and reflections about the  exercise, whether you felt you learnt something, ideas for improvements and  other thoughts you've made when solving the exercise. We wish to keep this course at the interactive level and your comments can help us improve it.\n",
    "\n",
    "  * Try to establish a practice where you log your work at the  computerlab. You may find such a logbook very handy at later stages in your work, especially when you don't properly remember  what a previous test version  of your program did. Here you could also record  the time spent on solving the exercise, various algorithms you may have tested or other topics which you feel worthy of mentioning."
   ]
  },
  {
   "cell_type": "markdown",
   "id": "d1bc28ba",
   "metadata": {
    "editable": true
   },
   "source": [
    "## Format for electronic delivery of report and programs\n",
    "\n",
    "The preferred format for the report is a PDF file. You can also use DOC or postscript formats or as an ipython notebook file.  As programming language we prefer that you choose between C/C++, Fortran2008 or Python. The following prescription should be followed when preparing the report:\n",
    "\n",
    "  * Use Canvas to hand in your projects, log in  at  <https://www.uio.no/english/services/it/education/canvas/> with your normal UiO username and password.\n",
    "\n",
    "  * Upload **only** the report file or the link to your GitHub/GitLab or similar typo of  repos!  For the source code file(s) you have developed please provide us with your link to your GitHub/GitLab or similar  domain.  The report file should include all of your discussions and a list of the codes you have developed.  Do not include library files which are available at the course homepage, unless you have made specific changes to them.\n",
    "\n",
    "  * In your GitHub/GitLab or similar repository, please include a folder which contains selected results. These can be in the form of output from your code for a selected set of runs and input parameters.\n",
    "\n",
    "Finally, \n",
    "we encourage you to collaborate. Optimal working groups consist of \n",
    "2-3 students. You can then hand in a common report."
   ]
  }
 ],
 "metadata": {},
 "nbformat": 4,
 "nbformat_minor": 5
}
