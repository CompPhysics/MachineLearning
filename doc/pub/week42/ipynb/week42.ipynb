{
 "cells": [
  {
   "cell_type": "markdown",
   "id": "7dcf8613",
   "metadata": {
    "editable": true
   },
   "source": [
    "<!-- HTML file automatically generated from DocOnce source (https://github.com/doconce/doconce/)\n",
    "doconce format html week42.do.txt --no_mako -->\n",
    "<!-- dom:TITLE: Week 42 Constructing a Neural Network code with examples -->"
   ]
  },
  {
   "cell_type": "markdown",
   "id": "98019924",
   "metadata": {
    "editable": true
   },
   "source": [
    "# Week 42 Constructing a Neural Network code with examples\n",
    "**Morten Hjorth-Jensen**, Department of Physics, University of Oslo, Norway\n",
    "\n",
    "Date: **October 13-17, 2025**"
   ]
  },
  {
   "cell_type": "markdown",
   "id": "ab0e660a",
   "metadata": {
    "editable": true
   },
   "source": [
    "## Lecture October 13, 2025\n",
    "1. Building our own Feed-forward Neural Network and discussion of project 2\n",
    "\n",
    "2. Project 2 is available at <https://github.com/CompPhysics/MachineLearning/blob/master/doc/Projects/2025/Project2/ipynb/Project2.ipynb>"
   ]
  },
  {
   "cell_type": "markdown",
   "id": "bcea021f",
   "metadata": {
    "editable": true
   },
   "source": [
    "## Readings and videos\n",
    "1. These lecture notes\n",
    "<!-- o [Video of lecture](https://youtu.be/7B2F35gNj2Y) -->\n",
    "<!-- o [Whiteboard notes](https://github.com/CompPhysics/MachineLearning/blob/master/doc/HandWrittenNotes/2024/NotesOct14.pdf) -->\n",
    "\n",
    "2. For a more in depth discussion on  neural networks we recommend Goodfellow et al chapters 6 and 7. For the optimization part, see chapter 8.    \n",
    "\n",
    "3. Neural Networks demystified at <https://www.youtube.com/watch?v=bxe2T-V8XRs&list=PLiaHhY2iBX9hdHaRr6b7XevZtgZRa1PoU&ab_channel=WelchLabs>\n",
    "\n",
    "4. Building Neural Networks from scratch at <https://www.youtube.com/watch?v=Wo5dMEP_BbI&list=PLQVvvaa0QuDcjD5BAw2DxE6OF2tius3V3&ab_channel=sentdex>\n",
    "\n",
    "5. Video on Neural Networks at <https://www.youtube.com/watch?v=CqOfi41LfDw>\n",
    "\n",
    "6. Video on the back propagation algorithm at <https://www.youtube.com/watch?v=Ilg3gGewQ5U>\n",
    "\n",
    "I also  recommend Michael Nielsen's intuitive approach to the neural networks and the universal approximation theorem, see the slides at <http://neuralnetworksanddeeplearning.com/chap4.html>."
   ]
  },
  {
   "cell_type": "markdown",
   "id": "fd77cd6b",
   "metadata": {
    "editable": true
   },
   "source": [
    "## Material for the lab sessions on Tuesday and Wednesday\n",
    "1. Exercises on writing a code for neural networks, back propagation part, see exercises for week 42 at <https://compphysics.github.io/MachineLearning/doc/LectureNotes/_build/html/exercisesweek42.html> \n",
    "\n",
    "2. Discussion of project 2"
   ]
  },
  {
   "cell_type": "markdown",
   "id": "7d93059a",
   "metadata": {
    "editable": true
   },
   "source": [
    "## Lecture material: Writing a code which implements a feed-forward neural network\n",
    "\n",
    "Last week we discussed the basics of neural networks and deep learning\n",
    "and the basics of automatic differentiation.  We looked also at\n",
    "examples on how compute the parameters of a simple network with scalar\n",
    "inputs and ouputs and no or just one hidden layers.\n",
    "\n",
    "We ended our discussions with the derivation of the equations for a\n",
    "neural network with one hidden layers and two input variables and two\n",
    "hidden nodes but only one output node. We did almost finish the derivation of the back propagation algorithm."
   ]
  },
  {
   "cell_type": "markdown",
   "id": "5156bf60",
   "metadata": {
    "editable": true
   },
   "source": [
    "## Mathematics of deep learning\n",
    "\n",
    "**Two recent books online.**\n",
    "\n",
    "1. [The Modern Mathematics of Deep Learning, by Julius Berner, Philipp Grohs, Gitta Kutyniok, Philipp Petersen](https://arxiv.org/abs/2105.04026), published as [Mathematical Aspects of Deep Learning, pp. 1-111. Cambridge University Press, 2022](https://doi.org/10.1017/9781009025096.002)\n",
    "\n",
    "2. [Mathematical Introduction to Deep Learning: Methods, Implementations, and Theory, Arnulf Jentzen, Benno Kuckuck, Philippe von Wurstemberger](https://doi.org/10.48550/arXiv.2310.20360)"
   ]
  },
  {
   "cell_type": "markdown",
   "id": "4f5d5b27",
   "metadata": {
    "editable": true
   },
   "source": [
    "## Reminder on books with hands-on material and codes\n",
    "* [Sebastian Rashcka et al, Machine learning with Sickit-Learn and PyTorch](https://sebastianraschka.com/blog/2022/ml-pytorch-book.html)"
   ]
  },
  {
   "cell_type": "markdown",
   "id": "0a490014",
   "metadata": {
    "editable": true
   },
   "source": [
    "## Reading recommendations\n",
    "\n",
    "1. Rashkca et al., chapter 11, jupyter-notebook sent separately, from [GitHub](https://github.com/rasbt/machine-learning-book)\n",
    "\n",
    "2. Goodfellow et al, chapter 6 and 7 contain most of the neural network background."
   ]
  },
  {
   "cell_type": "markdown",
   "id": "9fa74383",
   "metadata": {
    "editable": true
   },
   "source": [
    "## Reminder from last week: First network example, simple percepetron with one input\n",
    "\n",
    "As yet another example we define now a simple perceptron model with\n",
    "all quantities given by scalars. We consider only one input variable\n",
    "$x$ and one target value $y$.  We define an activation function\n",
    "$\\sigma_1$ which takes as input"
   ]
  },
  {
   "cell_type": "markdown",
   "id": "417ce076",
   "metadata": {
    "editable": true
   },
   "source": [
    "$$\n",
    "z_1 = w_1x+b_1,\n",
    "$$"
   ]
  },
  {
   "cell_type": "markdown",
   "id": "07ed6afb",
   "metadata": {
    "editable": true
   },
   "source": [
    "where $w_1$ is the weight and $b_1$ is the bias. These are the\n",
    "parameters we want to optimize.  The output is $a_1=\\sigma(z_1)$ (see\n",
    "graph from whiteboard notes). This output is then fed into the\n",
    "**cost/loss** function, which we here for the sake of simplicity just\n",
    "define as the squared error"
   ]
  },
  {
   "cell_type": "markdown",
   "id": "3b926536",
   "metadata": {
    "editable": true
   },
   "source": [
    "$$\n",
    "C(x;w_1,b_1)=\\frac{1}{2}(a_1-y)^2.\n",
    "$$"
   ]
  },
  {
   "cell_type": "markdown",
   "id": "0e1bd556",
   "metadata": {
    "editable": true
   },
   "source": [
    "## Layout of a simple neural network with no hidden layer\n",
    "\n",
    "<!-- dom:FIGURE: [figures/simplenn1.png, width=900 frac=1.0] -->\n",
    "<!-- begin figure -->\n",
    "\n",
    "<img src=\"figures/simplenn1.png\" width=\"900\"><p style=\"font-size: 0.9em\"><i>Figure 1: </i></p>\n",
    "<!-- end figure -->"
   ]
  },
  {
   "cell_type": "markdown",
   "id": "edebc935",
   "metadata": {
    "editable": true
   },
   "source": [
    "## Optimizing the parameters\n",
    "\n",
    "In setting up the feed forward and back propagation parts of the\n",
    "algorithm, we need now the derivative of the various variables we want\n",
    "to train.\n",
    "\n",
    "We need"
   ]
  },
  {
   "cell_type": "markdown",
   "id": "3e2794ac",
   "metadata": {
    "editable": true
   },
   "source": [
    "$$\n",
    "\\frac{\\partial C}{\\partial w_1} \\hspace{0.1cm}\\mathrm{and}\\hspace{0.1cm}\\frac{\\partial C}{\\partial b_1}.\n",
    "$$"
   ]
  },
  {
   "cell_type": "markdown",
   "id": "54f91430",
   "metadata": {
    "editable": true
   },
   "source": [
    "Using the chain rule we find"
   ]
  },
  {
   "cell_type": "markdown",
   "id": "f1e0a166",
   "metadata": {
    "editable": true
   },
   "source": [
    "$$\n",
    "\\frac{\\partial C}{\\partial w_1}=\\frac{\\partial C}{\\partial a_1}\\frac{\\partial a_1}{\\partial z_1}\\frac{\\partial z_1}{\\partial w_1}=(a_1-y)\\sigma_1'x,\n",
    "$$"
   ]
  },
  {
   "cell_type": "markdown",
   "id": "ad62ed90",
   "metadata": {
    "editable": true
   },
   "source": [
    "and"
   ]
  },
  {
   "cell_type": "markdown",
   "id": "57dac362",
   "metadata": {
    "editable": true
   },
   "source": [
    "$$\n",
    "\\frac{\\partial C}{\\partial b_1}=\\frac{\\partial C}{\\partial a_1}\\frac{\\partial a_1}{\\partial z_1}\\frac{\\partial z_1}{\\partial b_1}=(a_1-y)\\sigma_1',\n",
    "$$"
   ]
  },
  {
   "cell_type": "markdown",
   "id": "a4dc4050",
   "metadata": {
    "editable": true
   },
   "source": [
    "which we later will just define as"
   ]
  },
  {
   "cell_type": "markdown",
   "id": "b223c83d",
   "metadata": {
    "editable": true
   },
   "source": [
    "$$\n",
    "\\frac{\\partial C}{\\partial a_1}\\frac{\\partial a_1}{\\partial z_1}=\\delta_1.\n",
    "$$"
   ]
  },
  {
   "cell_type": "markdown",
   "id": "a1c9b5e7",
   "metadata": {
    "editable": true
   },
   "source": [
    "## Adding a hidden layer\n",
    "\n",
    "We change our simple model to (see graph)\n",
    "a network with just one hidden layer but with scalar variables only.\n",
    "\n",
    "Our output variable changes to $a_2$ and $a_1$ is now the output from the hidden node and $a_0=x$.\n",
    "We have then"
   ]
  },
  {
   "cell_type": "markdown",
   "id": "9c3b03c0",
   "metadata": {
    "editable": true
   },
   "source": [
    "$$\n",
    "z_1 = w_1a_0+b_1 \\hspace{0.1cm} \\wedge a_1 = \\sigma_1(z_1),\n",
    "$$"
   ]
  },
  {
   "cell_type": "markdown",
   "id": "186485f2",
   "metadata": {
    "editable": true
   },
   "source": [
    "$$\n",
    "z_2 = w_2a_1+b_2 \\hspace{0.1cm} \\wedge a_2 = \\sigma_2(z_2),\n",
    "$$"
   ]
  },
  {
   "cell_type": "markdown",
   "id": "c2f1b30b",
   "metadata": {
    "editable": true
   },
   "source": [
    "and the cost function"
   ]
  },
  {
   "cell_type": "markdown",
   "id": "13142fad",
   "metadata": {
    "editable": true
   },
   "source": [
    "$$\n",
    "C(x;\\boldsymbol{\\Theta})=\\frac{1}{2}(a_2-y)^2,\n",
    "$$"
   ]
  },
  {
   "cell_type": "markdown",
   "id": "b441f95a",
   "metadata": {
    "editable": true
   },
   "source": [
    "with $\\boldsymbol{\\Theta}=[w_1,w_2,b_1,b_2]$."
   ]
  },
  {
   "cell_type": "markdown",
   "id": "46e57fd2",
   "metadata": {
    "editable": true
   },
   "source": [
    "## Layout of a simple neural network with one hidden layer\n",
    "\n",
    "<!-- dom:FIGURE: [figures/simplenn2.png, width=900 frac=1.0] -->\n",
    "<!-- begin figure -->\n",
    "\n",
    "<img src=\"figures/simplenn2.png\" width=\"900\"><p style=\"font-size: 0.9em\"><i>Figure 1: </i></p>\n",
    "<!-- end figure -->"
   ]
  },
  {
   "cell_type": "markdown",
   "id": "50158555",
   "metadata": {
    "editable": true
   },
   "source": [
    "## The derivatives\n",
    "\n",
    "The derivatives are now, using the chain rule again"
   ]
  },
  {
   "cell_type": "markdown",
   "id": "4174ea9e",
   "metadata": {
    "editable": true
   },
   "source": [
    "$$\n",
    "\\frac{\\partial C}{\\partial w_2}=\\frac{\\partial C}{\\partial a_2}\\frac{\\partial a_2}{\\partial z_2}\\frac{\\partial z_2}{\\partial w_2}=(a_2-y)\\sigma_2'a_1=\\delta_2a_1,\n",
    "$$"
   ]
  },
  {
   "cell_type": "markdown",
   "id": "f7a29d74",
   "metadata": {
    "editable": true
   },
   "source": [
    "$$\n",
    "\\frac{\\partial C}{\\partial b_2}=\\frac{\\partial C}{\\partial a_2}\\frac{\\partial a_2}{\\partial z_2}\\frac{\\partial z_2}{\\partial b_2}=(a_2-y)\\sigma_2'=\\delta_2,\n",
    "$$"
   ]
  },
  {
   "cell_type": "markdown",
   "id": "cb1a387b",
   "metadata": {
    "editable": true
   },
   "source": [
    "$$\n",
    "\\frac{\\partial C}{\\partial w_1}=\\frac{\\partial C}{\\partial a_2}\\frac{\\partial a_2}{\\partial z_2}\\frac{\\partial z_2}{\\partial a_1}\\frac{\\partial a_1}{\\partial z_1}\\frac{\\partial z_1}{\\partial w_1}=(a_2-y)\\sigma_2'a_1\\sigma_1'a_0,\n",
    "$$"
   ]
  },
  {
   "cell_type": "markdown",
   "id": "125bcb29",
   "metadata": {
    "editable": true
   },
   "source": [
    "$$\n",
    "\\frac{\\partial C}{\\partial b_1}=\\frac{\\partial C}{\\partial a_2}\\frac{\\partial a_2}{\\partial z_2}\\frac{\\partial z_2}{\\partial a_1}\\frac{\\partial a_1}{\\partial z_1}\\frac{\\partial z_1}{\\partial b_1}=(a_2-y)\\sigma_2'\\sigma_1'=\\delta_1.\n",
    "$$"
   ]
  },
  {
   "cell_type": "markdown",
   "id": "76272ae9",
   "metadata": {
    "editable": true
   },
   "source": [
    "Can you generalize this to more than one hidden layer?"
   ]
  },
  {
   "cell_type": "markdown",
   "id": "7e0d1157",
   "metadata": {
    "editable": true
   },
   "source": [
    "## Important observations\n",
    "\n",
    "From the above equations we see that the derivatives of the activation\n",
    "functions play a central role. If they vanish, the training may\n",
    "stop. This is called the vanishing gradient problem, see discussions below. If they become\n",
    "large, the parameters $w_i$ and $b_i$ may simply go to infinity. This\n",
    "is referenced as  the exploding gradient problem."
   ]
  },
  {
   "cell_type": "markdown",
   "id": "53dfc3bd",
   "metadata": {
    "editable": true
   },
   "source": [
    "## The training\n",
    "\n",
    "The training of the parameters is done through various gradient descent approximations with"
   ]
  },
  {
   "cell_type": "markdown",
   "id": "126420bb",
   "metadata": {
    "editable": true
   },
   "source": [
    "$$\n",
    "w_{i}\\leftarrow w_{i}- \\eta \\delta_i a_{i-1},\n",
    "$$"
   ]
  },
  {
   "cell_type": "markdown",
   "id": "2114b4ba",
   "metadata": {
    "editable": true
   },
   "source": [
    "and"
   ]
  },
  {
   "cell_type": "markdown",
   "id": "7d3549bb",
   "metadata": {
    "editable": true
   },
   "source": [
    "$$\n",
    "b_i \\leftarrow b_i-\\eta \\delta_i,\n",
    "$$"
   ]
  },
  {
   "cell_type": "markdown",
   "id": "80265b39",
   "metadata": {
    "editable": true
   },
   "source": [
    "with $\\eta$ is the learning rate.\n",
    "\n",
    "One iteration consists of one feed forward step and one back-propagation step. Each back-propagation step does one update of the parameters $\\boldsymbol{\\Theta}$.\n",
    "\n",
    "For the first hidden layer $a_{i-1}=a_0=x$ for this simple model."
   ]
  },
  {
   "cell_type": "markdown",
   "id": "df2f78ac",
   "metadata": {
    "editable": true
   },
   "source": [
    "## Code example\n",
    "\n",
    "The code here implements the above model with one hidden layer and\n",
    "scalar variables for the same function we studied in the previous\n",
    "example.  The code is however set up so that we can add multiple\n",
    "inputs $x$ and target values $y$. Note also that we have the\n",
    "possibility of defining a feature matrix $\\boldsymbol{X}$ with more than just\n",
    "one column for the input values. This will turn useful in our next example. We have also defined matrices and vectors for all of our operations although it is not necessary here."
   ]
  },
  {
   "cell_type": "code",
   "execution_count": 1,
   "id": "0ec652bf",
   "metadata": {
    "collapsed": false,
    "editable": true,
    "jupyter": {
     "outputs_hidden": false
    }
   },
   "outputs": [],
   "source": [
    "import numpy as np\n",
    "# We use the Sigmoid function as activation function\n",
    "def sigmoid(z):\n",
    "    return 1.0/(1.0+np.exp(-z))\n",
    "\n",
    "def forwardpropagation(x):\n",
    "    # weighted sum of inputs to the hidden layer\n",
    "    z_1 = np.matmul(x, w_1) + b_1\n",
    "    # activation in the hidden layer\n",
    "    a_1 = sigmoid(z_1)\n",
    "    # weighted sum of inputs to the output layer\n",
    "    z_2 = np.matmul(a_1, w_2) + b_2\n",
    "    a_2 = z_2\n",
    "    return a_1, a_2\n",
    "\n",
    "def backpropagation(x, y):\n",
    "    a_1, a_2 = forwardpropagation(x)\n",
    "    # parameter delta for the output layer, note that a_2=z_2 and its derivative wrt z_2 is just 1\n",
    "    delta_2 = a_2 - y\n",
    "    print(0.5*((a_2-y)**2))\n",
    "    # delta for  the hidden layer\n",
    "    delta_1 = np.matmul(delta_2, w_2.T) * a_1 * (1 - a_1)\n",
    "    # gradients for the output layer\n",
    "    output_weights_gradient = np.matmul(a_1.T, delta_2)\n",
    "    output_bias_gradient = np.sum(delta_2, axis=0)\n",
    "    # gradient for the hidden layer\n",
    "    hidden_weights_gradient = np.matmul(x.T, delta_1)\n",
    "    hidden_bias_gradient = np.sum(delta_1, axis=0)\n",
    "    return output_weights_gradient, output_bias_gradient, hidden_weights_gradient, hidden_bias_gradient\n",
    "\n",
    "\n",
    "# ensure the same random numbers appear every time\n",
    "np.random.seed(0)\n",
    "# Input variable\n",
    "x = np.array([4.0],dtype=np.float64)\n",
    "# Target values\n",
    "y = 2*x+1.0 \n",
    "\n",
    "# Defining the neural network, only scalars here\n",
    "n_inputs = x.shape\n",
    "n_features = 1\n",
    "n_hidden_neurons = 1\n",
    "n_outputs = 1\n",
    "\n",
    "# Initialize the network\n",
    "# weights and bias in the hidden layer\n",
    "w_1 = np.random.randn(n_features, n_hidden_neurons)\n",
    "b_1 = np.zeros(n_hidden_neurons) + 0.01\n",
    "\n",
    "# weights and bias in the output layer\n",
    "w_2 = np.random.randn(n_hidden_neurons, n_outputs)\n",
    "b_2 = np.zeros(n_outputs) + 0.01\n",
    "\n",
    "eta = 0.1\n",
    "for i in range(50):\n",
    "    # calculate gradients\n",
    "    derivW2, derivB2, derivW1, derivB1 = backpropagation(x, y)\n",
    "    # update weights and biases\n",
    "    w_2 -= eta * derivW2\n",
    "    b_2 -= eta * derivB2\n",
    "    w_1 -= eta * derivW1\n",
    "    b_1 -= eta * derivB1"
   ]
  },
  {
   "cell_type": "markdown",
   "id": "c382e2f2",
   "metadata": {
    "editable": true
   },
   "source": [
    "We see that after some few iterations (the results do depend on the learning rate however), we get an error which is rather small."
   ]
  },
  {
   "cell_type": "markdown",
   "id": "1bec2330",
   "metadata": {
    "editable": true
   },
   "source": [
    "## Simple neural network and the  back propagation equations\n",
    "\n",
    "Let us now try to increase our level of ambition and attempt at setting \n",
    "up the equations for a neural network with two input nodes, one hidden\n",
    "layer with two hidden nodes and one output layer with one output node/neuron only (see graph)..\n",
    "\n",
    "We need to define the following parameters and variables with the input layer (layer $(0)$) \n",
    "where we label the  nodes $x_1$ and $x_2$"
   ]
  },
  {
   "cell_type": "markdown",
   "id": "165fb3f3",
   "metadata": {
    "editable": true
   },
   "source": [
    "$$\n",
    "x_1 = a_1^{(0)} \\wedge x_2 = a_2^{(0)}.\n",
    "$$"
   ]
  },
  {
   "cell_type": "markdown",
   "id": "7ae8de36",
   "metadata": {
    "editable": true
   },
   "source": [
    "The  hidden layer (layer $(1)$) has  nodes which yield the outputs $a_1^{(1)}$ and $a_2^{(1)}$) with  weight $\\boldsymbol{w}$ and bias $\\boldsymbol{b}$ parameters"
   ]
  },
  {
   "cell_type": "markdown",
   "id": "9a2729ab",
   "metadata": {
    "editable": true
   },
   "source": [
    "$$\n",
    "w_{ij}^{(1)}=\\left\\{w_{11}^{(1)},w_{12}^{(1)},w_{21}^{(1)},w_{22}^{(1)}\\right\\} \\wedge b^{(1)}=\\left\\{b_1^{(1)},b_2^{(1)}\\right\\}.\n",
    "$$"
   ]
  },
  {
   "cell_type": "markdown",
   "id": "372f0fac",
   "metadata": {
    "editable": true
   },
   "source": [
    "## Layout of a simple neural network with two input nodes, one  hidden layer with two hidden noeds and one output node\n",
    "\n",
    "<!-- dom:FIGURE: [figures/simplenn3.png, width=900 frac=1.0] -->\n",
    "<!-- begin figure -->\n",
    "\n",
    "<img src=\"figures/simplenn3.png\" width=\"900\"><p style=\"font-size: 0.9em\"><i>Figure 1: </i></p>\n",
    "<!-- end figure -->"
   ]
  },
  {
   "cell_type": "markdown",
   "id": "d4f432cc",
   "metadata": {
    "editable": true
   },
   "source": [
    "## The ouput layer\n",
    "\n",
    "We have the ouput layer given by layer label $(2)$ with output $a^{(2)}$ and weights and biases to be determined given by the variables"
   ]
  },
  {
   "cell_type": "markdown",
   "id": "064af49b",
   "metadata": {
    "editable": true
   },
   "source": [
    "$$\n",
    "w_{i}^{(2)}=\\left\\{w_{1}^{(2)},w_{2}^{(2)}\\right\\} \\wedge b^{(2)}.\n",
    "$$"
   ]
  },
  {
   "cell_type": "markdown",
   "id": "91115cc6",
   "metadata": {
    "editable": true
   },
   "source": [
    "Our output is $\\tilde{y}=a^{(2)}$ and we define a generic cost function $C(a^{(2)},y;\\boldsymbol{\\Theta})$ where $y$ is the target value (a scalar here).\n",
    "The parameters we need to optimize are given by"
   ]
  },
  {
   "cell_type": "markdown",
   "id": "c38d1990",
   "metadata": {
    "editable": true
   },
   "source": [
    "$$\n",
    "\\boldsymbol{\\Theta}=\\left\\{w_{11}^{(1)},w_{12}^{(1)},w_{21}^{(1)},w_{22}^{(1)},w_{1}^{(2)},w_{2}^{(2)},b_1^{(1)},b_2^{(1)},b^{(2)}\\right\\}.\n",
    "$$"
   ]
  },
  {
   "cell_type": "markdown",
   "id": "43de152e",
   "metadata": {
    "editable": true
   },
   "source": [
    "## Compact expressions\n",
    "\n",
    "We can define the inputs to the activation functions for the various layers in terms of various matrix-vector multiplications and vector additions.\n",
    "The inputs to the first hidden layer are"
   ]
  },
  {
   "cell_type": "markdown",
   "id": "f935912b",
   "metadata": {
    "editable": true
   },
   "source": [
    "$$\n",
    "\\begin{bmatrix}z_1^{(1)} \\\\ z_2^{(1)} \\end{bmatrix}=\\left(\\begin{bmatrix}w_{11}^{(1)} & w_{12}^{(1)}\\\\ w_{21}^{(1)} &w_{22}^{(1)} \\end{bmatrix}\\right)^{T}\\begin{bmatrix}a_1^{(0)} \\\\ a_2^{(0)} \\end{bmatrix}+\\begin{bmatrix}b_1^{(1)} \\\\ b_2^{(1)} \\end{bmatrix},\n",
    "$$"
   ]
  },
  {
   "cell_type": "markdown",
   "id": "15b380de",
   "metadata": {
    "editable": true
   },
   "source": [
    "with outputs"
   ]
  },
  {
   "cell_type": "markdown",
   "id": "302da250",
   "metadata": {
    "editable": true
   },
   "source": [
    "$$\n",
    "\\begin{bmatrix}a_1^{(1)} \\\\ a_2^{(1)} \\end{bmatrix}=\\begin{bmatrix}\\sigma^{(1)}(z_1^{(1)}) \\\\ \\sigma^{(1)}(z_2^{(1)}) \\end{bmatrix}.\n",
    "$$"
   ]
  },
  {
   "cell_type": "markdown",
   "id": "3faf23cf",
   "metadata": {
    "editable": true
   },
   "source": [
    "## Output layer\n",
    "\n",
    "For the final output layer we have the inputs to the final activation function"
   ]
  },
  {
   "cell_type": "markdown",
   "id": "4fe83376",
   "metadata": {
    "editable": true
   },
   "source": [
    "$$\n",
    "z^{(2)} = w_{1}^{(2)}a_1^{(1)} +w_{2}^{(2)}a_2^{(1)}+b^{(2)},\n",
    "$$"
   ]
  },
  {
   "cell_type": "markdown",
   "id": "9bee26b1",
   "metadata": {
    "editable": true
   },
   "source": [
    "resulting in the  output"
   ]
  },
  {
   "cell_type": "markdown",
   "id": "9affa08f",
   "metadata": {
    "editable": true
   },
   "source": [
    "$$\n",
    "a^{(2)}=\\sigma^{(2)}(z^{(2)}).\n",
    "$$"
   ]
  },
  {
   "cell_type": "markdown",
   "id": "1866378d",
   "metadata": {
    "editable": true
   },
   "source": [
    "## Explicit derivatives\n",
    "\n",
    "In total we have nine parameters which we need to train.  Using the\n",
    "chain rule (or just the back-propagation algorithm) we can find all\n",
    "derivatives. Since we will use automatic differentiation in reverse\n",
    "mode, we start with the derivatives of the cost function with respect\n",
    "to the parameters of the output layer, namely"
   ]
  },
  {
   "cell_type": "markdown",
   "id": "e6d27f9d",
   "metadata": {
    "editable": true
   },
   "source": [
    "$$\n",
    "\\frac{\\partial C}{\\partial w_{i}^{(2)}}=\\frac{\\partial C}{\\partial a^{(2)}}\\frac{\\partial a^{(2)}}{\\partial z^{(2)}}\\frac{\\partial z^{(2)}}{\\partial w_{i}^{(2)}}=\\delta^{(2)}a_i^{(1)},\n",
    "$$"
   ]
  },
  {
   "cell_type": "markdown",
   "id": "b33dac74",
   "metadata": {
    "editable": true
   },
   "source": [
    "with"
   ]
  },
  {
   "cell_type": "markdown",
   "id": "27c367b4",
   "metadata": {
    "editable": true
   },
   "source": [
    "$$\n",
    "\\delta^{(2)}=\\frac{\\partial C}{\\partial a^{(2)}}\\frac{\\partial a^{(2)}}{\\partial z^{(2)}}\n",
    "$$"
   ]
  },
  {
   "cell_type": "markdown",
   "id": "18898e14",
   "metadata": {
    "editable": true
   },
   "source": [
    "and finally"
   ]
  },
  {
   "cell_type": "markdown",
   "id": "31fcc7f9",
   "metadata": {
    "editable": true
   },
   "source": [
    "$$\n",
    "\\frac{\\partial C}{\\partial b^{(2)}}=\\frac{\\partial C}{\\partial a^{(2)}}\\frac{\\partial a^{(2)}}{\\partial z^{(2)}}\\frac{\\partial z^{(2)}}{\\partial b^{(2)}}=\\delta^{(2)}.\n",
    "$$"
   ]
  },
  {
   "cell_type": "markdown",
   "id": "76219fdd",
   "metadata": {
    "editable": true
   },
   "source": [
    "## Derivatives of the hidden layer\n",
    "\n",
    "Using the chain rule we have the following expressions for say one of the weight parameters (it is easy to generalize to the other weight parameters)"
   ]
  },
  {
   "cell_type": "markdown",
   "id": "2cbccf94",
   "metadata": {
    "editable": true
   },
   "source": [
    "$$\n",
    "\\frac{\\partial C}{\\partial w_{11}^{(1)}}=\\frac{\\partial C}{\\partial a^{(2)}}\\frac{\\partial a^{(2)}}{\\partial z^{(2)}}\n",
    "\\frac{\\partial z^{(2)}}{\\partial z_1^{(1)}}\\frac{\\partial z_1^{(1)}}{\\partial w_{11}^{(1)}}=    \\delta^{(2)}\\frac{\\partial z^{(2)}}{\\partial z_1^{(1)}}\\frac{\\partial z_1^{(1)}}{\\partial w_{11}^{(1)}},\n",
    "$$"
   ]
  },
  {
   "cell_type": "markdown",
   "id": "ccdb071b",
   "metadata": {
    "editable": true
   },
   "source": [
    "which, noting that"
   ]
  },
  {
   "cell_type": "markdown",
   "id": "55e4bed1",
   "metadata": {
    "editable": true
   },
   "source": [
    "$$\n",
    "z^{(2)} =w_1^{(2)}a_1^{(1)}+w_2^{(2)}a_2^{(1)}+b^{(2)},\n",
    "$$"
   ]
  },
  {
   "cell_type": "markdown",
   "id": "c00fd151",
   "metadata": {
    "editable": true
   },
   "source": [
    "allows us to rewrite"
   ]
  },
  {
   "cell_type": "markdown",
   "id": "d49ae60d",
   "metadata": {
    "editable": true
   },
   "source": [
    "$$\n",
    "\\frac{\\partial z^{(2)}}{\\partial z_1^{(1)}}\\frac{\\partial z_1^{(1)}}{\\partial w_{11}^{(1)}}=w_1^{(2)}\\frac{\\partial a_1^{(1)}}{\\partial z_1^{(1)}}a_1^{(1)}.\n",
    "$$"
   ]
  },
  {
   "cell_type": "markdown",
   "id": "920db2dd",
   "metadata": {
    "editable": true
   },
   "source": [
    "## Final expression\n",
    "Defining"
   ]
  },
  {
   "cell_type": "markdown",
   "id": "62806f12",
   "metadata": {
    "editable": true
   },
   "source": [
    "$$\n",
    "\\delta_1^{(1)}=w_1^{(2)}\\frac{\\partial a_1^{(1)}}{\\partial z_1^{(1)}}\\delta^{(2)},\n",
    "$$"
   ]
  },
  {
   "cell_type": "markdown",
   "id": "f1d3e7b6",
   "metadata": {
    "editable": true
   },
   "source": [
    "we have"
   ]
  },
  {
   "cell_type": "markdown",
   "id": "51fd0b81",
   "metadata": {
    "editable": true
   },
   "source": [
    "$$\n",
    "\\frac{\\partial C}{\\partial w_{11}^{(1)}}=\\delta_1^{(1)}a_1^{(1)}.\n",
    "$$"
   ]
  },
  {
   "cell_type": "markdown",
   "id": "ba9dd4ad",
   "metadata": {
    "editable": true
   },
   "source": [
    "Similarly, we obtain"
   ]
  },
  {
   "cell_type": "markdown",
   "id": "91137440",
   "metadata": {
    "editable": true
   },
   "source": [
    "$$\n",
    "\\frac{\\partial C}{\\partial w_{12}^{(1)}}=\\delta_1^{(1)}a_2^{(1)}.\n",
    "$$"
   ]
  },
  {
   "cell_type": "markdown",
   "id": "8e2ecb8c",
   "metadata": {
    "editable": true
   },
   "source": [
    "## Completing the list\n",
    "\n",
    "Similarly, we find"
   ]
  },
  {
   "cell_type": "markdown",
   "id": "8d91daf9",
   "metadata": {
    "editable": true
   },
   "source": [
    "$$\n",
    "\\frac{\\partial C}{\\partial w_{21}^{(1)}}=\\delta_2^{(1)}a_1^{(1)},\n",
    "$$"
   ]
  },
  {
   "cell_type": "markdown",
   "id": "8450f964",
   "metadata": {
    "editable": true
   },
   "source": [
    "and"
   ]
  },
  {
   "cell_type": "markdown",
   "id": "1e662a52",
   "metadata": {
    "editable": true
   },
   "source": [
    "$$\n",
    "\\frac{\\partial C}{\\partial w_{22}^{(1)}}=\\delta_2^{(1)}a_2^{(1)},\n",
    "$$"
   ]
  },
  {
   "cell_type": "markdown",
   "id": "e90d34b5",
   "metadata": {
    "editable": true
   },
   "source": [
    "where we have defined"
   ]
  },
  {
   "cell_type": "markdown",
   "id": "2d4b194d",
   "metadata": {
    "editable": true
   },
   "source": [
    "$$\n",
    "\\delta_2^{(1)}=w_2^{(2)}\\frac{\\partial a_2^{(1)}}{\\partial z_2^{(1)}}\\delta^{(2)}.\n",
    "$$"
   ]
  },
  {
   "cell_type": "markdown",
   "id": "8990fe0b",
   "metadata": {
    "editable": true
   },
   "source": [
    "## Final expressions for the biases of the hidden layer\n",
    "\n",
    "For the sake of completeness, we list the derivatives of the biases, which are"
   ]
  },
  {
   "cell_type": "markdown",
   "id": "37e9e142",
   "metadata": {
    "editable": true
   },
   "source": [
    "$$\n",
    "\\frac{\\partial C}{\\partial b_{1}^{(1)}}=\\delta_1^{(1)},\n",
    "$$"
   ]
  },
  {
   "cell_type": "markdown",
   "id": "5f66c64a",
   "metadata": {
    "editable": true
   },
   "source": [
    "and"
   ]
  },
  {
   "cell_type": "markdown",
   "id": "03e836ad",
   "metadata": {
    "editable": true
   },
   "source": [
    "$$\n",
    "\\frac{\\partial C}{\\partial b_{2}^{(1)}}=\\delta_2^{(1)}.\n",
    "$$"
   ]
  },
  {
   "cell_type": "markdown",
   "id": "1ea8a6ff",
   "metadata": {
    "editable": true
   },
   "source": [
    "As we will see below, these expressions can be generalized in a more compact form."
   ]
  },
  {
   "cell_type": "markdown",
   "id": "84537cc9",
   "metadata": {
    "editable": true
   },
   "source": [
    "## Gradient expressions\n",
    "\n",
    "For this specific model, with just one output node and two hidden\n",
    "nodes, the gradient descent equations take the following form for output layer"
   ]
  },
  {
   "cell_type": "markdown",
   "id": "2bad6141",
   "metadata": {
    "editable": true
   },
   "source": [
    "$$\n",
    "w_{i}^{(2)}\\leftarrow w_{i}^{(2)}- \\eta \\delta^{(2)} a_{i}^{(1)},\n",
    "$$"
   ]
  },
  {
   "cell_type": "markdown",
   "id": "5150b413",
   "metadata": {
    "editable": true
   },
   "source": [
    "and"
   ]
  },
  {
   "cell_type": "markdown",
   "id": "4166af55",
   "metadata": {
    "editable": true
   },
   "source": [
    "$$\n",
    "b^{(2)} \\leftarrow b^{(2)}-\\eta \\delta^{(2)},\n",
    "$$"
   ]
  },
  {
   "cell_type": "markdown",
   "id": "e5101f70",
   "metadata": {
    "editable": true
   },
   "source": [
    "and"
   ]
  },
  {
   "cell_type": "markdown",
   "id": "0c662571",
   "metadata": {
    "editable": true
   },
   "source": [
    "$$\n",
    "w_{ij}^{(1)}\\leftarrow w_{ij}^{(1)}- \\eta \\delta_{i}^{(1)} a_{j}^{(0)},\n",
    "$$"
   ]
  },
  {
   "cell_type": "markdown",
   "id": "a7e1af99",
   "metadata": {
    "editable": true
   },
   "source": [
    "and"
   ]
  },
  {
   "cell_type": "markdown",
   "id": "5a73623e",
   "metadata": {
    "editable": true
   },
   "source": [
    "$$\n",
    "b_{i}^{(1)} \\leftarrow b_{i}^{(1)}-\\eta \\delta_{i}^{(1)},\n",
    "$$"
   ]
  },
  {
   "cell_type": "markdown",
   "id": "b1d5327b",
   "metadata": {
    "editable": true
   },
   "source": [
    "where $\\eta$ is the learning rate."
   ]
  },
  {
   "cell_type": "markdown",
   "id": "5cc5921c",
   "metadata": {
    "editable": true
   },
   "source": [
    "## Setting up the equations for a neural network\n",
    "\n",
    "The questions we want to ask are how do changes in the biases and the\n",
    "weights in our network change the cost function and how can we use the\n",
    "final output to modify the weights and biases?\n",
    "\n",
    "To derive these equations let us start with a plain regression problem\n",
    "and define our cost function as"
   ]
  },
  {
   "cell_type": "markdown",
   "id": "21633b14",
   "metadata": {
    "editable": true
   },
   "source": [
    "$$\n",
    "{\\cal C}(\\boldsymbol{\\Theta})  =  \\frac{1}{2}\\sum_{i=1}^n\\left(y_i - \\tilde{y}_i\\right)^2,\n",
    "$$"
   ]
  },
  {
   "cell_type": "markdown",
   "id": "171782c4",
   "metadata": {
    "editable": true
   },
   "source": [
    "where the $y_i$s are our $n$ targets (the values we want to\n",
    "reproduce), while the outputs of the network after having propagated\n",
    "all inputs $\\boldsymbol{x}$ are given by $\\boldsymbol{\\tilde{y}}_i$."
   ]
  },
  {
   "cell_type": "markdown",
   "id": "830e0cc3",
   "metadata": {
    "editable": true
   },
   "source": [
    "## Layout of a neural network with three hidden layers (last layer = $l=L=4$, first layer $l=0$)\n",
    "\n",
    "<!-- dom:FIGURE: [figures/nn2.png, width=900 frac=1.0] -->\n",
    "<!-- begin figure -->\n",
    "\n",
    "<img src=\"figures/nn2.png\" width=\"900\"><p style=\"font-size: 0.9em\"><i>Figure 1: </i></p>\n",
    "<!-- end figure -->"
   ]
  },
  {
   "cell_type": "markdown",
   "id": "3de97402",
   "metadata": {
    "editable": true
   },
   "source": [
    "## Definitions\n",
    "\n",
    "With our definition of the targets $\\boldsymbol{y}$, the outputs of the\n",
    "network $\\boldsymbol{\\tilde{y}}$ and the inputs $\\boldsymbol{x}$ we\n",
    "define now the activation $z_j^l$ of node/neuron/unit $j$ of the\n",
    "$l$-th layer as a function of the bias, the weights which add up from\n",
    "the previous layer $l-1$ and the forward passes/outputs\n",
    "$\\boldsymbol{a}^{l-1}$ from the previous layer as"
   ]
  },
  {
   "cell_type": "markdown",
   "id": "f4a20e55",
   "metadata": {
    "editable": true
   },
   "source": [
    "$$\n",
    "z_j^l = \\sum_{i=1}^{M_{l-1}}w_{ij}^la_i^{l-1}+b_j^l,\n",
    "$$"
   ]
  },
  {
   "cell_type": "markdown",
   "id": "e373e6cc",
   "metadata": {
    "editable": true
   },
   "source": [
    "where $b_k^l$ are the biases from layer $l$.  Here $M_{l-1}$\n",
    "represents the total number of nodes/neurons/units of layer $l-1$. The\n",
    "figure in the whiteboard notes illustrates this equation.  We can rewrite this in a more\n",
    "compact form as the matrix-vector products we discussed earlier,"
   ]
  },
  {
   "cell_type": "markdown",
   "id": "a9fa6a69",
   "metadata": {
    "editable": true
   },
   "source": [
    "$$\n",
    "\\boldsymbol{z}^l = \\left(\\boldsymbol{W}^l\\right)^T\\boldsymbol{a}^{l-1}+\\boldsymbol{b}^l.\n",
    "$$"
   ]
  },
  {
   "cell_type": "markdown",
   "id": "f1730e5a",
   "metadata": {
    "editable": true
   },
   "source": [
    "## Inputs to the activation function\n",
    "\n",
    "With the activation values $\\boldsymbol{z}^l$ we can in turn define the\n",
    "output of layer $l$ as $\\boldsymbol{a}^l = \\sigma(\\boldsymbol{z}^l)$ where $\\sigma$ is our\n",
    "activation function. In the examples here we will use the sigmoid\n",
    "function discussed in our logistic regression lectures. We will also use the same activation function $\\sigma$ for all layers\n",
    "and their nodes.  It means we have"
   ]
  },
  {
   "cell_type": "markdown",
   "id": "59d7d98a",
   "metadata": {
    "editable": true
   },
   "source": [
    "$$\n",
    "a_j^l = \\sigma(z_j^l) = \\frac{1}{1+\\exp{-(z_j^l)}}.\n",
    "$$"
   ]
  },
  {
   "cell_type": "markdown",
   "id": "5a3d0931",
   "metadata": {
    "editable": true
   },
   "source": [
    "## Layout of input to first hidden layer $l=1$ from input layer $l=0$\n",
    "\n",
    "<!-- dom:FIGURE: [figures/structure.png, width=900 frac=1.0] -->\n",
    "<!-- begin figure -->\n",
    "\n",
    "<img src=\"figures/structure.png\" width=\"900\"><p style=\"font-size: 0.9em\"><i>Figure 1: </i></p>\n",
    "<!-- end figure -->"
   ]
  },
  {
   "cell_type": "markdown",
   "id": "c56d749e",
   "metadata": {
    "editable": true
   },
   "source": [
    "## Derivatives and the chain rule\n",
    "\n",
    "From the definition of the input variable to the activation function, that is $z_j^l$ we have"
   ]
  },
  {
   "cell_type": "markdown",
   "id": "f3dd37e7",
   "metadata": {
    "editable": true
   },
   "source": [
    "$$\n",
    "\\frac{\\partial z_j^l}{\\partial w_{ij}^l} = a_i^{l-1},\n",
    "$$"
   ]
  },
  {
   "cell_type": "markdown",
   "id": "7654c47c",
   "metadata": {
    "editable": true
   },
   "source": [
    "and"
   ]
  },
  {
   "cell_type": "markdown",
   "id": "cb1aa2a9",
   "metadata": {
    "editable": true
   },
   "source": [
    "$$\n",
    "\\frac{\\partial z_j^l}{\\partial a_i^{l-1}} = w_{ji}^l.\n",
    "$$"
   ]
  },
  {
   "cell_type": "markdown",
   "id": "11607454",
   "metadata": {
    "editable": true
   },
   "source": [
    "With our definition of the activation function we have that (note that this function depends only on $z_j^l$)"
   ]
  },
  {
   "cell_type": "markdown",
   "id": "29a881cd",
   "metadata": {
    "editable": true
   },
   "source": [
    "$$\n",
    "\\frac{\\partial a_j^l}{\\partial z_j^{l}} = a_j^l(1-a_j^l)=\\sigma(z_j^l)(1-\\sigma(z_j^l)).\n",
    "$$"
   ]
  },
  {
   "cell_type": "markdown",
   "id": "1244c442",
   "metadata": {
    "editable": true
   },
   "source": [
    "## Derivative of the cost function\n",
    "\n",
    "With these definitions we can now compute the derivative of the cost function in terms of the weights.\n",
    "\n",
    "Let us specialize to the output layer $l=L$. Our cost function is"
   ]
  },
  {
   "cell_type": "markdown",
   "id": "7d43f636",
   "metadata": {
    "editable": true
   },
   "source": [
    "$$\n",
    "{\\cal C}(\\boldsymbol{\\Theta}^L)  =  \\frac{1}{2}\\sum_{i=1}^n\\left(y_i - \\tilde{y}_i\\right)^2=\\frac{1}{2}\\sum_{i=1}^n\\left(a_i^L - y_i\\right)^2,\n",
    "$$"
   ]
  },
  {
   "cell_type": "markdown",
   "id": "c23708ab",
   "metadata": {
    "editable": true
   },
   "source": [
    "The derivative of this function with respect to the weights is"
   ]
  },
  {
   "cell_type": "markdown",
   "id": "3a3d49b9",
   "metadata": {
    "editable": true
   },
   "source": [
    "$$\n",
    "\\frac{\\partial{\\cal C}(\\boldsymbol{\\Theta}^L)}{\\partial w_{ij}^L}  =  \\left(a_j^L - y_j\\right)\\frac{\\partial a_j^L}{\\partial w_{ij}^{L}},\n",
    "$$"
   ]
  },
  {
   "cell_type": "markdown",
   "id": "31b8b489",
   "metadata": {
    "editable": true
   },
   "source": [
    "The last partial derivative can easily be computed and reads (by applying the chain rule)"
   ]
  },
  {
   "cell_type": "markdown",
   "id": "2cb11e87",
   "metadata": {
    "editable": true
   },
   "source": [
    "$$\n",
    "\\frac{\\partial a_j^L}{\\partial w_{ij}^{L}} = \\frac{\\partial a_j^L}{\\partial z_{j}^{L}}\\frac{\\partial z_j^L}{\\partial w_{ij}^{L}}=a_j^L(1-a_j^L)a_i^{L-1}.\n",
    "$$"
   ]
  },
  {
   "cell_type": "markdown",
   "id": "85b6783b",
   "metadata": {
    "editable": true
   },
   "source": [
    "## The  back propagation equations for a neural network\n",
    "\n",
    "We have thus"
   ]
  },
  {
   "cell_type": "markdown",
   "id": "1d9102e8",
   "metadata": {
    "editable": true
   },
   "source": [
    "$$\n",
    "\\frac{\\partial{\\cal C}((\\boldsymbol{\\Theta}^L)}{\\partial w_{ij}^L}  =  \\left(a_j^L - y_j\\right)a_j^L(1-a_j^L)a_i^{L-1},\n",
    "$$"
   ]
  },
  {
   "cell_type": "markdown",
   "id": "92547c80",
   "metadata": {
    "editable": true
   },
   "source": [
    "Defining"
   ]
  },
  {
   "cell_type": "markdown",
   "id": "e06d7f47",
   "metadata": {
    "editable": true
   },
   "source": [
    "$$\n",
    "\\delta_j^L = a_j^L(1-a_j^L)\\left(a_j^L - y_j\\right) = \\sigma'(z_j^L)\\frac{\\partial {\\cal C}}{\\partial (a_j^L)},\n",
    "$$"
   ]
  },
  {
   "cell_type": "markdown",
   "id": "a15b2c15",
   "metadata": {
    "editable": true
   },
   "source": [
    "and using the Hadamard product of two vectors we can write this as"
   ]
  },
  {
   "cell_type": "markdown",
   "id": "69a96bb6",
   "metadata": {
    "editable": true
   },
   "source": [
    "$$\n",
    "\\boldsymbol{\\delta}^L = \\sigma'(\\boldsymbol{z}^L)\\circ\\frac{\\partial {\\cal C}}{\\partial (\\boldsymbol{a}^L)}.\n",
    "$$"
   ]
  },
  {
   "cell_type": "markdown",
   "id": "6954d50b",
   "metadata": {
    "editable": true
   },
   "source": [
    "## Analyzing the last results\n",
    "\n",
    "This is an important expression. The second term on the right handside\n",
    "measures how fast the cost function is changing as a function of the $j$th\n",
    "output activation.  If, for example, the cost function doesn't depend\n",
    "much on a particular output node $j$, then $\\delta_j^L$ will be small,\n",
    "which is what we would expect. The first term on the right, measures\n",
    "how fast the activation function $f$ is changing at a given activation\n",
    "value $z_j^L$."
   ]
  },
  {
   "cell_type": "markdown",
   "id": "a8d2b720",
   "metadata": {
    "editable": true
   },
   "source": [
    "## More considerations\n",
    "\n",
    "Notice that everything in the above equations is easily computed.  In\n",
    "particular, we compute $z_j^L$ while computing the behaviour of the\n",
    "network, and it is only a small additional overhead to compute\n",
    "$\\sigma'(z^L_j)$.  The exact form of the derivative with respect to the\n",
    "output depends on the form of the cost function.\n",
    "However, provided the cost function is known there should be little\n",
    "trouble in calculating"
   ]
  },
  {
   "cell_type": "markdown",
   "id": "b40feaea",
   "metadata": {
    "editable": true
   },
   "source": [
    "$$\n",
    "\\frac{\\partial {\\cal C}}{\\partial (a_j^L)}\n",
    "$$"
   ]
  },
  {
   "cell_type": "markdown",
   "id": "04d0916c",
   "metadata": {
    "editable": true
   },
   "source": [
    "With the definition of $\\delta_j^L$ we have a more compact definition of the derivative of the cost function in terms of the weights, namely"
   ]
  },
  {
   "cell_type": "markdown",
   "id": "4067515f",
   "metadata": {
    "editable": true
   },
   "source": [
    "$$\n",
    "\\frac{\\partial{\\cal C}}{\\partial w_{ij}^L}  =  \\delta_j^La_i^{L-1}.\n",
    "$$"
   ]
  },
  {
   "cell_type": "markdown",
   "id": "572f5043",
   "metadata": {
    "editable": true
   },
   "source": [
    "## Derivatives in terms of $z_j^L$\n",
    "\n",
    "It is also easy to see that our previous equation can be written as"
   ]
  },
  {
   "cell_type": "markdown",
   "id": "4272e56c",
   "metadata": {
    "editable": true
   },
   "source": [
    "$$\n",
    "\\delta_j^L =\\frac{\\partial {\\cal C}}{\\partial z_j^L}= \\frac{\\partial {\\cal C}}{\\partial a_j^L}\\frac{\\partial a_j^L}{\\partial z_j^L},\n",
    "$$"
   ]
  },
  {
   "cell_type": "markdown",
   "id": "3ffcc3a4",
   "metadata": {
    "editable": true
   },
   "source": [
    "which can also be interpreted as the partial derivative of the cost function with respect to the biases $b_j^L$, namely"
   ]
  },
  {
   "cell_type": "markdown",
   "id": "87dc5557",
   "metadata": {
    "editable": true
   },
   "source": [
    "$$\n",
    "\\delta_j^L = \\frac{\\partial {\\cal C}}{\\partial b_j^L}\\frac{\\partial b_j^L}{\\partial z_j^L}=\\frac{\\partial {\\cal C}}{\\partial b_j^L},\n",
    "$$"
   ]
  },
  {
   "cell_type": "markdown",
   "id": "36f9508b",
   "metadata": {
    "editable": true
   },
   "source": [
    "That is, the error $\\delta_j^L$ is exactly equal to the rate of change of the cost function as a function of the bias."
   ]
  },
  {
   "cell_type": "markdown",
   "id": "5e7f7ab6",
   "metadata": {
    "editable": true
   },
   "source": [
    "## Bringing it together\n",
    "\n",
    "We have now three equations that are essential for the computations of the derivatives of the cost function at the output layer. These equations are needed to start the algorithm and they are"
   ]
  },
  {
   "cell_type": "markdown",
   "id": "b5caac62",
   "metadata": {
    "editable": true
   },
   "source": [
    "<!-- Equation labels as ordinary links -->\n",
    "<div id=\"_auto1\"></div>\n",
    "\n",
    "$$\n",
    "\\begin{equation}\n",
    "\\frac{\\partial{\\cal C}(\\boldsymbol{W^L})}{\\partial w_{ij}^L}  =  \\delta_j^La_i^{L-1},\n",
    "\\label{_auto1} \\tag{1}\n",
    "\\end{equation}\n",
    "$$"
   ]
  },
  {
   "cell_type": "markdown",
   "id": "beffe853",
   "metadata": {
    "editable": true
   },
   "source": [
    "and"
   ]
  },
  {
   "cell_type": "markdown",
   "id": "9ff991bb",
   "metadata": {
    "editable": true
   },
   "source": [
    "<!-- Equation labels as ordinary links -->\n",
    "<div id=\"_auto2\"></div>\n",
    "\n",
    "$$\n",
    "\\begin{equation}\n",
    "\\delta_j^L = \\sigma'(z_j^L)\\frac{\\partial {\\cal C}}{\\partial (a_j^L)},\n",
    "\\label{_auto2} \\tag{2}\n",
    "\\end{equation}\n",
    "$$"
   ]
  },
  {
   "cell_type": "markdown",
   "id": "5c75d805",
   "metadata": {
    "editable": true
   },
   "source": [
    "and"
   ]
  },
  {
   "cell_type": "markdown",
   "id": "df242f2d",
   "metadata": {
    "editable": true
   },
   "source": [
    "<!-- Equation labels as ordinary links -->\n",
    "<div id=\"_auto3\"></div>\n",
    "\n",
    "$$\n",
    "\\begin{equation}\n",
    "\\delta_j^L = \\frac{\\partial {\\cal C}}{\\partial b_j^L},\n",
    "\\label{_auto3} \\tag{3}\n",
    "\\end{equation}\n",
    "$$"
   ]
  },
  {
   "cell_type": "markdown",
   "id": "18a65420",
   "metadata": {
    "editable": true
   },
   "source": [
    "## Final back propagating equation\n",
    "\n",
    "We have that (replacing $L$ with a general layer $l$)"
   ]
  },
  {
   "cell_type": "markdown",
   "id": "04cb64d1",
   "metadata": {
    "editable": true
   },
   "source": [
    "$$\n",
    "\\delta_j^l =\\frac{\\partial {\\cal C}}{\\partial z_j^l}.\n",
    "$$"
   ]
  },
  {
   "cell_type": "markdown",
   "id": "c5320606",
   "metadata": {
    "editable": true
   },
   "source": [
    "We want to express this in terms of the equations for layer $l+1$."
   ]
  },
  {
   "cell_type": "markdown",
   "id": "58b67295",
   "metadata": {
    "editable": true
   },
   "source": [
    "## Using the chain rule and summing over all $k$ entries\n",
    "\n",
    "We obtain"
   ]
  },
  {
   "cell_type": "markdown",
   "id": "3b7c74a4",
   "metadata": {
    "editable": true
   },
   "source": [
    "$$\n",
    "\\delta_j^l =\\sum_k \\frac{\\partial {\\cal C}}{\\partial z_k^{l+1}}\\frac{\\partial z_k^{l+1}}{\\partial z_j^{l}}=\\sum_k \\delta_k^{l+1}\\frac{\\partial z_k^{l+1}}{\\partial z_j^{l}},\n",
    "$$"
   ]
  },
  {
   "cell_type": "markdown",
   "id": "76ff59e0",
   "metadata": {
    "editable": true
   },
   "source": [
    "and recalling that"
   ]
  },
  {
   "cell_type": "markdown",
   "id": "60a7be03",
   "metadata": {
    "editable": true
   },
   "source": [
    "$$\n",
    "z_j^{l+1} = \\sum_{i=1}^{M_{l}}w_{ij}^{l+1}a_i^{l}+b_j^{l+1},\n",
    "$$"
   ]
  },
  {
   "cell_type": "markdown",
   "id": "27739d6d",
   "metadata": {
    "editable": true
   },
   "source": [
    "with $M_l$ being the number of nodes in layer $l$, we obtain"
   ]
  },
  {
   "cell_type": "markdown",
   "id": "1efdb6f5",
   "metadata": {
    "editable": true
   },
   "source": [
    "$$\n",
    "\\delta_j^l =\\sum_k \\delta_k^{l+1}w_{kj}^{l+1}\\sigma'(z_j^l),\n",
    "$$"
   ]
  },
  {
   "cell_type": "markdown",
   "id": "b0b04f61",
   "metadata": {
    "editable": true
   },
   "source": [
    "This is our final equation.\n",
    "\n",
    "We are now ready to set up the algorithm for back propagation and learning the weights and biases."
   ]
  },
  {
   "cell_type": "markdown",
   "id": "e6c4318c",
   "metadata": {
    "editable": true
   },
   "source": [
    "## Setting up the back propagation algorithm and algorithm for a feed forward NN, initalizations\n",
    "\n",
    "**The architecture (our model).**\n",
    "\n",
    "1. Set up your inputs and outputs (scalars, vectors, matrices or higher-order arrays)\n",
    "\n",
    "2. Define the number of hidden layers and hidden nodes\n",
    "\n",
    "3. Define activation functions for hidden layers and output layers\n",
    "\n",
    "4. Define optimizer (plan learning rate, momentum, ADAgrad, RMSprop, ADAM etc) and array of initial learning rates\n",
    "\n",
    "5. Define cost function and possible regularization terms with hyperparameters\n",
    "\n",
    "6. Initialize weights and biases\n",
    "\n",
    "7. Fix number of iterations for the feed forward part and back propagation part"
   ]
  },
  {
   "cell_type": "markdown",
   "id": "4e58634a",
   "metadata": {
    "editable": true
   },
   "source": [
    "## Setting up the back propagation algorithm, part 1\n",
    "\n",
    "The four equations  provide us with a way of computing the gradients of the cost function. Let us write this out in the form of an algorithm.\n",
    "\n",
    "**First**, we set up the input data $\\boldsymbol{x}$ and the activations\n",
    "$\\boldsymbol{z}_1$ of the input layer and compute the activation function and\n",
    "the pertinent outputs $\\boldsymbol{a}^1$.\n",
    "\n",
    "**Secondly**, we perform then the feed forward till we reach the output\n",
    "layer and compute all $\\boldsymbol{z}_l$ of the input layer and compute the\n",
    "activation function and the pertinent outputs $\\boldsymbol{a}^l$ for\n",
    "$l=1,2,3,\\dots,L$.\n",
    "\n",
    "**Notation**: The first hidden layer has $l=1$ as label and the final output layer has $l=L$."
   ]
  },
  {
   "cell_type": "markdown",
   "id": "690eb424",
   "metadata": {
    "editable": true
   },
   "source": [
    "## Setting up the back propagation algorithm, part 2\n",
    "\n",
    "Thereafter we compute the ouput error $\\boldsymbol{\\delta}^L$ by computing all"
   ]
  },
  {
   "cell_type": "markdown",
   "id": "5f475d02",
   "metadata": {
    "editable": true
   },
   "source": [
    "$$\n",
    "\\delta_j^L = \\sigma'(z_j^L)\\frac{\\partial {\\cal C}}{\\partial (a_j^L)}.\n",
    "$$"
   ]
  },
  {
   "cell_type": "markdown",
   "id": "016ce549",
   "metadata": {
    "editable": true
   },
   "source": [
    "Then we compute the back propagate error for each $l=L-1,L-2,\\dots,1$ as"
   ]
  },
  {
   "cell_type": "markdown",
   "id": "51f9ed82",
   "metadata": {
    "editable": true
   },
   "source": [
    "$$\n",
    "\\delta_j^l = \\sum_k \\delta_k^{l+1}w_{kj}^{l+1}\\sigma'(z_j^l).\n",
    "$$"
   ]
  },
  {
   "cell_type": "markdown",
   "id": "a8996176",
   "metadata": {
    "editable": true
   },
   "source": [
    "## Setting up the Back propagation algorithm, part 3\n",
    "\n",
    "Finally, we update the weights and the biases using gradient descent\n",
    "for each $l=L-1,L-2,\\dots,1$ (the first hidden layer) and update the weights and biases\n",
    "according to the rules"
   ]
  },
  {
   "cell_type": "markdown",
   "id": "aaf186a8",
   "metadata": {
    "editable": true
   },
   "source": [
    "$$\n",
    "w_{ij}^l\\leftarrow  = w_{ij}^l- \\eta \\delta_j^la_i^{l-1},\n",
    "$$"
   ]
  },
  {
   "cell_type": "markdown",
   "id": "3b8a0a79",
   "metadata": {
    "editable": true
   },
   "source": [
    "$$\n",
    "b_j^l \\leftarrow b_j^l-\\eta \\frac{\\partial {\\cal C}}{\\partial b_j^l}=b_j^l-\\eta \\delta_j^l,\n",
    "$$"
   ]
  },
  {
   "cell_type": "markdown",
   "id": "299cc7bb",
   "metadata": {
    "editable": true
   },
   "source": [
    "with $\\eta$ being the learning rate."
   ]
  },
  {
   "cell_type": "markdown",
   "id": "3b10a1a0",
   "metadata": {
    "editable": true
   },
   "source": [
    "## Updating the gradients\n",
    "\n",
    "With the back propagate error for each $l=L-1,L-2,\\dots,1$ as"
   ]
  },
  {
   "cell_type": "markdown",
   "id": "0f8769f8",
   "metadata": {
    "editable": true
   },
   "source": [
    "$$\n",
    "\\delta_j^l = \\sum_k \\delta_k^{l+1}w_{kj}^{l+1}\\sigma'(z_j^l),\n",
    "$$"
   ]
  },
  {
   "cell_type": "markdown",
   "id": "03860e2f",
   "metadata": {
    "editable": true
   },
   "source": [
    "we update the weights and the biases using gradient descent for each $l=L-1,L-2,\\dots,1$ and update the weights and biases according to the rules"
   ]
  },
  {
   "cell_type": "markdown",
   "id": "00cea1da",
   "metadata": {
    "editable": true
   },
   "source": [
    "$$\n",
    "w_{ij}^l\\leftarrow  = w_{ij}^l- \\eta \\delta_j^la_i^{l-1},\n",
    "$$"
   ]
  },
  {
   "cell_type": "markdown",
   "id": "fe5bbd2a",
   "metadata": {
    "editable": true
   },
   "source": [
    "$$\n",
    "b_j^l \\leftarrow b_j^l-\\eta \\frac{\\partial {\\cal C}}{\\partial b_j^l}=b_j^l-\\eta \\delta_j^l,\n",
    "$$"
   ]
  },
  {
   "cell_type": "markdown",
   "id": "e791fb56",
   "metadata": {
    "editable": true
   },
   "source": [
    "## Activation functions\n",
    "\n",
    "A property that characterizes a neural network, other than its\n",
    "connectivity, is the choice of activation function(s).  The following\n",
    "restrictions are imposed on an activation function for an FFNN to\n",
    "fulfill the universal approximation theorem\n",
    "\n",
    "  * Non-constant\n",
    "\n",
    "  * Bounded\n",
    "\n",
    "  * Monotonically-increasing\n",
    "\n",
    "  * Continuous"
   ]
  },
  {
   "cell_type": "markdown",
   "id": "14ed4124",
   "metadata": {
    "editable": true
   },
   "source": [
    "### Activation functions, Logistic and Hyperbolic ones\n",
    "\n",
    "The second requirement excludes all linear functions. Furthermore, in\n",
    "a MLP with only linear activation functions, each layer simply\n",
    "performs a linear transformation of its inputs.\n",
    "\n",
    "Regardless of the number of layers, the output of the NN will be\n",
    "nothing but a linear function of the inputs. Thus we need to introduce\n",
    "some kind of non-linearity to the NN to be able to fit non-linear\n",
    "functions Typical examples are the logistic *Sigmoid*"
   ]
  },
  {
   "cell_type": "markdown",
   "id": "d6b31eb8",
   "metadata": {
    "editable": true
   },
   "source": [
    "$$\n",
    "\\sigma(x) = \\frac{1}{1 + e^{-x}},\n",
    "$$"
   ]
  },
  {
   "cell_type": "markdown",
   "id": "2be10af5",
   "metadata": {
    "editable": true
   },
   "source": [
    "and the *hyperbolic tangent* function"
   ]
  },
  {
   "cell_type": "markdown",
   "id": "f45b9a99",
   "metadata": {
    "editable": true
   },
   "source": [
    "$$\n",
    "\\sigma(x) = \\tanh(x)\n",
    "$$"
   ]
  },
  {
   "cell_type": "markdown",
   "id": "865d802b",
   "metadata": {
    "editable": true
   },
   "source": [
    "## Relevance\n",
    "\n",
    "The *sigmoid* function are more biologically plausible because the\n",
    "output of inactive neurons are zero. Such activation function are\n",
    "called *one-sided*. However, it has been shown that the hyperbolic\n",
    "tangent performs better than the sigmoid for training MLPs.  has\n",
    "become the most popular for *deep neural networks*"
   ]
  },
  {
   "cell_type": "code",
   "execution_count": 1,
   "id": "37773874",
   "metadata": {
    "collapsed": false,
    "editable": true,
    "jupyter": {
     "outputs_hidden": false
    }
   },
   "outputs": [
    {
     "data": {
      "image/png": "[encoded data removed]",
      "text/plain": [
       "<Figure size 640x480 with 1 Axes>"
      ]
     },
     "metadata": {},
     "output_type": "display_data"
    },
    {
     "data": {
      "image/png": "[encoded data removed]",
      "text/plain": [
       "<Figure size 640x480 with 1 Axes>"
      ]
     },
     "metadata": {},
     "output_type": "display_data"
    },
    {
     "data": {
      "image/png": "[encoded data removed]",
      "text/plain": [
       "<Figure size 640x480 with 1 Axes>"
      ]
     },
     "metadata": {},
     "output_type": "display_data"
    },
    {
     "data": {
      "image/png": "[encoded data removed]",
      "text/plain": [
       "<Figure size 640x480 with 1 Axes>"
      ]
     },
     "metadata": {},
     "output_type": "display_data"
    }
   ],
   "source": [
    "%matplotlib inline\n",
    "\n",
    "\"\"\"The sigmoid function (or the logistic curve) is a \n",
    "function that takes any real number, z, and outputs a number (0,1).\n",
    "It is useful in neural networks for assigning weights on a relative scale.\n",
    "The value z is the weighted sum of parameters involved in the learning algorithm.\"\"\"\n",
    "\n",
    "import numpy\n",
    "import matplotlib.pyplot as plt\n",
    "import math as mt\n",
    "\n",
    "z = numpy.arange(-5, 5, .1)\n",
    "sigma_fn = numpy.vectorize(lambda z: 1/(1+numpy.exp(-z)))\n",
    "sigma = sigma_fn(z)\n",
    "\n",
    "fig = plt.figure()\n",
    "ax = fig.add_subplot(111)\n",
    "ax.plot(z, sigma)\n",
    "ax.set_ylim([-0.1, 1.1])\n",
    "ax.set_xlim([-5,5])\n",
    "ax.grid(True)\n",
    "ax.set_xlabel('z')\n",
    "ax.set_title('sigmoid function')\n",
    "\n",
    "plt.show()\n",
    "\n",
    "\"\"\"Step Function\"\"\"\n",
    "z = numpy.arange(-5, 5, .02)\n",
    "step_fn = numpy.vectorize(lambda z: 1.0 if z >= 0.0 else 0.0)\n",
    "step = step_fn(z)\n",
    "\n",
    "fig = plt.figure()\n",
    "ax = fig.add_subplot(111)\n",
    "ax.plot(z, step)\n",
    "ax.set_ylim([-0.5, 1.5])\n",
    "ax.set_xlim([-5,5])\n",
    "ax.grid(True)\n",
    "ax.set_xlabel('z')\n",
    "ax.set_title('step function')\n",
    "\n",
    "plt.show()\n",
    "\n",
    "\"\"\"Sine Function\"\"\"\n",
    "z = numpy.arange(-2*mt.pi, 2*mt.pi, 0.1)\n",
    "t = numpy.sin(z)\n",
    "\n",
    "fig = plt.figure()\n",
    "ax = fig.add_subplot(111)\n",
    "ax.plot(z, t)\n",
    "ax.set_ylim([-1.0, 1.0])\n",
    "ax.set_xlim([-2*mt.pi,2*mt.pi])\n",
    "ax.grid(True)\n",
    "ax.set_xlabel('z')\n",
    "ax.set_title('sine function')\n",
    "\n",
    "plt.show()\n",
    "\n",
    "\"\"\"Plots a graph of the squashing function used by a rectified linear\n",
    "unit\"\"\"\n",
    "z = numpy.arange(-2, 2, .1)\n",
    "zero = numpy.zeros(len(z))\n",
    "y = numpy.max([zero, z], axis=0)\n",
    "\n",
    "fig = plt.figure()\n",
    "ax = fig.add_subplot(111)\n",
    "ax.plot(z, y)\n",
    "ax.set_ylim([-2.0, 2.0])\n",
    "ax.set_xlim([-2.0, 2.0])\n",
    "ax.grid(True)\n",
    "ax.set_xlabel('z')\n",
    "ax.set_title('Rectified linear unit')\n",
    "\n",
    "plt.show()"
   ]
  },
  {
   "cell_type": "markdown",
   "id": "9cccb9ca",
   "metadata": {
    "editable": true
   },
   "source": [
    "## Vanishing gradients\n",
    "\n",
    "The Back propagation algorithm we derived above works by going from\n",
    "the output layer to the input layer, propagating the error gradient on\n",
    "the way. Once the algorithm has computed the gradient of the cost\n",
    "function with regards to each parameter in the network, it uses these\n",
    "gradients to update each parameter with a Gradient Descent (GD) step.\n",
    "\n",
    "Unfortunately for us, the gradients often get smaller and smaller as\n",
    "the algorithm progresses down to the first hidden layers. As a result,\n",
    "the GD update leaves the lower layer connection weights virtually\n",
    "unchanged, and training never converges to a good solution. This is\n",
    "known in the literature as **the vanishing gradients problem**."
   ]
  },
  {
   "cell_type": "markdown",
   "id": "a42f7226",
   "metadata": {
    "editable": true
   },
   "source": [
    "## Exploding gradients\n",
    "\n",
    "In other cases, the opposite can happen, namely the the gradients can\n",
    "grow bigger and bigger. The result is that many of the layers get\n",
    "large updates of the weights the algorithm diverges. This is the\n",
    "**exploding gradients problem**, which is mostly encountered in\n",
    "recurrent neural networks. More generally, deep neural networks suffer\n",
    "from unstable gradients, different layers may learn at widely\n",
    "different speeds"
   ]
  },
  {
   "cell_type": "markdown",
   "id": "0f57d23f",
   "metadata": {
    "editable": true
   },
   "source": [
    "## Is the Logistic activation function (Sigmoid)  our choice?\n",
    "\n",
    "Although this unfortunate behavior has been empirically observed for\n",
    "quite a while (it was one of the reasons why deep neural networks were\n",
    "mostly abandoned for a long time), it is only around 2010 that\n",
    "significant progress was made in understanding it.\n",
    "\n",
    "A paper titled [Understanding the Difficulty of Training Deep\n",
    "Feedforward Neural Networks by Xavier Glorot and Yoshua Bengio](http://proceedings.mlr.press/v9/glorot10a.html) found that\n",
    "the problems with the popular logistic\n",
    "sigmoid activation function and the weight initialization technique\n",
    "that was most popular at the time, namely random initialization using\n",
    "a normal distribution with a mean of 0 and a standard deviation of\n",
    "1."
   ]
  },
  {
   "cell_type": "markdown",
   "id": "ad459faf",
   "metadata": {
    "editable": true
   },
   "source": [
    "## Logistic function as the root of problems\n",
    "\n",
    "They showed that with this activation function and this\n",
    "initialization scheme, the variance of the outputs of each layer is\n",
    "much greater than the variance of its inputs. Going forward in the\n",
    "network, the variance keeps increasing after each layer until the\n",
    "activation function saturates at the top layers. This is actually made\n",
    "worse by the fact that the logistic function has a mean of 0.5, not 0\n",
    "(the hyperbolic tangent function has a mean of 0 and behaves slightly\n",
    "better than the logistic function in deep networks)."
   ]
  },
  {
   "cell_type": "markdown",
   "id": "1e307870",
   "metadata": {
    "editable": true
   },
   "source": [
    "## The derivative of the Logistic funtion\n",
    "\n",
    "Looking at the logistic activation function, when inputs become large\n",
    "(negative or positive), the function saturates at 0 or 1, with a\n",
    "derivative extremely close to 0. Thus when backpropagation kicks in,\n",
    "it has virtually no gradient to propagate back through the network,\n",
    "and what little gradient exists keeps getting diluted as\n",
    "backpropagation progresses down through the top layers, so there is\n",
    "really nothing left for the lower layers.\n",
    "\n",
    "In their paper, Glorot and Bengio propose a way to significantly\n",
    "alleviate this problem. We need the signal to flow properly in both\n",
    "directions: in the forward direction when making predictions, and in\n",
    "the reverse direction when backpropagating gradients. We don’t want\n",
    "the signal to die out, nor do we want it to explode and saturate. For\n",
    "the signal to flow properly, the authors argue that we need the\n",
    "variance of the outputs of each layer to be equal to the variance of\n",
    "its inputs, and we also need the gradients to have equal variance\n",
    "before and after flowing through a layer in the reverse direction."
   ]
  },
  {
   "cell_type": "markdown",
   "id": "06fe5be6",
   "metadata": {
    "editable": true
   },
   "source": [
    "## Insights from the paper by Glorot and Bengio\n",
    "\n",
    "One of the insights in the 2010 paper by Glorot and Bengio was that\n",
    "the vanishing/exploding gradients problems were in part due to a poor\n",
    "choice of activation function. Until then most people had assumed that\n",
    "if Nature had chosen to use roughly sigmoid activation functions in\n",
    "biological neurons, they must be an excellent choice. But it turns out\n",
    "that other activation functions behave much better in deep neural\n",
    "networks, in particular the ReLU activation function, mostly because\n",
    "it does not saturate for positive values (and also because it is quite\n",
    "fast to compute)."
   ]
  },
  {
   "cell_type": "markdown",
   "id": "736441f3",
   "metadata": {
    "editable": true
   },
   "source": [
    "## The RELU function family\n",
    "\n",
    "The ReLU activation function suffers from a problem known as the dying\n",
    "ReLUs: during training, some neurons effectively die, meaning they\n",
    "stop outputting anything other than 0.\n",
    "\n",
    "In some cases, you may find that half of your network’s neurons are\n",
    "dead, especially if you used a large learning rate. During training,\n",
    "if a neuron’s weights get updated such that the weighted sum of the\n",
    "neuron’s inputs is negative, it will start outputting 0. When this\n",
    "happen, the neuron is unlikely to come back to life since the gradient\n",
    "of the ReLU function is 0 when its input is negative."
   ]
  },
  {
   "cell_type": "markdown",
   "id": "9ac6f21d",
   "metadata": {
    "editable": true
   },
   "source": [
    "## ELU function\n",
    "\n",
    "To solve this problem, nowadays practitioners use a variant of the\n",
    "ReLU function, such as the leaky ReLU discussed above or the so-called\n",
    "exponential linear unit (ELU) function"
   ]
  },
  {
   "cell_type": "markdown",
   "id": "80ebd77c",
   "metadata": {
    "editable": true
   },
   "source": [
    "$$\n",
    "ELU(z) = \\left\\{\\begin{array}{cc} \\alpha\\left( \\exp{(z)}-1\\right) & z < 0,\\\\  z & z \\ge 0.\\end{array}\\right.\n",
    "$$"
   ]
  },
  {
   "cell_type": "markdown",
   "id": "2566a903",
   "metadata": {
    "editable": true
   },
   "source": [
    "## Which activation function should we use?\n",
    "\n",
    "In general it seems that the ELU activation function is better than\n",
    "the leaky ReLU function (and its variants), which is better than\n",
    "ReLU. ReLU performs better than $\\tanh$ which in turn performs better\n",
    "than the logistic function.\n",
    "\n",
    "If runtime performance is an issue, then you may opt for the leaky\n",
    "ReLU function over the ELU function If you don’t want to tweak yet\n",
    "another hyperparameter, you may just use the default $\\alpha$ of\n",
    "$0.01$ for the leaky ReLU, and $1$ for ELU. If you have spare time and\n",
    "computing power, you can use cross-validation or bootstrap to evaluate\n",
    "other activation functions."
   ]
  },
  {
   "cell_type": "markdown",
   "id": "382f5fe1",
   "metadata": {
    "editable": true
   },
   "source": [
    "## More on activation functions, output layers\n",
    "\n",
    "In most cases you can use the ReLU activation function in the hidden\n",
    "layers (or one of its variants).\n",
    "\n",
    "It is a bit faster to compute than other activation functions, and the\n",
    "gradient descent optimization does in general not get stuck.\n",
    "\n",
    "**For the output layer:**\n",
    "\n",
    "* For classification the softmax activation function is generally a good choice for classification tasks (when the classes are mutually exclusive).\n",
    "\n",
    "* For regression tasks, you can simply use no activation function at all."
   ]
  },
  {
   "cell_type": "markdown",
   "id": "fed07226",
   "metadata": {
    "editable": true
   },
   "source": [
    "## Fine-tuning neural network hyperparameters\n",
    "\n",
    "The flexibility of neural networks is also one of their main\n",
    "drawbacks: there are many hyperparameters to tweak. Not only can you\n",
    "use any imaginable network topology (how neurons/nodes are\n",
    "interconnected), but even in a simple FFNN you can change the number\n",
    "of layers, the number of neurons per layer, the type of activation\n",
    "function to use in each layer, the weight initialization logic, the\n",
    "stochastic gradient optmized and much more. How do you know what\n",
    "combination of hyperparameters is the best for your task?\n",
    "\n",
    "* You can use grid search with cross-validation to find the right hyperparameters.\n",
    "\n",
    "However,since there are many hyperparameters to tune, and since\n",
    "training a neural network on a large dataset takes a lot of time, you\n",
    "will only be able to explore a tiny part of the hyperparameter space.\n",
    "\n",
    "* You can use randomized search.\n",
    "\n",
    "* Or use tools like [Oscar](http://oscar.calldesk.ai/), which implements more complex algorithms to help you find a good set of hyperparameters quickly."
   ]
  },
  {
   "cell_type": "markdown",
   "id": "9ddc2586",
   "metadata": {
    "editable": true
   },
   "source": [
    "## Hidden layers\n",
    "\n",
    "For many problems you can start with just one or two hidden layers and\n",
    "it will work just fine.  For the MNIST data set discussed below you can easily get a\n",
    "high accuracy using just one hidden layer with a few hundred neurons.\n",
    "You can reach for this data set above 98% accuracy using two hidden\n",
    "layers with the same total amount of neurons, in roughly the same\n",
    "amount of training time.\n",
    "\n",
    "For more complex problems, you can gradually ramp up the number of\n",
    "hidden layers, until you start overfitting the training set. Very\n",
    "complex tasks, such as large image classification or speech\n",
    "recognition, typically require networks with dozens of layers and they\n",
    "need a huge amount of training data. However, you will rarely have to\n",
    "train such networks from scratch: it is much more common to reuse\n",
    "parts of a pretrained state-of-the-art network that performs a similar\n",
    "task."
   ]
  },
  {
   "cell_type": "markdown",
   "id": "d327b303",
   "metadata": {
    "editable": true
   },
   "source": [
    "## Batch Normalization\n",
    "\n",
    "Batch Normalization aims to address the vanishing/exploding gradients\n",
    "problems, and more generally the problem that the distribution of each\n",
    "layer’s inputs changes during training, as the parameters of the\n",
    "previous layers change.\n",
    "\n",
    "The technique consists of adding an operation in the model just before\n",
    "the activation function of each layer, simply zero-centering and\n",
    "normalizing the inputs, then scaling and shifting the result using two\n",
    "new parameters per layer (one for scaling, the other for shifting). In\n",
    "other words, this operation lets the model learn the optimal scale and\n",
    "mean of the inputs for each layer.  In order to zero-center and\n",
    "normalize the inputs, the algorithm needs to estimate the inputs’ mean\n",
    "and standard deviation. It does so by evaluating the mean and standard\n",
    "deviation of the inputs over the current mini-batch, from this the\n",
    "name batch normalization."
   ]
  },
  {
   "cell_type": "markdown",
   "id": "a3f4a57d",
   "metadata": {
    "editable": true
   },
   "source": [
    "## Dropout\n",
    "\n",
    "It is a fairly simple algorithm: at every training step, every neuron\n",
    "(including the input neurons but excluding the output neurons) has a\n",
    "probability $p$ of being temporarily dropped out, meaning it will be\n",
    "entirely ignored during this training step, but it may be active\n",
    "during the next step.\n",
    "\n",
    "The hyperparameter $p$ is called the dropout rate, and it is typically\n",
    "set to 50%. After training, the neurons are not dropped anymore.  It\n",
    "is viewed as one of the most popular regularization techniques."
   ]
  },
  {
   "cell_type": "markdown",
   "id": "da0c8dbe",
   "metadata": {
    "editable": true
   },
   "source": [
    "## Gradient Clipping\n",
    "\n",
    "A popular technique to lessen the exploding gradients problem is to\n",
    "simply clip the gradients during backpropagation so that they never\n",
    "exceed some threshold (this is mostly useful for recurrent neural\n",
    "networks).\n",
    "\n",
    "This technique is called Gradient Clipping.\n",
    "\n",
    "In general however, Batch\n",
    "Normalization is preferred."
   ]
  },
  {
   "cell_type": "markdown",
   "id": "60e3da23",
   "metadata": {
    "editable": true
   },
   "source": [
    "## A top-down perspective on Neural networks\n",
    "\n",
    "The first thing we would like to do is divide the data into two or\n",
    "three parts. A training set, a validation or dev (development) set,\n",
    "and a test set. The test set is the data on which we want to make\n",
    "predictions. The dev set is a subset of the training data we use to\n",
    "check how well we are doing out-of-sample, after training the model on\n",
    "the training dataset. We use the validation error as a proxy for the\n",
    "test error in order to make tweaks to our model. It is crucial that we\n",
    "do not use any of the test data to train the algorithm. This is a\n",
    "cardinal sin in ML. Then:\n",
    "\n",
    "1. Estimate optimal error rate\n",
    "\n",
    "2. Minimize underfitting (bias) on training data set.\n",
    "\n",
    "3. Make sure you are not overfitting."
   ]
  },
  {
   "cell_type": "markdown",
   "id": "17f8f5ed",
   "metadata": {
    "editable": true
   },
   "source": [
    "## More top-down perspectives\n",
    "\n",
    "If the validation and test sets are drawn from the same distributions,\n",
    "then a good performance on the validation set should lead to similarly\n",
    "good performance on the test set. \n",
    "\n",
    "However, sometimes\n",
    "the training data and test data differ in subtle ways because, for\n",
    "example, they are collected using slightly different methods, or\n",
    "because it is cheaper to collect data in one way versus another. In\n",
    "this case, there can be a mismatch between the training and test\n",
    "data. This can lead to the neural network overfitting these small\n",
    "differences between the test and training sets, and a poor performance\n",
    "on the test set despite having a good performance on the validation\n",
    "set. To rectify this, Andrew Ng suggests making two validation or dev\n",
    "sets, one constructed from the training data and one constructed from\n",
    "the test data. The difference between the performance of the algorithm\n",
    "on these two validation sets quantifies the train-test mismatch. This\n",
    "can serve as another important diagnostic when using DNNs for\n",
    "supervised learning."
   ]
  },
  {
   "cell_type": "markdown",
   "id": "06ba3896",
   "metadata": {
    "editable": true
   },
   "source": [
    "## Limitations of supervised learning with deep networks\n",
    "\n",
    "Like all statistical methods, supervised learning using neural\n",
    "networks has important limitations. This is especially important when\n",
    "one seeks to apply these methods, especially to physics problems. Like\n",
    "all tools, DNNs are not a universal solution. Often, the same or\n",
    "better performance on a task can be achieved by using a few\n",
    "hand-engineered features (or even a collection of random\n",
    "features)."
   ]
  },
  {
   "cell_type": "markdown",
   "id": "72bc99e6",
   "metadata": {
    "editable": true
   },
   "source": [
    "## Limitations of NNs\n",
    "\n",
    "Here we list some of the important limitations of supervised neural network based models. \n",
    "\n",
    "* **Need labeled data**. All supervised learning methods, DNNs for supervised learning require labeled data. Often, labeled data is harder to acquire than unlabeled data (e.g. one must pay for human experts to label images).\n",
    "\n",
    "* **Supervised neural networks are extremely data intensive.** DNNs are data hungry. They perform best when data is plentiful. This is doubly so for supervised methods where the data must also be labeled. The utility of DNNs is extremely limited if data is hard to acquire or the datasets are small (hundreds to a few thousand samples). In this case, the performance of other methods that utilize hand-engineered features can exceed that of DNNs."
   ]
  },
  {
   "cell_type": "markdown",
   "id": "d5f452a2",
   "metadata": {
    "editable": true
   },
   "source": [
    "## Homogeneous data\n",
    "\n",
    "* **Homogeneous data.** Almost all DNNs deal with homogeneous data of one type. It is very hard to design architectures that mix and match data types (i.e. some continuous variables, some discrete variables, some time series). In applications beyond images, video, and language, this is often what is required. In contrast, ensemble models like random forests or gradient-boosted trees have no difficulty handling mixed data types."
   ]
  },
  {
   "cell_type": "markdown",
   "id": "63889ee1",
   "metadata": {
    "editable": true
   },
   "source": [
    "## More limitations\n",
    "\n",
    "* **Many problems are not about prediction.** In natural science we are often interested in learning something about the underlying distribution that generates the data. In this case, it is often difficult to cast these ideas in a supervised learning setting. While the problems are related, it is possible to make good predictions with a *wrong* model. The model might or might not be useful for understanding the underlying science.\n",
    "\n",
    "Some of these remarks are particular to DNNs, others are shared by all supervised learning methods. This motivates the use of unsupervised methods which in part circumvent these problems."
   ]
  },
  {
   "cell_type": "markdown",
   "id": "5f47ef0f",
   "metadata": {
    "editable": true
   },
   "source": [
    "## Setting up a Multi-layer perceptron model for classification\n",
    "\n",
    "We are now gong to develop an example based on the MNIST data\n",
    "base. This is a classification problem and we need to use our\n",
    "cross-entropy function we discussed in connection with logistic\n",
    "regression. The cross-entropy defines our cost function for the\n",
    "classificaton problems with neural networks.\n",
    "\n",
    "In binary classification with two classes $(0, 1)$ we define the\n",
    "logistic/sigmoid function as the probability that a particular input\n",
    "is in class $0$ or $1$.  This is possible because the logistic\n",
    "function takes any input from the real numbers and inputs a number\n",
    "between 0 and 1, and can therefore be interpreted as a probability. It\n",
    "also has other nice properties, such as a derivative that is simple to\n",
    "calculate.\n",
    "\n",
    "For an input $\\boldsymbol{a}$ from the hidden layer, the probability that the input $\\boldsymbol{x}$\n",
    "is in class 0 or 1 is just. We let $\\theta$ represent the unknown weights and biases to be adjusted by our equations). The variable $x$\n",
    "represents our activation values $z$. We have"
   ]
  },
  {
   "cell_type": "markdown",
   "id": "b08a7b7e",
   "metadata": {
    "editable": true
   },
   "source": [
    "$$\n",
    "P(y = 0 \\mid \\boldsymbol{x}, \\boldsymbol{\\theta}) = \\frac{1}{1 + \\exp{(- \\boldsymbol{x}})} ,\n",
    "$$"
   ]
  },
  {
   "cell_type": "markdown",
   "id": "10220190",
   "metadata": {
    "editable": true
   },
   "source": [
    "and"
   ]
  },
  {
   "cell_type": "markdown",
   "id": "0fb4d5ad",
   "metadata": {
    "editable": true
   },
   "source": [
    "$$\n",
    "P(y = 1 \\mid \\boldsymbol{x}, \\boldsymbol{\\theta}) = 1 - P(y = 0 \\mid \\boldsymbol{x}, \\boldsymbol{\\theta}) ,\n",
    "$$"
   ]
  },
  {
   "cell_type": "markdown",
   "id": "f8aa1bae",
   "metadata": {
    "editable": true
   },
   "source": [
    "where $y \\in \\{0, 1\\}$  and $\\boldsymbol{\\theta}$ represents the weights and biases\n",
    "of our network."
   ]
  },
  {
   "cell_type": "markdown",
   "id": "17de8e22",
   "metadata": {
    "editable": true
   },
   "source": [
    "## Defining the cost function\n",
    "\n",
    "Our cost function is given as (see the Logistic regression lectures)"
   ]
  },
  {
   "cell_type": "markdown",
   "id": "ca8f4f94",
   "metadata": {
    "editable": true
   },
   "source": [
    "$$\n",
    "\\mathcal{C}(\\boldsymbol{\\theta}) = - \\ln P(\\mathcal{D} \\mid \\boldsymbol{\\theta}) = - \\sum_{i=1}^n\n",
    "y_i \\ln[P(y_i = 0)] + (1 - y_i) \\ln [1 - P(y_i = 0)] = \\sum_{i=1}^n \\mathcal{L}_i(\\boldsymbol{\\theta}) .\n",
    "$$"
   ]
  },
  {
   "cell_type": "markdown",
   "id": "ca998f7f",
   "metadata": {
    "editable": true
   },
   "source": [
    "This last equality means that we can interpret our *cost* function as a sum over the *loss* function\n",
    "for each point in the dataset $\\mathcal{L}_i(\\boldsymbol{\\theta})$.  \n",
    "The negative sign is just so that we can think about our algorithm as minimizing a positive number, rather\n",
    "than maximizing a negative number.  \n",
    "\n",
    "In *multiclass* classification it is common to treat each integer label as a so called *one-hot* vector:  \n",
    "\n",
    "$y = 5 \\quad \\rightarrow \\quad \\boldsymbol{y} = (0, 0, 0, 0, 0, 1, 0, 0, 0, 0) ,$ and\n",
    "\n",
    "$y = 1 \\quad \\rightarrow \\quad \\boldsymbol{y} = (0, 1, 0, 0, 0, 0, 0, 0, 0, 0) ,$ \n",
    "\n",
    "i.e. a binary bit string of length $C$, where $C = 10$ is the number of classes in the MNIST dataset (numbers from $0$ to $9$)..  \n",
    "\n",
    "If $\\boldsymbol{x}_i$ is the $i$-th input (image), $y_{ic}$ refers to the $c$-th component of the $i$-th\n",
    "output vector $\\boldsymbol{y}_i$.  \n",
    "The probability of $\\boldsymbol{x}_i$ being in class $c$ will be given by the softmax function:"
   ]
  },
  {
   "cell_type": "markdown",
   "id": "525b0573",
   "metadata": {
    "editable": true
   },
   "source": [
    "$$\n",
    "P(y_{ic} = 1 \\mid \\boldsymbol{x}_i, \\boldsymbol{\\theta}) = \\frac{\\exp{((\\boldsymbol{a}_i^{hidden})^T \\boldsymbol{w}_c)}}\n",
    "{\\sum_{c'=0}^{C-1} \\exp{((\\boldsymbol{a}_i^{hidden})^T \\boldsymbol{w}_{c'})}} ,\n",
    "$$"
   ]
  },
  {
   "cell_type": "markdown",
   "id": "a9279995",
   "metadata": {
    "editable": true
   },
   "source": [
    "which reduces to the logistic function in the binary case.  \n",
    "The likelihood of this $C$-class classifier\n",
    "is now given as:"
   ]
  },
  {
   "cell_type": "markdown",
   "id": "e6cef751",
   "metadata": {
    "editable": true
   },
   "source": [
    "$$\n",
    "P(\\mathcal{D} \\mid \\boldsymbol{\\theta}) = \\prod_{i=1}^n \\prod_{c=0}^{C-1} [P(y_{ic} = 1)]^{y_{ic}} .\n",
    "$$"
   ]
  },
  {
   "cell_type": "markdown",
   "id": "0ec11e1d",
   "metadata": {
    "editable": true
   },
   "source": [
    "Again we take the negative log-likelihood to define our cost function:"
   ]
  },
  {
   "cell_type": "markdown",
   "id": "e5d6a067",
   "metadata": {
    "editable": true
   },
   "source": [
    "$$\n",
    "\\mathcal{C}(\\boldsymbol{\\theta}) = - \\log{P(\\mathcal{D} \\mid \\boldsymbol{\\theta})}.\n",
    "$$"
   ]
  },
  {
   "cell_type": "markdown",
   "id": "add6e597",
   "metadata": {
    "editable": true
   },
   "source": [
    "See the logistic regression lectures for a full definition of the cost function.\n",
    "\n",
    "The back propagation equations need now only a small change, namely the definition of a new cost function. We are thus ready to use the same equations as before!"
   ]
  },
  {
   "cell_type": "markdown",
   "id": "dc7ca42d",
   "metadata": {
    "editable": true
   },
   "source": [
    "## Example: binary classification problem\n",
    "\n",
    "As an example of the above, relevant for project 2 as well, let us consider a binary class. As discussed in our logistic regression lectures, we defined a cost function in terms of the parameters $\\beta$ as"
   ]
  },
  {
   "cell_type": "markdown",
   "id": "80b56aa5",
   "metadata": {
    "editable": true
   },
   "source": [
    "$$\n",
    "\\mathcal{C}(\\boldsymbol{\\beta}) = - \\sum_{i=1}^n \\left(y_i\\log{p(y_i \\vert x_i,\\boldsymbol{\\beta})}+(1-y_i)\\log{1-p(y_i \\vert x_i,\\boldsymbol{\\beta})}\\right),\n",
    "$$"
   ]
  },
  {
   "cell_type": "markdown",
   "id": "72a87573",
   "metadata": {
    "editable": true
   },
   "source": [
    "where we had defined the logistic (sigmoid) function"
   ]
  },
  {
   "cell_type": "markdown",
   "id": "ff8418ea",
   "metadata": {
    "editable": true
   },
   "source": [
    "$$\n",
    "p(y_i =1\\vert x_i,\\boldsymbol{\\beta})=\\frac{\\exp{(\\beta_0+\\beta_1 x_i)}}{1+\\exp{(\\beta_0+\\beta_1 x_i)}},\n",
    "$$"
   ]
  },
  {
   "cell_type": "markdown",
   "id": "dd978909",
   "metadata": {
    "editable": true
   },
   "source": [
    "and"
   ]
  },
  {
   "cell_type": "markdown",
   "id": "ce5a0650",
   "metadata": {
    "editable": true
   },
   "source": [
    "$$\n",
    "p(y_i =0\\vert x_i,\\boldsymbol{\\beta})=1-p(y_i =1\\vert x_i,\\boldsymbol{\\beta}).\n",
    "$$"
   ]
  },
  {
   "cell_type": "markdown",
   "id": "dce8478b",
   "metadata": {
    "editable": true
   },
   "source": [
    "The parameters $\\boldsymbol{\\beta}$ were defined using a minimization method like gradient descent or Newton-Raphson's method. \n",
    "\n",
    "Now we replace $x_i$ with the activation $z_i^l$ for a given layer $l$ and the outputs as $y_i=a_i^l=f(z_i^l)$, with $z_i^l$ now being a function of the weights $w_{ij}^l$ and biases $b_i^l$. \n",
    "We have then"
   ]
  },
  {
   "cell_type": "markdown",
   "id": "92f7282e",
   "metadata": {
    "editable": true
   },
   "source": [
    "$$\n",
    "a_i^l = y_i = \\frac{\\exp{(z_i^l)}}{1+\\exp{(z_i^l)}},\n",
    "$$"
   ]
  },
  {
   "cell_type": "markdown",
   "id": "e83bc7a2",
   "metadata": {
    "editable": true
   },
   "source": [
    "with"
   ]
  },
  {
   "cell_type": "markdown",
   "id": "04f9d7f2",
   "metadata": {
    "editable": true
   },
   "source": [
    "$$\n",
    "z_i^l = \\sum_{j}w_{ij}^l a_j^{l-1}+b_i^l,\n",
    "$$"
   ]
  },
  {
   "cell_type": "markdown",
   "id": "c70ab677",
   "metadata": {
    "editable": true
   },
   "source": [
    "where the superscript $l-1$ indicates that these are the outputs from layer $l-1$.\n",
    "Our cost function at the final layer $l=L$ is now"
   ]
  },
  {
   "cell_type": "markdown",
   "id": "801a6bd2",
   "metadata": {
    "editable": true
   },
   "source": [
    "$$\n",
    "\\mathcal{C}(\\boldsymbol{W}) = - \\sum_{i=1}^n \\left(t_i\\log{a_i^L}+(1-t_i)\\log{(1-a_i^L)}\\right),\n",
    "$$"
   ]
  },
  {
   "cell_type": "markdown",
   "id": "38eeee4b",
   "metadata": {
    "editable": true
   },
   "source": [
    "where we have defined the targets $t_i$. The derivatives of the cost function with respect to the output $a_i^L$ are then easily calculated and we get"
   ]
  },
  {
   "cell_type": "markdown",
   "id": "d70ddf11",
   "metadata": {
    "editable": true
   },
   "source": [
    "$$\n",
    "\\frac{\\partial \\mathcal{C}(\\boldsymbol{W})}{\\partial a_i^L} = \\frac{a_i^L-t_i}{a_i^L(1-a_i^L)}.\n",
    "$$"
   ]
  },
  {
   "cell_type": "markdown",
   "id": "324ee5e0",
   "metadata": {
    "editable": true
   },
   "source": [
    "In case we use another activation function than the logistic one, we need to evaluate other derivatives."
   ]
  },
  {
   "cell_type": "markdown",
   "id": "3366df27",
   "metadata": {
    "editable": true
   },
   "source": [
    "## The Softmax function\n",
    "In case we employ the more general case given by the Softmax equation, we need to evaluate the derivative of the activation function with respect to the activation $z_i^l$, that is we need"
   ]
  },
  {
   "cell_type": "markdown",
   "id": "c9a2bd62",
   "metadata": {
    "editable": true
   },
   "source": [
    "$$\n",
    "\\frac{\\partial f(z_i^l)}{\\partial w_{jk}^l} =\n",
    "\\frac{\\partial f(z_i^l)}{\\partial z_j^l} \\frac{\\partial z_j^l}{\\partial w_{jk}^l}= \\frac{\\partial f(z_i^l)}{\\partial z_j^l}a_k^{l-1}.\n",
    "$$"
   ]
  },
  {
   "cell_type": "markdown",
   "id": "401183f6",
   "metadata": {
    "editable": true
   },
   "source": [
    "For the Softmax function we have"
   ]
  },
  {
   "cell_type": "markdown",
   "id": "d4e6a79e",
   "metadata": {
    "editable": true
   },
   "source": [
    "$$\n",
    "f(z_i^l) = \\frac{\\exp{(z_i^l)}}{\\sum_{m=1}^K\\exp{(z_m^l)}}.\n",
    "$$"
   ]
  },
  {
   "cell_type": "markdown",
   "id": "61cfab52",
   "metadata": {
    "editable": true
   },
   "source": [
    "Its derivative with respect to $z_j^l$ gives"
   ]
  },
  {
   "cell_type": "markdown",
   "id": "fc5cf891",
   "metadata": {
    "editable": true
   },
   "source": [
    "$$\n",
    "\\frac{\\partial f(z_i^l)}{\\partial z_j^l}= f(z_i^l)\\left(\\delta_{ij}-f(z_j^l)\\right),\n",
    "$$"
   ]
  },
  {
   "cell_type": "markdown",
   "id": "2e7f3950",
   "metadata": {
    "editable": true
   },
   "source": [
    "which in case of the simply binary model reduces to  having $i=j$."
   ]
  },
  {
   "cell_type": "markdown",
   "id": "144969f6",
   "metadata": {
    "editable": true
   },
   "source": [
    "## Developing a code for doing neural networks with back propagation\n",
    "\n",
    "One can identify a set of key steps when using neural networks to solve supervised learning problems:  \n",
    "\n",
    "1. Collect and pre-process data  \n",
    "\n",
    "2. Define model and architecture  \n",
    "\n",
    "3. Choose cost function and optimizer  \n",
    "\n",
    "4. Train the model  \n",
    "\n",
    "5. Evaluate model performance on test data  \n",
    "\n",
    "6. Adjust hyperparameters (if necessary, network architecture)"
   ]
  },
  {
   "cell_type": "markdown",
   "id": "b6e503bd",
   "metadata": {
    "editable": true
   },
   "source": [
    "## Collect and pre-process data\n",
    "\n",
    "Here we will be using the MNIST dataset, which is readily available through the **scikit-learn**\n",
    "package. You may also find it for example [here](http://yann.lecun.com/exdb/mnist/).  \n",
    "The *MNIST* (Modified National Institute of Standards and Technology) database is a large database\n",
    "of handwritten digits that is commonly used for training various image processing systems.  \n",
    "The MNIST dataset consists of 70 000 images of size $28\\times 28$ pixels, each labeled from 0 to 9.  \n",
    "The scikit-learn dataset we will use consists of a selection of 1797 images of size $8\\times 8$ collected and processed from this database.  \n",
    "\n",
    "To feed data into a feed-forward neural network we need to represent\n",
    "the inputs as a design/feature matrix $X = (n_{inputs}, n_{features})$.  Each\n",
    "row represents an *input*, in this case a handwritten digit, and\n",
    "each column represents a *feature*, in this case a pixel.  The\n",
    "correct answers, also known as *labels* or *targets* are\n",
    "represented as a 1D array of integers \n",
    "$Y = (n_{inputs}) = (5, 3, 1, 8,...)$.\n",
    "\n",
    "As an example, say we want to build a neural network using supervised learning to predict Body-Mass Index (BMI) from\n",
    "measurements of height (in m)  \n",
    "and weight (in kg). If we have measurements of 5 people the design/feature matrix could be for example:  \n",
    "\n",
    "$$ X = \\begin{bmatrix}\n",
    "1.85 & 81\\\\\n",
    "1.71 & 65\\\\\n",
    "1.95 & 103\\\\\n",
    "1.55 & 42\\\\\n",
    "1.63 & 56\n",
    "\\end{bmatrix} ,$$  \n",
    "\n",
    "and the targets would be:  \n",
    "\n",
    "$$ Y = (23.7, 22.2, 27.1, 17.5, 21.1) $$  \n",
    "\n",
    "Since each input image is a 2D matrix, we need to flatten the image\n",
    "(i.e. \"unravel\" the 2D matrix into a 1D array) to turn the data into a\n",
    "design/feature matrix. This means we lose all spatial information in the\n",
    "image, such as locality and translational invariance. More complicated\n",
    "architectures such as Convolutional Neural Networks can take advantage\n",
    "of such information, and are most commonly applied when analyzing\n",
    "images."
   ]
  },
  {
   "cell_type": "code",
   "execution_count": 2,
   "id": "54230ef9",
   "metadata": {
    "collapsed": false,
    "editable": true,
    "jupyter": {
     "outputs_hidden": false
    }
   },
   "outputs": [
    {
     "name": "stdout",
     "output_type": "stream",
     "text": [
      "inputs = (n_inputs, pixel_width, pixel_height) = (1797, 8, 8)\n",
      "labels = (n_inputs) = (1797,)\n",
      "X = (n_inputs, n_features) = (1797, 64)\n"
     ]
    },
    {
     "data": {
      "image/png": "[encoded data removed]",
      "text/plain": [
       "<Figure size 1200x1200 with 5 Axes>"
      ]
     },
     "metadata": {},
     "output_type": "display_data"
    }
   ],
   "source": [
    "# import necessary packages\n",
    "import numpy as np\n",
    "import matplotlib.pyplot as plt\n",
    "from sklearn import datasets\n",
    "\n",
    "\n",
    "# ensure the same random numbers appear every time\n",
    "np.random.seed(0)\n",
    "\n",
    "# display images in notebook\n",
    "%matplotlib inline\n",
    "plt.rcParams['figure.figsize'] = (12,12)\n",
    "\n",
    "\n",
    "# download MNIST dataset\n",
    "digits = datasets.load_digits()\n",
    "\n",
    "# define inputs and labels\n",
    "inputs = digits.images\n",
    "labels = digits.target\n",
    "\n",
    "print(\"inputs = (n_inputs, pixel_width, pixel_height) = \" + str(inputs.shape))\n",
    "print(\"labels = (n_inputs) = \" + str(labels.shape))\n",
    "\n",
    "\n",
    "# flatten the image\n",
    "# the value -1 means dimension is inferred from the remaining dimensions: 8x8 = 64\n",
    "n_inputs = len(inputs)\n",
    "inputs = inputs.reshape(n_inputs, -1)\n",
    "print(\"X = (n_inputs, n_features) = \" + str(inputs.shape))\n",
    "\n",
    "\n",
    "# choose some random images to display\n",
    "indices = np.arange(n_inputs)\n",
    "random_indices = np.random.choice(indices, size=5)\n",
    "\n",
    "for i, image in enumerate(digits.images[random_indices]):\n",
    "    plt.subplot(1, 5, i+1)\n",
    "    plt.axis('off')\n",
    "    plt.imshow(image, cmap=plt.cm.gray_r, interpolation='nearest')\n",
    "    plt.title(\"Label: %d\" % digits.target[random_indices[i]])\n",
    "plt.show()"
   ]
  },
  {
   "cell_type": "markdown",
   "id": "6738e7b4",
   "metadata": {
    "editable": true
   },
   "source": [
    "## Train and test datasets\n",
    "\n",
    "Performing analysis before partitioning the dataset is a major error, that can lead to incorrect conclusions.  \n",
    "\n",
    "We will reserve $80 \\%$ of our dataset for training and $20 \\%$ for testing.  \n",
    "\n",
    "It is important that the train and test datasets are drawn randomly from our dataset, to ensure\n",
    "no bias in the sampling.  \n",
    "Say you are taking measurements of weather data to predict the weather in the coming 5 days.\n",
    "You don't want to train your model on measurements taken from the hours 00.00 to 12.00, and then test it on data\n",
    "collected from 12.00 to 24.00."
   ]
  },
  {
   "cell_type": "code",
   "execution_count": 3,
   "id": "f369aa9d",
   "metadata": {
    "collapsed": false,
    "editable": true,
    "jupyter": {
     "outputs_hidden": false
    }
   },
   "outputs": [
    {
     "name": "stdout",
     "output_type": "stream",
     "text": [
      "Number of training images: 1437\n",
      "Number of test images: 360\n"
     ]
    }
   ],
   "source": [
    "from sklearn.model_selection import train_test_split\n",
    "\n",
    "# one-liner from scikit-learn library\n",
    "train_size = 0.8\n",
    "test_size = 1 - train_size\n",
    "X_train, X_test, Y_train, Y_test = train_test_split(inputs, labels, train_size=train_size,\n",
    "                                                    test_size=test_size)\n",
    "\n",
    "# equivalently in numpy\n",
    "def train_test_split_numpy(inputs, labels, train_size, test_size):\n",
    "    n_inputs = len(inputs)\n",
    "    inputs_shuffled = inputs.copy()\n",
    "    labels_shuffled = labels.copy()\n",
    "    \n",
    "    np.random.shuffle(inputs_shuffled)\n",
    "    np.random.shuffle(labels_shuffled)\n",
    "    \n",
    "    train_end = int(n_inputs*train_size)\n",
    "    X_train, X_test = inputs_shuffled[:train_end], inputs_shuffled[train_end:]\n",
    "    Y_train, Y_test = labels_shuffled[:train_end], labels_shuffled[train_end:]\n",
    "    \n",
    "    return X_train, X_test, Y_train, Y_test\n",
    "\n",
    "#X_train, X_test, Y_train, Y_test = train_test_split_numpy(inputs, labels, train_size, test_size)\n",
    "\n",
    "print(\"Number of training images: \" + str(len(X_train)))\n",
    "print(\"Number of test images: \" + str(len(X_test)))"
   ]
  },
  {
   "cell_type": "markdown",
   "id": "f8bf8d16",
   "metadata": {
    "editable": true
   },
   "source": [
    "## Define model and architecture\n",
    "\n",
    "Our simple feed-forward neural network will consist of an *input* layer, a single *hidden* layer and an *output* layer. The activation $y$ of each neuron is a weighted sum of inputs, passed through an activation function. In case of the simple perceptron model we have \n",
    "\n",
    "$$ z = \\sum_{i=1}^n w_i a_i ,$$\n",
    "\n",
    "$$ y = f(z) ,$$\n",
    "\n",
    "where $f$ is the activation function, $a_i$ represents input from neuron $i$ in the preceding layer\n",
    "and $w_i$ is the weight to input $i$.  \n",
    "The activation of the neurons in the input layer is just the features (e.g. a pixel value).  \n",
    "\n",
    "The simplest activation function for a neuron is the *Heaviside* function:\n",
    "\n",
    "$$ f(z) = \n",
    "\\begin{cases}\n",
    "1,  &  z > 0\\\\\n",
    "0,  & \\text{otherwise}\n",
    "\\end{cases}\n",
    "$$\n",
    "\n",
    "A feed-forward neural network with this activation is known as a *perceptron*.  \n",
    "For a binary classifier (i.e. two classes, 0 or 1, dog or not-dog) we can also use this in our output layer.  \n",
    "This activation can be generalized to $k$ classes (using e.g. the *one-against-all* strategy), \n",
    "and we call these architectures *multiclass perceptrons*.  \n",
    "\n",
    "However, it is now common to use the terms Single Layer Perceptron (SLP) (1 hidden layer) and  \n",
    "Multilayer Perceptron (MLP) (2 or more hidden layers) to refer to feed-forward neural networks with any activation function.  \n",
    "\n",
    "Typical choices for activation functions include the sigmoid function, hyperbolic tangent, and Rectified Linear Unit (ReLU).  \n",
    "We will be using the sigmoid function $\\sigma(x)$:  \n",
    "\n",
    "$$ f(x) = \\sigma(x) = \\frac{1}{1 + e^{-x}} ,$$\n",
    "\n",
    "which is inspired by probability theory (see logistic regression) and was most commonly used until about 2011. See the discussion below concerning other activation functions."
   ]
  },
  {
   "cell_type": "markdown",
   "id": "112b8cc3",
   "metadata": {
    "editable": true
   },
   "source": [
    "## Layers\n",
    "\n",
    "* Input \n",
    "\n",
    "Since each input image has 8x8 = 64 pixels or features, we have an input layer of 64 neurons.  \n",
    "\n",
    "* Hidden layer\n",
    "\n",
    "We will use 50 neurons in the hidden layer receiving input from the neurons in the input layer.  \n",
    "Since each neuron in the hidden layer is connected to the 64 inputs we have 64x50 = 3200 weights to the hidden layer.  \n",
    "\n",
    "* Output\n",
    "\n",
    "If we were building a binary classifier, it would be sufficient with a single neuron in the output layer,\n",
    "which could output 0 or 1 according to the Heaviside function. This would be an example of a *hard* classifier, meaning it outputs the class of the input directly. However, if we are dealing with noisy data it is often beneficial to use a *soft* classifier, which outputs the probability of being in class 0 or 1.  \n",
    "\n",
    "For a soft binary classifier, we could use a single neuron and interpret the output as either being the probability of being in class 0 or the probability of being in class 1. Alternatively we could use 2 neurons, and interpret each neuron as the probability of being in each class.  \n",
    "\n",
    "Since we are doing multiclass classification, with 10 categories, it is natural to use 10 neurons in the output layer. We number the neurons $j = 0,1,...,9$. The activation of each output neuron $j$ will be according to the *softmax* function:  \n",
    "\n",
    "$$ P(\\text{class $j$} \\mid \\text{input $\\boldsymbol{a}$}) = \\frac{\\exp{(\\boldsymbol{a}^T \\boldsymbol{w}_j)}}\n",
    "{\\sum_{c=0}^{9} \\exp{(\\boldsymbol{a}^T \\boldsymbol{w}_c)}} ,$$  \n",
    "\n",
    "i.e. each neuron $j$ outputs the probability of being in class $j$ given an input from the hidden layer $\\boldsymbol{a}$, with $\\boldsymbol{w}_j$ the weights of neuron $j$ to the inputs.  \n",
    "The denominator is a normalization factor to ensure the outputs (probabilities) sum up to 1.  \n",
    "The exponent is just the weighted sum of inputs as before:  \n",
    "\n",
    "$$ z_j = \\sum_{i=1}^n w_ {ij} a_i+b_j.$$  \n",
    "\n",
    "Since each neuron in the output layer is connected to the 50 inputs from the hidden layer we have 50x10 = 500\n",
    "weights to the output layer."
   ]
  },
  {
   "cell_type": "markdown",
   "id": "e4166103",
   "metadata": {
    "editable": true
   },
   "source": [
    "## Weights and biases\n",
    "\n",
    "Typically weights are initialized with small values distributed around zero, drawn from a uniform\n",
    "or normal distribution. Setting all weights to zero means all neurons give the same output, making the network useless.  \n",
    "\n",
    "Adding a bias value to the weighted sum of inputs allows the neural network to represent a greater range\n",
    "of values. Without it, any input with the value 0 will be mapped to zero (before being passed through the activation). The bias unit has an output of 1, and a weight to each neuron $j$, $b_j$:  \n",
    "\n",
    "$$ z_j = \\sum_{i=1}^n w_ {ij} a_i + b_j.$$  \n",
    "\n",
    "The bias weights $\\boldsymbol{b}$ are often initialized to zero, but a small value like $0.01$ ensures all neurons have some output which can be backpropagated in the first training cycle."
   ]
  },
  {
   "cell_type": "code",
   "execution_count": 4,
   "id": "36399cb5",
   "metadata": {
    "collapsed": false,
    "editable": true,
    "jupyter": {
     "outputs_hidden": false
    }
   },
   "outputs": [],
   "source": [
    "# building our neural network\n",
    "\n",
    "n_inputs, n_features = X_train.shape\n",
    "n_hidden_neurons = 50\n",
    "n_categories = 10\n",
    "\n",
    "# we make the weights normally distributed using numpy.random.randn\n",
    "\n",
    "# weights and bias in the hidden layer\n",
    "hidden_weights = np.random.randn(n_features, n_hidden_neurons)\n",
    "hidden_bias = np.zeros(n_hidden_neurons) + 0.01\n",
    "\n",
    "# weights and bias in the output layer\n",
    "output_weights = np.random.randn(n_hidden_neurons, n_categories)\n",
    "output_bias = np.zeros(n_categories) + 0.01"
   ]
  },
  {
   "cell_type": "markdown",
   "id": "5eaf095b",
   "metadata": {
    "editable": true
   },
   "source": [
    "## Feed-forward pass\n",
    "\n",
    "Denote $F$ the number of features, $H$ the number of hidden neurons and $C$ the number of categories.  \n",
    "For each input image we calculate a weighted sum of input features (pixel values) to each neuron $j$ in the hidden layer $l$:  \n",
    "\n",
    "$$ z_{j}^{l} = \\sum_{i=1}^{F} w_{ij}^{l} x_i + b_{j}^{l},$$\n",
    "\n",
    "this is then passed through our activation function  \n",
    "\n",
    "$$ a_{j}^{l} = f(z_{j}^{l}) .$$  \n",
    "\n",
    "We calculate a weighted sum of inputs (activations in the hidden layer) to each neuron $j$ in the output layer:  \n",
    "\n",
    "$$ z_{j}^{L} = \\sum_{i=1}^{H} w_{ij}^{L} a_{i}^{l} + b_{j}^{L}.$$  \n",
    "\n",
    "Finally we calculate the output of neuron $j$ in the output layer using the softmax function:  \n",
    "\n",
    "$$ a_{j}^{L} = \\frac{\\exp{(z_j^{L})}}\n",
    "{\\sum_{c=0}^{C-1} \\exp{(z_c^{L})}} .$$"
   ]
  },
  {
   "cell_type": "markdown",
   "id": "91eec6b8",
   "metadata": {
    "editable": true
   },
   "source": [
    "## Matrix multiplications\n",
    "\n",
    "Since our data has the dimensions $X = (n_{inputs}, n_{features})$ and our weights to the hidden\n",
    "layer have the dimensions  \n",
    "$W_{hidden} = (n_{features}, n_{hidden})$,\n",
    "we can easily feed the network all our training data in one go by taking the matrix product  \n",
    "\n",
    "$$ X W^{h} = (n_{inputs}, n_{hidden}),$$ \n",
    "\n",
    "and obtain a matrix that holds the weighted sum of inputs to the hidden layer\n",
    "for each input image and each hidden neuron.    \n",
    "We also add the bias to obtain a matrix of weighted sums to the hidden layer $Z^{h}$:  \n",
    "\n",
    "$$ \\boldsymbol{z}^{l} = \\boldsymbol{X} \\boldsymbol{W}^{l} + \\boldsymbol{b}^{l} ,$$\n",
    "\n",
    "meaning the same bias (1D array with size equal number of hidden neurons) is added to each input image.  \n",
    "This is then passed through the activation:  \n",
    "\n",
    "$$ \\boldsymbol{a}^{l} = f(\\boldsymbol{z}^l) .$$  \n",
    "\n",
    "This is fed to the output layer:  \n",
    "\n",
    "$$ \\boldsymbol{z}^{L} = \\boldsymbol{a}^{L} \\boldsymbol{W}^{L} + \\boldsymbol{b}^{L} .$$\n",
    "\n",
    "Finally we receive our output values for each image and each category by passing it through the softmax function:  \n",
    "\n",
    "$$ output = softmax (\\boldsymbol{z}^{L}) = (n_{inputs}, n_{categories}) .$$"
   ]
  },
  {
   "cell_type": "code",
   "execution_count": 5,
   "id": "ef497434",
   "metadata": {
    "collapsed": false,
    "editable": true,
    "jupyter": {
     "outputs_hidden": false
    }
   },
   "outputs": [
    {
     "name": "stdout",
     "output_type": "stream",
     "text": [
      "probabilities = (n_inputs, n_categories) = (1437, 10)\n",
      "probability that image 0 is in category 0,1,2,...,9 = \n",
      "[5.41511965e-04 2.17174962e-03 8.84355903e-03 1.44970586e-03\n",
      " 1.10378326e-04 5.08318298e-09 2.03256632e-04 1.92507116e-03\n",
      " 9.84443254e-01 3.11507992e-04]\n",
      "probabilities sum up to: 1.0\n",
      "\n",
      "predictions = (n_inputs) = (1437,)\n",
      "prediction for image 0: 8\n",
      "correct label for image 0: 6\n"
     ]
    }
   ],
   "source": [
    "# setup the feed-forward pass, subscript h = hidden layer\n",
    "\n",
    "def sigmoid(x):\n",
    "    return 1/(1 + np.exp(-x))\n",
    "\n",
    "def feed_forward(X):\n",
    "    # weighted sum of inputs to the hidden layer\n",
    "    z_h = np.matmul(X, hidden_weights) + hidden_bias\n",
    "    # activation in the hidden layer\n",
    "    a_h = sigmoid(z_h)\n",
    "    \n",
    "    # weighted sum of inputs to the output layer\n",
    "    z_o = np.matmul(a_h, output_weights) + output_bias\n",
    "    # softmax output\n",
    "    # axis 0 holds each input and axis 1 the probabilities of each category\n",
    "    exp_term = np.exp(z_o)\n",
    "    probabilities = exp_term / np.sum(exp_term, axis=1, keepdims=True)\n",
    "    \n",
    "    return probabilities\n",
    "\n",
    "probabilities = feed_forward(X_train)\n",
    "print(\"probabilities = (n_inputs, n_categories) = \" + str(probabilities.shape))\n",
    "print(\"probability that image 0 is in category 0,1,2,...,9 = \\n\" + str(probabilities[0]))\n",
    "print(\"probabilities sum up to: \" + str(probabilities[0].sum()))\n",
    "print()\n",
    "\n",
    "# we obtain a prediction by taking the class with the highest likelihood\n",
    "def predict(X):\n",
    "    probabilities = feed_forward(X)\n",
    "    return np.argmax(probabilities, axis=1)\n",
    "\n",
    "predictions = predict(X_train)\n",
    "print(\"predictions = (n_inputs) = \" + str(predictions.shape))\n",
    "print(\"prediction for image 0: \" + str(predictions[0]))\n",
    "print(\"correct label for image 0: \" + str(Y_train[0]))"
   ]
  },
  {
   "cell_type": "markdown",
   "id": "ab88238a",
   "metadata": {
    "editable": true
   },
   "source": [
    "## Choose cost function and optimizer\n",
    "\n",
    "To measure how well our neural network is doing we need to introduce a cost function.  \n",
    "We will call the function that gives the error of a single sample output the *loss* function, and the function\n",
    "that gives the total error of our network across all samples the *cost* function.\n",
    "A typical choice for multiclass classification is the *cross-entropy* loss, also known as the negative log likelihood.  \n",
    "\n",
    "In *multiclass* classification it is common to treat each integer label as a so called *one-hot* vector:  \n",
    "\n",
    "$$ y = 5 \\quad \\rightarrow \\quad \\boldsymbol{y} = (0, 0, 0, 0, 0, 1, 0, 0, 0, 0) ,$$  \n",
    "\n",
    "$$ y = 1 \\quad \\rightarrow \\quad \\boldsymbol{y} = (0, 1, 0, 0, 0, 0, 0, 0, 0, 0) ,$$  \n",
    "\n",
    "i.e. a binary bit string of length $C$, where $C = 10$ is the number of classes in the MNIST dataset.  \n",
    "\n",
    "Let $y_{ic}$ denote the $c$-th component of the $i$-th one-hot vector.  \n",
    "We define the cost function $\\mathcal{C}$ as a sum over the cross-entropy loss for each point $\\boldsymbol{x}_i$ in the dataset.\n",
    "\n",
    "In the one-hot representation only one of the terms in the loss function is non-zero, namely the\n",
    "probability of the correct category $c'$  \n",
    "(i.e. the category $c'$ such that $y_{ic'} = 1$). This means that the cross entropy loss only punishes you for how wrong\n",
    "you got the correct label. The probability of category $c$ is given by the softmax function. The vector $\\boldsymbol{\\theta}$ represents the parameters of our network, i.e. all the weights and biases."
   ]
  },
  {
   "cell_type": "markdown",
   "id": "506145ff",
   "metadata": {
    "editable": true
   },
   "source": [
    "## Optimizing the cost function\n",
    "\n",
    "The network is trained by finding the weights and biases that minimize the cost function. One of the most widely used classes of methods is *gradient descent* and its generalizations. The idea behind gradient descent\n",
    "is simply to adjust the weights in the direction where the gradient of the cost function is large and negative. This ensures we flow toward a *local* minimum of the cost function.  \n",
    "Each parameter $\\theta$ is iteratively adjusted according to the rule  \n",
    "\n",
    "$$ \\theta_{i+1} = \\theta_i - \\eta \\nabla \\mathcal{C}(\\theta_i) ,$$\n",
    "\n",
    "where $\\eta$ is known as the *learning rate*, which controls how big a step we take towards the minimum.  \n",
    "This update can be repeated for any number of iterations, or until we are satisfied with the result.  \n",
    "\n",
    "A simple and effective improvement is a variant called *Batch Gradient Descent*.  \n",
    "Instead of calculating the gradient on the whole dataset, we calculate an approximation of the gradient\n",
    "on a subset of the data called a *minibatch*.  \n",
    "If there are $N$ data points and we have a minibatch size of $M$, the total number of batches\n",
    "is $N/M$.  \n",
    "We denote each minibatch $B_k$, with $k = 1, 2,...,N/M$. The gradient then becomes:  \n",
    "\n",
    "$$ \\nabla \\mathcal{C}(\\theta) = \\frac{1}{N} \\sum_{i=1}^N \\nabla \\mathcal{L}_i(\\theta) \\quad \\rightarrow \\quad\n",
    "\\frac{1}{M} \\sum_{i \\in B_k} \\nabla \\mathcal{L}_i(\\theta) ,$$\n",
    "\n",
    "i.e. instead of averaging the loss over the entire dataset, we average over a minibatch.  \n",
    "\n",
    "This has two important benefits:  \n",
    "1. Introducing stochasticity decreases the chance that the algorithm becomes stuck in a local minima.  \n",
    "\n",
    "2. It significantly speeds up the calculation, since we do not have to use the entire dataset to calculate the gradient.  \n",
    "\n",
    "The various optmization  methods, with codes and algorithms,  are discussed in our lectures on [Gradient descent approaches](https://compphysics.github.io/MachineLearning/doc/pub/Splines/html/Splines-bs.html)."
   ]
  },
  {
   "cell_type": "markdown",
   "id": "e8138025",
   "metadata": {
    "editable": true
   },
   "source": [
    "## Regularization\n",
    "\n",
    "It is common to add an extra term to the cost function, proportional\n",
    "to the size of the weights.  This is equivalent to constraining the\n",
    "size of the weights, so that they do not grow out of control.\n",
    "Constraining the size of the weights means that the weights cannot\n",
    "grow arbitrarily large to fit the training data, and in this way\n",
    "reduces *overfitting*.\n",
    "\n",
    "We will measure the size of the weights using the so called *L2-norm*, meaning our cost function becomes:  \n",
    "\n",
    "$$  \\mathcal{C}(\\theta) = \\frac{1}{N} \\sum_{i=1}^N \\mathcal{L}_i(\\theta) \\quad \\rightarrow \\quad\n",
    "\\frac{1}{N} \\sum_{i=1}^N  \\mathcal{L}_i(\\theta) + \\lambda \\lvert \\lvert \\boldsymbol{w} \\rvert \\rvert_2^2 \n",
    "= \\frac{1}{N} \\sum_{i=1}^N  \\mathcal{L}(\\theta) + \\lambda \\sum_{ij} w_{ij}^2,$$  \n",
    "\n",
    "i.e. we sum up all the weights squared. The factor $\\lambda$ is known as a regularization parameter.\n",
    "\n",
    "In order to train the model, we need to calculate the derivative of\n",
    "the cost function with respect to every bias and weight in the\n",
    "network.  In total our network has $(64 + 1)\\times 50=3250$ weights in\n",
    "the hidden layer and $(50 + 1)\\times 10=510$ weights to the output\n",
    "layer ($+1$ for the bias), and the gradient must be calculated for\n",
    "every parameter.  We use the *backpropagation* algorithm discussed\n",
    "above. This is a clever use of the chain rule that allows us to\n",
    "calculate the gradient efficently."
   ]
  },
  {
   "cell_type": "markdown",
   "id": "25becf76",
   "metadata": {
    "editable": true
   },
   "source": [
    "## Matrix  multiplication\n",
    "\n",
    "To more efficently train our network these equations are implemented using matrix operations.  \n",
    "The error in the output layer is calculated simply as, with $\\boldsymbol{t}$ being our targets,  \n",
    "\n",
    "$$ \\delta_L = \\boldsymbol{t} - \\boldsymbol{y} = (n_{inputs}, n_{categories}) .$$  \n",
    "\n",
    "The gradient for the output weights is calculated as  \n",
    "\n",
    "$$ \\nabla W_{L} = \\boldsymbol{a}^T \\delta_L   = (n_{hidden}, n_{categories}) ,$$\n",
    "\n",
    "where $\\boldsymbol{a} = (n_{inputs}, n_{hidden})$. This simply means that we are summing up the gradients for each input.  \n",
    "Since we are going backwards we have to transpose the activation matrix.  \n",
    "\n",
    "The gradient with respect to the output bias is then  \n",
    "\n",
    "$$ \\nabla \\boldsymbol{b}_{L} = \\sum_{i=1}^{n_{inputs}} \\delta_L = (n_{categories}) .$$  \n",
    "\n",
    "The error in the hidden layer is  \n",
    "\n",
    "$$ \\Delta_h = \\delta_L W_{L}^T \\circ f'(z_{h}) = \\delta_L W_{L}^T \\circ a_{h} \\circ (1 - a_{h}) = (n_{inputs}, n_{hidden}) ,$$  \n",
    "\n",
    "where $f'(a_{h})$ is the derivative of the activation in the hidden layer. The matrix products mean\n",
    "that we are summing up the products for each neuron in the output layer. The symbol $\\circ$ denotes\n",
    "the *Hadamard product*, meaning element-wise multiplication.  \n",
    "\n",
    "This again gives us the gradients in the hidden layer:  \n",
    "\n",
    "$$ \\nabla W_{h} = X^T \\delta_h = (n_{features}, n_{hidden}) ,$$  \n",
    "\n",
    "$$ \\nabla b_{h} = \\sum_{i=1}^{n_{inputs}} \\delta_h = (n_{hidden}) .$$"
   ]
  },
  {
   "cell_type": "code",
   "execution_count": 6,
   "id": "657c604c",
   "metadata": {
    "collapsed": false,
    "editable": true,
    "jupyter": {
     "outputs_hidden": false
    }
   },
   "outputs": [
    {
     "name": "stdout",
     "output_type": "stream",
     "text": [
      "Old accuracy on training data: 0.1440501043841336\n"
     ]
    },
    {
     "name": "stderr",
     "output_type": "stream",
     "text": [
      "/var/folders/td/3yk470mj5p931p9dtkk0y6jw0000gn/T/ipykernel_10284/953065564.py:4: RuntimeWarning: overflow encountered in exp\n",
      "  return 1/(1 + np.exp(-x))\n"
     ]
    },
    {
     "name": "stdout",
     "output_type": "stream",
     "text": [
      "New accuracy on training data: 0.09951287404314545\n"
     ]
    }
   ],
   "source": [
    "# to categorical turns our integer vector into a onehot representation\n",
    "from sklearn.metrics import accuracy_score\n",
    "\n",
    "# one-hot in numpy\n",
    "def to_categorical_numpy(integer_vector):\n",
    "    n_inputs = len(integer_vector)\n",
    "    n_categories = np.max(integer_vector) + 1\n",
    "    onehot_vector = np.zeros((n_inputs, n_categories))\n",
    "    onehot_vector[range(n_inputs), integer_vector] = 1\n",
    "    \n",
    "    return onehot_vector\n",
    "\n",
    "#Y_train_onehot, Y_test_onehot = to_categorical(Y_train), to_categorical(Y_test)\n",
    "Y_train_onehot, Y_test_onehot = to_categorical_numpy(Y_train), to_categorical_numpy(Y_test)\n",
    "\n",
    "def feed_forward_train(X):\n",
    "    # weighted sum of inputs to the hidden layer\n",
    "    z_h = np.matmul(X, hidden_weights) + hidden_bias\n",
    "    # activation in the hidden layer\n",
    "    a_h = sigmoid(z_h)\n",
    "    \n",
    "    # weighted sum of inputs to the output layer\n",
    "    z_o = np.matmul(a_h, output_weights) + output_bias\n",
    "    # softmax output\n",
    "    # axis 0 holds each input and axis 1 the probabilities of each category\n",
    "    exp_term = np.exp(z_o)\n",
    "    probabilities = exp_term / np.sum(exp_term, axis=1, keepdims=True)\n",
    "    \n",
    "    # for backpropagation need activations in hidden and output layers\n",
    "    return a_h, probabilities\n",
    "\n",
    "def backpropagation(X, Y):\n",
    "    a_h, probabilities = feed_forward_train(X)\n",
    "    \n",
    "    # error in the output layer\n",
    "    error_output = probabilities - Y\n",
    "    # error in the hidden layer\n",
    "    error_hidden = np.matmul(error_output, output_weights.T) * a_h * (1 - a_h)\n",
    "    \n",
    "    # gradients for the output layer\n",
    "    output_weights_gradient = np.matmul(a_h.T, error_output)\n",
    "    output_bias_gradient = np.sum(error_output, axis=0)\n",
    "    \n",
    "    # gradient for the hidden layer\n",
    "    hidden_weights_gradient = np.matmul(X.T, error_hidden)\n",
    "    hidden_bias_gradient = np.sum(error_hidden, axis=0)\n",
    "\n",
    "    return output_weights_gradient, output_bias_gradient, hidden_weights_gradient, hidden_bias_gradient\n",
    "\n",
    "print(\"Old accuracy on training data: \" + str(accuracy_score(predict(X_train), Y_train)))\n",
    "\n",
    "eta = 0.01\n",
    "lmbd = 0.01\n",
    "for i in range(1000):\n",
    "    # calculate gradients\n",
    "    dWo, dBo, dWh, dBh = backpropagation(X_train, Y_train_onehot)\n",
    "    \n",
    "    # regularization term gradients\n",
    "    dWo += lmbd * output_weights\n",
    "    dWh += lmbd * hidden_weights\n",
    "    \n",
    "    # update weights and biases\n",
    "    output_weights -= eta * dWo\n",
    "    output_bias -= eta * dBo\n",
    "    hidden_weights -= eta * dWh\n",
    "    hidden_bias -= eta * dBh\n",
    "\n",
    "print(\"New accuracy on training data: \" + str(accuracy_score(predict(X_train), Y_train)))"
   ]
  },
  {
   "cell_type": "markdown",
   "id": "3c595805",
   "metadata": {
    "editable": true
   },
   "source": [
    "## Improving performance\n",
    "\n",
    "As we can see the network does not seem to be learning at all. It seems to be just guessing the label for each image.  \n",
    "In order to obtain a network that does something useful, we will have to do a bit more work.  \n",
    "\n",
    "The choice of *hyperparameters* such as learning rate and regularization parameter is hugely influential for the performance of the network. Typically a *grid-search* is performed, wherein we test different hyperparameters separated by orders of magnitude. For example we could test the learning rates $\\eta = 10^{-6}, 10^{-5},...,10^{-1}$ with different regularization parameters $\\lambda = 10^{-6},...,10^{-0}$.  \n",
    "\n",
    "Next, we haven't implemented minibatching yet, which introduces stochasticity and is though to act as an important regularizer on the weights. We call a feed-forward + backward pass with a minibatch an *iteration*, and a full training period\n",
    "going through the entire dataset ($n/M$ batches) an *epoch*.\n",
    "\n",
    "If this does not improve network performance, you may want to consider altering the network architecture, adding more neurons or hidden layers.  \n",
    "Andrew Ng goes through some of these considerations in this [video](https://youtu.be/F1ka6a13S9I). You can find a summary of the video [here](https://kevinzakka.github.io/2016/09/26/applying-deep-learning/)."
   ]
  },
  {
   "cell_type": "markdown",
   "id": "17d5f534",
   "metadata": {
    "editable": true
   },
   "source": [
    "## Full object-oriented implementation\n",
    "\n",
    "It is very natural to think of the network as an object, with specific instances of the network\n",
    "being realizations of this object with different hyperparameters. An implementation using Python classes provides a clean structure and interface, and the full implementation of our neural network is given below."
   ]
  },
  {
   "cell_type": "code",
   "execution_count": 7,
   "id": "5aeaa0cd",
   "metadata": {
    "collapsed": false,
    "editable": true,
    "jupyter": {
     "outputs_hidden": false
    }
   },
   "outputs": [],
   "source": [
    "class NeuralNetwork:\n",
    "    def __init__(\n",
    "            self,\n",
    "            X_data,\n",
    "            Y_data,\n",
    "            n_hidden_neurons=50,\n",
    "            n_categories=10,\n",
    "            epochs=10,\n",
    "            batch_size=100,\n",
    "            eta=0.1,\n",
    "            lmbd=0.0):\n",
    "\n",
    "        self.X_data_full = X_data\n",
    "        self.Y_data_full = Y_data\n",
    "\n",
    "        self.n_inputs = X_data.shape[0]\n",
    "        self.n_features = X_data.shape[1]\n",
    "        self.n_hidden_neurons = n_hidden_neurons\n",
    "        self.n_categories = n_categories\n",
    "\n",
    "        self.epochs = epochs\n",
    "        self.batch_size = batch_size\n",
    "        self.iterations = self.n_inputs // self.batch_size\n",
    "        self.eta = eta\n",
    "        self.lmbd = lmbd\n",
    "\n",
    "        self.create_biases_and_weights()\n",
    "\n",
    "    def create_biases_and_weights(self):\n",
    "        self.hidden_weights = np.random.randn(self.n_features, self.n_hidden_neurons)\n",
    "        self.hidden_bias = np.zeros(self.n_hidden_neurons) + 0.01\n",
    "\n",
    "        self.output_weights = np.random.randn(self.n_hidden_neurons, self.n_categories)\n",
    "        self.output_bias = np.zeros(self.n_categories) + 0.01\n",
    "\n",
    "    def feed_forward(self):\n",
    "        # feed-forward for training\n",
    "        self.z_h = np.matmul(self.X_data, self.hidden_weights) + self.hidden_bias\n",
    "        self.a_h = sigmoid(self.z_h)\n",
    "\n",
    "        self.z_o = np.matmul(self.a_h, self.output_weights) + self.output_bias\n",
    "\n",
    "        exp_term = np.exp(self.z_o)\n",
    "        self.probabilities = exp_term / np.sum(exp_term, axis=1, keepdims=True)\n",
    "\n",
    "    def feed_forward_out(self, X):\n",
    "        # feed-forward for output\n",
    "        z_h = np.matmul(X, self.hidden_weights) + self.hidden_bias\n",
    "        a_h = sigmoid(z_h)\n",
    "\n",
    "        z_o = np.matmul(a_h, self.output_weights) + self.output_bias\n",
    "        \n",
    "        exp_term = np.exp(z_o)\n",
    "        probabilities = exp_term / np.sum(exp_term, axis=1, keepdims=True)\n",
    "        return probabilities\n",
    "\n",
    "    def backpropagation(self):\n",
    "        error_output = self.probabilities - self.Y_data\n",
    "        error_hidden = np.matmul(error_output, self.output_weights.T) * self.a_h * (1 - self.a_h)\n",
    "\n",
    "        self.output_weights_gradient = np.matmul(self.a_h.T, error_output)\n",
    "        self.output_bias_gradient = np.sum(error_output, axis=0)\n",
    "\n",
    "        self.hidden_weights_gradient = np.matmul(self.X_data.T, error_hidden)\n",
    "        self.hidden_bias_gradient = np.sum(error_hidden, axis=0)\n",
    "\n",
    "        if self.lmbd > 0.0:\n",
    "            self.output_weights_gradient += self.lmbd * self.output_weights\n",
    "            self.hidden_weights_gradient += self.lmbd * self.hidden_weights\n",
    "\n",
    "        self.output_weights -= self.eta * self.output_weights_gradient\n",
    "        self.output_bias -= self.eta * self.output_bias_gradient\n",
    "        self.hidden_weights -= self.eta * self.hidden_weights_gradient\n",
    "        self.hidden_bias -= self.eta * self.hidden_bias_gradient\n",
    "\n",
    "    def predict(self, X):\n",
    "        probabilities = self.feed_forward_out(X)\n",
    "        return np.argmax(probabilities, axis=1)\n",
    "\n",
    "    def predict_probabilities(self, X):\n",
    "        probabilities = self.feed_forward_out(X)\n",
    "        return probabilities\n",
    "\n",
    "    def train(self):\n",
    "        data_indices = np.arange(self.n_inputs)\n",
    "\n",
    "        for i in range(self.epochs):\n",
    "            for j in range(self.iterations):\n",
    "                # pick datapoints with replacement\n",
    "                chosen_datapoints = np.random.choice(\n",
    "                    data_indices, size=self.batch_size, replace=False\n",
    "                )\n",
    "\n",
    "                # minibatch training data\n",
    "                self.X_data = self.X_data_full[chosen_datapoints]\n",
    "                self.Y_data = self.Y_data_full[chosen_datapoints]\n",
    "\n",
    "                self.feed_forward()\n",
    "                self.backpropagation()"
   ]
  },
  {
   "cell_type": "markdown",
   "id": "77f30e1e",
   "metadata": {
    "editable": true
   },
   "source": [
    "## Evaluate model performance on test data\n",
    "\n",
    "To measure the performance of our network we evaluate how well it does it data it has never seen before, i.e. the test data.  \n",
    "We measure the performance of the network using the *accuracy* score.  \n",
    "The accuracy is as you would expect just the number of images correctly labeled divided by the total number of images. A perfect classifier will have an accuracy score of $1$.  \n",
    "\n",
    "$$ \\text{Accuracy} = \\frac{\\sum_{i=1}^n I(\\tilde{y}_i = y_i)}{n} ,$$  \n",
    "\n",
    "where $I$ is the indicator function, $1$ if $\\tilde{y}_i = y_i$ and $0$ otherwise."
   ]
  },
  {
   "cell_type": "code",
   "execution_count": 8,
   "id": "c1ab41e1",
   "metadata": {
    "collapsed": false,
    "editable": true,
    "jupyter": {
     "outputs_hidden": false
    }
   },
   "outputs": [
    {
     "name": "stdout",
     "output_type": "stream",
     "text": [
      "Accuracy score on test set:  0.9444444444444444\n"
     ]
    }
   ],
   "source": [
    "epochs = 100\n",
    "batch_size = 100\n",
    "\n",
    "dnn = NeuralNetwork(X_train, Y_train_onehot, eta=eta, lmbd=lmbd, epochs=epochs, batch_size=batch_size,\n",
    "                    n_hidden_neurons=n_hidden_neurons, n_categories=n_categories)\n",
    "dnn.train()\n",
    "test_predict = dnn.predict(X_test)\n",
    "\n",
    "# accuracy score from scikit library\n",
    "print(\"Accuracy score on test set: \", accuracy_score(Y_test, test_predict))\n",
    "\n",
    "# equivalent in numpy\n",
    "def accuracy_score_numpy(Y_test, Y_pred):\n",
    "    return np.sum(Y_test == Y_pred) / len(Y_test)\n",
    "\n",
    "#print(\"Accuracy score on test set: \", accuracy_score_numpy(Y_test, test_predict))"
   ]
  },
  {
   "cell_type": "markdown",
   "id": "1b2b35c3",
   "metadata": {
    "editable": true
   },
   "source": [
    "## Adjust hyperparameters\n",
    "\n",
    "We now perform a grid search to find the optimal hyperparameters for the network.  \n",
    "Note that we are only using 1 layer with 50 neurons, and human performance is estimated to be around $98\\%$ ($2\\%$ error rate)."
   ]
  },
  {
   "cell_type": "code",
   "execution_count": 9,
   "id": "ac2ab4a6",
   "metadata": {
    "collapsed": false,
    "editable": true,
    "jupyter": {
     "outputs_hidden": false
    }
   },
   "outputs": [
    {
     "name": "stdout",
     "output_type": "stream",
     "text": [
      "Learning rate  =  1e-05\n",
      "Lambda =  1e-05\n",
      "Accuracy score on test set:  0.11666666666666667\n",
      "\n",
      "Learning rate  =  1e-05\n",
      "Lambda =  0.0001\n",
      "Accuracy score on test set:  0.20833333333333334\n",
      "\n",
      "Learning rate  =  1e-05\n",
      "Lambda =  0.001\n",
      "Accuracy score on test set:  0.12222222222222222\n",
      "\n",
      "Learning rate  =  1e-05\n",
      "Lambda =  0.01\n",
      "Accuracy score on test set:  0.14722222222222223\n",
      "\n",
      "Learning rate  =  1e-05\n",
      "Lambda =  0.1\n",
      "Accuracy score on test set:  0.17777777777777778\n",
      "\n",
      "Learning rate  =  1e-05\n",
      "Lambda =  1.0\n",
      "Accuracy score on test set:  0.16111111111111112\n",
      "\n",
      "Learning rate  =  1e-05\n",
      "Lambda =  10.0\n",
      "Accuracy score on test set:  0.20277777777777778\n",
      "\n",
      "Learning rate  =  0.0001\n",
      "Lambda =  1e-05\n",
      "Accuracy score on test set:  0.5305555555555556\n",
      "\n",
      "Learning rate  =  0.0001\n",
      "Lambda =  0.0001\n",
      "Accuracy score on test set:  0.5944444444444444\n",
      "\n",
      "Learning rate  =  0.0001\n",
      "Lambda =  0.001\n",
      "Accuracy score on test set:  0.5888888888888889\n",
      "\n",
      "Learning rate  =  0.0001\n",
      "Lambda =  0.01\n",
      "Accuracy score on test set:  0.6111111111111112\n",
      "\n",
      "Learning rate  =  0.0001\n",
      "Lambda =  0.1\n",
      "Accuracy score on test set:  0.5222222222222223\n",
      "\n",
      "Learning rate  =  0.0001\n",
      "Lambda =  1.0\n",
      "Accuracy score on test set:  0.5555555555555556\n",
      "\n",
      "Learning rate  =  0.0001\n",
      "Lambda =  10.0\n",
      "Accuracy score on test set:  0.8055555555555556\n",
      "\n",
      "Learning rate  =  0.001\n",
      "Lambda =  1e-05\n",
      "Accuracy score on test set:  0.85\n",
      "\n",
      "Learning rate  =  0.001\n",
      "Lambda =  0.0001\n",
      "Accuracy score on test set:  0.85\n",
      "\n",
      "Learning rate  =  0.001\n",
      "Lambda =  0.001\n",
      "Accuracy score on test set:  0.875\n",
      "\n",
      "Learning rate  =  0.001\n",
      "Lambda =  0.01\n",
      "Accuracy score on test set:  0.8666666666666667\n",
      "\n",
      "Learning rate  =  0.001\n",
      "Lambda =  0.1\n",
      "Accuracy score on test set:  0.8638888888888889\n",
      "\n",
      "Learning rate  =  0.001\n",
      "Lambda =  1.0\n",
      "Accuracy score on test set:  0.9555555555555556\n",
      "\n",
      "Learning rate  =  0.001\n",
      "Lambda =  10.0\n",
      "Accuracy score on test set:  0.925\n",
      "\n",
      "Learning rate  =  0.01\n",
      "Lambda =  1e-05\n",
      "Accuracy score on test set:  0.9472222222222222\n",
      "\n",
      "Learning rate  =  0.01\n",
      "Lambda =  0.0001\n",
      "Accuracy score on test set:  0.9277777777777778\n",
      "\n",
      "Learning rate  =  0.01\n",
      "Lambda =  0.001\n",
      "Accuracy score on test set:  0.9472222222222222\n",
      "\n",
      "Learning rate  =  0.01\n",
      "Lambda =  0.01\n",
      "Accuracy score on test set:  0.9305555555555556\n",
      "\n",
      "Learning rate  =  0.01\n",
      "Lambda =  0.1\n",
      "Accuracy score on test set:  0.9555555555555556\n",
      "\n",
      "Learning rate  =  0.01\n",
      "Lambda =  1.0\n",
      "Accuracy score on test set:  0.7694444444444445\n",
      "\n",
      "Learning rate  =  0.01\n",
      "Lambda =  10.0\n",
      "Accuracy score on test set:  0.19166666666666668\n",
      "\n"
     ]
    },
    {
     "name": "stderr",
     "output_type": "stream",
     "text": [
      "/var/folders/td/3yk470mj5p931p9dtkk0y6jw0000gn/T/ipykernel_10284/953065564.py:4: RuntimeWarning: overflow encountered in exp\n",
      "  return 1/(1 + np.exp(-x))\n"
     ]
    },
    {
     "name": "stdout",
     "output_type": "stream",
     "text": [
      "Learning rate  =  0.1\n",
      "Lambda =  1e-05\n",
      "Accuracy score on test set:  0.10555555555555556\n",
      "\n"
     ]
    },
    {
     "name": "stderr",
     "output_type": "stream",
     "text": [
      "/var/folders/td/3yk470mj5p931p9dtkk0y6jw0000gn/T/ipykernel_10284/953065564.py:4: RuntimeWarning: overflow encountered in exp\n",
      "  return 1/(1 + np.exp(-x))\n"
     ]
    },
    {
     "name": "stdout",
     "output_type": "stream",
     "text": [
      "Learning rate  =  0.1\n",
      "Lambda =  0.0001\n",
      "Accuracy score on test set:  0.08611111111111111\n",
      "\n"
     ]
    },
    {
     "name": "stderr",
     "output_type": "stream",
     "text": [
      "/var/folders/td/3yk470mj5p931p9dtkk0y6jw0000gn/T/ipykernel_10284/953065564.py:4: RuntimeWarning: overflow encountered in exp\n",
      "  return 1/(1 + np.exp(-x))\n"
     ]
    },
    {
     "name": "stdout",
     "output_type": "stream",
     "text": [
      "Learning rate  =  0.1\n",
      "Lambda =  0.001\n",
      "Accuracy score on test set:  0.10555555555555556\n",
      "\n"
     ]
    },
    {
     "name": "stderr",
     "output_type": "stream",
     "text": [
      "/var/folders/td/3yk470mj5p931p9dtkk0y6jw0000gn/T/ipykernel_10284/953065564.py:4: RuntimeWarning: overflow encountered in exp\n",
      "  return 1/(1 + np.exp(-x))\n"
     ]
    },
    {
     "name": "stdout",
     "output_type": "stream",
     "text": [
      "Learning rate  =  0.1\n",
      "Lambda =  0.01\n",
      "Accuracy score on test set:  0.08888888888888889\n",
      "\n"
     ]
    },
    {
     "name": "stderr",
     "output_type": "stream",
     "text": [
      "/var/folders/td/3yk470mj5p931p9dtkk0y6jw0000gn/T/ipykernel_10284/953065564.py:4: RuntimeWarning: overflow encountered in exp\n",
      "  return 1/(1 + np.exp(-x))\n"
     ]
    },
    {
     "name": "stdout",
     "output_type": "stream",
     "text": [
      "Learning rate  =  0.1\n",
      "Lambda =  0.1\n",
      "Accuracy score on test set:  0.08611111111111111\n",
      "\n"
     ]
    },
    {
     "name": "stderr",
     "output_type": "stream",
     "text": [
      "/var/folders/td/3yk470mj5p931p9dtkk0y6jw0000gn/T/ipykernel_10284/953065564.py:4: RuntimeWarning: overflow encountered in exp\n",
      "  return 1/(1 + np.exp(-x))\n"
     ]
    },
    {
     "name": "stdout",
     "output_type": "stream",
     "text": [
      "Learning rate  =  0.1\n",
      "Lambda =  1.0\n",
      "Accuracy score on test set:  0.08888888888888889\n",
      "\n"
     ]
    },
    {
     "name": "stderr",
     "output_type": "stream",
     "text": [
      "/var/folders/td/3yk470mj5p931p9dtkk0y6jw0000gn/T/ipykernel_10284/953065564.py:4: RuntimeWarning: overflow encountered in exp\n",
      "  return 1/(1 + np.exp(-x))\n"
     ]
    },
    {
     "name": "stdout",
     "output_type": "stream",
     "text": [
      "Learning rate  =  0.1\n",
      "Lambda =  10.0\n",
      "Accuracy score on test set:  0.09166666666666666\n",
      "\n"
     ]
    },
    {
     "name": "stderr",
     "output_type": "stream",
     "text": [
      "/var/folders/td/3yk470mj5p931p9dtkk0y6jw0000gn/T/ipykernel_10284/953065564.py:4: RuntimeWarning: overflow encountered in exp\n",
      "  return 1/(1 + np.exp(-x))\n",
      "/var/folders/td/3yk470mj5p931p9dtkk0y6jw0000gn/T/ipykernel_10284/1630775253.py:43: RuntimeWarning: overflow encountered in exp\n",
      "  exp_term = np.exp(self.z_o)\n",
      "/var/folders/td/3yk470mj5p931p9dtkk0y6jw0000gn/T/ipykernel_10284/1630775253.py:44: RuntimeWarning: invalid value encountered in true_divide\n",
      "  self.probabilities = exp_term / np.sum(exp_term, axis=1, keepdims=True)\n"
     ]
    },
    {
     "name": "stdout",
     "output_type": "stream",
     "text": [
      "Learning rate  =  1.0\n",
      "Lambda =  1e-05\n",
      "Accuracy score on test set:  0.07777777777777778\n",
      "\n"
     ]
    },
    {
     "name": "stderr",
     "output_type": "stream",
     "text": [
      "/var/folders/td/3yk470mj5p931p9dtkk0y6jw0000gn/T/ipykernel_10284/953065564.py:4: RuntimeWarning: overflow encountered in exp\n",
      "  return 1/(1 + np.exp(-x))\n",
      "/var/folders/td/3yk470mj5p931p9dtkk0y6jw0000gn/T/ipykernel_10284/1630775253.py:43: RuntimeWarning: overflow encountered in exp\n",
      "  exp_term = np.exp(self.z_o)\n",
      "/var/folders/td/3yk470mj5p931p9dtkk0y6jw0000gn/T/ipykernel_10284/1630775253.py:44: RuntimeWarning: invalid value encountered in true_divide\n",
      "  self.probabilities = exp_term / np.sum(exp_term, axis=1, keepdims=True)\n"
     ]
    },
    {
     "name": "stdout",
     "output_type": "stream",
     "text": [
      "Learning rate  =  1.0\n",
      "Lambda =  0.0001\n",
      "Accuracy score on test set:  0.07777777777777778\n",
      "\n"
     ]
    },
    {
     "name": "stderr",
     "output_type": "stream",
     "text": [
      "/var/folders/td/3yk470mj5p931p9dtkk0y6jw0000gn/T/ipykernel_10284/953065564.py:4: RuntimeWarning: overflow encountered in exp\n",
      "  return 1/(1 + np.exp(-x))\n",
      "/var/folders/td/3yk470mj5p931p9dtkk0y6jw0000gn/T/ipykernel_10284/1630775253.py:43: RuntimeWarning: overflow encountered in exp\n",
      "  exp_term = np.exp(self.z_o)\n",
      "/var/folders/td/3yk470mj5p931p9dtkk0y6jw0000gn/T/ipykernel_10284/1630775253.py:44: RuntimeWarning: invalid value encountered in true_divide\n",
      "  self.probabilities = exp_term / np.sum(exp_term, axis=1, keepdims=True)\n"
     ]
    },
    {
     "name": "stdout",
     "output_type": "stream",
     "text": [
      "Learning rate  =  1.0\n",
      "Lambda =  0.001\n",
      "Accuracy score on test set:  0.07777777777777778\n",
      "\n"
     ]
    },
    {
     "name": "stderr",
     "output_type": "stream",
     "text": [
      "/var/folders/td/3yk470mj5p931p9dtkk0y6jw0000gn/T/ipykernel_10284/953065564.py:4: RuntimeWarning: overflow encountered in exp\n",
      "  return 1/(1 + np.exp(-x))\n",
      "/var/folders/td/3yk470mj5p931p9dtkk0y6jw0000gn/T/ipykernel_10284/1630775253.py:43: RuntimeWarning: overflow encountered in exp\n",
      "  exp_term = np.exp(self.z_o)\n",
      "/var/folders/td/3yk470mj5p931p9dtkk0y6jw0000gn/T/ipykernel_10284/1630775253.py:44: RuntimeWarning: invalid value encountered in true_divide\n",
      "  self.probabilities = exp_term / np.sum(exp_term, axis=1, keepdims=True)\n"
     ]
    },
    {
     "name": "stdout",
     "output_type": "stream",
     "text": [
      "Learning rate  =  1.0\n",
      "Lambda =  0.01\n",
      "Accuracy score on test set:  0.07777777777777778\n",
      "\n"
     ]
    },
    {
     "name": "stderr",
     "output_type": "stream",
     "text": [
      "/var/folders/td/3yk470mj5p931p9dtkk0y6jw0000gn/T/ipykernel_10284/953065564.py:4: RuntimeWarning: overflow encountered in exp\n",
      "  return 1/(1 + np.exp(-x))\n",
      "/var/folders/td/3yk470mj5p931p9dtkk0y6jw0000gn/T/ipykernel_10284/1630775253.py:43: RuntimeWarning: overflow encountered in exp\n",
      "  exp_term = np.exp(self.z_o)\n",
      "/var/folders/td/3yk470mj5p931p9dtkk0y6jw0000gn/T/ipykernel_10284/1630775253.py:44: RuntimeWarning: invalid value encountered in true_divide\n",
      "  self.probabilities = exp_term / np.sum(exp_term, axis=1, keepdims=True)\n"
     ]
    },
    {
     "name": "stdout",
     "output_type": "stream",
     "text": [
      "Learning rate  =  1.0\n",
      "Lambda =  0.1\n",
      "Accuracy score on test set:  0.07777777777777778\n",
      "\n"
     ]
    },
    {
     "name": "stderr",
     "output_type": "stream",
     "text": [
      "/var/folders/td/3yk470mj5p931p9dtkk0y6jw0000gn/T/ipykernel_10284/953065564.py:4: RuntimeWarning: overflow encountered in exp\n",
      "  return 1/(1 + np.exp(-x))\n"
     ]
    },
    {
     "name": "stdout",
     "output_type": "stream",
     "text": [
      "Learning rate  =  1.0\n",
      "Lambda =  1.0\n",
      "Accuracy score on test set:  0.10555555555555556\n",
      "\n"
     ]
    },
    {
     "name": "stderr",
     "output_type": "stream",
     "text": [
      "/var/folders/td/3yk470mj5p931p9dtkk0y6jw0000gn/T/ipykernel_10284/953065564.py:4: RuntimeWarning: overflow encountered in exp\n",
      "  return 1/(1 + np.exp(-x))\n",
      "/var/folders/td/3yk470mj5p931p9dtkk0y6jw0000gn/T/ipykernel_10284/1630775253.py:43: RuntimeWarning: overflow encountered in exp\n",
      "  exp_term = np.exp(self.z_o)\n",
      "/var/folders/td/3yk470mj5p931p9dtkk0y6jw0000gn/T/ipykernel_10284/1630775253.py:44: RuntimeWarning: invalid value encountered in true_divide\n",
      "  self.probabilities = exp_term / np.sum(exp_term, axis=1, keepdims=True)\n"
     ]
    },
    {
     "name": "stdout",
     "output_type": "stream",
     "text": [
      "Learning rate  =  1.0\n",
      "Lambda =  10.0\n",
      "Accuracy score on test set:  0.07777777777777778\n",
      "\n"
     ]
    },
    {
     "name": "stderr",
     "output_type": "stream",
     "text": [
      "/var/folders/td/3yk470mj5p931p9dtkk0y6jw0000gn/T/ipykernel_10284/953065564.py:4: RuntimeWarning: overflow encountered in exp\n",
      "  return 1/(1 + np.exp(-x))\n",
      "/var/folders/td/3yk470mj5p931p9dtkk0y6jw0000gn/T/ipykernel_10284/1630775253.py:43: RuntimeWarning: overflow encountered in exp\n",
      "  exp_term = np.exp(self.z_o)\n",
      "/var/folders/td/3yk470mj5p931p9dtkk0y6jw0000gn/T/ipykernel_10284/1630775253.py:44: RuntimeWarning: invalid value encountered in true_divide\n",
      "  self.probabilities = exp_term / np.sum(exp_term, axis=1, keepdims=True)\n"
     ]
    },
    {
     "name": "stdout",
     "output_type": "stream",
     "text": [
      "Learning rate  =  10.0\n",
      "Lambda =  1e-05\n",
      "Accuracy score on test set:  0.07777777777777778\n",
      "\n"
     ]
    },
    {
     "name": "stderr",
     "output_type": "stream",
     "text": [
      "/var/folders/td/3yk470mj5p931p9dtkk0y6jw0000gn/T/ipykernel_10284/953065564.py:4: RuntimeWarning: overflow encountered in exp\n",
      "  return 1/(1 + np.exp(-x))\n",
      "/var/folders/td/3yk470mj5p931p9dtkk0y6jw0000gn/T/ipykernel_10284/1630775253.py:43: RuntimeWarning: overflow encountered in exp\n",
      "  exp_term = np.exp(self.z_o)\n",
      "/var/folders/td/3yk470mj5p931p9dtkk0y6jw0000gn/T/ipykernel_10284/1630775253.py:44: RuntimeWarning: invalid value encountered in true_divide\n",
      "  self.probabilities = exp_term / np.sum(exp_term, axis=1, keepdims=True)\n"
     ]
    },
    {
     "name": "stdout",
     "output_type": "stream",
     "text": [
      "Learning rate  =  10.0\n",
      "Lambda =  0.0001\n",
      "Accuracy score on test set:  0.07777777777777778\n",
      "\n"
     ]
    },
    {
     "name": "stderr",
     "output_type": "stream",
     "text": [
      "/var/folders/td/3yk470mj5p931p9dtkk0y6jw0000gn/T/ipykernel_10284/953065564.py:4: RuntimeWarning: overflow encountered in exp\n",
      "  return 1/(1 + np.exp(-x))\n",
      "/var/folders/td/3yk470mj5p931p9dtkk0y6jw0000gn/T/ipykernel_10284/1630775253.py:43: RuntimeWarning: overflow encountered in exp\n",
      "  exp_term = np.exp(self.z_o)\n",
      "/var/folders/td/3yk470mj5p931p9dtkk0y6jw0000gn/T/ipykernel_10284/1630775253.py:44: RuntimeWarning: invalid value encountered in true_divide\n",
      "  self.probabilities = exp_term / np.sum(exp_term, axis=1, keepdims=True)\n"
     ]
    },
    {
     "name": "stdout",
     "output_type": "stream",
     "text": [
      "Learning rate  =  10.0\n",
      "Lambda =  0.001\n",
      "Accuracy score on test set:  0.07777777777777778\n",
      "\n"
     ]
    },
    {
     "name": "stderr",
     "output_type": "stream",
     "text": [
      "/var/folders/td/3yk470mj5p931p9dtkk0y6jw0000gn/T/ipykernel_10284/953065564.py:4: RuntimeWarning: overflow encountered in exp\n",
      "  return 1/(1 + np.exp(-x))\n",
      "/var/folders/td/3yk470mj5p931p9dtkk0y6jw0000gn/T/ipykernel_10284/1630775253.py:43: RuntimeWarning: overflow encountered in exp\n",
      "  exp_term = np.exp(self.z_o)\n",
      "/var/folders/td/3yk470mj5p931p9dtkk0y6jw0000gn/T/ipykernel_10284/1630775253.py:44: RuntimeWarning: invalid value encountered in true_divide\n",
      "  self.probabilities = exp_term / np.sum(exp_term, axis=1, keepdims=True)\n"
     ]
    },
    {
     "name": "stdout",
     "output_type": "stream",
     "text": [
      "Learning rate  =  10.0\n",
      "Lambda =  0.01\n",
      "Accuracy score on test set:  0.07777777777777778\n",
      "\n"
     ]
    },
    {
     "name": "stderr",
     "output_type": "stream",
     "text": [
      "/var/folders/td/3yk470mj5p931p9dtkk0y6jw0000gn/T/ipykernel_10284/953065564.py:4: RuntimeWarning: overflow encountered in exp\n",
      "  return 1/(1 + np.exp(-x))\n",
      "/var/folders/td/3yk470mj5p931p9dtkk0y6jw0000gn/T/ipykernel_10284/1630775253.py:43: RuntimeWarning: overflow encountered in exp\n",
      "  exp_term = np.exp(self.z_o)\n",
      "/var/folders/td/3yk470mj5p931p9dtkk0y6jw0000gn/T/ipykernel_10284/1630775253.py:44: RuntimeWarning: invalid value encountered in true_divide\n",
      "  self.probabilities = exp_term / np.sum(exp_term, axis=1, keepdims=True)\n"
     ]
    },
    {
     "name": "stdout",
     "output_type": "stream",
     "text": [
      "Learning rate  =  10.0\n",
      "Lambda =  0.1\n",
      "Accuracy score on test set:  0.07777777777777778\n",
      "\n"
     ]
    },
    {
     "name": "stderr",
     "output_type": "stream",
     "text": [
      "/var/folders/td/3yk470mj5p931p9dtkk0y6jw0000gn/T/ipykernel_10284/953065564.py:4: RuntimeWarning: overflow encountered in exp\n",
      "  return 1/(1 + np.exp(-x))\n",
      "/var/folders/td/3yk470mj5p931p9dtkk0y6jw0000gn/T/ipykernel_10284/1630775253.py:43: RuntimeWarning: overflow encountered in exp\n",
      "  exp_term = np.exp(self.z_o)\n",
      "/var/folders/td/3yk470mj5p931p9dtkk0y6jw0000gn/T/ipykernel_10284/1630775253.py:44: RuntimeWarning: invalid value encountered in true_divide\n",
      "  self.probabilities = exp_term / np.sum(exp_term, axis=1, keepdims=True)\n"
     ]
    },
    {
     "name": "stdout",
     "output_type": "stream",
     "text": [
      "Learning rate  =  10.0\n",
      "Lambda =  1.0\n",
      "Accuracy score on test set:  0.07777777777777778\n",
      "\n"
     ]
    },
    {
     "name": "stderr",
     "output_type": "stream",
     "text": [
      "/var/folders/td/3yk470mj5p931p9dtkk0y6jw0000gn/T/ipykernel_10284/953065564.py:4: RuntimeWarning: overflow encountered in exp\n",
      "  return 1/(1 + np.exp(-x))\n",
      "/var/folders/td/3yk470mj5p931p9dtkk0y6jw0000gn/T/ipykernel_10284/1630775253.py:43: RuntimeWarning: overflow encountered in exp\n",
      "  exp_term = np.exp(self.z_o)\n",
      "/var/folders/td/3yk470mj5p931p9dtkk0y6jw0000gn/T/ipykernel_10284/1630775253.py:44: RuntimeWarning: invalid value encountered in true_divide\n",
      "  self.probabilities = exp_term / np.sum(exp_term, axis=1, keepdims=True)\n"
     ]
    },
    {
     "name": "stdout",
     "output_type": "stream",
     "text": [
      "Learning rate  =  10.0\n",
      "Lambda =  10.0\n",
      "Accuracy score on test set:  0.07777777777777778\n",
      "\n"
     ]
    }
   ],
   "source": [
    "eta_vals = np.logspace(-5, 1, 7)\n",
    "lmbd_vals = np.logspace(-5, 1, 7)\n",
    "# store the models for later use\n",
    "DNN_numpy = np.zeros((len(eta_vals), len(lmbd_vals)), dtype=object)\n",
    "\n",
    "# grid search\n",
    "for i, eta in enumerate(eta_vals):\n",
    "    for j, lmbd in enumerate(lmbd_vals):\n",
    "        dnn = NeuralNetwork(X_train, Y_train_onehot, eta=eta, lmbd=lmbd, epochs=epochs, batch_size=batch_size,\n",
    "                            n_hidden_neurons=n_hidden_neurons, n_categories=n_categories)\n",
    "        dnn.train()\n",
    "        \n",
    "        DNN_numpy[i][j] = dnn\n",
    "        \n",
    "        test_predict = dnn.predict(X_test)\n",
    "        \n",
    "        print(\"Learning rate  = \", eta)\n",
    "        print(\"Lambda = \", lmbd)\n",
    "        print(\"Accuracy score on test set: \", accuracy_score(Y_test, test_predict))\n",
    "        print()"
   ]
  },
  {
   "cell_type": "markdown",
   "id": "f3e5dfec",
   "metadata": {
    "editable": true
   },
   "source": [
    "## Visualization"
   ]
  },
  {
   "cell_type": "code",
   "execution_count": 10,
   "id": "6d875555",
   "metadata": {
    "collapsed": false,
    "editable": true,
    "jupyter": {
     "outputs_hidden": false
    }
   },
   "outputs": [
    {
     "name": "stderr",
     "output_type": "stream",
     "text": [
      "/var/folders/td/3yk470mj5p931p9dtkk0y6jw0000gn/T/ipykernel_10284/953065564.py:4: RuntimeWarning: overflow encountered in exp\n",
      "  return 1/(1 + np.exp(-x))\n",
      "/var/folders/td/3yk470mj5p931p9dtkk0y6jw0000gn/T/ipykernel_10284/953065564.py:4: RuntimeWarning: overflow encountered in exp\n",
      "  return 1/(1 + np.exp(-x))\n",
      "/var/folders/td/3yk470mj5p931p9dtkk0y6jw0000gn/T/ipykernel_10284/953065564.py:4: RuntimeWarning: overflow encountered in exp\n",
      "  return 1/(1 + np.exp(-x))\n",
      "/var/folders/td/3yk470mj5p931p9dtkk0y6jw0000gn/T/ipykernel_10284/953065564.py:4: RuntimeWarning: overflow encountered in exp\n",
      "  return 1/(1 + np.exp(-x))\n",
      "/var/folders/td/3yk470mj5p931p9dtkk0y6jw0000gn/T/ipykernel_10284/953065564.py:4: RuntimeWarning: overflow encountered in exp\n",
      "  return 1/(1 + np.exp(-x))\n"
     ]
    },
    {
     "data": {
      "image/png": "[encoded data removed]",
      "text/plain": [
       "<Figure size 1000x1000 with 2 Axes>"
      ]
     },
     "metadata": {},
     "output_type": "display_data"
    },
    {
     "data": {
      "image/png": "[encoded data removed]",
      "text/plain": [
       "<Figure size 1000x1000 with 2 Axes>"
      ]
     },
     "metadata": {},
     "output_type": "display_data"
    }
   ],
   "source": [
    "# visual representation of grid search\n",
    "# uses seaborn heatmap, you can also do this with matplotlib imshow\n",
    "import seaborn as sns\n",
    "\n",
    "sns.set()\n",
    "\n",
    "train_accuracy = np.zeros((len(eta_vals), len(lmbd_vals)))\n",
    "test_accuracy = np.zeros((len(eta_vals), len(lmbd_vals)))\n",
    "\n",
    "for i in range(len(eta_vals)):\n",
    "    for j in range(len(lmbd_vals)):\n",
    "        dnn = DNN_numpy[i][j]\n",
    "        \n",
    "        train_pred = dnn.predict(X_train) \n",
    "        test_pred = dnn.predict(X_test)\n",
    "\n",
    "        train_accuracy[i][j] = accuracy_score(Y_train, train_pred)\n",
    "        test_accuracy[i][j] = accuracy_score(Y_test, test_pred)\n",
    "\n",
    "        \n",
    "fig, ax = plt.subplots(figsize = (10, 10))\n",
    "sns.heatmap(train_accuracy, annot=True, ax=ax, cmap=\"viridis\")\n",
    "ax.set_title(\"Training Accuracy\")\n",
    "ax.set_ylabel(\"$\\eta$\")\n",
    "ax.set_xlabel(\"$\\lambda$\")\n",
    "plt.show()\n",
    "\n",
    "fig, ax = plt.subplots(figsize = (10, 10))\n",
    "sns.heatmap(test_accuracy, annot=True, ax=ax, cmap=\"viridis\")\n",
    "ax.set_title(\"Test Accuracy\")\n",
    "ax.set_ylabel(\"$\\eta$\")\n",
    "ax.set_xlabel(\"$\\lambda$\")\n",
    "plt.show()"
   ]
  },
  {
   "cell_type": "markdown",
   "id": "81c742e3",
   "metadata": {
    "editable": true
   },
   "source": [
    "## scikit-learn implementation\n",
    "\n",
    "**scikit-learn** focuses more\n",
    "on traditional machine learning methods, such as regression,\n",
    "clustering, decision trees, etc. As such, it has only two types of\n",
    "neural networks: Multi Layer Perceptron outputting continuous values,\n",
    "*MPLRegressor*, and Multi Layer Perceptron outputting labels,\n",
    "*MLPClassifier*. We will see how simple it is to use these classes.\n",
    "\n",
    "**scikit-learn** implements a few improvements from our neural network,\n",
    "such as early stopping, a varying learning rate, different\n",
    "optimization methods, etc. We would therefore expect a better\n",
    "performance overall."
   ]
  },
  {
   "cell_type": "code",
   "execution_count": 12,
   "id": "d21828bb",
   "metadata": {
    "collapsed": false,
    "editable": true,
    "jupyter": {
     "outputs_hidden": false
    }
   },
   "outputs": [],
   "source": [
    "from sklearn.neural_network import MLPClassifier\n",
    "# store models for later use\n",
    "DNN_scikit = np.zeros((len(eta_vals), len(lmbd_vals)), dtype=object)\n",
    "\n",
    "for i, eta in enumerate(eta_vals):\n",
    "    for j, lmbd in enumerate(lmbd_vals):\n",
    "        dnn = MLPClassifier(hidden_layer_sizes=(n_hidden_neurons), activation='logistic',\n",
    "                            alpha=lmbd, learning_rate_init=eta, max_iter=epochs)\n",
    "        dnn.fit(X_train, Y_train)\n",
    "        \n",
    "        DNN_scikit[i][j] = dnn\n",
    "        \n",
    "        print(\"Learning rate  = \", eta)\n",
    "        print(\"Lambda = \", lmbd)\n",
    "        print(\"Accuracy score on test set: \", dnn.score(X_test, Y_test))\n",
    "        print()"
   ]
  },
  {
   "cell_type": "markdown",
   "id": "4b40579d",
   "metadata": {
    "editable": true
   },
   "source": [
    "## Visualization"
   ]
  },
  {
   "cell_type": "code",
   "execution_count": 13,
   "id": "bfc97198",
   "metadata": {
    "collapsed": false,
    "editable": true,
    "jupyter": {
     "outputs_hidden": false
    }
   },
   "outputs": [],
   "source": [
    "# optional\n",
    "# visual representation of grid search\n",
    "# uses seaborn heatmap, could probably do this in matplotlib\n",
    "import seaborn as sns\n",
    "\n",
    "sns.set()\n",
    "\n",
    "train_accuracy = np.zeros((len(eta_vals), len(lmbd_vals)))\n",
    "test_accuracy = np.zeros((len(eta_vals), len(lmbd_vals)))\n",
    "\n",
    "for i in range(len(eta_vals)):\n",
    "    for j in range(len(lmbd_vals)):\n",
    "        dnn = DNN_scikit[i][j]\n",
    "        \n",
    "        train_pred = dnn.predict(X_train) \n",
    "        test_pred = dnn.predict(X_test)\n",
    "\n",
    "        train_accuracy[i][j] = accuracy_score(Y_train, train_pred)\n",
    "        test_accuracy[i][j] = accuracy_score(Y_test, test_pred)\n",
    "\n",
    "        \n",
    "fig, ax = plt.subplots(figsize = (10, 10))\n",
    "sns.heatmap(train_accuracy, annot=True, ax=ax, cmap=\"viridis\")\n",
    "ax.set_title(\"Training Accuracy\")\n",
    "ax.set_ylabel(\"$\\eta$\")\n",
    "ax.set_xlabel(\"$\\lambda$\")\n",
    "plt.show()\n",
    "\n",
    "fig, ax = plt.subplots(figsize = (10, 10))\n",
    "sns.heatmap(test_accuracy, annot=True, ax=ax, cmap=\"viridis\")\n",
    "ax.set_title(\"Test Accuracy\")\n",
    "ax.set_ylabel(\"$\\eta$\")\n",
    "ax.set_xlabel(\"$\\lambda$\")\n",
    "plt.show()"
   ]
  },
  {
   "cell_type": "markdown",
   "id": "550680d5",
   "metadata": {
    "editable": true
   },
   "source": [
    "## Building neural networks in Tensorflow and Keras\n",
    "\n",
    "Now we want  to build on the experience gained from our neural network implementation in NumPy and scikit-learn\n",
    "and use it to construct a neural network in Tensorflow. Once we have constructed a neural network in NumPy\n",
    "and Tensorflow, building one in Keras is really quite trivial, though the performance may suffer.  \n",
    "\n",
    "In our previous example we used only one hidden layer, and in this we will use two. From this it should be quite\n",
    "clear how to build one using an arbitrary number of hidden layers, using data structures such as Python lists or\n",
    "NumPy arrays."
   ]
  },
  {
   "cell_type": "markdown",
   "id": "bbade60e",
   "metadata": {
    "editable": true
   },
   "source": [
    "## Tensorflow\n",
    "\n",
    "Tensorflow is an open source library machine learning library\n",
    "developed by the Google Brain team for internal use. It was released\n",
    "under the Apache 2.0 open source license in November 9, 2015.\n",
    "\n",
    "Tensorflow is a computational framework that allows you to construct\n",
    "machine learning models at different levels of abstraction, from\n",
    "high-level, object-oriented APIs like Keras, down to the C++ kernels\n",
    "that Tensorflow is built upon. The higher levels of abstraction are\n",
    "simpler to use, but less flexible, and our choice of implementation\n",
    "should reflect the problems we are trying to solve.\n",
    "\n",
    "[Tensorflow uses](https://www.tensorflow.org/guide/graphs) so-called graphs to represent your computation\n",
    "in terms of the dependencies between individual operations, such that you first build a Tensorflow *graph*\n",
    "to represent your model, and then create a Tensorflow *session* to run the graph.\n",
    "\n",
    "In this guide we will analyze the same data as we did in our NumPy and\n",
    "scikit-learn tutorial, gathered from the MNIST database of images. We\n",
    "will give an introduction to the lower level Python Application\n",
    "Program Interfaces (APIs), and see how we use them to build our graph.\n",
    "Then we will build (effectively) the same graph in Keras, to see just\n",
    "how simple solving a machine learning problem can be.\n",
    "\n",
    "To install tensorflow on Unix/Linux systems, use pip as"
   ]
  },
  {
   "cell_type": "code",
   "execution_count": 14,
   "id": "e5505ed3",
   "metadata": {
    "collapsed": false,
    "editable": true,
    "jupyter": {
     "outputs_hidden": false
    }
   },
   "outputs": [],
   "source": [
    "pip3 install tensorflow"
   ]
  },
  {
   "cell_type": "markdown",
   "id": "98d4797a",
   "metadata": {
    "editable": true
   },
   "source": [
    "and/or if you use **anaconda**, just write (or install from the graphical user interface)\n",
    "(current release of CPU-only TensorFlow)"
   ]
  },
  {
   "cell_type": "code",
   "execution_count": 15,
   "id": "95b05730",
   "metadata": {
    "collapsed": false,
    "editable": true,
    "jupyter": {
     "outputs_hidden": false
    }
   },
   "outputs": [],
   "source": [
    "conda create -n tf tensorflow\n",
    "conda activate tf"
   ]
  },
  {
   "cell_type": "markdown",
   "id": "94170f18",
   "metadata": {
    "editable": true
   },
   "source": [
    "To install the current release of GPU TensorFlow"
   ]
  },
  {
   "cell_type": "code",
   "execution_count": 16,
   "id": "65ae6e69",
   "metadata": {
    "collapsed": false,
    "editable": true,
    "jupyter": {
     "outputs_hidden": false
    }
   },
   "outputs": [],
   "source": [
    "conda create -n tf-gpu tensorflow-gpu\n",
    "conda activate tf-gpu"
   ]
  },
  {
   "cell_type": "markdown",
   "id": "df39c5c6",
   "metadata": {
    "editable": true
   },
   "source": [
    "## Using Keras\n",
    "\n",
    "Keras is a high level [neural network](https://en.wikipedia.org/wiki/Application_programming_interface)\n",
    "that supports Tensorflow, CTNK and Theano as backends.  \n",
    "If you have Anaconda installed you may run the following command"
   ]
  },
  {
   "cell_type": "code",
   "execution_count": 17,
   "id": "d0d627f6",
   "metadata": {
    "collapsed": false,
    "editable": true,
    "jupyter": {
     "outputs_hidden": false
    }
   },
   "outputs": [],
   "source": [
    "conda install keras"
   ]
  },
  {
   "cell_type": "markdown",
   "id": "4124b5af",
   "metadata": {
    "editable": true
   },
   "source": [
    "You can look up the [instructions here](https://keras.io/) for more information.\n",
    "\n",
    "We will to a large extent use **keras** in this course."
   ]
  },
  {
   "cell_type": "markdown",
   "id": "22dc977c",
   "metadata": {
    "editable": true
   },
   "source": [
    "## Collect and pre-process data\n",
    "\n",
    "Let us look again at the MINST data set."
   ]
  },
  {
   "cell_type": "code",
   "execution_count": 18,
   "id": "7df2e4d4",
   "metadata": {
    "collapsed": false,
    "editable": true,
    "jupyter": {
     "outputs_hidden": false
    }
   },
   "outputs": [],
   "source": [
    "# import necessary packages\n",
    "import numpy as np\n",
    "import matplotlib.pyplot as plt\n",
    "import tensorflow as tf\n",
    "from sklearn import datasets\n",
    "\n",
    "\n",
    "# ensure the same random numbers appear every time\n",
    "np.random.seed(0)\n",
    "\n",
    "# display images in notebook\n",
    "%matplotlib inline\n",
    "plt.rcParams['figure.figsize'] = (12,12)\n",
    "\n",
    "\n",
    "# download MNIST dataset\n",
    "digits = datasets.load_digits()\n",
    "\n",
    "# define inputs and labels\n",
    "inputs = digits.images\n",
    "labels = digits.target\n",
    "\n",
    "print(\"inputs = (n_inputs, pixel_width, pixel_height) = \" + str(inputs.shape))\n",
    "print(\"labels = (n_inputs) = \" + str(labels.shape))\n",
    "\n",
    "\n",
    "# flatten the image\n",
    "# the value -1 means dimension is inferred from the remaining dimensions: 8x8 = 64\n",
    "n_inputs = len(inputs)\n",
    "inputs = inputs.reshape(n_inputs, -1)\n",
    "print(\"X = (n_inputs, n_features) = \" + str(inputs.shape))\n",
    "\n",
    "\n",
    "# choose some random images to display\n",
    "indices = np.arange(n_inputs)\n",
    "random_indices = np.random.choice(indices, size=5)\n",
    "\n",
    "for i, image in enumerate(digits.images[random_indices]):\n",
    "    plt.subplot(1, 5, i+1)\n",
    "    plt.axis('off')\n",
    "    plt.imshow(image, cmap=plt.cm.gray_r, interpolation='nearest')\n",
    "    plt.title(\"Label: %d\" % digits.target[random_indices[i]])\n",
    "plt.show()"
   ]
  },
  {
   "cell_type": "code",
   "execution_count": 19,
   "id": "4f5bff6f",
   "metadata": {
    "collapsed": false,
    "editable": true,
    "jupyter": {
     "outputs_hidden": false
    }
   },
   "outputs": [],
   "source": [
    "from tensorflow.keras.layers import Input\n",
    "from tensorflow.keras.models import Sequential      #This allows appending layers to existing models\n",
    "from tensorflow.keras.layers import Dense           #This allows defining the characteristics of a particular layer\n",
    "from tensorflow.keras import optimizers             #This allows using whichever optimiser we want (sgd,adam,RMSprop)\n",
    "from tensorflow.keras import regularizers           #This allows using whichever regularizer we want (l1,l2,l1_l2)\n",
    "from tensorflow.keras.utils import to_categorical   #This allows using categorical cross entropy as the cost function\n",
    "\n",
    "from sklearn.model_selection import train_test_split\n",
    "\n",
    "# one-hot representation of labels\n",
    "labels = to_categorical(labels)\n",
    "\n",
    "# split into train and test data\n",
    "train_size = 0.8\n",
    "test_size = 1 - train_size\n",
    "X_train, X_test, Y_train, Y_test = train_test_split(inputs, labels, train_size=train_size,\n",
    "                                                    test_size=test_size)"
   ]
  },
  {
   "cell_type": "code",
   "execution_count": 20,
   "id": "3ae517ea",
   "metadata": {
    "collapsed": false,
    "editable": true,
    "jupyter": {
     "outputs_hidden": false
    }
   },
   "outputs": [],
   "source": [
    "\n",
    "epochs = 100\n",
    "batch_size = 100\n",
    "n_neurons_layer1 = 100\n",
    "n_neurons_layer2 = 50\n",
    "n_categories = 10\n",
    "eta_vals = np.logspace(-5, 1, 7)\n",
    "lmbd_vals = np.logspace(-5, 1, 7)\n",
    "def create_neural_network_keras(n_neurons_layer1, n_neurons_layer2, n_categories, eta, lmbd):\n",
    "    model = Sequential()\n",
    "    model.add(Dense(n_neurons_layer1, activation='sigmoid', kernel_regularizer=regularizers.l2(lmbd)))\n",
    "    model.add(Dense(n_neurons_layer2, activation='sigmoid', kernel_regularizer=regularizers.l2(lmbd)))\n",
    "    model.add(Dense(n_categories, activation='softmax'))\n",
    "    \n",
    "    sgd = optimizers.SGD(lr=eta)\n",
    "    model.compile(loss='categorical_crossentropy', optimizer=sgd, metrics=['accuracy'])\n",
    "    \n",
    "    return model"
   ]
  },
  {
   "cell_type": "code",
   "execution_count": 21,
   "id": "c880b209",
   "metadata": {
    "collapsed": false,
    "editable": true,
    "jupyter": {
     "outputs_hidden": false
    }
   },
   "outputs": [],
   "source": [
    "DNN_keras = np.zeros((len(eta_vals), len(lmbd_vals)), dtype=object)\n",
    "        \n",
    "for i, eta in enumerate(eta_vals):\n",
    "    for j, lmbd in enumerate(lmbd_vals):\n",
    "        DNN = create_neural_network_keras(n_neurons_layer1, n_neurons_layer2, n_categories,\n",
    "                                         eta=eta, lmbd=lmbd)\n",
    "        DNN.fit(X_train, Y_train, epochs=epochs, batch_size=batch_size, verbose=0)\n",
    "        scores = DNN.evaluate(X_test, Y_test)\n",
    "        \n",
    "        DNN_keras[i][j] = DNN\n",
    "        \n",
    "        print(\"Learning rate = \", eta)\n",
    "        print(\"Lambda = \", lmbd)\n",
    "        print(\"Test accuracy: %.3f\" % scores[1])\n",
    "        print()"
   ]
  },
  {
   "cell_type": "code",
   "execution_count": 22,
   "id": "cf8cea73",
   "metadata": {
    "collapsed": false,
    "editable": true,
    "jupyter": {
     "outputs_hidden": false
    }
   },
   "outputs": [],
   "source": [
    "# optional\n",
    "# visual representation of grid search\n",
    "# uses seaborn heatmap, could probably do this in matplotlib\n",
    "import seaborn as sns\n",
    "\n",
    "sns.set()\n",
    "\n",
    "train_accuracy = np.zeros((len(eta_vals), len(lmbd_vals)))\n",
    "test_accuracy = np.zeros((len(eta_vals), len(lmbd_vals)))\n",
    "\n",
    "for i in range(len(eta_vals)):\n",
    "    for j in range(len(lmbd_vals)):\n",
    "        DNN = DNN_keras[i][j]\n",
    "\n",
    "        train_accuracy[i][j] = DNN.evaluate(X_train, Y_train)[1]\n",
    "        test_accuracy[i][j] = DNN.evaluate(X_test, Y_test)[1]\n",
    "\n",
    "        \n",
    "fig, ax = plt.subplots(figsize = (10, 10))\n",
    "sns.heatmap(train_accuracy, annot=True, ax=ax, cmap=\"viridis\")\n",
    "ax.set_title(\"Training Accuracy\")\n",
    "ax.set_ylabel(\"$\\eta$\")\n",
    "ax.set_xlabel(\"$\\lambda$\")\n",
    "plt.show()\n",
    "\n",
    "fig, ax = plt.subplots(figsize = (10, 10))\n",
    "sns.heatmap(test_accuracy, annot=True, ax=ax, cmap=\"viridis\")\n",
    "ax.set_title(\"Test Accuracy\")\n",
    "ax.set_ylabel(\"$\\eta$\")\n",
    "ax.set_xlabel(\"$\\lambda$\")\n",
    "plt.show()"
   ]
  },
  {
   "cell_type": "markdown",
   "id": "3024761c",
   "metadata": {
    "editable": true
   },
   "source": [
    "## Building a neural network code\n",
    "\n",
    "Here we  present a flexible object oriented codebase\n",
    "for a feed forward neural network, along with a demonstration of how\n",
    "to use it. Before we get into the details of the neural network, we\n",
    "will first present some implementations of various schedulers, cost\n",
    "functions and activation functions that can be used together with the\n",
    "neural network.\n",
    "\n",
    "The codes here were developed by Eric Reber and Gregor Kajda during spring 2023."
   ]
  },
  {
   "cell_type": "markdown",
   "id": "53987675",
   "metadata": {
    "editable": true
   },
   "source": [
    "### Learning rate methods\n",
    "\n",
    "The code below shows object oriented implementations of the Constant,\n",
    "Momentum, Adagrad, AdagradMomentum, RMS prop and Adam schedulers. All\n",
    "of the classes belong to the shared abstract Scheduler class, and\n",
    "share the update_change() and reset() methods allowing for any of the\n",
    "schedulers to be seamlessly used during the training stage, as will\n",
    "later be shown in the fit() method of the neural\n",
    "network. Update_change() only has one parameter, the gradient\n",
    "($δ^l_ja^{l−1}_k$), and returns the change which will be subtracted\n",
    "from the weights. The reset() function takes no parameters, and resets\n",
    "the desired variables. For Constant and Momentum, reset does nothing."
   ]
  },
  {
   "cell_type": "code",
   "execution_count": 23,
   "id": "5ed03631",
   "metadata": {
    "collapsed": false,
    "editable": true,
    "jupyter": {
     "outputs_hidden": false
    }
   },
   "outputs": [],
   "source": [
    "import autograd.numpy as np\n",
    "\n",
    "class Scheduler:\n",
    "    \"\"\"\n",
    "    Abstract class for Schedulers\n",
    "    \"\"\"\n",
    "\n",
    "    def __init__(self, eta):\n",
    "        self.eta = eta\n",
    "\n",
    "    # should be overwritten\n",
    "    def update_change(self, gradient):\n",
    "        raise NotImplementedError\n",
    "\n",
    "    # overwritten if needed\n",
    "    def reset(self):\n",
    "        pass\n",
    "\n",
    "\n",
    "class Constant(Scheduler):\n",
    "    def __init__(self, eta):\n",
    "        super().__init__(eta)\n",
    "\n",
    "    def update_change(self, gradient):\n",
    "        return self.eta * gradient\n",
    "    \n",
    "    def reset(self):\n",
    "        pass\n",
    "\n",
    "\n",
    "class Momentum(Scheduler):\n",
    "    def __init__(self, eta: float, momentum: float):\n",
    "        super().__init__(eta)\n",
    "        self.momentum = momentum\n",
    "        self.change = 0\n",
    "\n",
    "    def update_change(self, gradient):\n",
    "        self.change = self.momentum * self.change + self.eta * gradient\n",
    "        return self.change\n",
    "\n",
    "    def reset(self):\n",
    "        pass\n",
    "\n",
    "\n",
    "class Adagrad(Scheduler):\n",
    "    def __init__(self, eta):\n",
    "        super().__init__(eta)\n",
    "        self.G_t = None\n",
    "\n",
    "    def update_change(self, gradient):\n",
    "        delta = 1e-8  # avoid division ny zero\n",
    "\n",
    "        if self.G_t is None:\n",
    "            self.G_t = np.zeros((gradient.shape[0], gradient.shape[0]))\n",
    "\n",
    "        self.G_t += gradient @ gradient.T\n",
    "\n",
    "        G_t_inverse = 1 / (\n",
    "            delta + np.sqrt(np.reshape(np.diagonal(self.G_t), (self.G_t.shape[0], 1)))\n",
    "        )\n",
    "        return self.eta * gradient * G_t_inverse\n",
    "\n",
    "    def reset(self):\n",
    "        self.G_t = None\n",
    "\n",
    "\n",
    "class AdagradMomentum(Scheduler):\n",
    "    def __init__(self, eta, momentum):\n",
    "        super().__init__(eta)\n",
    "        self.G_t = None\n",
    "        self.momentum = momentum\n",
    "        self.change = 0\n",
    "\n",
    "    def update_change(self, gradient):\n",
    "        delta = 1e-8  # avoid division ny zero\n",
    "\n",
    "        if self.G_t is None:\n",
    "            self.G_t = np.zeros((gradient.shape[0], gradient.shape[0]))\n",
    "\n",
    "        self.G_t += gradient @ gradient.T\n",
    "\n",
    "        G_t_inverse = 1 / (\n",
    "            delta + np.sqrt(np.reshape(np.diagonal(self.G_t), (self.G_t.shape[0], 1)))\n",
    "        )\n",
    "        self.change = self.change * self.momentum + self.eta * gradient * G_t_inverse\n",
    "        return self.change\n",
    "\n",
    "    def reset(self):\n",
    "        self.G_t = None\n",
    "\n",
    "\n",
    "class RMS_prop(Scheduler):\n",
    "    def __init__(self, eta, rho):\n",
    "        super().__init__(eta)\n",
    "        self.rho = rho\n",
    "        self.second = 0.0\n",
    "\n",
    "    def update_change(self, gradient):\n",
    "        delta = 1e-8  # avoid division ny zero\n",
    "        self.second = self.rho * self.second + (1 - self.rho) * gradient * gradient\n",
    "        return self.eta * gradient / (np.sqrt(self.second + delta))\n",
    "\n",
    "    def reset(self):\n",
    "        self.second = 0.0\n",
    "\n",
    "\n",
    "class Adam(Scheduler):\n",
    "    def __init__(self, eta, rho, rho2):\n",
    "        super().__init__(eta)\n",
    "        self.rho = rho\n",
    "        self.rho2 = rho2\n",
    "        self.moment = 0\n",
    "        self.second = 0\n",
    "        self.n_epochs = 1\n",
    "\n",
    "    def update_change(self, gradient):\n",
    "        delta = 1e-8  # avoid division ny zero\n",
    "\n",
    "        self.moment = self.rho * self.moment + (1 - self.rho) * gradient\n",
    "        self.second = self.rho2 * self.second + (1 - self.rho2) * gradient * gradient\n",
    "\n",
    "        moment_corrected = self.moment / (1 - self.rho**self.n_epochs)\n",
    "        second_corrected = self.second / (1 - self.rho2**self.n_epochs)\n",
    "\n",
    "        return self.eta * moment_corrected / (np.sqrt(second_corrected + delta))\n",
    "\n",
    "    def reset(self):\n",
    "        self.n_epochs += 1\n",
    "        self.moment = 0\n",
    "        self.second = 0"
   ]
  },
  {
   "cell_type": "markdown",
   "id": "8b98c385",
   "metadata": {
    "editable": true
   },
   "source": [
    "### Usage of the above learning rate schedulers\n",
    "\n",
    "To initalize a scheduler, simply create the object and pass in the\n",
    "necessary parameters such as the learning rate and the momentum as\n",
    "shown below. As the Scheduler class is an abstract class it should not\n",
    "called directly, and will raise an error upon usage."
   ]
  },
  {
   "cell_type": "code",
   "execution_count": 24,
   "id": "54298abd",
   "metadata": {
    "collapsed": false,
    "editable": true,
    "jupyter": {
     "outputs_hidden": false
    }
   },
   "outputs": [],
   "source": [
    "momentum_scheduler = Momentum(eta=1e-3, momentum=0.9)\n",
    "adam_scheduler = Adam(eta=1e-3, rho=0.9, rho2=0.999)"
   ]
  },
  {
   "cell_type": "markdown",
   "id": "c03dc1b1",
   "metadata": {
    "editable": true
   },
   "source": [
    "Here is a small example for how a segment of code using schedulers\n",
    "could look. Switching out the schedulers is simple."
   ]
  },
  {
   "cell_type": "code",
   "execution_count": 25,
   "id": "5a2f7871",
   "metadata": {
    "collapsed": false,
    "editable": true,
    "jupyter": {
     "outputs_hidden": false
    }
   },
   "outputs": [],
   "source": [
    "weights = np.ones((3,3))\n",
    "print(f\"Before scheduler:\\n{weights=}\")\n",
    "\n",
    "epochs = 10\n",
    "for e in range(epochs):\n",
    "    gradient = np.random.rand(3, 3)\n",
    "    change = adam_scheduler.update_change(gradient)\n",
    "    weights = weights - change\n",
    "    adam_scheduler.reset()\n",
    "\n",
    "print(f\"\\nAfter scheduler:\\n{weights=}\")"
   ]
  },
  {
   "cell_type": "markdown",
   "id": "07fa559a",
   "metadata": {
    "editable": true
   },
   "source": [
    "### Cost functions\n",
    "\n",
    "Here we discuss cost functions that can be used when creating the\n",
    "neural network. Every cost function takes the target vector as its\n",
    "parameter, and returns a function valued only at $x$ such that it may\n",
    "easily be differentiated."
   ]
  },
  {
   "cell_type": "code",
   "execution_count": 26,
   "id": "718450a2",
   "metadata": {
    "collapsed": false,
    "editable": true,
    "jupyter": {
     "outputs_hidden": false
    }
   },
   "outputs": [],
   "source": [
    "import autograd.numpy as np\n",
    "\n",
    "def CostOLS(target):\n",
    "    \n",
    "    def func(X):\n",
    "        return (1.0 / target.shape[0]) * np.sum((target - X) ** 2)\n",
    "\n",
    "    return func\n",
    "\n",
    "\n",
    "def CostLogReg(target):\n",
    "\n",
    "    def func(X):\n",
    "        \n",
    "        return -(1.0 / target.shape[0]) * np.sum(\n",
    "            (target * np.log(X + 10e-10)) + ((1 - target) * np.log(1 - X + 10e-10))\n",
    "        )\n",
    "\n",
    "    return func\n",
    "\n",
    "\n",
    "def CostCrossEntropy(target):\n",
    "    \n",
    "    def func(X):\n",
    "        return -(1.0 / target.size) * np.sum(target * np.log(X + 10e-10))\n",
    "\n",
    "    return func"
   ]
  },
  {
   "cell_type": "markdown",
   "id": "0db28b52",
   "metadata": {
    "editable": true
   },
   "source": [
    "Below we give a short example of how these cost function may be used\n",
    "to obtain results if you wish to test them out on your own using\n",
    "AutoGrad's automatics differentiation."
   ]
  },
  {
   "cell_type": "code",
   "execution_count": 27,
   "id": "1479de5a",
   "metadata": {
    "collapsed": false,
    "editable": true,
    "jupyter": {
     "outputs_hidden": false
    }
   },
   "outputs": [],
   "source": [
    "from autograd import grad\n",
    "\n",
    "target = np.array([[1, 2, 3]]).T\n",
    "a = np.array([[4, 5, 6]]).T\n",
    "\n",
    "cost_func = CostCrossEntropy\n",
    "cost_func_derivative = grad(cost_func(target))\n",
    "\n",
    "valued_at_a = cost_func_derivative(a)\n",
    "print(f\"Derivative of cost function {cost_func.__name__} valued at a:\\n{valued_at_a}\")"
   ]
  },
  {
   "cell_type": "markdown",
   "id": "d42e1ccf",
   "metadata": {
    "editable": true
   },
   "source": [
    "### Activation functions\n",
    "\n",
    "Finally, before we look at the neural network, we will look at the\n",
    "activation functions which can be specified between the hidden layers\n",
    "and as the output function. Each function can be valued for any given\n",
    "vector or matrix X, and can be differentiated via derivate()."
   ]
  },
  {
   "cell_type": "code",
   "execution_count": 28,
   "id": "2c2a8d32",
   "metadata": {
    "collapsed": false,
    "editable": true,
    "jupyter": {
     "outputs_hidden": false
    }
   },
   "outputs": [],
   "source": [
    "import autograd.numpy as np\n",
    "from autograd import elementwise_grad\n",
    "\n",
    "def identity(X):\n",
    "    return X\n",
    "\n",
    "\n",
    "def sigmoid(X):\n",
    "    try:\n",
    "        return 1.0 / (1 + np.exp(-X))\n",
    "    except FloatingPointError:\n",
    "        return np.where(X > np.zeros(X.shape), np.ones(X.shape), np.zeros(X.shape))\n",
    "\n",
    "\n",
    "def softmax(X):\n",
    "    X = X - np.max(X, axis=-1, keepdims=True)\n",
    "    delta = 10e-10\n",
    "    return np.exp(X) / (np.sum(np.exp(X), axis=-1, keepdims=True) + delta)\n",
    "\n",
    "\n",
    "def RELU(X):\n",
    "    return np.where(X > np.zeros(X.shape), X, np.zeros(X.shape))\n",
    "\n",
    "\n",
    "def LRELU(X):\n",
    "    delta = 10e-4\n",
    "    return np.where(X > np.zeros(X.shape), X, delta * X)\n",
    "\n",
    "\n",
    "def derivate(func):\n",
    "    if func.__name__ == \"RELU\":\n",
    "\n",
    "        def func(X):\n",
    "            return np.where(X > 0, 1, 0)\n",
    "\n",
    "        return func\n",
    "\n",
    "    elif func.__name__ == \"LRELU\":\n",
    "\n",
    "        def func(X):\n",
    "            delta = 10e-4\n",
    "            return np.where(X > 0, 1, delta)\n",
    "\n",
    "        return func\n",
    "\n",
    "    else:\n",
    "        return elementwise_grad(func)"
   ]
  },
  {
   "cell_type": "markdown",
   "id": "65e7caab",
   "metadata": {
    "editable": true
   },
   "source": [
    "Below follows a short demonstration of how to use an activation\n",
    "function. The derivative of the activation function will be important\n",
    "when calculating the output delta term during backpropagation. Note\n",
    "that derivate() can also be used for cost functions for a more\n",
    "generalized approach."
   ]
  },
  {
   "cell_type": "code",
   "execution_count": 29,
   "id": "75e9399d",
   "metadata": {
    "collapsed": false,
    "editable": true,
    "jupyter": {
     "outputs_hidden": false
    }
   },
   "outputs": [],
   "source": [
    "z = np.array([[4, 5, 6]]).T\n",
    "print(f\"Input to activation function:\\n{z}\")\n",
    "\n",
    "act_func = sigmoid\n",
    "a = act_func(z)\n",
    "print(f\"\\nOutput from {act_func.__name__} activation function:\\n{a}\")\n",
    "\n",
    "act_func_derivative = derivate(act_func)\n",
    "valued_at_z = act_func_derivative(a)\n",
    "print(f\"\\nDerivative of {act_func.__name__} activation function valued at z:\\n{valued_at_z}\")"
   ]
  },
  {
   "cell_type": "markdown",
   "id": "0b0b82e8",
   "metadata": {
    "editable": true
   },
   "source": [
    "### The Neural Network\n",
    "\n",
    "Now that we have gotten a good understanding of the implementation of\n",
    "some important components, we can take a look at an object oriented\n",
    "implementation of a feed forward neural network. The feed forward\n",
    "neural network has been implemented as a class named FFNN, which can\n",
    "be initiated as a regressor or classifier dependant on the choice of\n",
    "cost function. The FFNN can have any number of input nodes, hidden\n",
    "layers with any amount of hidden nodes, and any amount of output nodes\n",
    "meaning it can perform multiclass classification as well as binary\n",
    "classification and regression problems. Although there is a lot of\n",
    "code present, it makes for an easy to use and generalizeable interface\n",
    "for creating many types of neural networks as will be demonstrated\n",
    "below."
   ]
  },
  {
   "cell_type": "code",
   "execution_count": 30,
   "id": "5351bfd6",
   "metadata": {
    "collapsed": false,
    "editable": true,
    "jupyter": {
     "outputs_hidden": false
    }
   },
   "outputs": [],
   "source": [
    "import math\n",
    "import autograd.numpy as np\n",
    "import sys\n",
    "import warnings\n",
    "from autograd import grad, elementwise_grad\n",
    "from random import random, seed\n",
    "from copy import deepcopy, copy\n",
    "from typing import Tuple, Callable\n",
    "from sklearn.utils import resample\n",
    "\n",
    "warnings.simplefilter(\"error\")\n",
    "\n",
    "\n",
    "class FFNN:\n",
    "    \"\"\"\n",
    "    Description:\n",
    "    ------------\n",
    "        Feed Forward Neural Network with interface enabling flexible design of a\n",
    "        nerual networks architecture and the specification of activation function\n",
    "        in the hidden layers and output layer respectively. This model can be used\n",
    "        for both regression and classification problems, depending on the output function.\n",
    "\n",
    "    Attributes:\n",
    "    ------------\n",
    "        I   dimensions (tuple[int]): A list of positive integers, which specifies the\n",
    "            number of nodes in each of the networks layers. The first integer in the array\n",
    "            defines the number of nodes in the input layer, the second integer defines number\n",
    "            of nodes in the first hidden layer and so on until the last number, which\n",
    "            specifies the number of nodes in the output layer.\n",
    "        II  hidden_func (Callable): The activation function for the hidden layers\n",
    "        III output_func (Callable): The activation function for the output layer\n",
    "        IV  cost_func (Callable): Our cost function\n",
    "        V   seed (int): Sets random seed, makes results reproducible\n",
    "    \"\"\"\n",
    "\n",
    "    def __init__(\n",
    "        self,\n",
    "        dimensions: tuple[int],\n",
    "        hidden_func: Callable = sigmoid,\n",
    "        output_func: Callable = lambda x: x,\n",
    "        cost_func: Callable = CostOLS,\n",
    "        seed: int = None,\n",
    "    ):\n",
    "        self.dimensions = dimensions\n",
    "        self.hidden_func = hidden_func\n",
    "        self.output_func = output_func\n",
    "        self.cost_func = cost_func\n",
    "        self.seed = seed\n",
    "        self.weights = list()\n",
    "        self.schedulers_weight = list()\n",
    "        self.schedulers_bias = list()\n",
    "        self.a_matrices = list()\n",
    "        self.z_matrices = list()\n",
    "        self.classification = None\n",
    "\n",
    "        self.reset_weights()\n",
    "        self._set_classification()\n",
    "\n",
    "    def fit(\n",
    "        self,\n",
    "        X: np.ndarray,\n",
    "        t: np.ndarray,\n",
    "        scheduler: Scheduler,\n",
    "        batches: int = 1,\n",
    "        epochs: int = 100,\n",
    "        lam: float = 0,\n",
    "        X_val: np.ndarray = None,\n",
    "        t_val: np.ndarray = None,\n",
    "    ):\n",
    "        \"\"\"\n",
    "        Description:\n",
    "        ------------\n",
    "            This function performs the training the neural network by performing the feedforward and backpropagation\n",
    "            algorithm to update the networks weights.\n",
    "\n",
    "        Parameters:\n",
    "        ------------\n",
    "            I    X (np.ndarray) : training data\n",
    "            II   t (np.ndarray) : target data\n",
    "            III  scheduler (Scheduler) : specified scheduler (algorithm for optimization of gradient descent)\n",
    "            IV   scheduler_args (list[int]) : list of all arguments necessary for scheduler\n",
    "\n",
    "        Optional Parameters:\n",
    "        ------------\n",
    "            V    batches (int) : number of batches the datasets are split into, default equal to 1\n",
    "            VI   epochs (int) : number of iterations used to train the network, default equal to 100\n",
    "            VII  lam (float) : regularization hyperparameter lambda\n",
    "            VIII X_val (np.ndarray) : validation set\n",
    "            IX   t_val (np.ndarray) : validation target set\n",
    "\n",
    "        Returns:\n",
    "        ------------\n",
    "            I   scores (dict) : A dictionary containing the performance metrics of the model.\n",
    "                The number of the metrics depends on the parameters passed to the fit-function.\n",
    "\n",
    "        \"\"\"\n",
    "\n",
    "        # setup \n",
    "        if self.seed is not None:\n",
    "            np.random.seed(self.seed)\n",
    "\n",
    "        val_set = False\n",
    "        if X_val is not None and t_val is not None:\n",
    "            val_set = True\n",
    "\n",
    "        # creating arrays for score metrics\n",
    "        train_errors = np.empty(epochs)\n",
    "        train_errors.fill(np.nan)\n",
    "        val_errors = np.empty(epochs)\n",
    "        val_errors.fill(np.nan)\n",
    "\n",
    "        train_accs = np.empty(epochs)\n",
    "        train_accs.fill(np.nan)\n",
    "        val_accs = np.empty(epochs)\n",
    "        val_accs.fill(np.nan)\n",
    "\n",
    "        self.schedulers_weight = list()\n",
    "        self.schedulers_bias = list()\n",
    "\n",
    "        batch_size = X.shape[0] // batches\n",
    "\n",
    "        X, t = resample(X, t)\n",
    "\n",
    "        # this function returns a function valued only at X\n",
    "        cost_function_train = self.cost_func(t)\n",
    "        if val_set:\n",
    "            cost_function_val = self.cost_func(t_val)\n",
    "\n",
    "        # create schedulers for each weight matrix\n",
    "        for i in range(len(self.weights)):\n",
    "            self.schedulers_weight.append(copy(scheduler))\n",
    "            self.schedulers_bias.append(copy(scheduler))\n",
    "\n",
    "        print(f\"{scheduler.__class__.__name__}: Eta={scheduler.eta}, Lambda={lam}\")\n",
    "\n",
    "        try:\n",
    "            for e in range(epochs):\n",
    "                for i in range(batches):\n",
    "                    # allows for minibatch gradient descent\n",
    "                    if i == batches - 1:\n",
    "                        # If the for loop has reached the last batch, take all thats left\n",
    "                        X_batch = X[i * batch_size :, :]\n",
    "                        t_batch = t[i * batch_size :, :]\n",
    "                    else:\n",
    "                        X_batch = X[i * batch_size : (i + 1) * batch_size, :]\n",
    "                        t_batch = t[i * batch_size : (i + 1) * batch_size, :]\n",
    "\n",
    "                    self._feedforward(X_batch)\n",
    "                    self._backpropagate(X_batch, t_batch, lam)\n",
    "\n",
    "                # reset schedulers for each epoch (some schedulers pass in this call)\n",
    "                for scheduler in self.schedulers_weight:\n",
    "                    scheduler.reset()\n",
    "\n",
    "                for scheduler in self.schedulers_bias:\n",
    "                    scheduler.reset()\n",
    "\n",
    "                # computing performance metrics\n",
    "                pred_train = self.predict(X)\n",
    "                train_error = cost_function_train(pred_train)\n",
    "\n",
    "                train_errors[e] = train_error\n",
    "                if val_set:\n",
    "                    \n",
    "                    pred_val = self.predict(X_val)\n",
    "                    val_error = cost_function_val(pred_val)\n",
    "                    val_errors[e] = val_error\n",
    "\n",
    "                if self.classification:\n",
    "                    train_acc = self._accuracy(self.predict(X), t)\n",
    "                    train_accs[e] = train_acc\n",
    "                    if val_set:\n",
    "                        val_acc = self._accuracy(pred_val, t_val)\n",
    "                        val_accs[e] = val_acc\n",
    "\n",
    "                # printing progress bar\n",
    "                progression = e / epochs\n",
    "                print_length = self._progress_bar(\n",
    "                    progression,\n",
    "                    train_error=train_errors[e],\n",
    "                    train_acc=train_accs[e],\n",
    "                    val_error=val_errors[e],\n",
    "                    val_acc=val_accs[e],\n",
    "                )\n",
    "        except KeyboardInterrupt:\n",
    "            # allows for stopping training at any point and seeing the result\n",
    "            pass\n",
    "\n",
    "        # visualization of training progression (similiar to tensorflow progression bar)\n",
    "        sys.stdout.write(\"\\r\" + \" \" * print_length)\n",
    "        sys.stdout.flush()\n",
    "        self._progress_bar(\n",
    "            1,\n",
    "            train_error=train_errors[e],\n",
    "            train_acc=train_accs[e],\n",
    "            val_error=val_errors[e],\n",
    "            val_acc=val_accs[e],\n",
    "        )\n",
    "        sys.stdout.write(\"\")\n",
    "\n",
    "        # return performance metrics for the entire run\n",
    "        scores = dict()\n",
    "\n",
    "        scores[\"train_errors\"] = train_errors\n",
    "\n",
    "        if val_set:\n",
    "            scores[\"val_errors\"] = val_errors\n",
    "\n",
    "        if self.classification:\n",
    "            scores[\"train_accs\"] = train_accs\n",
    "\n",
    "            if val_set:\n",
    "                scores[\"val_accs\"] = val_accs\n",
    "\n",
    "        return scores\n",
    "\n",
    "    def predict(self, X: np.ndarray, *, threshold=0.5):\n",
    "        \"\"\"\n",
    "         Description:\n",
    "         ------------\n",
    "             Performs prediction after training of the network has been finished.\n",
    "\n",
    "         Parameters:\n",
    "        ------------\n",
    "             I   X (np.ndarray): The design matrix, with n rows of p features each\n",
    "\n",
    "         Optional Parameters:\n",
    "         ------------\n",
    "             II  threshold (float) : sets minimal value for a prediction to be predicted as the positive class\n",
    "                 in classification problems\n",
    "\n",
    "         Returns:\n",
    "         ------------\n",
    "             I   z (np.ndarray): A prediction vector (row) for each row in our design matrix\n",
    "                 This vector is thresholded if regression=False, meaning that classification results\n",
    "                 in a vector of 1s and 0s, while regressions in an array of decimal numbers\n",
    "\n",
    "        \"\"\"\n",
    "\n",
    "        predict = self._feedforward(X)\n",
    "\n",
    "        if self.classification:\n",
    "            return np.where(predict > threshold, 1, 0)\n",
    "        else:\n",
    "            return predict\n",
    "\n",
    "    def reset_weights(self):\n",
    "        \"\"\"\n",
    "        Description:\n",
    "        ------------\n",
    "            Resets/Reinitializes the weights in order to train the network for a new problem.\n",
    "\n",
    "        \"\"\"\n",
    "        if self.seed is not None:\n",
    "            np.random.seed(self.seed)\n",
    "\n",
    "        self.weights = list()\n",
    "        for i in range(len(self.dimensions) - 1):\n",
    "            weight_array = np.random.randn(\n",
    "                self.dimensions[i] + 1, self.dimensions[i + 1]\n",
    "            )\n",
    "            weight_array[0, :] = np.random.randn(self.dimensions[i + 1]) * 0.01\n",
    "\n",
    "            self.weights.append(weight_array)\n",
    "\n",
    "    def _feedforward(self, X: np.ndarray):\n",
    "        \"\"\"\n",
    "        Description:\n",
    "        ------------\n",
    "            Calculates the activation of each layer starting at the input and ending at the output.\n",
    "            Each following activation is calculated from a weighted sum of each of the preceeding\n",
    "            activations (except in the case of the input layer).\n",
    "\n",
    "        Parameters:\n",
    "        ------------\n",
    "            I   X (np.ndarray): The design matrix, with n rows of p features each\n",
    "\n",
    "        Returns:\n",
    "        ------------\n",
    "            I   z (np.ndarray): A prediction vector (row) for each row in our design matrix\n",
    "        \"\"\"\n",
    "\n",
    "        # reset matrices\n",
    "        self.a_matrices = list()\n",
    "        self.z_matrices = list()\n",
    "\n",
    "        # if X is just a vector, make it into a matrix\n",
    "        if len(X.shape) == 1:\n",
    "            X = X.reshape((1, X.shape[0]))\n",
    "\n",
    "        # Add a coloumn of zeros as the first coloumn of the design matrix, in order\n",
    "        # to add bias to our data\n",
    "        bias = np.ones((X.shape[0], 1)) * 0.01\n",
    "        X = np.hstack([bias, X])\n",
    "\n",
    "        # a^0, the nodes in the input layer (one a^0 for each row in X - where the\n",
    "        # exponent indicates layer number).\n",
    "        a = X\n",
    "        self.a_matrices.append(a)\n",
    "        self.z_matrices.append(a)\n",
    "\n",
    "        # The feed forward algorithm\n",
    "        for i in range(len(self.weights)):\n",
    "            if i < len(self.weights) - 1:\n",
    "                z = a @ self.weights[i]\n",
    "                self.z_matrices.append(z)\n",
    "                a = self.hidden_func(z)\n",
    "                # bias column again added to the data here\n",
    "                bias = np.ones((a.shape[0], 1)) * 0.01\n",
    "                a = np.hstack([bias, a])\n",
    "                self.a_matrices.append(a)\n",
    "            else:\n",
    "                try:\n",
    "                    # a^L, the nodes in our output layers\n",
    "                    z = a @ self.weights[i]\n",
    "                    a = self.output_func(z)\n",
    "                    self.a_matrices.append(a)\n",
    "                    self.z_matrices.append(z)\n",
    "                except Exception as OverflowError:\n",
    "                    print(\n",
    "                        \"OverflowError in fit() in FFNN\\nHOW TO DEBUG ERROR: Consider lowering your learning rate or scheduler specific parameters such as momentum, or check if your input values need scaling\"\n",
    "                    )\n",
    "\n",
    "        # this will be a^L\n",
    "        return a\n",
    "\n",
    "    def _backpropagate(self, X, t, lam):\n",
    "        \"\"\"\n",
    "        Description:\n",
    "        ------------\n",
    "            Performs the backpropagation algorithm. In other words, this method\n",
    "            calculates the gradient of all the layers starting at the\n",
    "            output layer, and moving from right to left accumulates the gradient until\n",
    "            the input layer is reached. Each layers respective weights are updated while\n",
    "            the algorithm propagates backwards from the output layer (auto-differentation in reverse mode).\n",
    "\n",
    "        Parameters:\n",
    "        ------------\n",
    "            I   X (np.ndarray): The design matrix, with n rows of p features each.\n",
    "            II  t (np.ndarray): The target vector, with n rows of p targets.\n",
    "            III lam (float32): regularization parameter used to punish the weights in case of overfitting\n",
    "\n",
    "        Returns:\n",
    "        ------------\n",
    "            No return value.\n",
    "\n",
    "        \"\"\"\n",
    "        out_derivative = derivate(self.output_func)\n",
    "        hidden_derivative = derivate(self.hidden_func)\n",
    "\n",
    "        for i in range(len(self.weights) - 1, -1, -1):\n",
    "            # delta terms for output\n",
    "            if i == len(self.weights) - 1:\n",
    "                # for multi-class classification\n",
    "                if (\n",
    "                    self.output_func.__name__ == \"softmax\"\n",
    "                ):\n",
    "                    delta_matrix = self.a_matrices[i + 1] - t\n",
    "                # for single class classification\n",
    "                else:\n",
    "                    cost_func_derivative = grad(self.cost_func(t))\n",
    "                    delta_matrix = out_derivative(\n",
    "                        self.z_matrices[i + 1]\n",
    "                    ) * cost_func_derivative(self.a_matrices[i + 1])\n",
    "\n",
    "            # delta terms for hidden layer\n",
    "            else:\n",
    "                delta_matrix = (\n",
    "                    self.weights[i + 1][1:, :] @ delta_matrix.T\n",
    "                ).T * hidden_derivative(self.z_matrices[i + 1])\n",
    "\n",
    "            # calculate gradient\n",
    "            gradient_weights = self.a_matrices[i][:, 1:].T @ delta_matrix\n",
    "            gradient_bias = np.sum(delta_matrix, axis=0).reshape(\n",
    "                1, delta_matrix.shape[1]\n",
    "            )\n",
    "\n",
    "            # regularization term\n",
    "            gradient_weights += self.weights[i][1:, :] * lam\n",
    "\n",
    "            # use scheduler\n",
    "            update_matrix = np.vstack(\n",
    "                [\n",
    "                    self.schedulers_bias[i].update_change(gradient_bias),\n",
    "                    self.schedulers_weight[i].update_change(gradient_weights),\n",
    "                ]\n",
    "            )\n",
    "\n",
    "            # update weights and bias\n",
    "            self.weights[i] -= update_matrix\n",
    "\n",
    "    def _accuracy(self, prediction: np.ndarray, target: np.ndarray):\n",
    "        \"\"\"\n",
    "        Description:\n",
    "        ------------\n",
    "            Calculates accuracy of given prediction to target\n",
    "\n",
    "        Parameters:\n",
    "        ------------\n",
    "            I   prediction (np.ndarray): vector of predicitons output network\n",
    "                (1s and 0s in case of classification, and real numbers in case of regression)\n",
    "            II  target (np.ndarray): vector of true values (What the network ideally should predict)\n",
    "\n",
    "        Returns:\n",
    "        ------------\n",
    "            A floating point number representing the percentage of correctly classified instances.\n",
    "        \"\"\"\n",
    "        assert prediction.size == target.size\n",
    "        return np.average((target == prediction))\n",
    "    def _set_classification(self):\n",
    "        \"\"\"\n",
    "        Description:\n",
    "        ------------\n",
    "            Decides if FFNN acts as classifier (True) og regressor (False),\n",
    "            sets self.classification during init()\n",
    "        \"\"\"\n",
    "        self.classification = False\n",
    "        if (\n",
    "            self.cost_func.__name__ == \"CostLogReg\"\n",
    "            or self.cost_func.__name__ == \"CostCrossEntropy\"\n",
    "        ):\n",
    "            self.classification = True\n",
    "\n",
    "    def _progress_bar(self, progression, **kwargs):\n",
    "        \"\"\"\n",
    "        Description:\n",
    "        ------------\n",
    "            Displays progress of training\n",
    "        \"\"\"\n",
    "        print_length = 40\n",
    "        num_equals = int(progression * print_length)\n",
    "        num_not = print_length - num_equals\n",
    "        arrow = \">\" if num_equals > 0 else \"\"\n",
    "        bar = \"[\" + \"=\" * (num_equals - 1) + arrow + \"-\" * num_not + \"]\"\n",
    "        perc_print = self._format(progression * 100, decimals=5)\n",
    "        line = f\"  {bar} {perc_print}% \"\n",
    "\n",
    "        for key in kwargs:\n",
    "            if not np.isnan(kwargs[key]):\n",
    "                value = self._format(kwargs[key], decimals=4)\n",
    "                line += f\"| {key}: {value} \"\n",
    "        sys.stdout.write(\"\\r\" + line)\n",
    "        sys.stdout.flush()\n",
    "        return len(line)\n",
    "\n",
    "    def _format(self, value, decimals=4):\n",
    "        \"\"\"\n",
    "        Description:\n",
    "        ------------\n",
    "            Formats decimal numbers for progress bar\n",
    "        \"\"\"\n",
    "        if value > 0:\n",
    "            v = value\n",
    "        elif value < 0:\n",
    "            v = -10 * value\n",
    "        else:\n",
    "            v = 1\n",
    "        n = 1 + math.floor(math.log10(v))\n",
    "        if n >= decimals - 1:\n",
    "            return str(round(value))\n",
    "        return f\"{value:.{decimals-n-1}f}\""
   ]
  },
  {
   "cell_type": "markdown",
   "id": "2d63ec5b",
   "metadata": {
    "editable": true
   },
   "source": [
    "Before we make a model, we will quickly generate a dataset we can use\n",
    "for our linear regression problem as shown below"
   ]
  },
  {
   "cell_type": "code",
   "execution_count": 31,
   "id": "85a6b185",
   "metadata": {
    "collapsed": false,
    "editable": true,
    "jupyter": {
     "outputs_hidden": false
    }
   },
   "outputs": [],
   "source": [
    "import autograd.numpy as np\n",
    "from sklearn.model_selection import train_test_split\n",
    "\n",
    "def SkrankeFunction(x, y):\n",
    "    return np.ravel(0 + 1*x + 2*y + 3*x**2 + 4*x*y + 5*y**2)\n",
    "\n",
    "def create_X(x, y, n):\n",
    "    if len(x.shape) > 1:\n",
    "        x = np.ravel(x)\n",
    "        y = np.ravel(y)\n",
    "\n",
    "    N = len(x)\n",
    "    l = int((n + 1) * (n + 2) / 2)  # Number of elements in beta\n",
    "    X = np.ones((N, l))\n",
    "\n",
    "    for i in range(1, n + 1):\n",
    "        q = int((i) * (i + 1) / 2)\n",
    "        for k in range(i + 1):\n",
    "            X[:, q + k] = (x ** (i - k)) * (y**k)\n",
    "\n",
    "    return X\n",
    "\n",
    "step=0.5\n",
    "x = np.arange(0, 1, step)\n",
    "y = np.arange(0, 1, step)\n",
    "x, y = np.meshgrid(x, y)\n",
    "target = SkrankeFunction(x, y)\n",
    "target = target.reshape(target.shape[0], 1)\n",
    "\n",
    "poly_degree=3\n",
    "X = create_X(x, y, poly_degree)\n",
    "\n",
    "X_train, X_test, t_train, t_test = train_test_split(X, target)"
   ]
  },
  {
   "cell_type": "markdown",
   "id": "f8842209",
   "metadata": {
    "editable": true
   },
   "source": [
    "Now that we have our dataset ready for the regression, we can create\n",
    "our regressor. Note that with the seed parameter, we can make sure our\n",
    "results stay the same every time we run the neural network. For\n",
    "inititialization, we simply specify the dimensions (we wish the amount\n",
    "of input nodes to be equal to the datapoints, and the output to\n",
    "predict one value)."
   ]
  },
  {
   "cell_type": "code",
   "execution_count": 32,
   "id": "b7b14d8f",
   "metadata": {
    "collapsed": false,
    "editable": true,
    "jupyter": {
     "outputs_hidden": false
    }
   },
   "outputs": [],
   "source": [
    "input_nodes = X_train.shape[1]\n",
    "output_nodes = 1\n",
    "\n",
    "linear_regression = FFNN((input_nodes, output_nodes), output_func=identity, cost_func=CostOLS, seed=2023)"
   ]
  },
  {
   "cell_type": "markdown",
   "id": "3e35cc67",
   "metadata": {
    "editable": true
   },
   "source": [
    "We then fit our model with our training data using the scheduler of our choice."
   ]
  },
  {
   "cell_type": "code",
   "execution_count": 33,
   "id": "c2b3e7a3",
   "metadata": {
    "collapsed": false,
    "editable": true,
    "jupyter": {
     "outputs_hidden": false
    }
   },
   "outputs": [],
   "source": [
    "linear_regression.reset_weights() # reset weights such that previous runs or reruns don't affect the weights\n",
    "\n",
    "scheduler = Constant(eta=1e-3)\n",
    "scores = linear_regression.fit(X_train, t_train, scheduler)"
   ]
  },
  {
   "cell_type": "markdown",
   "id": "9d0eb8b2",
   "metadata": {
    "editable": true
   },
   "source": [
    "Due to the progress bar we can see the MSE (train_error) throughout\n",
    "the FFNN's training. Note that the fit() function has some optional\n",
    "parameters with defualt arguments. For example, the regularization\n",
    "hyperparameter can be left ignored if not needed, and equally the FFNN\n",
    "will by default run for 100 epochs. These can easily be changed, such\n",
    "as for example:"
   ]
  },
  {
   "cell_type": "code",
   "execution_count": 34,
   "id": "19fd68fe",
   "metadata": {
    "collapsed": false,
    "editable": true,
    "jupyter": {
     "outputs_hidden": false
    }
   },
   "outputs": [],
   "source": [
    "linear_regression.reset_weights() # reset weights such that previous runs or reruns don't affect the weights\n",
    "\n",
    "scores = linear_regression.fit(X_train, t_train, scheduler, lam=1e-4, epochs=1000)"
   ]
  },
  {
   "cell_type": "markdown",
   "id": "ecbc4c88",
   "metadata": {
    "editable": true
   },
   "source": [
    "We see that given more epochs to train on, the regressor reaches a lower MSE.\n",
    "\n",
    "Let us then switch to a binary classification. We use a binary\n",
    "classification dataset, and follow a similar setup to the regression\n",
    "case."
   ]
  },
  {
   "cell_type": "code",
   "execution_count": 35,
   "id": "c62f0877",
   "metadata": {
    "collapsed": false,
    "editable": true,
    "jupyter": {
     "outputs_hidden": false
    }
   },
   "outputs": [],
   "source": [
    "from sklearn.datasets import load_breast_cancer\n",
    "from sklearn.preprocessing import MinMaxScaler\n",
    "\n",
    "wisconsin = load_breast_cancer()\n",
    "X = wisconsin.data\n",
    "target = wisconsin.target\n",
    "target = target.reshape(target.shape[0], 1)\n",
    "\n",
    "X_train, X_val, t_train, t_val = train_test_split(X, target)\n",
    "\n",
    "scaler = MinMaxScaler()\n",
    "scaler.fit(X_train)\n",
    "X_train = scaler.transform(X_train)\n",
    "X_val = scaler.transform(X_val)"
   ]
  },
  {
   "cell_type": "code",
   "execution_count": 36,
   "id": "5b955b7a",
   "metadata": {
    "collapsed": false,
    "editable": true,
    "jupyter": {
     "outputs_hidden": false
    }
   },
   "outputs": [],
   "source": [
    "input_nodes = X_train.shape[1]\n",
    "output_nodes = 1\n",
    "\n",
    "logistic_regression = FFNN((input_nodes, output_nodes), output_func=sigmoid, cost_func=CostLogReg, seed=2023)"
   ]
  },
  {
   "cell_type": "markdown",
   "id": "e4c3e9cc",
   "metadata": {
    "editable": true
   },
   "source": [
    "We will now make use of our validation data by passing it into our fit function as a keyword argument"
   ]
  },
  {
   "cell_type": "code",
   "execution_count": 37,
   "id": "4e994594",
   "metadata": {
    "collapsed": false,
    "editable": true,
    "jupyter": {
     "outputs_hidden": false
    }
   },
   "outputs": [],
   "source": [
    "logistic_regression.reset_weights() # reset weights such that previous runs or reruns don't affect the weights\n",
    "\n",
    "scheduler = Adam(eta=1e-3, rho=0.9, rho2=0.999)\n",
    "scores = logistic_regression.fit(X_train, t_train, scheduler, epochs=1000, X_val=X_val, t_val=t_val)"
   ]
  },
  {
   "cell_type": "markdown",
   "id": "690debd0",
   "metadata": {
    "editable": true
   },
   "source": [
    "Finally, we will create a neural network with 2 hidden layers with activation functions."
   ]
  },
  {
   "cell_type": "code",
   "execution_count": 38,
   "id": "ea04ae66",
   "metadata": {
    "collapsed": false,
    "editable": true,
    "jupyter": {
     "outputs_hidden": false
    }
   },
   "outputs": [],
   "source": [
    "input_nodes = X_train.shape[1]\n",
    "hidden_nodes1 = 100\n",
    "hidden_nodes2 = 30\n",
    "output_nodes = 1\n",
    "\n",
    "dims = (input_nodes, hidden_nodes1, hidden_nodes2, output_nodes)\n",
    "\n",
    "neural_network = FFNN(dims, hidden_func=RELU, output_func=sigmoid, cost_func=CostLogReg, seed=2023)"
   ]
  },
  {
   "cell_type": "code",
   "execution_count": 39,
   "id": "cd892db0",
   "metadata": {
    "collapsed": false,
    "editable": true,
    "jupyter": {
     "outputs_hidden": false
    }
   },
   "outputs": [],
   "source": [
    "neural_network.reset_weights() # reset weights such that previous runs or reruns don't affect the weights\n",
    "\n",
    "scheduler = Adam(eta=1e-4, rho=0.9, rho2=0.999)\n",
    "scores = neural_network.fit(X_train, t_train, scheduler, epochs=1000, X_val=X_val, t_val=t_val)"
   ]
  },
  {
   "cell_type": "markdown",
   "id": "c85e6aa4",
   "metadata": {
    "editable": true
   },
   "source": [
    "### Multiclass classification\n",
    "\n",
    "Finally, we will demonstrate the use case of multiclass classification\n",
    "using our FFNN with the famous MNIST dataset, which contain images of\n",
    "digits between the range of 0 to 9."
   ]
  },
  {
   "cell_type": "code",
   "execution_count": 40,
   "id": "1dc44b4d",
   "metadata": {
    "collapsed": false,
    "editable": true,
    "jupyter": {
     "outputs_hidden": false
    }
   },
   "outputs": [],
   "source": [
    "from sklearn.datasets import load_digits\n",
    "\n",
    "def onehot(target: np.ndarray):\n",
    "    onehot = np.zeros((target.size, target.max() + 1))\n",
    "    onehot[np.arange(target.size), target] = 1\n",
    "    return onehot\n",
    "\n",
    "digits = load_digits()\n",
    "\n",
    "X = digits.data\n",
    "target = digits.target\n",
    "target = onehot(target)\n",
    "\n",
    "input_nodes = 64\n",
    "hidden_nodes1 = 100\n",
    "hidden_nodes2 = 30\n",
    "output_nodes = 10\n",
    "\n",
    "dims = (input_nodes, hidden_nodes1, hidden_nodes2, output_nodes)\n",
    "\n",
    "multiclass = FFNN(dims, hidden_func=LRELU, output_func=softmax, cost_func=CostCrossEntropy)\n",
    "\n",
    "multiclass.reset_weights() # reset weights such that previous runs or reruns don't affect the weights\n",
    "\n",
    "scheduler = Adam(eta=1e-4, rho=0.9, rho2=0.999)\n",
    "scores = multiclass.fit(X, target, scheduler, epochs=1000)"
   ]
  },
  {
   "cell_type": "markdown",
   "id": "785a6539",
   "metadata": {
    "editable": true
   },
   "source": [
    "## Testing the XOR gate and other gates\n",
    "\n",
    "Let us now use our code to test the XOR gate."
   ]
  },
  {
   "cell_type": "code",
   "execution_count": 41,
   "id": "f2137088",
   "metadata": {
    "collapsed": false,
    "editable": true,
    "jupyter": {
     "outputs_hidden": false
    }
   },
   "outputs": [],
   "source": [
    "X = np.array([ [0, 0], [0, 1], [1, 0],[1, 1]],dtype=np.float64)\n",
    "\n",
    "# The XOR gate\n",
    "yXOR = np.array( [[ 0], [1] ,[1], [0]])\n",
    "\n",
    "input_nodes = X.shape[1]\n",
    "output_nodes = 1\n",
    "\n",
    "logistic_regression = FFNN((input_nodes, output_nodes), output_func=sigmoid, cost_func=CostLogReg, seed=2023)\n",
    "logistic_regression.reset_weights() # reset weights such that previous runs or reruns don't affect the weights\n",
    "scheduler = Adam(eta=1e-1, rho=0.9, rho2=0.999)\n",
    "scores = logistic_regression.fit(X, yXOR, scheduler, epochs=1000)"
   ]
  },
  {
   "cell_type": "markdown",
   "id": "6caa78c7",
   "metadata": {
    "editable": true
   },
   "source": [
    "Not bad, but the results depend strongly on the learning reate. Try different learning rates."
   ]
  }
 ],
 "metadata": {
  "kernelspec": {
   "display_name": "Python 3 (ipykernel)",
   "language": "python",
   "name": "python3"
  },
  "language_info": {
   "codemirror_mode": {
    "name": "ipython",
    "version": 3
   },
   "file_extension": ".py",
   "mimetype": "text/x-python",
   "name": "python",
   "nbconvert_exporter": "python",
   "pygments_lexer": "ipython3",
   "version": "3.9.15"
  }
 },
 "nbformat": 4,
 "nbformat_minor": 5
}
