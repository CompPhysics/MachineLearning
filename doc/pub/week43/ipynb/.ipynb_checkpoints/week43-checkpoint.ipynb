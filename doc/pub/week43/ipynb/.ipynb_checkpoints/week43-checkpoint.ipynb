{
 "cells": [
  {
   "cell_type": "markdown",
   "id": "b10156d4",
   "metadata": {
    "editable": true
   },
   "source": [
    "<!-- HTML file automatically generated from DocOnce source (https://github.com/doconce/doconce/)\n",
    "doconce format html week43.do.txt --no_mako -->\n",
    "<!-- dom:TITLE: Week 43: Deep Learning: Constructing a Neural Network code and solving differential equations -->"
   ]
  },
  {
   "cell_type": "markdown",
   "id": "f85baa2f",
   "metadata": {
    "editable": true
   },
   "source": [
    "# Week 43: Deep Learning: Constructing a Neural Network code and solving differential equations\n",
    "**Morten Hjorth-Jensen**, Department of Physics, University of Oslo, Norway\n",
    "\n",
    "Date: **October 20, 2025**"
   ]
  },
  {
   "cell_type": "markdown",
   "id": "543fad4a",
   "metadata": {
    "editable": true
   },
   "source": [
    "## Plans for week 43\n",
    "\n",
    "**Material for the lecture on Monday October 20, 2025.**\n",
    "\n",
    "1. Reminder from last week, see also lecture notes from week 42 at <https://compphysics.github.io/MachineLearning/doc/LectureNotes/_build/html/week42.html> as well as those from week 41, see see <https://compphysics.github.io/MachineLearning/doc/LectureNotes/_build/html/week41.html>. \n",
    "\n",
    "2. Building our own Feed-forward Neural Network.\n",
    "\n",
    "3. Coding examples using Tensorflow/Keras and Pytorch examples. The Pytorch examples are adapted from Rashcka's text, see chapters 11-13.. \n",
    "\n",
    "4. Start discussions on how to use neural networks for solving  differential equations (ordinary and partial ones). This topic continues next week as well.\n",
    "<!-- * Video of lecture at <https://youtu.be/vkBNTn-MLqs> -->\n",
    "<!-- * Whiteboard notes on solving differential equations at <https://github.com/CompPhysics/MachineLearning/blob/master/doc/HandWrittenNotes/2025/FYSSTKweek43.pdf> -->"
   ]
  },
  {
   "cell_type": "markdown",
   "id": "72acb4e9",
   "metadata": {
    "editable": true
   },
   "source": [
    "## Exercises and lab session week 43\n",
    "**Lab sessions on Tuesday and Wednesday.**\n",
    "\n",
    "1. Work  on writing your own neural network code and discussions of project 2. If you didn't get time to do the exercises from the two last weeks, we recommend doing so as these exercises give you the basic elements of a neural network code.\n",
    "\n",
    "2. The exercises this week are tailored to the optional part of project 2, and deal with studying ways to display results from classification problems"
   ]
  },
  {
   "cell_type": "markdown",
   "id": "361768dc",
   "metadata": {
    "editable": true
   },
   "source": [
    "## Using Automatic differentiation\n",
    "\n",
    "In our discussions of ordinary differential equations and neural network codes\n",
    "we will also study the usage of Autograd, see for example <https://www.youtube.com/watch?v=fRf4l5qaX1M&ab_channel=AlexSmola> in computing gradients for deep learning. For the documentation of Autograd and examples see the Autograd documentation at <https://github.com/HIPS/autograd> and the lecture slides from week 41, see <https://compphysics.github.io/MachineLearning/doc/LectureNotes/_build/html/week41.html>."
   ]
  },
  {
   "cell_type": "markdown",
   "id": "3e058671",
   "metadata": {
    "editable": true
   },
   "source": [
    "## Back propagation and automatic differentiation\n",
    "\n",
    "For more details on the back propagation algorithm and automatic differentiation see\n",
    "1. <https://www.jmlr.org/papers/volume18/17-468/17-468.pdf>\n",
    "\n",
    "2. <https://deepimaging.github.io/lectures/lecture_11_Backpropagation.pdf>\n",
    "\n",
    "3. Slides 12-44 at <http://cs231n.stanford.edu/slides/2017/cs231n_2017_lecture4.pdf>"
   ]
  },
  {
   "cell_type": "markdown",
   "id": "8cbbf2bf",
   "metadata": {
    "editable": true
   },
   "source": [
    "## Lecture Monday  October 20"
   ]
  },
  {
   "cell_type": "markdown",
   "id": "78e2de21",
   "metadata": {
    "editable": true
   },
   "source": [
    "## Setting up the back propagation algorithm and algorithm for a feed forward NN, initalizations\n",
    "This is a reminder from last week.\n",
    "\n",
    "**The architecture (our model).**\n",
    "\n",
    "1. Set up your inputs and outputs (scalars, vectors, matrices or higher-order arrays)\n",
    "\n",
    "2. Define the number of hidden layers and hidden nodes\n",
    "\n",
    "3. Define activation functions for hidden layers and output layers\n",
    "\n",
    "4. Define optimizer (plan learning rate, momentum, ADAgrad, RMSprop, ADAM etc) and array of initial learning rates\n",
    "\n",
    "5. Define cost function and possible regularization terms with hyperparameters\n",
    "\n",
    "6. Initialize weights and biases\n",
    "\n",
    "7. Fix number of iterations for the feed forward part and back propagation part"
   ]
  },
  {
   "cell_type": "markdown",
   "id": "41a3dc23",
   "metadata": {
    "editable": true
   },
   "source": [
    "## Setting up the back propagation algorithm, part 1\n",
    "\n",
    "Let us write this out in the form of an algorithm.\n",
    "\n",
    "**First**, we set up the input data $\\boldsymbol{x}$ and the activations\n",
    "$\\boldsymbol{z}_1$ of the input layer and compute the activation function and\n",
    "the pertinent outputs $\\boldsymbol{a}^1$.\n",
    "\n",
    "**Secondly**, we perform then the feed forward till we reach the output\n",
    "layer and compute all $\\boldsymbol{z}_l$ of the input layer and compute the\n",
    "activation function and the pertinent outputs $\\boldsymbol{a}^l$ for\n",
    "$l=1,2,3,\\dots,L$.\n",
    "\n",
    "**Notation**: The first hidden layer has $l=1$ as label and the final output layer has $l=L$."
   ]
  },
  {
   "cell_type": "markdown",
   "id": "0e4ac2c0",
   "metadata": {
    "editable": true
   },
   "source": [
    "## Setting up the back propagation algorithm, part 2\n",
    "\n",
    "Thereafter we compute the ouput error $\\boldsymbol{\\delta}^L$ by computing all"
   ]
  },
  {
   "cell_type": "markdown",
   "id": "e9fd2f83",
   "metadata": {
    "editable": true
   },
   "source": [
    "$$\n",
    "\\delta_j^L = \\sigma'(z_j^L)\\frac{\\partial {\\cal C}}{\\partial (a_j^L)}.\n",
    "$$"
   ]
  },
  {
   "cell_type": "markdown",
   "id": "16e2b900",
   "metadata": {
    "editable": true
   },
   "source": [
    "Then we compute the back propagate error for each $l=L-1,L-2,\\dots,1$ as"
   ]
  },
  {
   "cell_type": "markdown",
   "id": "f9f4b9d8",
   "metadata": {
    "editable": true
   },
   "source": [
    "$$\n",
    "\\delta_j^l = \\sum_k \\delta_k^{l+1}w_{kj}^{l+1}\\sigma'(z_j^l).\n",
    "$$"
   ]
  },
  {
   "cell_type": "markdown",
   "id": "01be6441",
   "metadata": {
    "editable": true
   },
   "source": [
    "## Setting up the Back propagation algorithm, part 3\n",
    "\n",
    "Finally, we update the weights and the biases using gradient descent\n",
    "for each $l=L-1,L-2,\\dots,1$ (the first hidden layer) and update the weights and biases\n",
    "according to the rules"
   ]
  },
  {
   "cell_type": "markdown",
   "id": "ce898b85",
   "metadata": {
    "editable": true
   },
   "source": [
    "$$\n",
    "w_{ij}^l\\leftarrow  = w_{ij}^l- \\eta \\delta_j^la_i^{l-1},\n",
    "$$"
   ]
  },
  {
   "cell_type": "markdown",
   "id": "4e2e7314",
   "metadata": {
    "editable": true
   },
   "source": [
    "$$\n",
    "b_j^l \\leftarrow b_j^l-\\eta \\frac{\\partial {\\cal C}}{\\partial b_j^l}=b_j^l-\\eta \\delta_j^l,\n",
    "$$"
   ]
  },
  {
   "cell_type": "markdown",
   "id": "b7114295",
   "metadata": {
    "editable": true
   },
   "source": [
    "with $\\eta$ being the learning rate."
   ]
  },
  {
   "cell_type": "markdown",
   "id": "69dfa048",
   "metadata": {
    "editable": true
   },
   "source": [
    "## Updating the gradients\n",
    "\n",
    "With the back propagate error for each $l=L-1,L-2,\\dots,1$ as"
   ]
  },
  {
   "cell_type": "markdown",
   "id": "6efa469c",
   "metadata": {
    "editable": true
   },
   "source": [
    "$$\n",
    "\\delta_j^l = \\sum_k \\delta_k^{l+1}w_{kj}^{l+1}\\sigma'(z_j^l),\n",
    "$$"
   ]
  },
  {
   "cell_type": "markdown",
   "id": "076e4937",
   "metadata": {
    "editable": true
   },
   "source": [
    "we update the weights and the biases using gradient descent for each $l=L-1,L-2,\\dots,1$ and update the weights and biases according to the rules"
   ]
  },
  {
   "cell_type": "markdown",
   "id": "1072f5a1",
   "metadata": {
    "editable": true
   },
   "source": [
    "$$\n",
    "w_{ij}^l\\leftarrow  = w_{ij}^l- \\eta \\delta_j^la_i^{l-1},\n",
    "$$"
   ]
  },
  {
   "cell_type": "markdown",
   "id": "f77a7074",
   "metadata": {
    "editable": true
   },
   "source": [
    "$$\n",
    "b_j^l \\leftarrow b_j^l-\\eta \\frac{\\partial {\\cal C}}{\\partial b_j^l}=b_j^l-\\eta \\delta_j^l,\n",
    "$$"
   ]
  },
  {
   "cell_type": "markdown",
   "id": "f12effab",
   "metadata": {
    "editable": true
   },
   "source": [
    "## Activation functions\n",
    "\n",
    "A property that characterizes a neural network, other than its\n",
    "connectivity, is the choice of activation function(s).  The following\n",
    "restrictions are imposed on an activation function for an FFNN to\n",
    "fulfill the universal approximation theorem\n",
    "\n",
    "  * Non-constant\n",
    "\n",
    "  * Bounded\n",
    "\n",
    "  * Monotonically-increasing\n",
    "\n",
    "  * Continuous"
   ]
  },
  {
   "cell_type": "markdown",
   "id": "31eb54b1",
   "metadata": {
    "editable": true
   },
   "source": [
    "### Activation functions, examples\n",
    "\n",
    "Typical examples are the logistic *Sigmoid*"
   ]
  },
  {
   "cell_type": "markdown",
   "id": "7a549168",
   "metadata": {
    "editable": true
   },
   "source": [
    "$$\n",
    "\\sigma(x) = \\frac{1}{1 + e^{-x}},\n",
    "$$"
   ]
  },
  {
   "cell_type": "markdown",
   "id": "ce35ae73",
   "metadata": {
    "editable": true
   },
   "source": [
    "and the *hyperbolic tangent* function"
   ]
  },
  {
   "cell_type": "markdown",
   "id": "d6cdfc89",
   "metadata": {
    "editable": true
   },
   "source": [
    "$$\n",
    "\\sigma(x) = \\tanh(x)\n",
    "$$"
   ]
  },
  {
   "cell_type": "markdown",
   "id": "ddd59bb0",
   "metadata": {
    "editable": true
   },
   "source": [
    "## The RELU function family\n",
    "\n",
    "The ReLU activation function suffers from a problem known as the dying\n",
    "ReLUs: during training, some neurons effectively die, meaning they\n",
    "stop outputting anything other than 0.\n",
    "\n",
    "In some cases, you may find that half of your network’s neurons are\n",
    "dead, especially if you used a large learning rate. During training,\n",
    "if a neuron’s weights get updated such that the weighted sum of the\n",
    "neuron’s inputs is negative, it will start outputting 0. When this\n",
    "happen, the neuron is unlikely to come back to life since the gradient\n",
    "of the ReLU function is 0 when its input is negative."
   ]
  },
  {
   "cell_type": "markdown",
   "id": "f2a78e55",
   "metadata": {
    "editable": true
   },
   "source": [
    "## ELU function\n",
    "\n",
    "To solve this problem, nowadays practitioners use a variant of the\n",
    "ReLU function, such as the leaky ReLU discussed above or the so-called\n",
    "exponential linear unit (ELU) function"
   ]
  },
  {
   "cell_type": "markdown",
   "id": "cde73faf",
   "metadata": {
    "editable": true
   },
   "source": [
    "$$\n",
    "ELU(z) = \\left\\{\\begin{array}{cc} \\alpha\\left( \\exp{(z)}-1\\right) & z < 0,\\\\  z & z \\ge 0.\\end{array}\\right.\n",
    "$$"
   ]
  },
  {
   "cell_type": "markdown",
   "id": "08048672",
   "metadata": {
    "editable": true
   },
   "source": [
    "## Which activation function should we use?\n",
    "\n",
    "In general it seems that the ELU activation function is better than\n",
    "the leaky ReLU function (and its variants), which is better than\n",
    "ReLU. ReLU performs better than $\\tanh$ which in turn performs better\n",
    "than the logistic function.\n",
    "\n",
    "If runtime performance is an issue, then you may opt for the leaky\n",
    "ReLU function over the ELU function If you don’t want to tweak yet\n",
    "another hyperparameter, you may just use the default $\\alpha$ of\n",
    "$0.01$ for the leaky ReLU, and $1$ for ELU. If you have spare time and\n",
    "computing power, you can use cross-validation or bootstrap to evaluate\n",
    "other activation functions."
   ]
  },
  {
   "cell_type": "markdown",
   "id": "a7085280",
   "metadata": {
    "editable": true
   },
   "source": [
    "## More on activation functions, output layers\n",
    "\n",
    "In most cases you can use the ReLU activation function in the hidden\n",
    "layers (or one of its variants).\n",
    "\n",
    "It is a bit faster to compute than other activation functions, and the\n",
    "gradient descent optimization does in general not get stuck.\n",
    "\n",
    "**For the output layer:**\n",
    "\n",
    "* For classification the softmax activation function is generally a good choice for classification tasks (when the classes are mutually exclusive).\n",
    "\n",
    "* For regression tasks, you can simply use no activation function at all."
   ]
  },
  {
   "cell_type": "markdown",
   "id": "291e4fb2",
   "metadata": {
    "editable": true
   },
   "source": [
    "## Building neural networks in Tensorflow and Keras\n",
    "\n",
    "Now we want  to build on the experience gained from our neural network implementation in NumPy and scikit-learn\n",
    "and use it to construct a neural network in Tensorflow. Once we have constructed a neural network in NumPy\n",
    "and Tensorflow, building one in Keras is really quite trivial, though the performance may suffer.  \n",
    "\n",
    "In our previous example we used only one hidden layer, and in this we will use two. From this it should be quite\n",
    "clear how to build one using an arbitrary number of hidden layers, using data structures such as Python lists or\n",
    "NumPy arrays."
   ]
  },
  {
   "cell_type": "markdown",
   "id": "a8c5f4c2",
   "metadata": {
    "editable": true
   },
   "source": [
    "## Tensorflow\n",
    "\n",
    "Tensorflow is an open source library machine learning library\n",
    "developed by the Google Brain team for internal use. It was released\n",
    "under the Apache 2.0 open source license in November 9, 2015.\n",
    "\n",
    "Tensorflow is a computational framework that allows you to construct\n",
    "machine learning models at different levels of abstraction, from\n",
    "high-level, object-oriented APIs like Keras, down to the C++ kernels\n",
    "that Tensorflow is built upon. The higher levels of abstraction are\n",
    "simpler to use, but less flexible, and our choice of implementation\n",
    "should reflect the problems we are trying to solve.\n",
    "\n",
    "[Tensorflow uses](https://www.tensorflow.org/guide/graphs) so-called graphs to represent your computation\n",
    "in terms of the dependencies between individual operations, such that you first build a Tensorflow *graph*\n",
    "to represent your model, and then create a Tensorflow *session* to run the graph.\n",
    "\n",
    "In this guide we will analyze the same data as we did in our NumPy and\n",
    "scikit-learn tutorial, gathered from the MNIST database of images. We\n",
    "will give an introduction to the lower level Python Application\n",
    "Program Interfaces (APIs), and see how we use them to build our graph.\n",
    "Then we will build (effectively) the same graph in Keras, to see just\n",
    "how simple solving a machine learning problem can be.\n",
    "\n",
    "To install tensorflow on Unix/Linux systems, use pip as"
   ]
  },
  {
   "cell_type": "code",
   "execution_count": 1,
   "id": "9a0aac03",
   "metadata": {
    "collapsed": false,
    "editable": true,
    "jupyter": {
     "outputs_hidden": false
    }
   },
   "outputs": [],
   "source": [
    "pip3 install tensorflow"
   ]
  },
  {
   "cell_type": "markdown",
   "id": "ca0c7865",
   "metadata": {
    "editable": true
   },
   "source": [
    "and/or if you use **anaconda**, just write (or install from the graphical user interface)\n",
    "(current release of CPU-only TensorFlow)"
   ]
  },
  {
   "cell_type": "code",
   "execution_count": 2,
   "id": "d0c581f7",
   "metadata": {
    "collapsed": false,
    "editable": true,
    "jupyter": {
     "outputs_hidden": false
    }
   },
   "outputs": [],
   "source": [
    "conda create -n tf tensorflow\n",
    "conda activate tf"
   ]
  },
  {
   "cell_type": "markdown",
   "id": "fe086bc9",
   "metadata": {
    "editable": true
   },
   "source": [
    "To install the current release of GPU TensorFlow"
   ]
  },
  {
   "cell_type": "code",
   "execution_count": 3,
   "id": "f551fad9",
   "metadata": {
    "collapsed": false,
    "editable": true,
    "jupyter": {
     "outputs_hidden": false
    }
   },
   "outputs": [],
   "source": [
    "conda create -n tf-gpu tensorflow-gpu\n",
    "conda activate tf-gpu"
   ]
  },
  {
   "cell_type": "markdown",
   "id": "58152cef",
   "metadata": {
    "editable": true
   },
   "source": [
    "## Using Keras\n",
    "\n",
    "Keras is a high level [neural network](https://en.wikipedia.org/wiki/Application_programming_interface)\n",
    "that supports Tensorflow, CTNK and Theano as backends.  \n",
    "If you have Anaconda installed you may run the following command"
   ]
  },
  {
   "cell_type": "code",
   "execution_count": 4,
   "id": "579b6a4a",
   "metadata": {
    "collapsed": false,
    "editable": true,
    "jupyter": {
     "outputs_hidden": false
    }
   },
   "outputs": [],
   "source": [
    "conda install keras"
   ]
  },
  {
   "cell_type": "markdown",
   "id": "5da15206",
   "metadata": {
    "editable": true
   },
   "source": [
    "You can look up the [instructions here](https://keras.io/) for more information.\n",
    "\n",
    "We will to a large extent use **keras** in this course."
   ]
  },
  {
   "cell_type": "markdown",
   "id": "cc970d32",
   "metadata": {
    "editable": true
   },
   "source": [
    "## Collect and pre-process data\n",
    "\n",
    "Let us look again at the MINST data set."
   ]
  },
  {
   "cell_type": "code",
   "execution_count": 1,
   "id": "a4f2c8a8",
   "metadata": {
    "collapsed": false,
    "editable": true,
    "jupyter": {
     "outputs_hidden": false
    }
   },
   "outputs": [
    {
     "name": "stdout",
     "output_type": "stream",
     "text": [
      "inputs = (n_inputs, pixel_width, pixel_height) = (1797, 8, 8)\n",
      "labels = (n_inputs) = (1797,)\n",
      "X = (n_inputs, n_features) = (1797, 64)\n"
     ]
    },
    {
     "data": {
      "image/png": "[encoded data removed]",
      "text/plain": [
       "<Figure size 1200x1200 with 5 Axes>"
      ]
     },
     "metadata": {},
     "output_type": "display_data"
    }
   ],
   "source": [
    "%matplotlib inline\n",
    "\n",
    "# import necessary packages\n",
    "import numpy as np\n",
    "import matplotlib.pyplot as plt\n",
    "import tensorflow as tf\n",
    "from sklearn import datasets\n",
    "\n",
    "\n",
    "# ensure the same random numbers appear every time\n",
    "np.random.seed(0)\n",
    "\n",
    "# display images in notebook\n",
    "%matplotlib inline\n",
    "plt.rcParams['figure.figsize'] = (12,12)\n",
    "\n",
    "\n",
    "# download MNIST dataset\n",
    "digits = datasets.load_digits()\n",
    "\n",
    "# define inputs and labels\n",
    "inputs = digits.images\n",
    "labels = digits.target\n",
    "\n",
    "print(\"inputs = (n_inputs, pixel_width, pixel_height) = \" + str(inputs.shape))\n",
    "print(\"labels = (n_inputs) = \" + str(labels.shape))\n",
    "\n",
    "\n",
    "# flatten the image\n",
    "# the value -1 means dimension is inferred from the remaining dimensions: 8x8 = 64\n",
    "n_inputs = len(inputs)\n",
    "inputs = inputs.reshape(n_inputs, -1)\n",
    "print(\"X = (n_inputs, n_features) = \" + str(inputs.shape))\n",
    "\n",
    "\n",
    "# choose some random images to display\n",
    "indices = np.arange(n_inputs)\n",
    "random_indices = np.random.choice(indices, size=5)\n",
    "\n",
    "for i, image in enumerate(digits.images[random_indices]):\n",
    "    plt.subplot(1, 5, i+1)\n",
    "    plt.axis('off')\n",
    "    plt.imshow(image, cmap=plt.cm.gray_r, interpolation='nearest')\n",
    "    plt.title(\"Label: %d\" % digits.target[random_indices[i]])\n",
    "plt.show()"
   ]
  },
  {
   "cell_type": "code",
   "execution_count": 2,
   "id": "d0c06f34",
   "metadata": {
    "collapsed": false,
    "editable": true,
    "jupyter": {
     "outputs_hidden": false
    }
   },
   "outputs": [],
   "source": [
    "from tensorflow.keras.layers import Input\n",
    "from tensorflow.keras.models import Sequential      #This allows appending layers to existing models\n",
    "from tensorflow.keras.layers import Dense           #This allows defining the characteristics of a particular layer\n",
    "from tensorflow.keras import optimizers             #This allows using whichever optimiser we want (sgd,adam,RMSprop)\n",
    "from tensorflow.keras import regularizers           #This allows using whichever regularizer we want (l1,l2,l1_l2)\n",
    "from tensorflow.keras.utils import to_categorical   #This allows using categorical cross entropy as the cost function\n",
    "\n",
    "from sklearn.model_selection import train_test_split\n",
    "\n",
    "# one-hot representation of labels\n",
    "labels = to_categorical(labels)\n",
    "\n",
    "# split into train and test data\n",
    "train_size = 0.8\n",
    "test_size = 1 - train_size\n",
    "X_train, X_test, Y_train, Y_test = train_test_split(inputs, labels, train_size=train_size,\n",
    "                                                    test_size=test_size)"
   ]
  },
  {
   "cell_type": "code",
   "execution_count": 3,
   "id": "8272ca95",
   "metadata": {
    "collapsed": false,
    "editable": true,
    "jupyter": {
     "outputs_hidden": false
    }
   },
   "outputs": [],
   "source": [
    "\n",
    "epochs = 100\n",
    "batch_size = 100\n",
    "n_neurons_layer1 = 100\n",
    "n_neurons_layer2 = 50\n",
    "n_categories = 10\n",
    "eta_vals = np.logspace(-5, 1, 7)\n",
    "lmbd_vals = np.logspace(-5, 1, 7)\n",
    "def create_neural_network_keras(n_neurons_layer1, n_neurons_layer2, n_categories, eta, lmbd):\n",
    "    model = Sequential()\n",
    "    model.add(Dense(n_neurons_layer1, activation='sigmoid', kernel_regularizer=regularizers.l2(lmbd)))\n",
    "    model.add(Dense(n_neurons_layer2, activation='sigmoid', kernel_regularizer=regularizers.l2(lmbd)))\n",
    "    model.add(Dense(n_categories, activation='softmax'))\n",
    "    \n",
    "    sgd = optimizers.SGD(learning_rate=eta)\n",
    "    model.compile(loss='categorical_crossentropy', optimizer=sgd, metrics=['accuracy'])\n",
    "    \n",
    "    return model"
   ]
  },
  {
   "cell_type": "code",
   "execution_count": 4,
   "id": "616613a7",
   "metadata": {
    "collapsed": false,
    "editable": true,
    "jupyter": {
     "outputs_hidden": false
    }
   },
   "outputs": [
    {
     "name": "stderr",
     "output_type": "stream",
     "text": [
      "WARNING:absl:At this time, the v2.11+ optimizer `tf.keras.optimizers.SGD` runs slowly on M1/M2 Macs, please use the legacy Keras optimizer instead, located at `tf.keras.optimizers.legacy.SGD`.\n",
      "WARNING:absl:There is a known slowdown when using v2.11+ Keras optimizers on M1/M2 Macs. Falling back to the legacy Keras optimizer, i.e., `tf.keras.optimizers.legacy.SGD`.\n",
      "2025-10-20 13:19:24.847167: W tensorflow/tsl/platform/profile_utils/cpu_utils.cc:128] Failed to get CPU frequency: 0 Hz\n"
     ]
    },
    {
     "name": "stdout",
     "output_type": "stream",
     "text": [
      "12/12 [==============================] - 1s 77ms/step - loss: 2.3648 - accuracy: 0.0833\n"
     ]
    },
    {
     "name": "stderr",
     "output_type": "stream",
     "text": [
      "WARNING:absl:At this time, the v2.11+ optimizer `tf.keras.optimizers.SGD` runs slowly on M1/M2 Macs, please use the legacy Keras optimizer instead, located at `tf.keras.optimizers.legacy.SGD`.\n",
      "WARNING:absl:There is a known slowdown when using v2.11+ Keras optimizers on M1/M2 Macs. Falling back to the legacy Keras optimizer, i.e., `tf.keras.optimizers.legacy.SGD`.\n"
     ]
    },
    {
     "name": "stdout",
     "output_type": "stream",
     "text": [
      "Learning rate =  1e-05\n",
      "Lambda =  1e-05\n",
      "Test accuracy: 0.083\n",
      "\n",
      "12/12 [==============================] - 0s 16ms/step - loss: 2.5249 - accuracy: 0.1278\n"
     ]
    },
    {
     "name": "stderr",
     "output_type": "stream",
     "text": [
      "WARNING:absl:At this time, the v2.11+ optimizer `tf.keras.optimizers.SGD` runs slowly on M1/M2 Macs, please use the legacy Keras optimizer instead, located at `tf.keras.optimizers.legacy.SGD`.\n",
      "WARNING:absl:There is a known slowdown when using v2.11+ Keras optimizers on M1/M2 Macs. Falling back to the legacy Keras optimizer, i.e., `tf.keras.optimizers.legacy.SGD`.\n"
     ]
    },
    {
     "name": "stdout",
     "output_type": "stream",
     "text": [
      "Learning rate =  1e-05\n",
      "Lambda =  0.0001\n",
      "Test accuracy: 0.128\n",
      "\n",
      "12/12 [==============================] - 0s 17ms/step - loss: 2.6284 - accuracy: 0.1250\n"
     ]
    },
    {
     "name": "stderr",
     "output_type": "stream",
     "text": [
      "WARNING:absl:At this time, the v2.11+ optimizer `tf.keras.optimizers.SGD` runs slowly on M1/M2 Macs, please use the legacy Keras optimizer instead, located at `tf.keras.optimizers.legacy.SGD`.\n",
      "WARNING:absl:There is a known slowdown when using v2.11+ Keras optimizers on M1/M2 Macs. Falling back to the legacy Keras optimizer, i.e., `tf.keras.optimizers.legacy.SGD`.\n"
     ]
    },
    {
     "name": "stdout",
     "output_type": "stream",
     "text": [
      "Learning rate =  1e-05\n",
      "Lambda =  0.001\n",
      "Test accuracy: 0.125\n",
      "\n",
      "12/12 [==============================] - 0s 17ms/step - loss: 3.8276 - accuracy: 0.0889\n"
     ]
    },
    {
     "name": "stderr",
     "output_type": "stream",
     "text": [
      "WARNING:absl:At this time, the v2.11+ optimizer `tf.keras.optimizers.SGD` runs slowly on M1/M2 Macs, please use the legacy Keras optimizer instead, located at `tf.keras.optimizers.legacy.SGD`.\n",
      "WARNING:absl:There is a known slowdown when using v2.11+ Keras optimizers on M1/M2 Macs. Falling back to the legacy Keras optimizer, i.e., `tf.keras.optimizers.legacy.SGD`.\n"
     ]
    },
    {
     "name": "stdout",
     "output_type": "stream",
     "text": [
      "Learning rate =  1e-05\n",
      "Lambda =  0.01\n",
      "Test accuracy: 0.089\n",
      "\n",
      "12/12 [==============================] - 0s 13ms/step - loss: 17.2502 - accuracy: 0.1056\n"
     ]
    },
    {
     "name": "stderr",
     "output_type": "stream",
     "text": [
      "WARNING:absl:At this time, the v2.11+ optimizer `tf.keras.optimizers.SGD` runs slowly on M1/M2 Macs, please use the legacy Keras optimizer instead, located at `tf.keras.optimizers.legacy.SGD`.\n",
      "WARNING:absl:There is a known slowdown when using v2.11+ Keras optimizers on M1/M2 Macs. Falling back to the legacy Keras optimizer, i.e., `tf.keras.optimizers.legacy.SGD`.\n"
     ]
    },
    {
     "name": "stdout",
     "output_type": "stream",
     "text": [
      "Learning rate =  1e-05\n",
      "Lambda =  0.1\n",
      "Test accuracy: 0.106\n",
      "\n",
      "12/12 [==============================] - 0s 15ms/step - loss: 137.7438 - accuracy: 0.1167\n"
     ]
    },
    {
     "name": "stderr",
     "output_type": "stream",
     "text": [
      "WARNING:absl:At this time, the v2.11+ optimizer `tf.keras.optimizers.SGD` runs slowly on M1/M2 Macs, please use the legacy Keras optimizer instead, located at `tf.keras.optimizers.legacy.SGD`.\n",
      "WARNING:absl:There is a known slowdown when using v2.11+ Keras optimizers on M1/M2 Macs. Falling back to the legacy Keras optimizer, i.e., `tf.keras.optimizers.legacy.SGD`.\n"
     ]
    },
    {
     "name": "stdout",
     "output_type": "stream",
     "text": [
      "Learning rate =  1e-05\n",
      "Lambda =  1.0\n",
      "Test accuracy: 0.117\n",
      "\n",
      "12/12 [==============================] - 0s 11ms/step - loss: 791.1546 - accuracy: 0.1028\n"
     ]
    },
    {
     "name": "stderr",
     "output_type": "stream",
     "text": [
      "WARNING:absl:At this time, the v2.11+ optimizer `tf.keras.optimizers.SGD` runs slowly on M1/M2 Macs, please use the legacy Keras optimizer instead, located at `tf.keras.optimizers.legacy.SGD`.\n",
      "WARNING:absl:There is a known slowdown when using v2.11+ Keras optimizers on M1/M2 Macs. Falling back to the legacy Keras optimizer, i.e., `tf.keras.optimizers.legacy.SGD`.\n"
     ]
    },
    {
     "name": "stdout",
     "output_type": "stream",
     "text": [
      "Learning rate =  1e-05\n",
      "Lambda =  10.0\n",
      "Test accuracy: 0.103\n",
      "\n",
      "12/12 [==============================] - 0s 18ms/step - loss: 2.4095 - accuracy: 0.0917\n"
     ]
    },
    {
     "name": "stderr",
     "output_type": "stream",
     "text": [
      "WARNING:absl:At this time, the v2.11+ optimizer `tf.keras.optimizers.SGD` runs slowly on M1/M2 Macs, please use the legacy Keras optimizer instead, located at `tf.keras.optimizers.legacy.SGD`.\n"
     ]
    },
    {
     "name": "stdout",
     "output_type": "stream",
     "text": [
      "Learning rate =  0.0001\n",
      "Lambda =  1e-05\n",
      "Test accuracy: 0.092\n",
      "\n"
     ]
    },
    {
     "name": "stderr",
     "output_type": "stream",
     "text": [
      "WARNING:absl:There is a known slowdown when using v2.11+ Keras optimizers on M1/M2 Macs. Falling back to the legacy Keras optimizer, i.e., `tf.keras.optimizers.legacy.SGD`.\n"
     ]
    },
    {
     "name": "stdout",
     "output_type": "stream",
     "text": [
      "12/12 [==============================] - 0s 13ms/step - loss: 2.4702 - accuracy: 0.1167\n"
     ]
    },
    {
     "name": "stderr",
     "output_type": "stream",
     "text": [
      "WARNING:absl:At this time, the v2.11+ optimizer `tf.keras.optimizers.SGD` runs slowly on M1/M2 Macs, please use the legacy Keras optimizer instead, located at `tf.keras.optimizers.legacy.SGD`.\n",
      "WARNING:absl:There is a known slowdown when using v2.11+ Keras optimizers on M1/M2 Macs. Falling back to the legacy Keras optimizer, i.e., `tf.keras.optimizers.legacy.SGD`.\n"
     ]
    },
    {
     "name": "stdout",
     "output_type": "stream",
     "text": [
      "Learning rate =  0.0001\n",
      "Lambda =  0.0001\n",
      "Test accuracy: 0.117\n",
      "\n",
      "12/12 [==============================] - 0s 14ms/step - loss: 2.4999 - accuracy: 0.0917\n"
     ]
    },
    {
     "name": "stderr",
     "output_type": "stream",
     "text": [
      "WARNING:absl:At this time, the v2.11+ optimizer `tf.keras.optimizers.SGD` runs slowly on M1/M2 Macs, please use the legacy Keras optimizer instead, located at `tf.keras.optimizers.legacy.SGD`.\n",
      "WARNING:absl:There is a known slowdown when using v2.11+ Keras optimizers on M1/M2 Macs. Falling back to the legacy Keras optimizer, i.e., `tf.keras.optimizers.legacy.SGD`.\n"
     ]
    },
    {
     "name": "stdout",
     "output_type": "stream",
     "text": [
      "Learning rate =  0.0001\n",
      "Lambda =  0.001\n",
      "Test accuracy: 0.092\n",
      "\n",
      "12/12 [==============================] - 0s 17ms/step - loss: 3.8617 - accuracy: 0.0889\n"
     ]
    },
    {
     "name": "stderr",
     "output_type": "stream",
     "text": [
      "WARNING:absl:At this time, the v2.11+ optimizer `tf.keras.optimizers.SGD` runs slowly on M1/M2 Macs, please use the legacy Keras optimizer instead, located at `tf.keras.optimizers.legacy.SGD`.\n",
      "WARNING:absl:There is a known slowdown when using v2.11+ Keras optimizers on M1/M2 Macs. Falling back to the legacy Keras optimizer, i.e., `tf.keras.optimizers.legacy.SGD`.\n"
     ]
    },
    {
     "name": "stdout",
     "output_type": "stream",
     "text": [
      "Learning rate =  0.0001\n",
      "Lambda =  0.01\n",
      "Test accuracy: 0.089\n",
      "\n",
      "12/12 [==============================] - 0s 17ms/step - loss: 15.9813 - accuracy: 0.1139\n"
     ]
    },
    {
     "name": "stderr",
     "output_type": "stream",
     "text": [
      "WARNING:absl:At this time, the v2.11+ optimizer `tf.keras.optimizers.SGD` runs slowly on M1/M2 Macs, please use the legacy Keras optimizer instead, located at `tf.keras.optimizers.legacy.SGD`.\n",
      "WARNING:absl:There is a known slowdown when using v2.11+ Keras optimizers on M1/M2 Macs. Falling back to the legacy Keras optimizer, i.e., `tf.keras.optimizers.legacy.SGD`.\n"
     ]
    },
    {
     "name": "stdout",
     "output_type": "stream",
     "text": [
      "Learning rate =  0.0001\n",
      "Lambda =  0.1\n",
      "Test accuracy: 0.114\n",
      "\n",
      "12/12 [==============================] - 0s 13ms/step - loss: 81.3855 - accuracy: 0.0889\n"
     ]
    },
    {
     "name": "stderr",
     "output_type": "stream",
     "text": [
      "WARNING:absl:At this time, the v2.11+ optimizer `tf.keras.optimizers.SGD` runs slowly on M1/M2 Macs, please use the legacy Keras optimizer instead, located at `tf.keras.optimizers.legacy.SGD`.\n",
      "WARNING:absl:There is a known slowdown when using v2.11+ Keras optimizers on M1/M2 Macs. Falling back to the legacy Keras optimizer, i.e., `tf.keras.optimizers.legacy.SGD`.\n"
     ]
    },
    {
     "name": "stdout",
     "output_type": "stream",
     "text": [
      "Learning rate =  0.0001\n",
      "Lambda =  1.0\n",
      "Test accuracy: 0.089\n",
      "\n",
      "12/12 [==============================] - 0s 17ms/step - loss: 6.0620 - accuracy: 0.1139\n"
     ]
    },
    {
     "name": "stderr",
     "output_type": "stream",
     "text": [
      "WARNING:absl:At this time, the v2.11+ optimizer `tf.keras.optimizers.SGD` runs slowly on M1/M2 Macs, please use the legacy Keras optimizer instead, located at `tf.keras.optimizers.legacy.SGD`.\n",
      "WARNING:absl:There is a known slowdown when using v2.11+ Keras optimizers on M1/M2 Macs. Falling back to the legacy Keras optimizer, i.e., `tf.keras.optimizers.legacy.SGD`.\n"
     ]
    },
    {
     "name": "stdout",
     "output_type": "stream",
     "text": [
      "Learning rate =  0.0001\n",
      "Lambda =  10.0\n",
      "Test accuracy: 0.114\n",
      "\n",
      "12/12 [==============================] - 0s 11ms/step - loss: 2.2036 - accuracy: 0.3917\n"
     ]
    },
    {
     "name": "stderr",
     "output_type": "stream",
     "text": [
      "WARNING:absl:At this time, the v2.11+ optimizer `tf.keras.optimizers.SGD` runs slowly on M1/M2 Macs, please use the legacy Keras optimizer instead, located at `tf.keras.optimizers.legacy.SGD`.\n",
      "WARNING:absl:There is a known slowdown when using v2.11+ Keras optimizers on M1/M2 Macs. Falling back to the legacy Keras optimizer, i.e., `tf.keras.optimizers.legacy.SGD`.\n"
     ]
    },
    {
     "name": "stdout",
     "output_type": "stream",
     "text": [
      "Learning rate =  0.001\n",
      "Lambda =  1e-05\n",
      "Test accuracy: 0.392\n",
      "\n",
      "12/12 [==============================] - 0s 14ms/step - loss: 2.1645 - accuracy: 0.3694\n"
     ]
    },
    {
     "name": "stderr",
     "output_type": "stream",
     "text": [
      "WARNING:absl:At this time, the v2.11+ optimizer `tf.keras.optimizers.SGD` runs slowly on M1/M2 Macs, please use the legacy Keras optimizer instead, located at `tf.keras.optimizers.legacy.SGD`.\n",
      "WARNING:absl:There is a known slowdown when using v2.11+ Keras optimizers on M1/M2 Macs. Falling back to the legacy Keras optimizer, i.e., `tf.keras.optimizers.legacy.SGD`.\n"
     ]
    },
    {
     "name": "stdout",
     "output_type": "stream",
     "text": [
      "Learning rate =  0.001\n",
      "Lambda =  0.0001\n",
      "Test accuracy: 0.369\n",
      "\n",
      "12/12 [==============================] - 0s 11ms/step - loss: 2.3489 - accuracy: 0.3333\n"
     ]
    },
    {
     "name": "stderr",
     "output_type": "stream",
     "text": [
      "WARNING:absl:At this time, the v2.11+ optimizer `tf.keras.optimizers.SGD` runs slowly on M1/M2 Macs, please use the legacy Keras optimizer instead, located at `tf.keras.optimizers.legacy.SGD`.\n",
      "WARNING:absl:There is a known slowdown when using v2.11+ Keras optimizers on M1/M2 Macs. Falling back to the legacy Keras optimizer, i.e., `tf.keras.optimizers.legacy.SGD`.\n"
     ]
    },
    {
     "name": "stdout",
     "output_type": "stream",
     "text": [
      "Learning rate =  0.001\n",
      "Lambda =  0.001\n",
      "Test accuracy: 0.333\n",
      "\n",
      "12/12 [==============================] - 0s 11ms/step - loss: 3.5798 - accuracy: 0.2611\n"
     ]
    },
    {
     "name": "stderr",
     "output_type": "stream",
     "text": [
      "WARNING:absl:At this time, the v2.11+ optimizer `tf.keras.optimizers.SGD` runs slowly on M1/M2 Macs, please use the legacy Keras optimizer instead, located at `tf.keras.optimizers.legacy.SGD`.\n",
      "WARNING:absl:There is a known slowdown when using v2.11+ Keras optimizers on M1/M2 Macs. Falling back to the legacy Keras optimizer, i.e., `tf.keras.optimizers.legacy.SGD`.\n"
     ]
    },
    {
     "name": "stdout",
     "output_type": "stream",
     "text": [
      "Learning rate =  0.001\n",
      "Lambda =  0.01\n",
      "Test accuracy: 0.261\n",
      "\n",
      "12/12 [==============================] - 0s 15ms/step - loss: 10.2003 - accuracy: 0.4333\n"
     ]
    },
    {
     "name": "stderr",
     "output_type": "stream",
     "text": [
      "WARNING:absl:At this time, the v2.11+ optimizer `tf.keras.optimizers.SGD` runs slowly on M1/M2 Macs, please use the legacy Keras optimizer instead, located at `tf.keras.optimizers.legacy.SGD`.\n",
      "WARNING:absl:There is a known slowdown when using v2.11+ Keras optimizers on M1/M2 Macs. Falling back to the legacy Keras optimizer, i.e., `tf.keras.optimizers.legacy.SGD`.\n"
     ]
    },
    {
     "name": "stdout",
     "output_type": "stream",
     "text": [
      "Learning rate =  0.001\n",
      "Lambda =  0.1\n",
      "Test accuracy: 0.433\n",
      "\n",
      "12/12 [==============================] - 0s 11ms/step - loss: 2.6594 - accuracy: 0.0889\n"
     ]
    },
    {
     "name": "stderr",
     "output_type": "stream",
     "text": [
      "WARNING:absl:At this time, the v2.11+ optimizer `tf.keras.optimizers.SGD` runs slowly on M1/M2 Macs, please use the legacy Keras optimizer instead, located at `tf.keras.optimizers.legacy.SGD`.\n",
      "WARNING:absl:There is a known slowdown when using v2.11+ Keras optimizers on M1/M2 Macs. Falling back to the legacy Keras optimizer, i.e., `tf.keras.optimizers.legacy.SGD`.\n"
     ]
    },
    {
     "name": "stdout",
     "output_type": "stream",
     "text": [
      "Learning rate =  0.001\n",
      "Lambda =  1.0\n",
      "Test accuracy: 0.089\n",
      "\n",
      "12/12 [==============================] - 0s 14ms/step - loss: 2.3030 - accuracy: 0.1167\n"
     ]
    },
    {
     "name": "stderr",
     "output_type": "stream",
     "text": [
      "WARNING:absl:At this time, the v2.11+ optimizer `tf.keras.optimizers.SGD` runs slowly on M1/M2 Macs, please use the legacy Keras optimizer instead, located at `tf.keras.optimizers.legacy.SGD`.\n",
      "WARNING:absl:There is a known slowdown when using v2.11+ Keras optimizers on M1/M2 Macs. Falling back to the legacy Keras optimizer, i.e., `tf.keras.optimizers.legacy.SGD`.\n"
     ]
    },
    {
     "name": "stdout",
     "output_type": "stream",
     "text": [
      "Learning rate =  0.001\n",
      "Lambda =  10.0\n",
      "Test accuracy: 0.117\n",
      "\n",
      "12/12 [==============================] - 0s 12ms/step - loss: 1.0555 - accuracy: 0.8694\n"
     ]
    },
    {
     "name": "stderr",
     "output_type": "stream",
     "text": [
      "WARNING:absl:At this time, the v2.11+ optimizer `tf.keras.optimizers.SGD` runs slowly on M1/M2 Macs, please use the legacy Keras optimizer instead, located at `tf.keras.optimizers.legacy.SGD`.\n",
      "WARNING:absl:There is a known slowdown when using v2.11+ Keras optimizers on M1/M2 Macs. Falling back to the legacy Keras optimizer, i.e., `tf.keras.optimizers.legacy.SGD`.\n"
     ]
    },
    {
     "name": "stdout",
     "output_type": "stream",
     "text": [
      "Learning rate =  0.01\n",
      "Lambda =  1e-05\n",
      "Test accuracy: 0.869\n",
      "\n",
      "12/12 [==============================] - 0s 11ms/step - loss: 1.1238 - accuracy: 0.8583\n"
     ]
    },
    {
     "name": "stderr",
     "output_type": "stream",
     "text": [
      "WARNING:absl:At this time, the v2.11+ optimizer `tf.keras.optimizers.SGD` runs slowly on M1/M2 Macs, please use the legacy Keras optimizer instead, located at `tf.keras.optimizers.legacy.SGD`.\n",
      "WARNING:absl:There is a known slowdown when using v2.11+ Keras optimizers on M1/M2 Macs. Falling back to the legacy Keras optimizer, i.e., `tf.keras.optimizers.legacy.SGD`.\n"
     ]
    },
    {
     "name": "stdout",
     "output_type": "stream",
     "text": [
      "Learning rate =  0.01\n",
      "Lambda =  0.0001\n",
      "Test accuracy: 0.858\n",
      "\n",
      "12/12 [==============================] - 0s 15ms/step - loss: 1.2342 - accuracy: 0.8806\n"
     ]
    },
    {
     "name": "stderr",
     "output_type": "stream",
     "text": [
      "WARNING:absl:At this time, the v2.11+ optimizer `tf.keras.optimizers.SGD` runs slowly on M1/M2 Macs, please use the legacy Keras optimizer instead, located at `tf.keras.optimizers.legacy.SGD`.\n",
      "WARNING:absl:There is a known slowdown when using v2.11+ Keras optimizers on M1/M2 Macs. Falling back to the legacy Keras optimizer, i.e., `tf.keras.optimizers.legacy.SGD`.\n"
     ]
    },
    {
     "name": "stdout",
     "output_type": "stream",
     "text": [
      "Learning rate =  0.01\n",
      "Lambda =  0.001\n",
      "Test accuracy: 0.881\n",
      "\n",
      "12/12 [==============================] - 0s 11ms/step - loss: 2.1114 - accuracy: 0.8833\n"
     ]
    },
    {
     "name": "stderr",
     "output_type": "stream",
     "text": [
      "WARNING:absl:At this time, the v2.11+ optimizer `tf.keras.optimizers.SGD` runs slowly on M1/M2 Macs, please use the legacy Keras optimizer instead, located at `tf.keras.optimizers.legacy.SGD`.\n",
      "WARNING:absl:There is a known slowdown when using v2.11+ Keras optimizers on M1/M2 Macs. Falling back to the legacy Keras optimizer, i.e., `tf.keras.optimizers.legacy.SGD`.\n"
     ]
    },
    {
     "name": "stdout",
     "output_type": "stream",
     "text": [
      "Learning rate =  0.01\n",
      "Lambda =  0.01\n",
      "Test accuracy: 0.883\n",
      "\n",
      "12/12 [==============================] - 0s 14ms/step - loss: 2.2776 - accuracy: 0.5139\n"
     ]
    },
    {
     "name": "stderr",
     "output_type": "stream",
     "text": [
      "WARNING:absl:At this time, the v2.11+ optimizer `tf.keras.optimizers.SGD` runs slowly on M1/M2 Macs, please use the legacy Keras optimizer instead, located at `tf.keras.optimizers.legacy.SGD`.\n",
      "WARNING:absl:There is a known slowdown when using v2.11+ Keras optimizers on M1/M2 Macs. Falling back to the legacy Keras optimizer, i.e., `tf.keras.optimizers.legacy.SGD`.\n"
     ]
    },
    {
     "name": "stdout",
     "output_type": "stream",
     "text": [
      "Learning rate =  0.01\n",
      "Lambda =  0.1\n",
      "Test accuracy: 0.514\n",
      "\n",
      "12/12 [==============================] - 0s 15ms/step - loss: 2.3079 - accuracy: 0.0778\n"
     ]
    },
    {
     "name": "stderr",
     "output_type": "stream",
     "text": [
      "WARNING:absl:At this time, the v2.11+ optimizer `tf.keras.optimizers.SGD` runs slowly on M1/M2 Macs, please use the legacy Keras optimizer instead, located at `tf.keras.optimizers.legacy.SGD`.\n",
      "WARNING:absl:There is a known slowdown when using v2.11+ Keras optimizers on M1/M2 Macs. Falling back to the legacy Keras optimizer, i.e., `tf.keras.optimizers.legacy.SGD`.\n"
     ]
    },
    {
     "name": "stdout",
     "output_type": "stream",
     "text": [
      "Learning rate =  0.01\n",
      "Lambda =  1.0\n",
      "Test accuracy: 0.078\n",
      "\n",
      "12/12 [==============================] - 0s 11ms/step - loss: 2.3081 - accuracy: 0.0778\n"
     ]
    },
    {
     "name": "stderr",
     "output_type": "stream",
     "text": [
      "WARNING:absl:At this time, the v2.11+ optimizer `tf.keras.optimizers.SGD` runs slowly on M1/M2 Macs, please use the legacy Keras optimizer instead, located at `tf.keras.optimizers.legacy.SGD`.\n",
      "WARNING:absl:There is a known slowdown when using v2.11+ Keras optimizers on M1/M2 Macs. Falling back to the legacy Keras optimizer, i.e., `tf.keras.optimizers.legacy.SGD`.\n"
     ]
    },
    {
     "name": "stdout",
     "output_type": "stream",
     "text": [
      "Learning rate =  0.01\n",
      "Lambda =  10.0\n",
      "Test accuracy: 0.078\n",
      "\n",
      "12/12 [==============================] - 0s 16ms/step - loss: 0.1069 - accuracy: 0.9722\n"
     ]
    },
    {
     "name": "stderr",
     "output_type": "stream",
     "text": [
      "WARNING:absl:At this time, the v2.11+ optimizer `tf.keras.optimizers.SGD` runs slowly on M1/M2 Macs, please use the legacy Keras optimizer instead, located at `tf.keras.optimizers.legacy.SGD`.\n",
      "WARNING:absl:There is a known slowdown when using v2.11+ Keras optimizers on M1/M2 Macs. Falling back to the legacy Keras optimizer, i.e., `tf.keras.optimizers.legacy.SGD`.\n"
     ]
    },
    {
     "name": "stdout",
     "output_type": "stream",
     "text": [
      "Learning rate =  0.1\n",
      "Lambda =  1e-05\n",
      "Test accuracy: 0.972\n",
      "\n",
      "12/12 [==============================] - 0s 11ms/step - loss: 0.1282 - accuracy: 0.9667\n"
     ]
    },
    {
     "name": "stderr",
     "output_type": "stream",
     "text": [
      "WARNING:absl:At this time, the v2.11+ optimizer `tf.keras.optimizers.SGD` runs slowly on M1/M2 Macs, please use the legacy Keras optimizer instead, located at `tf.keras.optimizers.legacy.SGD`.\n",
      "WARNING:absl:There is a known slowdown when using v2.11+ Keras optimizers on M1/M2 Macs. Falling back to the legacy Keras optimizer, i.e., `tf.keras.optimizers.legacy.SGD`.\n"
     ]
    },
    {
     "name": "stdout",
     "output_type": "stream",
     "text": [
      "Learning rate =  0.1\n",
      "Lambda =  0.0001\n",
      "Test accuracy: 0.967\n",
      "\n",
      "12/12 [==============================] - 0s 13ms/step - loss: 0.2611 - accuracy: 0.9694\n"
     ]
    },
    {
     "name": "stderr",
     "output_type": "stream",
     "text": [
      "WARNING:absl:At this time, the v2.11+ optimizer `tf.keras.optimizers.SGD` runs slowly on M1/M2 Macs, please use the legacy Keras optimizer instead, located at `tf.keras.optimizers.legacy.SGD`.\n",
      "WARNING:absl:There is a known slowdown when using v2.11+ Keras optimizers on M1/M2 Macs. Falling back to the legacy Keras optimizer, i.e., `tf.keras.optimizers.legacy.SGD`.\n"
     ]
    },
    {
     "name": "stdout",
     "output_type": "stream",
     "text": [
      "Learning rate =  0.1\n",
      "Lambda =  0.001\n",
      "Test accuracy: 0.969\n",
      "\n",
      "12/12 [==============================] - 0s 15ms/step - loss: 0.4928 - accuracy: 0.9639\n"
     ]
    },
    {
     "name": "stderr",
     "output_type": "stream",
     "text": [
      "WARNING:absl:At this time, the v2.11+ optimizer `tf.keras.optimizers.SGD` runs slowly on M1/M2 Macs, please use the legacy Keras optimizer instead, located at `tf.keras.optimizers.legacy.SGD`.\n",
      "WARNING:absl:There is a known slowdown when using v2.11+ Keras optimizers on M1/M2 Macs. Falling back to the legacy Keras optimizer, i.e., `tf.keras.optimizers.legacy.SGD`.\n"
     ]
    },
    {
     "name": "stdout",
     "output_type": "stream",
     "text": [
      "Learning rate =  0.1\n",
      "Lambda =  0.01\n",
      "Test accuracy: 0.964\n",
      "\n",
      "12/12 [==============================] - 0s 11ms/step - loss: 1.6045 - accuracy: 0.6222\n"
     ]
    },
    {
     "name": "stderr",
     "output_type": "stream",
     "text": [
      "WARNING:absl:At this time, the v2.11+ optimizer `tf.keras.optimizers.SGD` runs slowly on M1/M2 Macs, please use the legacy Keras optimizer instead, located at `tf.keras.optimizers.legacy.SGD`.\n",
      "WARNING:absl:There is a known slowdown when using v2.11+ Keras optimizers on M1/M2 Macs. Falling back to the legacy Keras optimizer, i.e., `tf.keras.optimizers.legacy.SGD`.\n"
     ]
    },
    {
     "name": "stdout",
     "output_type": "stream",
     "text": [
      "Learning rate =  0.1\n",
      "Lambda =  0.1\n",
      "Test accuracy: 0.622\n",
      "\n",
      "12/12 [==============================] - 0s 16ms/step - loss: 2.3218 - accuracy: 0.0861\n"
     ]
    },
    {
     "name": "stderr",
     "output_type": "stream",
     "text": [
      "WARNING:absl:At this time, the v2.11+ optimizer `tf.keras.optimizers.SGD` runs slowly on M1/M2 Macs, please use the legacy Keras optimizer instead, located at `tf.keras.optimizers.legacy.SGD`.\n",
      "WARNING:absl:There is a known slowdown when using v2.11+ Keras optimizers on M1/M2 Macs. Falling back to the legacy Keras optimizer, i.e., `tf.keras.optimizers.legacy.SGD`.\n"
     ]
    },
    {
     "name": "stdout",
     "output_type": "stream",
     "text": [
      "Learning rate =  0.1\n",
      "Lambda =  1.0\n",
      "Test accuracy: 0.086\n",
      "\n",
      "12/12 [==============================] - 0s 14ms/step - loss: 1597.5353 - accuracy: 0.0444\n"
     ]
    },
    {
     "name": "stderr",
     "output_type": "stream",
     "text": [
      "WARNING:absl:At this time, the v2.11+ optimizer `tf.keras.optimizers.SGD` runs slowly on M1/M2 Macs, please use the legacy Keras optimizer instead, located at `tf.keras.optimizers.legacy.SGD`.\n",
      "WARNING:absl:There is a known slowdown when using v2.11+ Keras optimizers on M1/M2 Macs. Falling back to the legacy Keras optimizer, i.e., `tf.keras.optimizers.legacy.SGD`.\n"
     ]
    },
    {
     "name": "stdout",
     "output_type": "stream",
     "text": [
      "Learning rate =  0.1\n",
      "Lambda =  10.0\n",
      "Test accuracy: 0.044\n",
      "\n",
      "12/12 [==============================] - 0s 12ms/step - loss: 0.0781 - accuracy: 0.9806\n"
     ]
    },
    {
     "name": "stderr",
     "output_type": "stream",
     "text": [
      "WARNING:absl:At this time, the v2.11+ optimizer `tf.keras.optimizers.SGD` runs slowly on M1/M2 Macs, please use the legacy Keras optimizer instead, located at `tf.keras.optimizers.legacy.SGD`.\n",
      "WARNING:absl:There is a known slowdown when using v2.11+ Keras optimizers on M1/M2 Macs. Falling back to the legacy Keras optimizer, i.e., `tf.keras.optimizers.legacy.SGD`.\n"
     ]
    },
    {
     "name": "stdout",
     "output_type": "stream",
     "text": [
      "Learning rate =  1.0\n",
      "Lambda =  1e-05\n",
      "Test accuracy: 0.981\n",
      "\n",
      "12/12 [==============================] - 0s 15ms/step - loss: 0.0868 - accuracy: 0.9861\n"
     ]
    },
    {
     "name": "stderr",
     "output_type": "stream",
     "text": [
      "WARNING:absl:At this time, the v2.11+ optimizer `tf.keras.optimizers.SGD` runs slowly on M1/M2 Macs, please use the legacy Keras optimizer instead, located at `tf.keras.optimizers.legacy.SGD`.\n",
      "WARNING:absl:There is a known slowdown when using v2.11+ Keras optimizers on M1/M2 Macs. Falling back to the legacy Keras optimizer, i.e., `tf.keras.optimizers.legacy.SGD`.\n"
     ]
    },
    {
     "name": "stdout",
     "output_type": "stream",
     "text": [
      "Learning rate =  1.0\n",
      "Lambda =  0.0001\n",
      "Test accuracy: 0.986\n",
      "\n",
      "12/12 [==============================] - 0s 11ms/step - loss: 0.4859 - accuracy: 0.9222\n"
     ]
    },
    {
     "name": "stderr",
     "output_type": "stream",
     "text": [
      "WARNING:absl:At this time, the v2.11+ optimizer `tf.keras.optimizers.SGD` runs slowly on M1/M2 Macs, please use the legacy Keras optimizer instead, located at `tf.keras.optimizers.legacy.SGD`.\n",
      "WARNING:absl:There is a known slowdown when using v2.11+ Keras optimizers on M1/M2 Macs. Falling back to the legacy Keras optimizer, i.e., `tf.keras.optimizers.legacy.SGD`.\n"
     ]
    },
    {
     "name": "stdout",
     "output_type": "stream",
     "text": [
      "Learning rate =  1.0\n",
      "Lambda =  0.001\n",
      "Test accuracy: 0.922\n",
      "\n",
      "12/12 [==============================] - 0s 17ms/step - loss: 2.9575 - accuracy: 0.1583\n"
     ]
    },
    {
     "name": "stderr",
     "output_type": "stream",
     "text": [
      "WARNING:absl:At this time, the v2.11+ optimizer `tf.keras.optimizers.SGD` runs slowly on M1/M2 Macs, please use the legacy Keras optimizer instead, located at `tf.keras.optimizers.legacy.SGD`.\n",
      "WARNING:absl:There is a known slowdown when using v2.11+ Keras optimizers on M1/M2 Macs. Falling back to the legacy Keras optimizer, i.e., `tf.keras.optimizers.legacy.SGD`.\n"
     ]
    },
    {
     "name": "stdout",
     "output_type": "stream",
     "text": [
      "Learning rate =  1.0\n",
      "Lambda =  0.01\n",
      "Test accuracy: 0.158\n",
      "\n",
      "12/12 [==============================] - 0s 17ms/step - loss: 2.5299 - accuracy: 0.0889\n"
     ]
    },
    {
     "name": "stderr",
     "output_type": "stream",
     "text": [
      "WARNING:absl:At this time, the v2.11+ optimizer `tf.keras.optimizers.SGD` runs slowly on M1/M2 Macs, please use the legacy Keras optimizer instead, located at `tf.keras.optimizers.legacy.SGD`.\n",
      "WARNING:absl:There is a known slowdown when using v2.11+ Keras optimizers on M1/M2 Macs. Falling back to the legacy Keras optimizer, i.e., `tf.keras.optimizers.legacy.SGD`.\n"
     ]
    },
    {
     "name": "stdout",
     "output_type": "stream",
     "text": [
      "Learning rate =  1.0\n",
      "Lambda =  0.1\n",
      "Test accuracy: 0.089\n",
      "\n",
      "12/12 [==============================] - 0s 12ms/step - loss: 371.5039 - accuracy: 0.1139\n"
     ]
    },
    {
     "name": "stderr",
     "output_type": "stream",
     "text": [
      "WARNING:absl:At this time, the v2.11+ optimizer `tf.keras.optimizers.SGD` runs slowly on M1/M2 Macs, please use the legacy Keras optimizer instead, located at `tf.keras.optimizers.legacy.SGD`.\n",
      "WARNING:absl:There is a known slowdown when using v2.11+ Keras optimizers on M1/M2 Macs. Falling back to the legacy Keras optimizer, i.e., `tf.keras.optimizers.legacy.SGD`.\n"
     ]
    },
    {
     "name": "stdout",
     "output_type": "stream",
     "text": [
      "Learning rate =  1.0\n",
      "Lambda =  1.0\n",
      "Test accuracy: 0.114\n",
      "\n",
      "12/12 [==============================] - 0s 17ms/step - loss: nan - accuracy: 0.0778\n"
     ]
    },
    {
     "name": "stderr",
     "output_type": "stream",
     "text": [
      "WARNING:absl:At this time, the v2.11+ optimizer `tf.keras.optimizers.SGD` runs slowly on M1/M2 Macs, please use the legacy Keras optimizer instead, located at `tf.keras.optimizers.legacy.SGD`.\n",
      "WARNING:absl:There is a known slowdown when using v2.11+ Keras optimizers on M1/M2 Macs. Falling back to the legacy Keras optimizer, i.e., `tf.keras.optimizers.legacy.SGD`.\n"
     ]
    },
    {
     "name": "stdout",
     "output_type": "stream",
     "text": [
      "Learning rate =  1.0\n",
      "Lambda =  10.0\n",
      "Test accuracy: 0.078\n",
      "\n",
      "12/12 [==============================] - 0s 11ms/step - loss: 4.4885 - accuracy: 0.1056\n"
     ]
    },
    {
     "name": "stderr",
     "output_type": "stream",
     "text": [
      "WARNING:absl:At this time, the v2.11+ optimizer `tf.keras.optimizers.SGD` runs slowly on M1/M2 Macs, please use the legacy Keras optimizer instead, located at `tf.keras.optimizers.legacy.SGD`.\n",
      "WARNING:absl:There is a known slowdown when using v2.11+ Keras optimizers on M1/M2 Macs. Falling back to the legacy Keras optimizer, i.e., `tf.keras.optimizers.legacy.SGD`.\n"
     ]
    },
    {
     "name": "stdout",
     "output_type": "stream",
     "text": [
      "Learning rate =  10.0\n",
      "Lambda =  1e-05\n",
      "Test accuracy: 0.106\n",
      "\n",
      "12/12 [==============================] - 0s 14ms/step - loss: 2.4071 - accuracy: 0.1250\n"
     ]
    },
    {
     "name": "stderr",
     "output_type": "stream",
     "text": [
      "WARNING:absl:At this time, the v2.11+ optimizer `tf.keras.optimizers.SGD` runs slowly on M1/M2 Macs, please use the legacy Keras optimizer instead, located at `tf.keras.optimizers.legacy.SGD`.\n",
      "WARNING:absl:There is a known slowdown when using v2.11+ Keras optimizers on M1/M2 Macs. Falling back to the legacy Keras optimizer, i.e., `tf.keras.optimizers.legacy.SGD`.\n"
     ]
    },
    {
     "name": "stdout",
     "output_type": "stream",
     "text": [
      "Learning rate =  10.0\n",
      "Lambda =  0.0001\n",
      "Test accuracy: 0.125\n",
      "\n",
      "12/12 [==============================] - 0s 14ms/step - loss: 2.4936 - accuracy: 0.1167\n"
     ]
    },
    {
     "name": "stderr",
     "output_type": "stream",
     "text": [
      "WARNING:absl:At this time, the v2.11+ optimizer `tf.keras.optimizers.SGD` runs slowly on M1/M2 Macs, please use the legacy Keras optimizer instead, located at `tf.keras.optimizers.legacy.SGD`.\n",
      "WARNING:absl:There is a known slowdown when using v2.11+ Keras optimizers on M1/M2 Macs. Falling back to the legacy Keras optimizer, i.e., `tf.keras.optimizers.legacy.SGD`.\n"
     ]
    },
    {
     "name": "stdout",
     "output_type": "stream",
     "text": [
      "Learning rate =  10.0\n",
      "Lambda =  0.001\n",
      "Test accuracy: 0.117\n",
      "\n",
      "12/12 [==============================] - 0s 13ms/step - loss: 2.4569 - accuracy: 0.0861\n"
     ]
    },
    {
     "name": "stderr",
     "output_type": "stream",
     "text": [
      "WARNING:absl:At this time, the v2.11+ optimizer `tf.keras.optimizers.SGD` runs slowly on M1/M2 Macs, please use the legacy Keras optimizer instead, located at `tf.keras.optimizers.legacy.SGD`.\n",
      "WARNING:absl:There is a known slowdown when using v2.11+ Keras optimizers on M1/M2 Macs. Falling back to the legacy Keras optimizer, i.e., `tf.keras.optimizers.legacy.SGD`.\n"
     ]
    },
    {
     "name": "stdout",
     "output_type": "stream",
     "text": [
      "Learning rate =  10.0\n",
      "Lambda =  0.01\n",
      "Test accuracy: 0.086\n",
      "\n",
      "12/12 [==============================] - 0s 16ms/step - loss: 959.3554 - accuracy: 0.1167\n"
     ]
    },
    {
     "name": "stderr",
     "output_type": "stream",
     "text": [
      "WARNING:absl:At this time, the v2.11+ optimizer `tf.keras.optimizers.SGD` runs slowly on M1/M2 Macs, please use the legacy Keras optimizer instead, located at `tf.keras.optimizers.legacy.SGD`.\n",
      "WARNING:absl:There is a known slowdown when using v2.11+ Keras optimizers on M1/M2 Macs. Falling back to the legacy Keras optimizer, i.e., `tf.keras.optimizers.legacy.SGD`.\n"
     ]
    },
    {
     "name": "stdout",
     "output_type": "stream",
     "text": [
      "Learning rate =  10.0\n",
      "Lambda =  0.1\n",
      "Test accuracy: 0.117\n",
      "\n",
      "12/12 [==============================] - 0s 14ms/step - loss: nan - accuracy: 0.0778\n"
     ]
    },
    {
     "name": "stderr",
     "output_type": "stream",
     "text": [
      "WARNING:absl:At this time, the v2.11+ optimizer `tf.keras.optimizers.SGD` runs slowly on M1/M2 Macs, please use the legacy Keras optimizer instead, located at `tf.keras.optimizers.legacy.SGD`.\n",
      "WARNING:absl:There is a known slowdown when using v2.11+ Keras optimizers on M1/M2 Macs. Falling back to the legacy Keras optimizer, i.e., `tf.keras.optimizers.legacy.SGD`.\n"
     ]
    },
    {
     "name": "stdout",
     "output_type": "stream",
     "text": [
      "Learning rate =  10.0\n",
      "Lambda =  1.0\n",
      "Test accuracy: 0.078\n",
      "\n",
      "12/12 [==============================] - 0s 13ms/step - loss: nan - accuracy: 0.0778\n",
      "Learning rate =  10.0\n",
      "Lambda =  10.0\n",
      "Test accuracy: 0.078\n",
      "\n"
     ]
    }
   ],
   "source": [
    "DNN_keras = np.zeros((len(eta_vals), len(lmbd_vals)), dtype=object)\n",
    "        \n",
    "for i, eta in enumerate(eta_vals):\n",
    "    for j, lmbd in enumerate(lmbd_vals):\n",
    "        DNN = create_neural_network_keras(n_neurons_layer1, n_neurons_layer2, n_categories,\n",
    "                                         eta=eta, lmbd=lmbd)\n",
    "        DNN.fit(X_train, Y_train, epochs=epochs, batch_size=batch_size, verbose=0)\n",
    "        scores = DNN.evaluate(X_test, Y_test)\n",
    "        \n",
    "        DNN_keras[i][j] = DNN\n",
    "        \n",
    "        print(\"Learning rate = \", eta)\n",
    "        print(\"Lambda = \", lmbd)\n",
    "        print(\"Test accuracy: %.3f\" % scores[1])\n",
    "        print()"
   ]
  },
  {
   "cell_type": "code",
   "execution_count": 5,
   "id": "f57a7b70",
   "metadata": {
    "collapsed": false,
    "editable": true,
    "jupyter": {
     "outputs_hidden": false
    }
   },
   "outputs": [
    {
     "name": "stdout",
     "output_type": "stream",
     "text": [
      "45/45 [==============================] - 1s 15ms/step - loss: 2.3829 - accuracy: 0.0995\n",
      "12/12 [==============================] - 0s 14ms/step - loss: 2.3648 - accuracy: 0.0833\n",
      "45/45 [==============================] - 1s 14ms/step - loss: 2.5299 - accuracy: 0.0946\n",
      "12/12 [==============================] - 0s 15ms/step - loss: 2.5249 - accuracy: 0.1278\n",
      "45/45 [==============================] - 1s 14ms/step - loss: 2.5953 - accuracy: 0.1427\n",
      "12/12 [==============================] - 0s 12ms/step - loss: 2.6284 - accuracy: 0.1250\n",
      "45/45 [==============================] - 1s 17ms/step - loss: 3.8118 - accuracy: 0.0995\n",
      "12/12 [==============================] - 0s 16ms/step - loss: 3.8276 - accuracy: 0.0889\n",
      "45/45 [==============================] - 1s 15ms/step - loss: 17.2903 - accuracy: 0.0905\n",
      "12/12 [==============================] - 0s 15ms/step - loss: 17.2502 - accuracy: 0.1056\n",
      "45/45 [==============================] - 1s 15ms/step - loss: 137.7373 - accuracy: 0.0932\n",
      "12/12 [==============================] - 0s 14ms/step - loss: 137.7438 - accuracy: 0.1167\n",
      "45/45 [==============================] - 1s 16ms/step - loss: 791.1535 - accuracy: 0.0960\n",
      "12/12 [==============================] - 0s 15ms/step - loss: 791.1546 - accuracy: 0.1028\n",
      "45/45 [==============================] - 1s 14ms/step - loss: 2.3828 - accuracy: 0.1016\n",
      "12/12 [==============================] - 0s 14ms/step - loss: 2.4095 - accuracy: 0.0917\n",
      "45/45 [==============================] - 1s 13ms/step - loss: 2.5109 - accuracy: 0.0939\n",
      "12/12 [==============================] - 0s 13ms/step - loss: 2.4702 - accuracy: 0.1167\n",
      "45/45 [==============================] - 1s 13ms/step - loss: 2.5195 - accuracy: 0.0647\n",
      "12/12 [==============================] - 0s 15ms/step - loss: 2.4999 - accuracy: 0.0917\n",
      "45/45 [==============================] - 1s 14ms/step - loss: 3.8371 - accuracy: 0.1044\n",
      "12/12 [==============================] - 0s 13ms/step - loss: 3.8617 - accuracy: 0.0889\n",
      "45/45 [==============================] - 1s 15ms/step - loss: 15.9897 - accuracy: 0.0953\n",
      "12/12 [==============================] - 0s 17ms/step - loss: 15.9813 - accuracy: 0.1139\n",
      "45/45 [==============================] - 1s 17ms/step - loss: 81.3778 - accuracy: 0.1037\n",
      "12/12 [==============================] - 0s 16ms/step - loss: 81.3855 - accuracy: 0.0889\n",
      "45/45 [==============================] - 1s 15ms/step - loss: 6.0581 - accuracy: 0.0967\n",
      "12/12 [==============================] - 0s 14ms/step - loss: 6.0620 - accuracy: 0.1139\n",
      "45/45 [==============================] - 1s 16ms/step - loss: 2.1808 - accuracy: 0.4509\n",
      "12/12 [==============================] - 0s 16ms/step - loss: 2.2036 - accuracy: 0.3917\n",
      "45/45 [==============================] - 1s 14ms/step - loss: 2.1643 - accuracy: 0.3800\n",
      "12/12 [==============================] - 0s 14ms/step - loss: 2.1645 - accuracy: 0.3694\n",
      "45/45 [==============================] - 1s 15ms/step - loss: 2.3447 - accuracy: 0.3834\n",
      "12/12 [==============================] - 0s 14ms/step - loss: 2.3489 - accuracy: 0.3333\n",
      "45/45 [==============================] - 1s 13ms/step - loss: 3.5658 - accuracy: 0.2902\n",
      "12/12 [==============================] - 0s 13ms/step - loss: 3.5798 - accuracy: 0.2611\n",
      "45/45 [==============================] - 1s 13ms/step - loss: 10.1893 - accuracy: 0.4621\n",
      "12/12 [==============================] - 0s 12ms/step - loss: 10.2003 - accuracy: 0.4333\n",
      "45/45 [==============================] - 1s 14ms/step - loss: 2.6642 - accuracy: 0.1044\n",
      "12/12 [==============================] - 0s 13ms/step - loss: 2.6594 - accuracy: 0.0889\n",
      "45/45 [==============================] - 1s 15ms/step - loss: 2.3056 - accuracy: 0.0939\n",
      "12/12 [==============================] - 0s 15ms/step - loss: 2.3030 - accuracy: 0.1167\n",
      "45/45 [==============================] - 1s 15ms/step - loss: 1.0158 - accuracy: 0.8970\n",
      "12/12 [==============================] - 0s 15ms/step - loss: 1.0555 - accuracy: 0.8694\n",
      "45/45 [==============================] - 1s 16ms/step - loss: 1.0723 - accuracy: 0.8824\n",
      "12/12 [==============================] - 0s 16ms/step - loss: 1.1238 - accuracy: 0.8583\n",
      "45/45 [==============================] - 1s 16ms/step - loss: 1.1955 - accuracy: 0.8866\n",
      "12/12 [==============================] - 0s 18ms/step - loss: 1.2342 - accuracy: 0.8806\n",
      "45/45 [==============================] - 1s 17ms/step - loss: 2.0627 - accuracy: 0.9088\n",
      "12/12 [==============================] - 0s 12ms/step - loss: 2.1114 - accuracy: 0.8833\n",
      "45/45 [==============================] - 1s 13ms/step - loss: 2.2699 - accuracy: 0.5560\n",
      "12/12 [==============================] - 0s 14ms/step - loss: 2.2776 - accuracy: 0.5139\n",
      "45/45 [==============================] - 1s 11ms/step - loss: 2.3020 - accuracy: 0.1044\n",
      "12/12 [==============================] - 0s 11ms/step - loss: 2.3079 - accuracy: 0.0778\n",
      "45/45 [==============================] - 1s 12ms/step - loss: 2.3020 - accuracy: 0.1044\n",
      "12/12 [==============================] - 0s 13ms/step - loss: 2.3081 - accuracy: 0.0778\n",
      "45/45 [==============================] - 1s 14ms/step - loss: 0.0471 - accuracy: 0.9986\n",
      "12/12 [==============================] - 0s 14ms/step - loss: 0.1069 - accuracy: 0.9722\n",
      "45/45 [==============================] - 1s 15ms/step - loss: 0.0652 - accuracy: 0.9986\n",
      "12/12 [==============================] - 0s 14ms/step - loss: 0.1282 - accuracy: 0.9667\n",
      "45/45 [==============================] - 1s 25ms/step - loss: 0.2069 - accuracy: 0.9979\n",
      "12/12 [==============================] - 0s 14ms/step - loss: 0.2611 - accuracy: 0.9694\n",
      "45/45 [==============================] - 1s 14ms/step - loss: 0.4478 - accuracy: 0.9812\n",
      "12/12 [==============================] - 0s 14ms/step - loss: 0.4928 - accuracy: 0.9639\n",
      "45/45 [==============================] - 1s 16ms/step - loss: 1.5912 - accuracy: 0.6430\n",
      "12/12 [==============================] - 0s 15ms/step - loss: 1.6045 - accuracy: 0.6222\n",
      "45/45 [==============================] - 1s 15ms/step - loss: 2.3066 - accuracy: 0.0995\n",
      "12/12 [==============================] - 0s 16ms/step - loss: 2.3218 - accuracy: 0.0861\n",
      "45/45 [==============================] - 1s 14ms/step - loss: 1597.5291 - accuracy: 0.0640\n",
      "12/12 [==============================] - 0s 15ms/step - loss: 1597.5353 - accuracy: 0.0444\n",
      "45/45 [==============================] - 1s 14ms/step - loss: 0.0054 - accuracy: 1.0000\n",
      "12/12 [==============================] - 0s 15ms/step - loss: 0.0781 - accuracy: 0.9806\n",
      "45/45 [==============================] - 1s 16ms/step - loss: 0.0267 - accuracy: 1.0000\n",
      "12/12 [==============================] - 0s 17ms/step - loss: 0.0868 - accuracy: 0.9861\n",
      "45/45 [==============================] - 1s 16ms/step - loss: 0.4085 - accuracy: 0.9631\n",
      "12/12 [==============================] - 0s 15ms/step - loss: 0.4859 - accuracy: 0.9222\n",
      "45/45 [==============================] - 1s 15ms/step - loss: 2.8874 - accuracy: 0.1628\n",
      "12/12 [==============================] - 0s 15ms/step - loss: 2.9575 - accuracy: 0.1583\n",
      "45/45 [==============================] - 1s 15ms/step - loss: 2.5044 - accuracy: 0.1037\n",
      "12/12 [==============================] - 0s 15ms/step - loss: 2.5299 - accuracy: 0.0889\n",
      "45/45 [==============================] - 1s 16ms/step - loss: 372.5927 - accuracy: 0.0967\n",
      "12/12 [==============================] - 0s 15ms/step - loss: 371.5039 - accuracy: 0.1139\n",
      "45/45 [==============================] - 1s 16ms/step - loss: nan - accuracy: 0.1044\n",
      "12/12 [==============================] - 0s 15ms/step - loss: nan - accuracy: 0.0778\n",
      "45/45 [==============================] - 1s 13ms/step - loss: 4.4143 - accuracy: 0.0995\n",
      "12/12 [==============================] - 0s 13ms/step - loss: 4.4885 - accuracy: 0.1056\n",
      "45/45 [==============================] - 1s 13ms/step - loss: 2.4027 - accuracy: 0.0953\n",
      "12/12 [==============================] - 0s 13ms/step - loss: 2.4071 - accuracy: 0.1250\n",
      "45/45 [==============================] - 1s 14ms/step - loss: 2.4921 - accuracy: 0.0939\n",
      "12/12 [==============================] - 0s 17ms/step - loss: 2.4936 - accuracy: 0.1167\n",
      "45/45 [==============================] - 1s 14ms/step - loss: 2.4047 - accuracy: 0.0995\n",
      "12/12 [==============================] - 0s 12ms/step - loss: 2.4569 - accuracy: 0.0861\n",
      "45/45 [==============================] - 1s 15ms/step - loss: 962.0815 - accuracy: 0.0939\n",
      "12/12 [==============================] - 0s 16ms/step - loss: 959.3554 - accuracy: 0.1167\n",
      "45/45 [==============================] - 1s 16ms/step - loss: nan - accuracy: 0.1044\n",
      "12/12 [==============================] - 0s 15ms/step - loss: nan - accuracy: 0.0778\n",
      "45/45 [==============================] - 1s 15ms/step - loss: nan - accuracy: 0.1044\n",
      "12/12 [==============================] - 0s 16ms/step - loss: nan - accuracy: 0.0778\n"
     ]
    },
    {
     "data": {
      "image/png": "[encoded data removed]",
      "text/plain": [
       "<Figure size 1000x1000 with 2 Axes>"
      ]
     },
     "metadata": {},
     "output_type": "display_data"
    },
    {
     "data": {
      "image/png": "[encoded data removed]",
      "text/plain": [
       "<Figure size 1000x1000 with 2 Axes>"
      ]
     },
     "metadata": {},
     "output_type": "display_data"
    }
   ],
   "source": [
    "# optional\n",
    "# visual representation of grid search\n",
    "# uses seaborn heatmap, could probably do this in matplotlib\n",
    "import seaborn as sns\n",
    "\n",
    "sns.set()\n",
    "\n",
    "train_accuracy = np.zeros((len(eta_vals), len(lmbd_vals)))\n",
    "test_accuracy = np.zeros((len(eta_vals), len(lmbd_vals)))\n",
    "\n",
    "for i in range(len(eta_vals)):\n",
    "    for j in range(len(lmbd_vals)):\n",
    "        DNN = DNN_keras[i][j]\n",
    "\n",
    "        train_accuracy[i][j] = DNN.evaluate(X_train, Y_train)[1]\n",
    "        test_accuracy[i][j] = DNN.evaluate(X_test, Y_test)[1]\n",
    "\n",
    "        \n",
    "fig, ax = plt.subplots(figsize = (10, 10))\n",
    "sns.heatmap(train_accuracy, annot=True, ax=ax, cmap=\"viridis\")\n",
    "ax.set_title(\"Training Accuracy\")\n",
    "ax.set_ylabel(\"$\\eta$\")\n",
    "ax.set_xlabel(\"$\\lambda$\")\n",
    "plt.show()\n",
    "\n",
    "fig, ax = plt.subplots(figsize = (10, 10))\n",
    "sns.heatmap(test_accuracy, annot=True, ax=ax, cmap=\"viridis\")\n",
    "ax.set_title(\"Test Accuracy\")\n",
    "ax.set_ylabel(\"$\\eta$\")\n",
    "ax.set_xlabel(\"$\\lambda$\")\n",
    "plt.show()"
   ]
  },
  {
   "cell_type": "markdown",
   "id": "a61b50a8",
   "metadata": {
    "editable": true
   },
   "source": [
    "## Using Pytorch with the full MNIST data set"
   ]
  },
  {
   "cell_type": "code",
   "execution_count": 10,
   "id": "d220a7ad",
   "metadata": {
    "collapsed": false,
    "editable": true,
    "jupyter": {
     "outputs_hidden": false
    }
   },
   "outputs": [],
   "source": [
    "import torch\n",
    "import torch.nn as nn\n",
    "import torch.optim as optim\n",
    "import torchvision\n",
    "import torchvision.transforms as transforms\n",
    "\n",
    "# Device configuration: use GPU if available\n",
    "device = torch.device(\"cuda\" if torch.cuda.is_available() else \"cpu\")\n",
    "\n",
    "# MNIST dataset (downloads if not already present)\n",
    "transform = transforms.Compose([\n",
    "    transforms.ToTensor(),\n",
    "    transforms.Normalize((0.5,), (0.5,))  # normalize to mean=0.5, std=0.5 (approx. [-1,1] pixel range)\n",
    "])\n",
    "train_dataset = torchvision.datasets.MNIST(root='./data', train=True, download=True, transform=transform)\n",
    "test_dataset  = torchvision.datasets.MNIST(root='./data', train=False, download=True, transform=transform)\n",
    "\n",
    "train_loader = torch.utils.data.DataLoader(train_dataset, batch_size=64, shuffle=True)\n",
    "test_loader  = torch.utils.data.DataLoader(test_dataset, batch_size=64, shuffle=False)\n",
    "\n",
    "\n",
    "class NeuralNet(nn.Module):\n",
    "    def __init__(self):\n",
    "        super(NeuralNet, self).__init__()\n",
    "        self.fc1 = nn.Linear(28*28, 100)   # first hidden layer (784 -> 100)\n",
    "        self.fc2 = nn.Linear(100, 100)    # second hidden layer (100 -> 100)\n",
    "        self.fc3 = nn.Linear(100, 10)     # output layer (100 -> 10 classes)\n",
    "    def forward(self, x):\n",
    "        x = x.view(x.size(0), -1)         # flatten images into vectors of size 784\n",
    "        x = torch.relu(self.fc1(x))       # hidden layer 1 + ReLU activation\n",
    "        x = torch.relu(self.fc2(x))       # hidden layer 2 + ReLU activation\n",
    "        x = self.fc3(x)                   # output layer (logits for 10 classes)\n",
    "        return x\n",
    "\n",
    "model = NeuralNet().to(device)\n",
    "\n",
    "\n",
    "criterion = nn.CrossEntropyLoss()\n",
    "optimizer = optim.SGD(model.parameters(), lr=0.01, weight_decay=1e-4)\n",
    "\n",
    "num_epochs = 10\n",
    "for epoch in range(num_epochs):\n",
    "    model.train()  # set model to training mode\n",
    "    running_loss = 0.0\n",
    "    for images, labels in train_loader:\n",
    "        # Move data to device (GPU if available, else CPU)\n",
    "        images, labels = images.to(device), labels.to(device)\n",
    "\n",
    "        optimizer.zero_grad()            # reset gradients to zero\n",
    "        outputs = model(images)          # forward pass: compute predictions\n",
    "        loss = criterion(outputs, labels)  # compute cross-entropy loss\n",
    "        loss.backward()                 # backpropagate to compute gradients\n",
    "        optimizer.step()                # update weights using SGD step \n",
    "\n",
    "        running_loss += loss.item()\n",
    "    # Compute average loss over all batches in this epoch\n",
    "    avg_loss = running_loss / len(train_loader)\n",
    "    print(f\"Epoch {epoch+1}/{num_epochs}, Loss: {avg_loss:.4f}\")\n",
    "\n",
    "#Evaluation on the Test Set\n",
    "\n",
    "\n",
    "\n",
    "model.eval()  # set model to evaluation mode \n",
    "correct = 0\n",
    "total = 0\n",
    "with torch.no_grad():  # disable gradient calculation for evaluation \n",
    "    for images, labels in test_loader:\n",
    "        images, labels = images.to(device), labels.to(device)\n",
    "        outputs = model(images)\n",
    "        _, predicted = torch.max(outputs, dim=1)  # class with highest score\n",
    "        total += labels.size(0)\n",
    "        correct += (predicted == labels).sum().item()\n",
    "\n",
    "accuracy = 100 * correct / total\n",
    "print(f\"Test Accuracy: {accuracy:.2f}%\")"
   ]
  },
  {
   "cell_type": "markdown",
   "id": "d87d7514",
   "metadata": {
    "editable": true
   },
   "source": [
    "## And a similar example using Tensorflow with Keras"
   ]
  },
  {
   "cell_type": "code",
   "execution_count": 6,
   "id": "c6df6115",
   "metadata": {
    "collapsed": false,
    "editable": true,
    "jupyter": {
     "outputs_hidden": false
    }
   },
   "outputs": [
    {
     "name": "stdout",
     "output_type": "stream",
     "text": [
      "GPUs available: [PhysicalDevice(name='/physical_device:GPU:0', device_type='GPU')]\n"
     ]
    },
    {
     "name": "stderr",
     "output_type": "stream",
     "text": [
      "WARNING:absl:At this time, the v2.11+ optimizer `tf.keras.optimizers.SGD` runs slowly on M1/M2 Macs, please use the legacy Keras optimizer instead, located at `tf.keras.optimizers.legacy.SGD`.\n",
      "WARNING:absl:There is a known slowdown when using v2.11+ Keras optimizers on M1/M2 Macs. Falling back to the legacy Keras optimizer, i.e., `tf.keras.optimizers.legacy.SGD`.\n"
     ]
    },
    {
     "name": "stdout",
     "output_type": "stream",
     "text": [
      "Model: \"sequential_49\"\n",
      "_________________________________________________________________\n",
      " Layer (type)                Output Shape              Param #   \n",
      "=================================================================\n",
      " flatten (Flatten)           (None, 784)               0         \n",
      "                                                                 \n",
      " dense_147 (Dense)           (None, 100)               78500     \n",
      "                                                                 \n",
      " dense_148 (Dense)           (None, 100)               10100     \n",
      "                                                                 \n",
      " dense_149 (Dense)           (None, 10)                1010      \n",
      "                                                                 \n",
      "=================================================================\n",
      "Total params: 89,610\n",
      "Trainable params: 89,610\n",
      "Non-trainable params: 0\n",
      "_________________________________________________________________\n"
     ]
    },
    {
     "data": {
      "text/plain": [
       "'\\n# 4) Train\\nhistory = model.fit(\\n    x_train, y_train,\\n    epochs=10,\\n    batch_size=64,\\n    validation_split=0.1,  # optional: monitor validation during training\\n    verbose=1\\n)\\n\\n# 5) Evaluate on test set\\ntest_loss, test_acc = model.evaluate(x_test, y_test, verbose=0)\\nprint(f\"Test accuracy: {test_acc:.4f}, Test loss: {test_loss:.4f}\")\\n'"
      ]
     },
     "execution_count": 6,
     "metadata": {},
     "output_type": "execute_result"
    }
   ],
   "source": [
    "\n",
    "import tensorflow as tf\n",
    "from tensorflow import keras\n",
    "from tensorflow.keras import layers, regularizers\n",
    "\n",
    "# Check for GPU (TensorFlow will use it automatically if available)\n",
    "gpus = tf.config.list_physical_devices('GPU')\n",
    "print(f\"GPUs available: {gpus}\")\n",
    "\n",
    "# 1) Load and preprocess MNIST\n",
    "(x_train, y_train), (x_test, y_test) = keras.datasets.mnist.load_data()\n",
    "# Normalize to [0, 1]\n",
    "x_train = (x_train.astype(\"float32\") / 255.0)\n",
    "x_test  = (x_test.astype(\"float32\") / 255.0)\n",
    "\n",
    "# 2) Build the model: 784 -> 100 -> 100 -> 10\n",
    "l2_reg = 1e-4  # L2 regularization strength\n",
    "\n",
    "model = keras.Sequential([\n",
    "    layers.Input(shape=(28, 28)),\n",
    "    layers.Flatten(),\n",
    "    layers.Dense(100, activation=\"relu\",\n",
    "                 kernel_regularizer=regularizers.l2(l2_reg)),\n",
    "    layers.Dense(100, activation=\"relu\",\n",
    "                 kernel_regularizer=regularizers.l2(l2_reg)),\n",
    "    layers.Dense(10, activation=\"softmax\")  # output probabilities for 10 classes\n",
    "])\n",
    "\n",
    "# 3) Compile with SGD + weight decay via L2 regularizers\n",
    "model.compile(\n",
    "    optimizer=keras.optimizers.SGD(learning_rate=0.01),\n",
    "    loss=\"sparse_categorical_crossentropy\",\n",
    "    metrics=[\"accuracy\"],\n",
    ")\n",
    "\n",
    "model.summary()\n",
    "\"\"\"\n",
    "# 4) Train\n",
    "history = model.fit(\n",
    "    x_train, y_train,\n",
    "    epochs=10,\n",
    "    batch_size=64,\n",
    "    validation_split=0.1,  # optional: monitor validation during training\n",
    "    verbose=1\n",
    ")\n",
    "\n",
    "# 5) Evaluate on test set\n",
    "test_loss, test_acc = model.evaluate(x_test, y_test, verbose=0)\n",
    "print(f\"Test accuracy: {test_acc:.4f}, Test loss: {test_loss:.4f}\")\n",
    "\"\"\""
   ]
  },
  {
   "cell_type": "markdown",
   "id": "5fd4d319",
   "metadata": {
    "editable": true
   },
   "source": [
    "## Building our own  neural network code\n",
    "\n",
    "Here we  present a flexible object oriented codebase\n",
    "for a feed forward neural network, along with a demonstration of how\n",
    "to use it. Before we get into the details of the neural network, we\n",
    "will first present some implementations of various schedulers, cost\n",
    "functions and activation functions that can be used together with the\n",
    "neural network.\n",
    "\n",
    "The codes here were developed by Eric Reber and Gregor Kajda during spring 2023."
   ]
  },
  {
   "cell_type": "markdown",
   "id": "64134feb",
   "metadata": {
    "editable": true
   },
   "source": [
    "### Learning rate methods\n",
    "\n",
    "The code below shows object oriented implementations of the Constant,\n",
    "Momentum, Adagrad, AdagradMomentum, RMS prop and Adam schedulers. All\n",
    "of the classes belong to the shared abstract Scheduler class, and\n",
    "share the update_change() and reset() methods allowing for any of the\n",
    "schedulers to be seamlessly used during the training stage, as will\n",
    "later be shown in the fit() method of the neural\n",
    "network. Update_change() only has one parameter, the gradient\n",
    "($δ^l_ja^{l−1}_k$), and returns the change which will be subtracted\n",
    "from the weights. The reset() function takes no parameters, and resets\n",
    "the desired variables. For Constant and Momentum, reset does nothing."
   ]
  },
  {
   "cell_type": "code",
   "execution_count": 7,
   "id": "643f7a82",
   "metadata": {
    "collapsed": false,
    "editable": true,
    "jupyter": {
     "outputs_hidden": false
    }
   },
   "outputs": [],
   "source": [
    "import autograd.numpy as np\n",
    "\n",
    "class Scheduler:\n",
    "    \"\"\"\n",
    "    Abstract class for Schedulers\n",
    "    \"\"\"\n",
    "\n",
    "    def __init__(self, eta):\n",
    "        self.eta = eta\n",
    "\n",
    "    # should be overwritten\n",
    "    def update_change(self, gradient):\n",
    "        raise NotImplementedError\n",
    "\n",
    "    # overwritten if needed\n",
    "    def reset(self):\n",
    "        pass\n",
    "\n",
    "\n",
    "class Constant(Scheduler):\n",
    "    def __init__(self, eta):\n",
    "        super().__init__(eta)\n",
    "\n",
    "    def update_change(self, gradient):\n",
    "        return self.eta * gradient\n",
    "    \n",
    "    def reset(self):\n",
    "        pass\n",
    "\n",
    "\n",
    "class Momentum(Scheduler):\n",
    "    def __init__(self, eta: float, momentum: float):\n",
    "        super().__init__(eta)\n",
    "        self.momentum = momentum\n",
    "        self.change = 0\n",
    "\n",
    "    def update_change(self, gradient):\n",
    "        self.change = self.momentum * self.change + self.eta * gradient\n",
    "        return self.change\n",
    "\n",
    "    def reset(self):\n",
    "        pass\n",
    "\n",
    "\n",
    "class Adagrad(Scheduler):\n",
    "    def __init__(self, eta):\n",
    "        super().__init__(eta)\n",
    "        self.G_t = None\n",
    "\n",
    "    def update_change(self, gradient):\n",
    "        delta = 1e-8  # avoid division ny zero\n",
    "\n",
    "        if self.G_t is None:\n",
    "            self.G_t = np.zeros((gradient.shape[0], gradient.shape[0]))\n",
    "\n",
    "        self.G_t += gradient @ gradient.T\n",
    "\n",
    "        G_t_inverse = 1 / (\n",
    "            delta + np.sqrt(np.reshape(np.diagonal(self.G_t), (self.G_t.shape[0], 1)))\n",
    "        )\n",
    "        return self.eta * gradient * G_t_inverse\n",
    "\n",
    "    def reset(self):\n",
    "        self.G_t = None\n",
    "\n",
    "\n",
    "class AdagradMomentum(Scheduler):\n",
    "    def __init__(self, eta, momentum):\n",
    "        super().__init__(eta)\n",
    "        self.G_t = None\n",
    "        self.momentum = momentum\n",
    "        self.change = 0\n",
    "\n",
    "    def update_change(self, gradient):\n",
    "        delta = 1e-8  # avoid division ny zero\n",
    "\n",
    "        if self.G_t is None:\n",
    "            self.G_t = np.zeros((gradient.shape[0], gradient.shape[0]))\n",
    "\n",
    "        self.G_t += gradient @ gradient.T\n",
    "\n",
    "        G_t_inverse = 1 / (\n",
    "            delta + np.sqrt(np.reshape(np.diagonal(self.G_t), (self.G_t.shape[0], 1)))\n",
    "        )\n",
    "        self.change = self.change * self.momentum + self.eta * gradient * G_t_inverse\n",
    "        return self.change\n",
    "\n",
    "    def reset(self):\n",
    "        self.G_t = None\n",
    "\n",
    "\n",
    "class RMS_prop(Scheduler):\n",
    "    def __init__(self, eta, rho):\n",
    "        super().__init__(eta)\n",
    "        self.rho = rho\n",
    "        self.second = 0.0\n",
    "\n",
    "    def update_change(self, gradient):\n",
    "        delta = 1e-8  # avoid division ny zero\n",
    "        self.second = self.rho * self.second + (1 - self.rho) * gradient * gradient\n",
    "        return self.eta * gradient / (np.sqrt(self.second + delta))\n",
    "\n",
    "    def reset(self):\n",
    "        self.second = 0.0\n",
    "\n",
    "\n",
    "class Adam(Scheduler):\n",
    "    def __init__(self, eta, rho, rho2):\n",
    "        super().__init__(eta)\n",
    "        self.rho = rho\n",
    "        self.rho2 = rho2\n",
    "        self.moment = 0\n",
    "        self.second = 0\n",
    "        self.n_epochs = 1\n",
    "\n",
    "    def update_change(self, gradient):\n",
    "        delta = 1e-8  # avoid division ny zero\n",
    "\n",
    "        self.moment = self.rho * self.moment + (1 - self.rho) * gradient\n",
    "        self.second = self.rho2 * self.second + (1 - self.rho2) * gradient * gradient\n",
    "\n",
    "        moment_corrected = self.moment / (1 - self.rho**self.n_epochs)\n",
    "        second_corrected = self.second / (1 - self.rho2**self.n_epochs)\n",
    "\n",
    "        return self.eta * moment_corrected / (np.sqrt(second_corrected + delta))\n",
    "\n",
    "    def reset(self):\n",
    "        self.n_epochs += 1\n",
    "        self.moment = 0\n",
    "        self.second = 0"
   ]
  },
  {
   "cell_type": "markdown",
   "id": "dfa32b7e",
   "metadata": {
    "editable": true
   },
   "source": [
    "### Usage of the above learning rate schedulers\n",
    "\n",
    "To initalize a scheduler, simply create the object and pass in the\n",
    "necessary parameters such as the learning rate and the momentum as\n",
    "shown below. As the Scheduler class is an abstract class it should not\n",
    "called directly, and will raise an error upon usage."
   ]
  },
  {
   "cell_type": "code",
   "execution_count": 8,
   "id": "4b88b24e",
   "metadata": {
    "collapsed": false,
    "editable": true,
    "jupyter": {
     "outputs_hidden": false
    }
   },
   "outputs": [],
   "source": [
    "momentum_scheduler = Momentum(eta=1e-3, momentum=0.9)\n",
    "adam_scheduler = Adam(eta=1e-3, rho=0.9, rho2=0.999)"
   ]
  },
  {
   "cell_type": "markdown",
   "id": "2eea0e52",
   "metadata": {
    "editable": true
   },
   "source": [
    "Here is a small example for how a segment of code using schedulers\n",
    "could look. Switching out the schedulers is simple."
   ]
  },
  {
   "cell_type": "code",
   "execution_count": 9,
   "id": "090bee3c",
   "metadata": {
    "collapsed": false,
    "editable": true,
    "jupyter": {
     "outputs_hidden": false
    }
   },
   "outputs": [
    {
     "name": "stdout",
     "output_type": "stream",
     "text": [
      "Before scheduler:\n",
      "weights=array([[1., 1., 1.],\n",
      "       [1., 1., 1.],\n",
      "       [1., 1., 1.]])\n",
      "\n",
      "After scheduler:\n",
      "weights=array([[0.993993  , 0.99403075, 0.99399314],\n",
      "       [0.99399303, 0.99399301, 0.993993  ],\n",
      "       [0.993993  , 0.99399301, 0.993993  ]])\n"
     ]
    }
   ],
   "source": [
    "weights = np.ones((3,3))\n",
    "print(f\"Before scheduler:\\n{weights=}\")\n",
    "\n",
    "epochs = 10\n",
    "for e in range(epochs):\n",
    "    gradient = np.random.rand(3, 3)\n",
    "    change = adam_scheduler.update_change(gradient)\n",
    "    weights = weights - change\n",
    "    adam_scheduler.reset()\n",
    "\n",
    "print(f\"\\nAfter scheduler:\\n{weights=}\")"
   ]
  },
  {
   "cell_type": "markdown",
   "id": "e0eee286",
   "metadata": {
    "editable": true
   },
   "source": [
    "### Cost functions\n",
    "\n",
    "Here we discuss cost functions that can be used when creating the\n",
    "neural network. Every cost function takes the target vector as its\n",
    "parameter, and returns a function valued only at $x$ such that it may\n",
    "easily be differentiated."
   ]
  },
  {
   "cell_type": "code",
   "execution_count": 10,
   "id": "191224bb",
   "metadata": {
    "collapsed": false,
    "editable": true,
    "jupyter": {
     "outputs_hidden": false
    }
   },
   "outputs": [],
   "source": [
    "import autograd.numpy as np\n",
    "\n",
    "def CostOLS(target):\n",
    "    \n",
    "    def func(X):\n",
    "        return (1.0 / target.shape[0]) * np.sum((target - X) ** 2)\n",
    "\n",
    "    return func\n",
    "\n",
    "\n",
    "def CostLogReg(target):\n",
    "\n",
    "    def func(X):\n",
    "        \n",
    "        return -(1.0 / target.shape[0]) * np.sum(\n",
    "            (target * np.log(X + 10e-10)) + ((1 - target) * np.log(1 - X + 10e-10))\n",
    "        )\n",
    "\n",
    "    return func\n",
    "\n",
    "\n",
    "def CostCrossEntropy(target):\n",
    "    \n",
    "    def func(X):\n",
    "        return -(1.0 / target.size) * np.sum(target * np.log(X + 10e-10))\n",
    "\n",
    "    return func"
   ]
  },
  {
   "cell_type": "markdown",
   "id": "7f4a0238",
   "metadata": {
    "editable": true
   },
   "source": [
    "Below we give a short example of how these cost function may be used\n",
    "to obtain results if you wish to test them out on your own using\n",
    "AutoGrad's automatics differentiation."
   ]
  },
  {
   "cell_type": "code",
   "execution_count": 11,
   "id": "d822b656",
   "metadata": {
    "collapsed": false,
    "editable": true,
    "jupyter": {
     "outputs_hidden": false
    }
   },
   "outputs": [
    {
     "name": "stdout",
     "output_type": "stream",
     "text": [
      "Derivative of cost function CostCrossEntropy valued at a:\n",
      "[[-0.08333333]\n",
      " [-0.13333333]\n",
      " [-0.16666667]]\n"
     ]
    }
   ],
   "source": [
    "from autograd import grad\n",
    "\n",
    "target = np.array([[1, 2, 3]]).T\n",
    "a = np.array([[4, 5, 6]]).T\n",
    "\n",
    "cost_func = CostCrossEntropy\n",
    "cost_func_derivative = grad(cost_func(target))\n",
    "\n",
    "valued_at_a = cost_func_derivative(a)\n",
    "print(f\"Derivative of cost function {cost_func.__name__} valued at a:\\n{valued_at_a}\")"
   ]
  },
  {
   "cell_type": "markdown",
   "id": "7ff32a3b",
   "metadata": {
    "editable": true
   },
   "source": [
    "### Activation functions\n",
    "\n",
    "Finally, before we look at the neural network, we will look at the\n",
    "activation functions which can be specified between the hidden layers\n",
    "and as the output function. Each function can be valued for any given\n",
    "vector or matrix X, and can be differentiated via derivate()."
   ]
  },
  {
   "cell_type": "code",
   "execution_count": 12,
   "id": "90045474",
   "metadata": {
    "collapsed": false,
    "editable": true,
    "jupyter": {
     "outputs_hidden": false
    }
   },
   "outputs": [],
   "source": [
    "import autograd.numpy as np\n",
    "from autograd import elementwise_grad\n",
    "\n",
    "def identity(X):\n",
    "    return X\n",
    "\n",
    "\n",
    "def sigmoid(X):\n",
    "    try:\n",
    "        return 1.0 / (1 + np.exp(-X))\n",
    "    except FloatingPointError:\n",
    "        return np.where(X > np.zeros(X.shape), np.ones(X.shape), np.zeros(X.shape))\n",
    "\n",
    "\n",
    "def softmax(X):\n",
    "    X = X - np.max(X, axis=-1, keepdims=True)\n",
    "    delta = 10e-10\n",
    "    return np.exp(X) / (np.sum(np.exp(X), axis=-1, keepdims=True) + delta)\n",
    "\n",
    "\n",
    "def RELU(X):\n",
    "    return np.where(X > np.zeros(X.shape), X, np.zeros(X.shape))\n",
    "\n",
    "\n",
    "def LRELU(X):\n",
    "    delta = 10e-4\n",
    "    return np.where(X > np.zeros(X.shape), X, delta * X)\n",
    "\n",
    "\n",
    "def derivate(func):\n",
    "    if func.__name__ == \"RELU\":\n",
    "\n",
    "        def func(X):\n",
    "            return np.where(X > 0, 1, 0)\n",
    "\n",
    "        return func\n",
    "\n",
    "    elif func.__name__ == \"LRELU\":\n",
    "\n",
    "        def func(X):\n",
    "            delta = 10e-4\n",
    "            return np.where(X > 0, 1, delta)\n",
    "\n",
    "        return func\n",
    "\n",
    "    else:\n",
    "        return elementwise_grad(func)"
   ]
  },
  {
   "cell_type": "markdown",
   "id": "eec681dc",
   "metadata": {
    "editable": true
   },
   "source": [
    "Below follows a short demonstration of how to use an activation\n",
    "function. The derivative of the activation function will be important\n",
    "when calculating the output delta term during backpropagation. Note\n",
    "that derivate() can also be used for cost functions for a more\n",
    "generalized approach."
   ]
  },
  {
   "cell_type": "code",
   "execution_count": 13,
   "id": "a36d4506",
   "metadata": {
    "collapsed": false,
    "editable": true,
    "jupyter": {
     "outputs_hidden": false
    }
   },
   "outputs": [
    {
     "name": "stdout",
     "output_type": "stream",
     "text": [
      "Input to activation function:\n",
      "[[4]\n",
      " [5]\n",
      " [6]]\n",
      "\n",
      "Output from sigmoid activation function:\n",
      "[[0.98201379]\n",
      " [0.99330715]\n",
      " [0.99752738]]\n",
      "\n",
      "Derivative of sigmoid activation function valued at z:\n",
      "[[0.19824029]\n",
      " [0.19721923]\n",
      " [0.19683648]]\n"
     ]
    }
   ],
   "source": [
    "z = np.array([[4, 5, 6]]).T\n",
    "print(f\"Input to activation function:\\n{z}\")\n",
    "\n",
    "act_func = sigmoid\n",
    "a = act_func(z)\n",
    "print(f\"\\nOutput from {act_func.__name__} activation function:\\n{a}\")\n",
    "\n",
    "act_func_derivative = derivate(act_func)\n",
    "valued_at_z = act_func_derivative(a)\n",
    "print(f\"\\nDerivative of {act_func.__name__} activation function valued at z:\\n{valued_at_z}\")"
   ]
  },
  {
   "cell_type": "markdown",
   "id": "d2358581",
   "metadata": {
    "editable": true
   },
   "source": [
    "### The Neural Network\n",
    "\n",
    "Now that we have gotten a good understanding of the implementation of\n",
    "some important components, we can take a look at an object oriented\n",
    "implementation of a feed forward neural network. The feed forward\n",
    "neural network has been implemented as a class named FFNN, which can\n",
    "be initiated as a regressor or classifier dependant on the choice of\n",
    "cost function. The FFNN can have any number of input nodes, hidden\n",
    "layers with any amount of hidden nodes, and any amount of output nodes\n",
    "meaning it can perform multiclass classification as well as binary\n",
    "classification and regression problems. Although there is a lot of\n",
    "code present, it makes for an easy to use and generalizeable interface\n",
    "for creating many types of neural networks as will be demonstrated\n",
    "below."
   ]
  },
  {
   "cell_type": "code",
   "execution_count": 14,
   "id": "9dd0b112",
   "metadata": {
    "collapsed": false,
    "editable": true,
    "jupyter": {
     "outputs_hidden": false
    }
   },
   "outputs": [],
   "source": [
    "import math\n",
    "import autograd.numpy as np\n",
    "import sys\n",
    "import warnings\n",
    "from autograd import grad, elementwise_grad\n",
    "from random import random, seed\n",
    "from copy import deepcopy, copy\n",
    "from typing import Tuple, Callable\n",
    "from sklearn.utils import resample\n",
    "\n",
    "warnings.simplefilter(\"error\")\n",
    "\n",
    "\n",
    "class FFNN:\n",
    "    \"\"\"\n",
    "    Description:\n",
    "    ------------\n",
    "        Feed Forward Neural Network with interface enabling flexible design of a\n",
    "        nerual networks architecture and the specification of activation function\n",
    "        in the hidden layers and output layer respectively. This model can be used\n",
    "        for both regression and classification problems, depending on the output function.\n",
    "\n",
    "    Attributes:\n",
    "    ------------\n",
    "        I   dimensions (tuple[int]): A list of positive integers, which specifies the\n",
    "            number of nodes in each of the networks layers. The first integer in the array\n",
    "            defines the number of nodes in the input layer, the second integer defines number\n",
    "            of nodes in the first hidden layer and so on until the last number, which\n",
    "            specifies the number of nodes in the output layer.\n",
    "        II  hidden_func (Callable): The activation function for the hidden layers\n",
    "        III output_func (Callable): The activation function for the output layer\n",
    "        IV  cost_func (Callable): Our cost function\n",
    "        V   seed (int): Sets random seed, makes results reproducible\n",
    "    \"\"\"\n",
    "\n",
    "    def __init__(\n",
    "        self,\n",
    "        dimensions: tuple[int],\n",
    "        hidden_func: Callable = sigmoid,\n",
    "        output_func: Callable = lambda x: x,\n",
    "        cost_func: Callable = CostOLS,\n",
    "        seed: int = None,\n",
    "    ):\n",
    "        self.dimensions = dimensions\n",
    "        self.hidden_func = hidden_func\n",
    "        self.output_func = output_func\n",
    "        self.cost_func = cost_func\n",
    "        self.seed = seed\n",
    "        self.weights = list()\n",
    "        self.schedulers_weight = list()\n",
    "        self.schedulers_bias = list()\n",
    "        self.a_matrices = list()\n",
    "        self.z_matrices = list()\n",
    "        self.classification = None\n",
    "\n",
    "        self.reset_weights()\n",
    "        self._set_classification()\n",
    "\n",
    "    def fit(\n",
    "        self,\n",
    "        X: np.ndarray,\n",
    "        t: np.ndarray,\n",
    "        scheduler: Scheduler,\n",
    "        batches: int = 1,\n",
    "        epochs: int = 100,\n",
    "        lam: float = 0,\n",
    "        X_val: np.ndarray = None,\n",
    "        t_val: np.ndarray = None,\n",
    "    ):\n",
    "        \"\"\"\n",
    "        Description:\n",
    "        ------------\n",
    "            This function performs the training the neural network by performing the feedforward and backpropagation\n",
    "            algorithm to update the networks weights.\n",
    "\n",
    "        Parameters:\n",
    "        ------------\n",
    "            I    X (np.ndarray) : training data\n",
    "            II   t (np.ndarray) : target data\n",
    "            III  scheduler (Scheduler) : specified scheduler (algorithm for optimization of gradient descent)\n",
    "            IV   scheduler_args (list[int]) : list of all arguments necessary for scheduler\n",
    "\n",
    "        Optional Parameters:\n",
    "        ------------\n",
    "            V    batches (int) : number of batches the datasets are split into, default equal to 1\n",
    "            VI   epochs (int) : number of iterations used to train the network, default equal to 100\n",
    "            VII  lam (float) : regularization hyperparameter lambda\n",
    "            VIII X_val (np.ndarray) : validation set\n",
    "            IX   t_val (np.ndarray) : validation target set\n",
    "\n",
    "        Returns:\n",
    "        ------------\n",
    "            I   scores (dict) : A dictionary containing the performance metrics of the model.\n",
    "                The number of the metrics depends on the parameters passed to the fit-function.\n",
    "\n",
    "        \"\"\"\n",
    "\n",
    "        # setup \n",
    "        if self.seed is not None:\n",
    "            np.random.seed(self.seed)\n",
    "\n",
    "        val_set = False\n",
    "        if X_val is not None and t_val is not None:\n",
    "            val_set = True\n",
    "\n",
    "        # creating arrays for score metrics\n",
    "        train_errors = np.empty(epochs)\n",
    "        train_errors.fill(np.nan)\n",
    "        val_errors = np.empty(epochs)\n",
    "        val_errors.fill(np.nan)\n",
    "\n",
    "        train_accs = np.empty(epochs)\n",
    "        train_accs.fill(np.nan)\n",
    "        val_accs = np.empty(epochs)\n",
    "        val_accs.fill(np.nan)\n",
    "\n",
    "        self.schedulers_weight = list()\n",
    "        self.schedulers_bias = list()\n",
    "\n",
    "        batch_size = X.shape[0] // batches\n",
    "\n",
    "        X, t = resample(X, t)\n",
    "\n",
    "        # this function returns a function valued only at X\n",
    "        cost_function_train = self.cost_func(t)\n",
    "        if val_set:\n",
    "            cost_function_val = self.cost_func(t_val)\n",
    "\n",
    "        # create schedulers for each weight matrix\n",
    "        for i in range(len(self.weights)):\n",
    "            self.schedulers_weight.append(copy(scheduler))\n",
    "            self.schedulers_bias.append(copy(scheduler))\n",
    "\n",
    "        print(f\"{scheduler.__class__.__name__}: Eta={scheduler.eta}, Lambda={lam}\")\n",
    "\n",
    "        try:\n",
    "            for e in range(epochs):\n",
    "                for i in range(batches):\n",
    "                    # allows for minibatch gradient descent\n",
    "                    if i == batches - 1:\n",
    "                        # If the for loop has reached the last batch, take all thats left\n",
    "                        X_batch = X[i * batch_size :, :]\n",
    "                        t_batch = t[i * batch_size :, :]\n",
    "                    else:\n",
    "                        X_batch = X[i * batch_size : (i + 1) * batch_size, :]\n",
    "                        t_batch = t[i * batch_size : (i + 1) * batch_size, :]\n",
    "\n",
    "                    self._feedforward(X_batch)\n",
    "                    self._backpropagate(X_batch, t_batch, lam)\n",
    "\n",
    "                # reset schedulers for each epoch (some schedulers pass in this call)\n",
    "                for scheduler in self.schedulers_weight:\n",
    "                    scheduler.reset()\n",
    "\n",
    "                for scheduler in self.schedulers_bias:\n",
    "                    scheduler.reset()\n",
    "\n",
    "                # computing performance metrics\n",
    "                pred_train = self.predict(X)\n",
    "                train_error = cost_function_train(pred_train)\n",
    "\n",
    "                train_errors[e] = train_error\n",
    "                if val_set:\n",
    "                    \n",
    "                    pred_val = self.predict(X_val)\n",
    "                    val_error = cost_function_val(pred_val)\n",
    "                    val_errors[e] = val_error\n",
    "\n",
    "                if self.classification:\n",
    "                    train_acc = self._accuracy(self.predict(X), t)\n",
    "                    train_accs[e] = train_acc\n",
    "                    if val_set:\n",
    "                        val_acc = self._accuracy(pred_val, t_val)\n",
    "                        val_accs[e] = val_acc\n",
    "\n",
    "                # printing progress bar\n",
    "                progression = e / epochs\n",
    "                print_length = self._progress_bar(\n",
    "                    progression,\n",
    "                    train_error=train_errors[e],\n",
    "                    train_acc=train_accs[e],\n",
    "                    val_error=val_errors[e],\n",
    "                    val_acc=val_accs[e],\n",
    "                )\n",
    "        except KeyboardInterrupt:\n",
    "            # allows for stopping training at any point and seeing the result\n",
    "            pass\n",
    "\n",
    "        # visualization of training progression (similiar to tensorflow progression bar)\n",
    "        sys.stdout.write(\"\\r\" + \" \" * print_length)\n",
    "        sys.stdout.flush()\n",
    "        self._progress_bar(\n",
    "            1,\n",
    "            train_error=train_errors[e],\n",
    "            train_acc=train_accs[e],\n",
    "            val_error=val_errors[e],\n",
    "            val_acc=val_accs[e],\n",
    "        )\n",
    "        sys.stdout.write(\"\")\n",
    "\n",
    "        # return performance metrics for the entire run\n",
    "        scores = dict()\n",
    "\n",
    "        scores[\"train_errors\"] = train_errors\n",
    "\n",
    "        if val_set:\n",
    "            scores[\"val_errors\"] = val_errors\n",
    "\n",
    "        if self.classification:\n",
    "            scores[\"train_accs\"] = train_accs\n",
    "\n",
    "            if val_set:\n",
    "                scores[\"val_accs\"] = val_accs\n",
    "\n",
    "        return scores\n",
    "\n",
    "    def predict(self, X: np.ndarray, *, threshold=0.5):\n",
    "        \"\"\"\n",
    "         Description:\n",
    "         ------------\n",
    "             Performs prediction after training of the network has been finished.\n",
    "\n",
    "         Parameters:\n",
    "        ------------\n",
    "             I   X (np.ndarray): The design matrix, with n rows of p features each\n",
    "\n",
    "         Optional Parameters:\n",
    "         ------------\n",
    "             II  threshold (float) : sets minimal value for a prediction to be predicted as the positive class\n",
    "                 in classification problems\n",
    "\n",
    "         Returns:\n",
    "         ------------\n",
    "             I   z (np.ndarray): A prediction vector (row) for each row in our design matrix\n",
    "                 This vector is thresholded if regression=False, meaning that classification results\n",
    "                 in a vector of 1s and 0s, while regressions in an array of decimal numbers\n",
    "\n",
    "        \"\"\"\n",
    "\n",
    "        predict = self._feedforward(X)\n",
    "\n",
    "        if self.classification:\n",
    "            return np.where(predict > threshold, 1, 0)\n",
    "        else:\n",
    "            return predict\n",
    "\n",
    "    def reset_weights(self):\n",
    "        \"\"\"\n",
    "        Description:\n",
    "        ------------\n",
    "            Resets/Reinitializes the weights in order to train the network for a new problem.\n",
    "\n",
    "        \"\"\"\n",
    "        if self.seed is not None:\n",
    "            np.random.seed(self.seed)\n",
    "\n",
    "        self.weights = list()\n",
    "        for i in range(len(self.dimensions) - 1):\n",
    "            weight_array = np.random.randn(\n",
    "                self.dimensions[i] + 1, self.dimensions[i + 1]\n",
    "            )\n",
    "            weight_array[0, :] = np.random.randn(self.dimensions[i + 1]) * 0.01\n",
    "\n",
    "            self.weights.append(weight_array)\n",
    "\n",
    "    def _feedforward(self, X: np.ndarray):\n",
    "        \"\"\"\n",
    "        Description:\n",
    "        ------------\n",
    "            Calculates the activation of each layer starting at the input and ending at the output.\n",
    "            Each following activation is calculated from a weighted sum of each of the preceeding\n",
    "            activations (except in the case of the input layer).\n",
    "\n",
    "        Parameters:\n",
    "        ------------\n",
    "            I   X (np.ndarray): The design matrix, with n rows of p features each\n",
    "\n",
    "        Returns:\n",
    "        ------------\n",
    "            I   z (np.ndarray): A prediction vector (row) for each row in our design matrix\n",
    "        \"\"\"\n",
    "\n",
    "        # reset matrices\n",
    "        self.a_matrices = list()\n",
    "        self.z_matrices = list()\n",
    "\n",
    "        # if X is just a vector, make it into a matrix\n",
    "        if len(X.shape) == 1:\n",
    "            X = X.reshape((1, X.shape[0]))\n",
    "\n",
    "        # Add a coloumn of zeros as the first coloumn of the design matrix, in order\n",
    "        # to add bias to our data\n",
    "        bias = np.ones((X.shape[0], 1)) * 0.01\n",
    "        X = np.hstack([bias, X])\n",
    "\n",
    "        # a^0, the nodes in the input layer (one a^0 for each row in X - where the\n",
    "        # exponent indicates layer number).\n",
    "        a = X\n",
    "        self.a_matrices.append(a)\n",
    "        self.z_matrices.append(a)\n",
    "\n",
    "        # The feed forward algorithm\n",
    "        for i in range(len(self.weights)):\n",
    "            if i < len(self.weights) - 1:\n",
    "                z = a @ self.weights[i]\n",
    "                self.z_matrices.append(z)\n",
    "                a = self.hidden_func(z)\n",
    "                # bias column again added to the data here\n",
    "                bias = np.ones((a.shape[0], 1)) * 0.01\n",
    "                a = np.hstack([bias, a])\n",
    "                self.a_matrices.append(a)\n",
    "            else:\n",
    "                try:\n",
    "                    # a^L, the nodes in our output layers\n",
    "                    z = a @ self.weights[i]\n",
    "                    a = self.output_func(z)\n",
    "                    self.a_matrices.append(a)\n",
    "                    self.z_matrices.append(z)\n",
    "                except Exception as OverflowError:\n",
    "                    print(\n",
    "                        \"OverflowError in fit() in FFNN\\nHOW TO DEBUG ERROR: Consider lowering your learning rate or scheduler specific parameters such as momentum, or check if your input values need scaling\"\n",
    "                    )\n",
    "\n",
    "        # this will be a^L\n",
    "        return a\n",
    "\n",
    "    def _backpropagate(self, X, t, lam):\n",
    "        \"\"\"\n",
    "        Description:\n",
    "        ------------\n",
    "            Performs the backpropagation algorithm. In other words, this method\n",
    "            calculates the gradient of all the layers starting at the\n",
    "            output layer, and moving from right to left accumulates the gradient until\n",
    "            the input layer is reached. Each layers respective weights are updated while\n",
    "            the algorithm propagates backwards from the output layer (auto-differentation in reverse mode).\n",
    "\n",
    "        Parameters:\n",
    "        ------------\n",
    "            I   X (np.ndarray): The design matrix, with n rows of p features each.\n",
    "            II  t (np.ndarray): The target vector, with n rows of p targets.\n",
    "            III lam (float32): regularization parameter used to punish the weights in case of overfitting\n",
    "\n",
    "        Returns:\n",
    "        ------------\n",
    "            No return value.\n",
    "\n",
    "        \"\"\"\n",
    "        out_derivative = derivate(self.output_func)\n",
    "        hidden_derivative = derivate(self.hidden_func)\n",
    "\n",
    "        for i in range(len(self.weights) - 1, -1, -1):\n",
    "            # delta terms for output\n",
    "            if i == len(self.weights) - 1:\n",
    "                # for multi-class classification\n",
    "                if (\n",
    "                    self.output_func.__name__ == \"softmax\"\n",
    "                ):\n",
    "                    delta_matrix = self.a_matrices[i + 1] - t\n",
    "                # for single class classification\n",
    "                else:\n",
    "                    cost_func_derivative = grad(self.cost_func(t))\n",
    "                    delta_matrix = out_derivative(\n",
    "                        self.z_matrices[i + 1]\n",
    "                    ) * cost_func_derivative(self.a_matrices[i + 1])\n",
    "\n",
    "            # delta terms for hidden layer\n",
    "            else:\n",
    "                delta_matrix = (\n",
    "                    self.weights[i + 1][1:, :] @ delta_matrix.T\n",
    "                ).T * hidden_derivative(self.z_matrices[i + 1])\n",
    "\n",
    "            # calculate gradient\n",
    "            gradient_weights = self.a_matrices[i][:, 1:].T @ delta_matrix\n",
    "            gradient_bias = np.sum(delta_matrix, axis=0).reshape(\n",
    "                1, delta_matrix.shape[1]\n",
    "            )\n",
    "\n",
    "            # regularization term\n",
    "            gradient_weights += self.weights[i][1:, :] * lam\n",
    "\n",
    "            # use scheduler\n",
    "            update_matrix = np.vstack(\n",
    "                [\n",
    "                    self.schedulers_bias[i].update_change(gradient_bias),\n",
    "                    self.schedulers_weight[i].update_change(gradient_weights),\n",
    "                ]\n",
    "            )\n",
    "\n",
    "            # update weights and bias\n",
    "            self.weights[i] -= update_matrix\n",
    "\n",
    "    def _accuracy(self, prediction: np.ndarray, target: np.ndarray):\n",
    "        \"\"\"\n",
    "        Description:\n",
    "        ------------\n",
    "            Calculates accuracy of given prediction to target\n",
    "\n",
    "        Parameters:\n",
    "        ------------\n",
    "            I   prediction (np.ndarray): vector of predicitons output network\n",
    "                (1s and 0s in case of classification, and real numbers in case of regression)\n",
    "            II  target (np.ndarray): vector of true values (What the network ideally should predict)\n",
    "\n",
    "        Returns:\n",
    "        ------------\n",
    "            A floating point number representing the percentage of correctly classified instances.\n",
    "        \"\"\"\n",
    "        assert prediction.size == target.size\n",
    "        return np.average((target == prediction))\n",
    "    def _set_classification(self):\n",
    "        \"\"\"\n",
    "        Description:\n",
    "        ------------\n",
    "            Decides if FFNN acts as classifier (True) og regressor (False),\n",
    "            sets self.classification during init()\n",
    "        \"\"\"\n",
    "        self.classification = False\n",
    "        if (\n",
    "            self.cost_func.__name__ == \"CostLogReg\"\n",
    "            or self.cost_func.__name__ == \"CostCrossEntropy\"\n",
    "        ):\n",
    "            self.classification = True\n",
    "\n",
    "    def _progress_bar(self, progression, **kwargs):\n",
    "        \"\"\"\n",
    "        Description:\n",
    "        ------------\n",
    "            Displays progress of training\n",
    "        \"\"\"\n",
    "        print_length = 40\n",
    "        num_equals = int(progression * print_length)\n",
    "        num_not = print_length - num_equals\n",
    "        arrow = \">\" if num_equals > 0 else \"\"\n",
    "        bar = \"[\" + \"=\" * (num_equals - 1) + arrow + \"-\" * num_not + \"]\"\n",
    "        perc_print = self._format(progression * 100, decimals=5)\n",
    "        line = f\"  {bar} {perc_print}% \"\n",
    "\n",
    "        for key in kwargs:\n",
    "            if not np.isnan(kwargs[key]):\n",
    "                value = self._format(kwargs[key], decimals=4)\n",
    "                line += f\"| {key}: {value} \"\n",
    "        sys.stdout.write(\"\\r\" + line)\n",
    "        sys.stdout.flush()\n",
    "        return len(line)\n",
    "\n",
    "    def _format(self, value, decimals=4):\n",
    "        \"\"\"\n",
    "        Description:\n",
    "        ------------\n",
    "            Formats decimal numbers for progress bar\n",
    "        \"\"\"\n",
    "        if value > 0:\n",
    "            v = value\n",
    "        elif value < 0:\n",
    "            v = -10 * value\n",
    "        else:\n",
    "            v = 1\n",
    "        n = 1 + math.floor(math.log10(v))\n",
    "        if n >= decimals - 1:\n",
    "            return str(round(value))\n",
    "        return f\"{value:.{decimals-n-1}f}\""
   ]
  },
  {
   "cell_type": "markdown",
   "id": "b5aaa66b",
   "metadata": {
    "editable": true
   },
   "source": [
    "Before we make a model, we will quickly generate a dataset we can use\n",
    "for our linear regression problem as shown below"
   ]
  },
  {
   "cell_type": "code",
   "execution_count": 15,
   "id": "35f13536",
   "metadata": {
    "collapsed": false,
    "editable": true,
    "jupyter": {
     "outputs_hidden": false
    }
   },
   "outputs": [],
   "source": [
    "import autograd.numpy as np\n",
    "from sklearn.model_selection import train_test_split\n",
    "\n",
    "def SkrankeFunction(x, y):\n",
    "    return np.ravel(0 + 1*x + 2*y + 3*x**2 + 4*x*y + 5*y**2)\n",
    "\n",
    "def create_X(x, y, n):\n",
    "    if len(x.shape) > 1:\n",
    "        x = np.ravel(x)\n",
    "        y = np.ravel(y)\n",
    "\n",
    "    N = len(x)\n",
    "    l = int((n + 1) * (n + 2) / 2)  # Number of elements in beta\n",
    "    X = np.ones((N, l))\n",
    "\n",
    "    for i in range(1, n + 1):\n",
    "        q = int((i) * (i + 1) / 2)\n",
    "        for k in range(i + 1):\n",
    "            X[:, q + k] = (x ** (i - k)) * (y**k)\n",
    "\n",
    "    return X\n",
    "\n",
    "step=0.5\n",
    "x = np.arange(0, 1, step)\n",
    "y = np.arange(0, 1, step)\n",
    "x, y = np.meshgrid(x, y)\n",
    "target = SkrankeFunction(x, y)\n",
    "target = target.reshape(target.shape[0], 1)\n",
    "\n",
    "poly_degree=3\n",
    "X = create_X(x, y, poly_degree)\n",
    "\n",
    "X_train, X_test, t_train, t_test = train_test_split(X, target)"
   ]
  },
  {
   "cell_type": "markdown",
   "id": "12780998",
   "metadata": {
    "editable": true
   },
   "source": [
    "Now that we have our dataset ready for the regression, we can create\n",
    "our regressor. Note that with the seed parameter, we can make sure our\n",
    "results stay the same every time we run the neural network. For\n",
    "inititialization, we simply specify the dimensions (we wish the amount\n",
    "of input nodes to be equal to the datapoints, and the output to\n",
    "predict one value)."
   ]
  },
  {
   "cell_type": "code",
   "execution_count": 16,
   "id": "3de4263c",
   "metadata": {
    "collapsed": false,
    "editable": true,
    "jupyter": {
     "outputs_hidden": false
    }
   },
   "outputs": [],
   "source": [
    "input_nodes = X_train.shape[1]\n",
    "output_nodes = 1\n",
    "\n",
    "linear_regression = FFNN((input_nodes, output_nodes), output_func=identity, cost_func=CostOLS, seed=2023)"
   ]
  },
  {
   "cell_type": "markdown",
   "id": "e3ca1fb5",
   "metadata": {
    "editable": true
   },
   "source": [
    "We then fit our model with our training data using the scheduler of our choice."
   ]
  },
  {
   "cell_type": "code",
   "execution_count": 17,
   "id": "714229a9",
   "metadata": {
    "collapsed": false,
    "editable": true,
    "jupyter": {
     "outputs_hidden": false
    }
   },
   "outputs": [
    {
     "name": "stdout",
     "output_type": "stream",
     "text": [
      "Constant: Eta=0.001, Lambda=0\n",
      "  [=======================================>] 100.0% | train_error: 10.9 "
     ]
    }
   ],
   "source": [
    "linear_regression.reset_weights() # reset weights such that previous runs or reruns don't affect the weights\n",
    "\n",
    "scheduler = Constant(eta=1e-3)\n",
    "scores = linear_regression.fit(X_train, t_train, scheduler)"
   ]
  },
  {
   "cell_type": "markdown",
   "id": "2240c6b8",
   "metadata": {
    "editable": true
   },
   "source": [
    "Due to the progress bar we can see the MSE (train_error) throughout\n",
    "the FFNN's training. Note that the fit() function has some optional\n",
    "parameters with defualt arguments. For example, the regularization\n",
    "hyperparameter can be left ignored if not needed, and equally the FFNN\n",
    "will by default run for 100 epochs. These can easily be changed, such\n",
    "as for example:"
   ]
  },
  {
   "cell_type": "code",
   "execution_count": 18,
   "id": "96f9f1ab",
   "metadata": {
    "collapsed": false,
    "editable": true,
    "jupyter": {
     "outputs_hidden": false
    }
   },
   "outputs": [
    {
     "name": "stdout",
     "output_type": "stream",
     "text": [
      "Constant: Eta=0.001, Lambda=0.0001\n",
      "  [=======================================>] 100.0% | train_error: 1.00  "
     ]
    }
   ],
   "source": [
    "linear_regression.reset_weights() # reset weights such that previous runs or reruns don't affect the weights\n",
    "\n",
    "scores = linear_regression.fit(X_train, t_train, scheduler, lam=1e-4, epochs=1000)"
   ]
  },
  {
   "cell_type": "markdown",
   "id": "21af3f64",
   "metadata": {
    "editable": true
   },
   "source": [
    "We see that given more epochs to train on, the regressor reaches a lower MSE.\n",
    "\n",
    "Let us then switch to a binary classification. We use a binary\n",
    "classification dataset, and follow a similar setup to the regression\n",
    "case."
   ]
  },
  {
   "cell_type": "code",
   "execution_count": 19,
   "id": "98f0055d",
   "metadata": {
    "collapsed": false,
    "editable": true,
    "jupyter": {
     "outputs_hidden": false
    }
   },
   "outputs": [],
   "source": [
    "from sklearn.datasets import load_breast_cancer\n",
    "from sklearn.preprocessing import MinMaxScaler\n",
    "\n",
    "wisconsin = load_breast_cancer()\n",
    "X = wisconsin.data\n",
    "target = wisconsin.target\n",
    "target = target.reshape(target.shape[0], 1)\n",
    "\n",
    "X_train, X_val, t_train, t_val = train_test_split(X, target)\n",
    "\n",
    "scaler = MinMaxScaler()\n",
    "scaler.fit(X_train)\n",
    "X_train = scaler.transform(X_train)\n",
    "X_val = scaler.transform(X_val)"
   ]
  },
  {
   "cell_type": "code",
   "execution_count": 20,
   "id": "fbd2675f",
   "metadata": {
    "collapsed": false,
    "editable": true,
    "jupyter": {
     "outputs_hidden": false
    }
   },
   "outputs": [],
   "source": [
    "input_nodes = X_train.shape[1]\n",
    "output_nodes = 1\n",
    "\n",
    "logistic_regression = FFNN((input_nodes, output_nodes), output_func=sigmoid, cost_func=CostLogReg, seed=2023)"
   ]
  },
  {
   "cell_type": "markdown",
   "id": "64ed3461",
   "metadata": {
    "editable": true
   },
   "source": [
    "We will now make use of our validation data by passing it into our fit function as a keyword argument"
   ]
  },
  {
   "cell_type": "code",
   "execution_count": 21,
   "id": "1cdc9d23",
   "metadata": {
    "collapsed": false,
    "editable": true,
    "jupyter": {
     "outputs_hidden": false
    }
   },
   "outputs": [
    {
     "name": "stdout",
     "output_type": "stream",
     "text": [
      "Adam: Eta=0.001, Lambda=0\n",
      "  [=======================================>] 100.0% | train_error: 3.21 | train_acc: 0.845 | val_error: 3.77 | val_acc: 0.818  "
     ]
    }
   ],
   "source": [
    "logistic_regression.reset_weights() # reset weights such that previous runs or reruns don't affect the weights\n",
    "\n",
    "scheduler = Adam(eta=1e-3, rho=0.9, rho2=0.999)\n",
    "scores = logistic_regression.fit(X_train, t_train, scheduler, epochs=1000, X_val=X_val, t_val=t_val)"
   ]
  },
  {
   "cell_type": "markdown",
   "id": "13e2f881",
   "metadata": {
    "editable": true
   },
   "source": [
    "Finally, we will create a neural network with 2 hidden layers with activation functions."
   ]
  },
  {
   "cell_type": "code",
   "execution_count": 22,
   "id": "c28f2181",
   "metadata": {
    "collapsed": false,
    "editable": true,
    "jupyter": {
     "outputs_hidden": false
    }
   },
   "outputs": [],
   "source": [
    "input_nodes = X_train.shape[1]\n",
    "hidden_nodes1 = 100\n",
    "hidden_nodes2 = 30\n",
    "output_nodes = 1\n",
    "\n",
    "dims = (input_nodes, hidden_nodes1, hidden_nodes2, output_nodes)\n",
    "\n",
    "neural_network = FFNN(dims, hidden_func=RELU, output_func=sigmoid, cost_func=CostLogReg, seed=2023)"
   ]
  },
  {
   "cell_type": "code",
   "execution_count": 23,
   "id": "3150b724",
   "metadata": {
    "collapsed": false,
    "editable": true,
    "jupyter": {
     "outputs_hidden": false
    }
   },
   "outputs": [
    {
     "name": "stdout",
     "output_type": "stream",
     "text": [
      "Adam: Eta=0.0001, Lambda=0\n",
      "  [=======================================>] 100.0% | train_error: 0.0973 | train_acc: 0.995 | val_error: 1.74 | val_acc: 0.916 "
     ]
    }
   ],
   "source": [
    "neural_network.reset_weights() # reset weights such that previous runs or reruns don't affect the weights\n",
    "\n",
    "scheduler = Adam(eta=1e-4, rho=0.9, rho2=0.999)\n",
    "scores = neural_network.fit(X_train, t_train, scheduler, epochs=1000, X_val=X_val, t_val=t_val)"
   ]
  },
  {
   "cell_type": "markdown",
   "id": "17aebab2",
   "metadata": {
    "editable": true
   },
   "source": [
    "### Multiclass classification\n",
    "\n",
    "Finally, we will demonstrate the use case of multiclass classification\n",
    "using our FFNN with the famous MNIST dataset, which contain images of\n",
    "digits between the range of 0 to 9."
   ]
  },
  {
   "cell_type": "code",
   "execution_count": 24,
   "id": "997c5001",
   "metadata": {
    "collapsed": false,
    "editable": true,
    "jupyter": {
     "outputs_hidden": false
    }
   },
   "outputs": [
    {
     "name": "stdout",
     "output_type": "stream",
     "text": [
      "Adam: Eta=0.0001, Lambda=0\n",
      "  [=======================================>] 100.0% | train_error: 0.175 | train_acc: 0.983 "
     ]
    }
   ],
   "source": [
    "from sklearn.datasets import load_digits\n",
    "\n",
    "def onehot(target: np.ndarray):\n",
    "    onehot = np.zeros((target.size, target.max() + 1))\n",
    "    onehot[np.arange(target.size), target] = 1\n",
    "    return onehot\n",
    "\n",
    "digits = load_digits()\n",
    "\n",
    "X = digits.data\n",
    "target = digits.target\n",
    "target = onehot(target)\n",
    "\n",
    "input_nodes = 64\n",
    "hidden_nodes1 = 100\n",
    "hidden_nodes2 = 30\n",
    "output_nodes = 10\n",
    "\n",
    "dims = (input_nodes, hidden_nodes1, hidden_nodes2, output_nodes)\n",
    "\n",
    "multiclass = FFNN(dims, hidden_func=LRELU, output_func=softmax, cost_func=CostCrossEntropy)\n",
    "\n",
    "multiclass.reset_weights() # reset weights such that previous runs or reruns don't affect the weights\n",
    "\n",
    "scheduler = Adam(eta=1e-4, rho=0.9, rho2=0.999)\n",
    "scores = multiclass.fit(X, target, scheduler, epochs=1000)"
   ]
  },
  {
   "cell_type": "markdown",
   "id": "43d805bc",
   "metadata": {
    "editable": true
   },
   "source": [
    "## Testing the XOR gate and other gates\n",
    "\n",
    "Let us now use our code to test the XOR gate."
   ]
  },
  {
   "cell_type": "code",
   "execution_count": 28,
   "id": "4bbaf697",
   "metadata": {
    "collapsed": false,
    "editable": true,
    "jupyter": {
     "outputs_hidden": false
    }
   },
   "outputs": [
    {
     "name": "stdout",
     "output_type": "stream",
     "text": [
      "Adam: Eta=0.001, Lambda=0\n",
      "  [=======================================>] 100.0% | train_error: 10.4 | train_acc: 0.500  "
     ]
    }
   ],
   "source": [
    "X = np.array([ [0, 0], [0, 1], [1, 0],[1, 1]],dtype=np.float64)\n",
    "\n",
    "# The XOR gate\n",
    "yXOR = np.array( [[ 0], [1] ,[1], [0]])\n",
    "\n",
    "input_nodes = X.shape[1]\n",
    "output_nodes = 1\n",
    "\n",
    "logistic_regression = FFNN((input_nodes, output_nodes), output_func=sigmoid, cost_func=CostLogReg, seed=2023)\n",
    "logistic_regression.reset_weights() # reset weights such that previous runs or reruns don't affect the weights\n",
    "scheduler = Adam(eta=1e-3, rho=0.9, rho2=0.999)\n",
    "scores = logistic_regression.fit(X, yXOR, scheduler, epochs=1000)"
   ]
  },
  {
   "cell_type": "markdown",
   "id": "31e852a7",
   "metadata": {
    "editable": true
   },
   "source": [
    "Not bad, but the results depend strongly on the learning reate. Try different learning rates."
   ]
  },
  {
   "cell_type": "markdown",
   "id": "9792c0c3",
   "metadata": {
    "editable": true
   },
   "source": [
    "## Solving differential equations  with Deep Learning\n",
    "\n",
    "The Universal Approximation Theorem states that a neural network can\n",
    "approximate any function at a single hidden layer along with one input\n",
    "and output layer to any given precision.\n",
    "\n",
    "**Book on solving differential equations with ML methods.**\n",
    "\n",
    "[An Introduction to Neural Network Methods for Differential Equations](https://www.springer.com/gp/book/9789401798150), by Yadav and Kumar.\n",
    "\n",
    "**Physics informed neural networks.**\n",
    "\n",
    "[Scientific Machine Learning Through Physics–Informed Neural Networks: Where we are and What’s Next](https://link.springer.com/article/10.1007/s10915-022-01939-z), by Cuomo et al\n",
    "\n",
    "**Thanks to Kristine Baluka Hein.**\n",
    "\n",
    "The lectures on differential equations were developed by Kristine Baluka Hein, now PhD student at IFI.\n",
    "A great thanks to Kristine."
   ]
  },
  {
   "cell_type": "markdown",
   "id": "9214a407",
   "metadata": {
    "editable": true
   },
   "source": [
    "## Ordinary Differential Equations first\n",
    "\n",
    "An ordinary differential equation (ODE) is an equation involving functions having one variable.\n",
    "\n",
    "In general, an ordinary differential equation looks like"
   ]
  },
  {
   "cell_type": "markdown",
   "id": "40a78c33",
   "metadata": {
    "editable": true
   },
   "source": [
    "<!-- Equation labels as ordinary links -->\n",
    "<div id=\"ode\"></div>\n",
    "\n",
    "$$\n",
    "\\begin{equation} \\label{ode} \\tag{1}\n",
    "f\\left(x, \\, g(x), \\, g'(x), \\, g''(x), \\, \\dots \\, , \\, g^{(n)}(x)\\right) = 0\n",
    "\\end{equation}\n",
    "$$"
   ]
  },
  {
   "cell_type": "markdown",
   "id": "42dae561",
   "metadata": {
    "editable": true
   },
   "source": [
    "where $g(x)$ is the function to find, and $g^{(n)}(x)$ is the $n$-th derivative of $g(x)$.\n",
    "\n",
    "The $f\\left(x, g(x), g'(x), g''(x), \\, \\dots \\, , g^{(n)}(x)\\right)$ is just a way to write that there is an expression involving $x$ and $g(x), \\ g'(x), \\ g''(x), \\, \\dots \\, , \\text{ and } g^{(n)}(x)$ on the left side of the equality sign in ([1](#ode)).\n",
    "The highest order of derivative, that is the value of $n$, determines to the order of the equation.\n",
    "The equation is referred to as a $n$-th order ODE.\n",
    "Along with ([1](#ode)), some additional conditions of the function $g(x)$ are typically given\n",
    "for the solution to be unique."
   ]
  },
  {
   "cell_type": "markdown",
   "id": "b4bf5f2e",
   "metadata": {
    "editable": true
   },
   "source": [
    "## The trial solution\n",
    "\n",
    "Let the trial solution $g_t(x)$ be"
   ]
  },
  {
   "cell_type": "markdown",
   "id": "1f4f3eba",
   "metadata": {
    "editable": true
   },
   "source": [
    "<!-- Equation labels as ordinary links -->\n",
    "<div id=\"_auto1\"></div>\n",
    "\n",
    "$$\n",
    "\\begin{equation}\n",
    "\tg_t(x) = h_1(x) + h_2(x,N(x,P))\n",
    "\\label{_auto1} \\tag{2}\n",
    "\\end{equation}\n",
    "$$"
   ]
  },
  {
   "cell_type": "markdown",
   "id": "d799a47c",
   "metadata": {
    "editable": true
   },
   "source": [
    "where $h_1(x)$ is a function that makes $g_t(x)$ satisfy a given set\n",
    "of conditions, $N(x,P)$ a neural network with weights and biases\n",
    "described by $P$ and $h_2(x, N(x,P))$ some expression involving the\n",
    "neural network.  The role of the function $h_2(x, N(x,P))$, is to\n",
    "ensure that the output from $N(x,P)$ is zero when $g_t(x)$ is\n",
    "evaluated at the values of $x$ where the given conditions must be\n",
    "satisfied.  The function $h_1(x)$ should alone make $g_t(x)$ satisfy\n",
    "the conditions.\n",
    "\n",
    "But what about the network $N(x,P)$?\n",
    "\n",
    "As described previously, an optimization method could be used to minimize the parameters of a neural network, that being its weights and biases, through backward propagation."
   ]
  },
  {
   "cell_type": "markdown",
   "id": "abb02959",
   "metadata": {
    "editable": true
   },
   "source": [
    "## Minimization process\n",
    "\n",
    "For the minimization to be defined, we need to have a cost function at hand to minimize.\n",
    "\n",
    "It is given that $f\\left(x, \\, g(x), \\, g'(x), \\, g''(x), \\, \\dots \\, , \\, g^{(n)}(x)\\right)$ should be equal to zero in ([1](#ode)).\n",
    "We can choose to consider the mean squared error as the cost function for an input $x$.\n",
    "Since we are looking at one input, the cost function is just $f$ squared.\n",
    "The cost function $c\\left(x, P \\right)$ can therefore be expressed as"
   ]
  },
  {
   "cell_type": "markdown",
   "id": "6468ecf8",
   "metadata": {
    "editable": true
   },
   "source": [
    "$$\n",
    "C\\left(x, P\\right) = \\big(f\\left(x, \\, g(x), \\, g'(x), \\, g''(x), \\, \\dots \\, , \\, g^{(n)}(x)\\right)\\big)^2\n",
    "$$"
   ]
  },
  {
   "cell_type": "markdown",
   "id": "e7441b12",
   "metadata": {
    "editable": true
   },
   "source": [
    "If $N$ inputs are given as a vector $\\boldsymbol{x}$ with elements $x_i$ for $i = 1,\\dots,N$,\n",
    "the cost function becomes"
   ]
  },
  {
   "cell_type": "markdown",
   "id": "0ffd1c29",
   "metadata": {
    "editable": true
   },
   "source": [
    "<!-- Equation labels as ordinary links -->\n",
    "<div id=\"cost\"></div>\n",
    "\n",
    "$$\n",
    "\\begin{equation} \\label{cost} \\tag{3}\n",
    "\tC\\left(\\boldsymbol{x}, P\\right) = \\frac{1}{N} \\sum_{i=1}^N \\big(f\\left(x_i, \\, g(x_i), \\, g'(x_i), \\, g''(x_i), \\, \\dots \\, , \\, g^{(n)}(x_i)\\right)\\big)^2\n",
    "\\end{equation}\n",
    "$$"
   ]
  },
  {
   "cell_type": "markdown",
   "id": "e55c8d3e",
   "metadata": {
    "editable": true
   },
   "source": [
    "The neural net should then find the parameters $P$ that minimizes the cost function in\n",
    "([3](#cost)) for a set of $N$ training samples $x_i$."
   ]
  },
  {
   "cell_type": "markdown",
   "id": "8a940e88",
   "metadata": {
    "editable": true
   },
   "source": [
    "## Minimizing the cost function using gradient descent and automatic differentiation\n",
    "\n",
    "To perform the minimization using gradient descent, the gradient of $C\\left(\\boldsymbol{x}, P\\right)$ is needed.\n",
    "It might happen so that finding an analytical expression of the gradient of $C(\\boldsymbol{x}, P)$ from ([3](#cost)) gets too messy, depending on which cost function one desires to use.\n",
    "\n",
    "Luckily, there exists libraries that makes the job for us through automatic differentiation.\n",
    "Automatic differentiation is a method of finding the derivatives numerically with very high precision."
   ]
  },
  {
   "cell_type": "markdown",
   "id": "547613c0",
   "metadata": {
    "editable": true
   },
   "source": [
    "## Example: Exponential decay\n",
    "\n",
    "An exponential decay of a quantity $g(x)$ is described by the equation"
   ]
  },
  {
   "cell_type": "markdown",
   "id": "826651d6",
   "metadata": {
    "editable": true
   },
   "source": [
    "<!-- Equation labels as ordinary links -->\n",
    "<div id=\"solve_expdec\"></div>\n",
    "\n",
    "$$\n",
    "\\begin{equation} \\label{solve_expdec} \\tag{4}\n",
    "  g'(x) = -\\gamma g(x)\n",
    "\\end{equation}\n",
    "$$"
   ]
  },
  {
   "cell_type": "markdown",
   "id": "870b960b",
   "metadata": {
    "editable": true
   },
   "source": [
    "with $g(0) = g_0$ for some chosen initial value $g_0$.\n",
    "\n",
    "The analytical solution of ([4](#solve_expdec)) is"
   ]
  },
  {
   "cell_type": "markdown",
   "id": "5a8fd1e3",
   "metadata": {
    "editable": true
   },
   "source": [
    "<!-- Equation labels as ordinary links -->\n",
    "<div id=\"_auto2\"></div>\n",
    "\n",
    "$$\n",
    "\\begin{equation}\n",
    "  g(x) = g_0 \\exp\\left(-\\gamma x\\right)\n",
    "\\label{_auto2} \\tag{5}\n",
    "\\end{equation}\n",
    "$$"
   ]
  },
  {
   "cell_type": "markdown",
   "id": "55b4f286",
   "metadata": {
    "editable": true
   },
   "source": [
    "Having an analytical solution at hand, it is possible to use it to compare how well a neural network finds a solution of ([4](#solve_expdec))."
   ]
  },
  {
   "cell_type": "markdown",
   "id": "7e4f689b",
   "metadata": {
    "editable": true
   },
   "source": [
    "## The function to solve for\n",
    "\n",
    "The program will use a neural network to solve"
   ]
  },
  {
   "cell_type": "markdown",
   "id": "01e8e999",
   "metadata": {
    "editable": true
   },
   "source": [
    "<!-- Equation labels as ordinary links -->\n",
    "<div id=\"solveode\"></div>\n",
    "\n",
    "$$\n",
    "\\begin{equation} \\label{solveode} \\tag{6}\n",
    "g'(x) = -\\gamma g(x)\n",
    "\\end{equation}\n",
    "$$"
   ]
  },
  {
   "cell_type": "markdown",
   "id": "7ccea9f1",
   "metadata": {
    "editable": true
   },
   "source": [
    "where $g(0) = g_0$ with $\\gamma$ and $g_0$ being some chosen values.\n",
    "\n",
    "In this example, $\\gamma = 2$ and $g_0 = 10$."
   ]
  },
  {
   "cell_type": "markdown",
   "id": "47fde776",
   "metadata": {
    "editable": true
   },
   "source": [
    "## The trial solution\n",
    "To begin with, a trial solution $g_t(t)$ must be chosen. A general trial solution for ordinary differential equations could be"
   ]
  },
  {
   "cell_type": "markdown",
   "id": "f7a8f626",
   "metadata": {
    "editable": true
   },
   "source": [
    "$$\n",
    "g_t(x, P) = h_1(x) + h_2(x, N(x, P))\n",
    "$$"
   ]
  },
  {
   "cell_type": "markdown",
   "id": "66551df0",
   "metadata": {
    "editable": true
   },
   "source": [
    "with $h_1(x)$ ensuring that $g_t(x)$ satisfies some conditions and $h_2(x,N(x, P))$ an expression involving $x$ and the output from the neural network $N(x,P)$ with $P $ being the collection of the weights and biases for each layer. For now, it is assumed that the network consists of one input layer, one hidden layer, and one output layer."
   ]
  },
  {
   "cell_type": "markdown",
   "id": "c354ef4e",
   "metadata": {
    "editable": true
   },
   "source": [
    "## Setup of Network\n",
    "\n",
    "In this network, there are no weights and bias at the input layer, so $P = \\{ P_{\\text{hidden}},  P_{\\text{output}} \\}$.\n",
    "If there are $N_{\\text{hidden} }$ neurons in the hidden layer, then $P_{\\text{hidden}}$ is a $N_{\\text{hidden} } \\times (1 + N_{\\text{input}})$ matrix, given that there are $N_{\\text{input}}$ neurons in the input layer.\n",
    "\n",
    "The first column in $P_{\\text{hidden} }$ represents the bias for each neuron in the hidden layer and the second column represents the weights for each neuron in the hidden layer from the input layer.\n",
    "If there are $N_{\\text{output} }$ neurons in the output layer, then $P_{\\text{output}} $ is a $N_{\\text{output} } \\times (1 + N_{\\text{hidden} })$ matrix.\n",
    "\n",
    "Its first column represents the bias of each neuron and the remaining columns represents the weights to each neuron.\n",
    "\n",
    "It is given that $g(0) = g_0$. The trial solution must fulfill this condition to be a proper solution of ([6](#solveode)). A possible way to ensure that $g_t(0, P) = g_0$, is to let $F(N(x,P)) = x \\cdot N(x,P)$ and $A(x) = g_0$. This gives the following trial solution:"
   ]
  },
  {
   "cell_type": "markdown",
   "id": "a574c0b7",
   "metadata": {
    "editable": true
   },
   "source": [
    "<!-- Equation labels as ordinary links -->\n",
    "<div id=\"trial\"></div>\n",
    "\n",
    "$$\n",
    "\\begin{equation} \\label{trial} \\tag{7}\n",
    "g_t(x, P) = g_0 + x \\cdot N(x, P)\n",
    "\\end{equation}\n",
    "$$"
   ]
  },
  {
   "cell_type": "markdown",
   "id": "22f440c8",
   "metadata": {
    "editable": true
   },
   "source": [
    "## Reformulating the problem\n",
    "\n",
    "We wish that our neural network manages to minimize a given cost function.\n",
    "\n",
    "A reformulation of out equation, ([6](#solveode)), must therefore be done,\n",
    "such that it describes the problem a neural network can solve for.\n",
    "\n",
    "The neural network must find the set of weights and biases $P$ such that the trial solution in ([7](#trial)) satisfies ([6](#solveode)).\n",
    "\n",
    "The trial solution"
   ]
  },
  {
   "cell_type": "markdown",
   "id": "0ff80a83",
   "metadata": {
    "editable": true
   },
   "source": [
    "$$\n",
    "g_t(x, P) = g_0 + x \\cdot N(x, P)\n",
    "$$"
   ]
  },
  {
   "cell_type": "markdown",
   "id": "6829edab",
   "metadata": {
    "editable": true
   },
   "source": [
    "has been chosen such that it already solves the condition $g(0) = g_0$. What remains, is to find $P$ such that"
   ]
  },
  {
   "cell_type": "markdown",
   "id": "381c61e2",
   "metadata": {
    "editable": true
   },
   "source": [
    "<!-- Equation labels as ordinary links -->\n",
    "<div id=\"nnmin\"></div>\n",
    "\n",
    "$$\n",
    "\\begin{equation} \\label{nnmin} \\tag{8}\n",
    "g_t'(x, P) = - \\gamma g_t(x, P)\n",
    "\\end{equation}\n",
    "$$"
   ]
  },
  {
   "cell_type": "markdown",
   "id": "ac36a03d",
   "metadata": {
    "editable": true
   },
   "source": [
    "is fulfilled as *best as possible*."
   ]
  },
  {
   "cell_type": "markdown",
   "id": "2899becc",
   "metadata": {
    "editable": true
   },
   "source": [
    "## More technicalities\n",
    "\n",
    "The left hand side and right hand side of ([8](#nnmin)) must be computed separately, and then the neural network must choose weights and biases, contained in $P$, such that the sides are equal as best as possible.\n",
    "This means that the absolute or squared difference between the sides must be as close to zero, ideally equal to zero.\n",
    "In this case, the difference squared shows to be an appropriate measurement of how erroneous the trial solution is with respect to $P$ of the neural network.\n",
    "\n",
    "This gives the following cost function our neural network must solve for:"
   ]
  },
  {
   "cell_type": "markdown",
   "id": "d52c8124",
   "metadata": {
    "editable": true
   },
   "source": [
    "$$\n",
    "\\min_{P}\\Big\\{ \\big(g_t'(x, P) - ( -\\gamma g_t(x, P) \\big)^2 \\Big\\}\n",
    "$$"
   ]
  },
  {
   "cell_type": "markdown",
   "id": "3f8f684e",
   "metadata": {
    "editable": true
   },
   "source": [
    "(the notation $\\min_{P}\\{ f(x, P) \\}$ means that we desire to find $P$ that yields the minimum of $f(x, P)$)\n",
    "\n",
    "or, in terms of weights and biases for the hidden and output layer in our network:"
   ]
  },
  {
   "cell_type": "markdown",
   "id": "92cc16c9",
   "metadata": {
    "editable": true
   },
   "source": [
    "$$\n",
    "\\min_{P_{\\text{hidden} }, \\ P_{\\text{output} }}\\Big\\{ \\big(g_t'(x, \\{ P_{\\text{hidden} }, P_{\\text{output} }\\}) - ( -\\gamma g_t(x, \\{ P_{\\text{hidden} }, P_{\\text{output} }\\}) \\big)^2 \\Big\\}\n",
    "$$"
   ]
  },
  {
   "cell_type": "markdown",
   "id": "628e0dfc",
   "metadata": {
    "editable": true
   },
   "source": [
    "for an input value $x$."
   ]
  },
  {
   "cell_type": "markdown",
   "id": "e54b4c6e",
   "metadata": {
    "editable": true
   },
   "source": [
    "## More details\n",
    "\n",
    "If the neural network evaluates $g_t(x, P)$ at more values for $x$, say $N$ values $x_i$ for $i = 1, \\dots, N$, then the *total* error to minimize becomes"
   ]
  },
  {
   "cell_type": "markdown",
   "id": "80dc48dd",
   "metadata": {
    "editable": true
   },
   "source": [
    "<!-- Equation labels as ordinary links -->\n",
    "<div id=\"min\"></div>\n",
    "\n",
    "$$\n",
    "\\begin{equation} \\label{min} \\tag{9}\n",
    "\\min_{P}\\Big\\{\\frac{1}{N} \\sum_{i=1}^N  \\big(g_t'(x_i, P) - ( -\\gamma g_t(x_i, P) \\big)^2 \\Big\\}\n",
    "\\end{equation}\n",
    "$$"
   ]
  },
  {
   "cell_type": "markdown",
   "id": "e57a1d70",
   "metadata": {
    "editable": true
   },
   "source": [
    "Letting $\\boldsymbol{x}$ be a vector with elements $x_i$ and $C(\\boldsymbol{x}, P) = \\frac{1}{N} \\sum_i  \\big(g_t'(x_i, P) - ( -\\gamma g_t(x_i, P) \\big)^2$ denote the cost function, the minimization problem that our network must solve, becomes"
   ]
  },
  {
   "cell_type": "markdown",
   "id": "8ad67e57",
   "metadata": {
    "editable": true
   },
   "source": [
    "$$\n",
    "\\min_{P} C(\\boldsymbol{x}, P)\n",
    "$$"
   ]
  },
  {
   "cell_type": "markdown",
   "id": "4eed66ce",
   "metadata": {
    "editable": true
   },
   "source": [
    "In terms of $P_{\\text{hidden} }$ and $P_{\\text{output} }$, this could also be expressed as\n",
    "\n",
    "$$\n",
    "\\min_{P_{\\text{hidden} }, \\ P_{\\text{output} }} C(\\boldsymbol{x}, \\{P_{\\text{hidden} }, P_{\\text{output} }\\})\n",
    "$$"
   ]
  },
  {
   "cell_type": "markdown",
   "id": "9d652c56",
   "metadata": {
    "editable": true
   },
   "source": [
    "## A possible implementation of a neural network\n",
    "\n",
    "For simplicity, it is assumed that the input is an array $\\boldsymbol{x} = (x_1, \\dots, x_N)$ with $N$ elements. It is at these points the neural network should find $P$ such that it fulfills ([9](#min)).\n",
    "\n",
    "First, the neural network must feed forward the inputs.\n",
    "This means that $\\boldsymbol{x}s$ must be passed through an input layer, a hidden layer and a output layer. The input layer in this case, does not need to process the data any further.\n",
    "The input layer will consist of $N_{\\text{input} }$ neurons, passing its element to each neuron in the hidden layer.  The number of neurons in the hidden layer will be $N_{\\text{hidden} }$."
   ]
  },
  {
   "cell_type": "markdown",
   "id": "9a5a1ad7",
   "metadata": {
    "editable": true
   },
   "source": [
    "## Technicalities\n",
    "\n",
    "For the $i$-th in the hidden layer with weight $w_i^{\\text{hidden} }$ and bias $b_i^{\\text{hidden} }$, the weighting from the $j$-th neuron at the input layer is:"
   ]
  },
  {
   "cell_type": "markdown",
   "id": "ed15e067",
   "metadata": {
    "editable": true
   },
   "source": [
    "$$\n",
    "\\begin{aligned}\n",
    "z_{i,j}^{\\text{hidden}} &= b_i^{\\text{hidden}} + w_i^{\\text{hidden}}x_j \\\\\n",
    "&=\n",
    "\\begin{pmatrix}\n",
    "b_i^{\\text{hidden}} & w_i^{\\text{hidden}}\n",
    "\\end{pmatrix}\n",
    "\\begin{pmatrix}\n",
    "1 \\\\\n",
    "x_j\n",
    "\\end{pmatrix}\n",
    "\\end{aligned}\n",
    "$$"
   ]
  },
  {
   "cell_type": "markdown",
   "id": "827ac223",
   "metadata": {
    "editable": true
   },
   "source": [
    "## Final technicalities I\n",
    "\n",
    "The result after weighting the inputs at the $i$-th hidden neuron can be written as a vector:"
   ]
  },
  {
   "cell_type": "markdown",
   "id": "a0a7b13f",
   "metadata": {
    "editable": true
   },
   "source": [
    "$$\n",
    "\\begin{aligned}\n",
    "\\boldsymbol{z}_{i}^{\\text{hidden}} &= \\Big( b_i^{\\text{hidden}} + w_i^{\\text{hidden}}x_1 , \\ b_i^{\\text{hidden}} + w_i^{\\text{hidden}} x_2, \\ \\dots \\, , \\ b_i^{\\text{hidden}} + w_i^{\\text{hidden}} x_N\\Big)  \\\\\n",
    "&=\n",
    "\\begin{pmatrix}\n",
    " b_i^{\\text{hidden}}  & w_i^{\\text{hidden}}\n",
    "\\end{pmatrix}\n",
    "\\begin{pmatrix}\n",
    "1  & 1 & \\dots & 1 \\\\\n",
    "x_1 & x_2 & \\dots & x_N\n",
    "\\end{pmatrix} \\\\\n",
    "&= \\boldsymbol{p}_{i, \\text{hidden}}^T X\n",
    "\\end{aligned}\n",
    "$$"
   ]
  },
  {
   "cell_type": "markdown",
   "id": "0879010a",
   "metadata": {
    "editable": true
   },
   "source": [
    "## Final technicalities II\n",
    "\n",
    "The vector $\\boldsymbol{p}_{i, \\text{hidden}}^T$ constitutes each row in $P_{\\text{hidden} }$, which contains the weights for the neural network to minimize according to ([9](#min)).\n",
    "\n",
    "After having found $\\boldsymbol{z}_{i}^{\\text{hidden}} $ for every $i$-th neuron within the hidden layer, the vector will be sent to an activation function $a_i(\\boldsymbol{z})$.\n",
    "\n",
    "In this example, the sigmoid function has been chosen to be the activation function for each hidden neuron:"
   ]
  },
  {
   "cell_type": "markdown",
   "id": "66ac91b3",
   "metadata": {
    "editable": true
   },
   "source": [
    "$$\n",
    "f(z) = \\frac{1}{1 + \\exp{(-z)}}\n",
    "$$"
   ]
  },
  {
   "cell_type": "markdown",
   "id": "470c74b5",
   "metadata": {
    "editable": true
   },
   "source": [
    "It is possible to use other activations functions for the hidden layer also.\n",
    "\n",
    "The output $\\boldsymbol{x}_i^{\\text{hidden}}$ from each $i$-th hidden neuron is:\n",
    "\n",
    "$$\n",
    "\\boldsymbol{x}_i^{\\text{hidden} } = f\\big(  \\boldsymbol{z}_{i}^{\\text{hidden}} \\big)\n",
    "$$\n",
    "\n",
    "The outputs $\\boldsymbol{x}_i^{\\text{hidden} } $ are then sent to the output layer.\n",
    "\n",
    "The output layer consists of one neuron in this case, and combines the\n",
    "output from each of the neurons in the hidden layers. The output layer\n",
    "combines the results from the hidden layer using some weights $w_i^{\\text{output}}$\n",
    "and biases $b_i^{\\text{output}}$. In this case,\n",
    "it is assumes that the number of neurons in the output layer is one."
   ]
  },
  {
   "cell_type": "markdown",
   "id": "bf5e6967",
   "metadata": {
    "editable": true
   },
   "source": [
    "## Final technicalities III\n",
    "\n",
    "The procedure of weighting the output neuron $j$ in the hidden layer to the $i$-th neuron in the output layer is similar as for the hidden layer described previously."
   ]
  },
  {
   "cell_type": "markdown",
   "id": "766b88f8",
   "metadata": {
    "editable": true
   },
   "source": [
    "$$\n",
    "\\begin{aligned}\n",
    "z_{1,j}^{\\text{output}} & =\n",
    "\\begin{pmatrix}\n",
    "b_1^{\\text{output}} & \\boldsymbol{w}_1^{\\text{output}}\n",
    "\\end{pmatrix}\n",
    "\\begin{pmatrix}\n",
    "1 \\\\\n",
    "\\boldsymbol{x}_j^{\\text{hidden}}\n",
    "\\end{pmatrix}\n",
    "\\end{aligned}\n",
    "$$"
   ]
  },
  {
   "cell_type": "markdown",
   "id": "5c114139",
   "metadata": {
    "editable": true
   },
   "source": [
    "## Final technicalities IV\n",
    "\n",
    "Expressing $z_{1,j}^{\\text{output}}$ as a vector gives the following way of weighting the inputs from the hidden layer:"
   ]
  },
  {
   "cell_type": "markdown",
   "id": "45596281",
   "metadata": {
    "editable": true
   },
   "source": [
    "$$\n",
    "\\boldsymbol{z}_{1}^{\\text{output}} =\n",
    "\\begin{pmatrix}\n",
    "b_1^{\\text{output}} & \\boldsymbol{w}_1^{\\text{output}}\n",
    "\\end{pmatrix}\n",
    "\\begin{pmatrix}\n",
    "1  & 1 & \\dots & 1 \\\\\n",
    "\\boldsymbol{x}_1^{\\text{hidden}} & \\boldsymbol{x}_2^{\\text{hidden}} & \\dots & \\boldsymbol{x}_N^{\\text{hidden}}\n",
    "\\end{pmatrix}\n",
    "$$"
   ]
  },
  {
   "cell_type": "markdown",
   "id": "2c1378fb",
   "metadata": {
    "editable": true
   },
   "source": [
    "In this case we seek a continuous range of values since we are approximating a function. This means that after computing $\\boldsymbol{z}_{1}^{\\text{output}}$ the neural network has finished its feed forward step, and $\\boldsymbol{z}_{1}^{\\text{output}}$ is the final output of the network."
   ]
  },
  {
   "cell_type": "markdown",
   "id": "66a732e1",
   "metadata": {
    "editable": true
   },
   "source": [
    "## Back propagation\n",
    "\n",
    "The next step is to decide how the parameters should be changed such that they minimize the cost function.\n",
    "\n",
    "The chosen cost function for this problem is"
   ]
  },
  {
   "cell_type": "markdown",
   "id": "fdf81225",
   "metadata": {
    "editable": true
   },
   "source": [
    "$$\n",
    "C(\\boldsymbol{x}, P) = \\frac{1}{N} \\sum_i  \\big(g_t'(x_i, P) - ( -\\gamma g_t(x_i, P) \\big)^2\n",
    "$$"
   ]
  },
  {
   "cell_type": "markdown",
   "id": "9bb52111",
   "metadata": {
    "editable": true
   },
   "source": [
    "In order to minimize the cost function, an optimization method must be chosen.\n",
    "\n",
    "Here, gradient descent with a constant step size has been chosen."
   ]
  },
  {
   "cell_type": "markdown",
   "id": "f3e495b4",
   "metadata": {
    "editable": true
   },
   "source": [
    "## Gradient descent\n",
    "\n",
    "The idea of the gradient descent algorithm is to update parameters in\n",
    "a direction where the cost function decreases goes to a minimum.\n",
    "\n",
    "In general, the update of some parameters $\\boldsymbol{\\omega}$ given a cost\n",
    "function defined by some weights $\\boldsymbol{\\omega}$, $C(\\boldsymbol{x},\n",
    "\\boldsymbol{\\omega})$, goes as follows:"
   ]
  },
  {
   "cell_type": "markdown",
   "id": "adc904df",
   "metadata": {
    "editable": true
   },
   "source": [
    "$$\n",
    "\\boldsymbol{\\omega}_{\\text{new} } = \\boldsymbol{\\omega} - \\lambda \\nabla_{\\boldsymbol{\\omega}} C(\\boldsymbol{x}, \\boldsymbol{\\omega})\n",
    "$$"
   ]
  },
  {
   "cell_type": "markdown",
   "id": "2d01b1b5",
   "metadata": {
    "editable": true
   },
   "source": [
    "for a number of iterations or until $ \\big|\\big| \\boldsymbol{\\omega}_{\\text{new} } - \\boldsymbol{\\omega} \\big|\\big|$ becomes smaller than some given tolerance.\n",
    "\n",
    "The value of $\\lambda$ decides how large steps the algorithm must take\n",
    "in the direction of $ \\nabla_{\\boldsymbol{\\omega}} C(\\boldsymbol{x}, \\boldsymbol{\\omega})$.\n",
    "The notation $\\nabla_{\\boldsymbol{\\omega}}$ express the gradient with respect\n",
    "to the elements in $\\boldsymbol{\\omega}$.\n",
    "\n",
    "In our case, we have to minimize the cost function $C(\\boldsymbol{x}, P)$ with\n",
    "respect to the two sets of weights and biases, that is for the hidden\n",
    "layer $P_{\\text{hidden} }$ and for the output layer $P_{\\text{output}\n",
    "}$ .\n",
    "\n",
    "This means that $P_{\\text{hidden} }$ and $P_{\\text{output} }$ is updated by"
   ]
  },
  {
   "cell_type": "markdown",
   "id": "5077f4f7",
   "metadata": {
    "editable": true
   },
   "source": [
    "$$\n",
    "\\begin{aligned}\n",
    "P_{\\text{hidden},\\text{new}} &= P_{\\text{hidden}} - \\lambda \\nabla_{P_{\\text{hidden}}} C(\\boldsymbol{x}, P)  \\\\\n",
    "P_{\\text{output},\\text{new}} &= P_{\\text{output}} - \\lambda \\nabla_{P_{\\text{output}}} C(\\boldsymbol{x}, P)\n",
    "\\end{aligned}\n",
    "$$"
   ]
  },
  {
   "cell_type": "markdown",
   "id": "fb01e943",
   "metadata": {
    "editable": true
   },
   "source": [
    "## The code for solving the ODE"
   ]
  },
  {
   "cell_type": "code",
   "execution_count": 31,
   "id": "6347e101",
   "metadata": {
    "collapsed": false,
    "editable": true,
    "jupyter": {
     "outputs_hidden": false
    }
   },
   "outputs": [],
   "source": [
    "import autograd.numpy as np\n",
    "from autograd import grad, elementwise_grad\n",
    "import autograd.numpy.random as npr\n",
    "from matplotlib import pyplot as plt\n",
    "\n",
    "def sigmoid(z):\n",
    "    return 1/(1 + np.exp(-z))\n",
    "\n",
    "# Assuming one input, hidden, and output layer\n",
    "def neural_network(params, x):\n",
    "\n",
    "    # Find the weights (including and biases) for the hidden and output layer.\n",
    "    # Assume that params is a list of parameters for each layer.\n",
    "    # The biases are the first element for each array in params,\n",
    "    # and the weights are the remaning elements in each array in params.\n",
    "\n",
    "    w_hidden = params[0]\n",
    "    w_output = params[1]\n",
    "\n",
    "    # Assumes input x being an one-dimensional array\n",
    "    num_values = np.size(x)\n",
    "    x = x.reshape(-1, num_values)\n",
    "\n",
    "    # Assume that the input layer does nothing to the input x\n",
    "    x_input = x\n",
    "\n",
    "    ## Hidden layer:\n",
    "\n",
    "    # Add a row of ones to include bias\n",
    "    x_input = np.concatenate((np.ones((1,num_values)), x_input ), axis = 0)\n",
    "\n",
    "    z_hidden = np.matmul(w_hidden, x_input)\n",
    "    x_hidden = sigmoid(z_hidden)\n",
    "\n",
    "    ## Output layer:\n",
    "\n",
    "    # Include bias:\n",
    "    x_hidden = np.concatenate((np.ones((1,num_values)), x_hidden ), axis = 0)\n",
    "\n",
    "    z_output = np.matmul(w_output, x_hidden)\n",
    "    x_output = z_output\n",
    "\n",
    "    return x_output\n",
    "\n",
    "# The trial solution using the deep neural network:\n",
    "def g_trial(x,params, g0 = 10):\n",
    "    return g0 + x*neural_network(params,x)\n",
    "\n",
    "# The right side of the ODE:\n",
    "def g(x, g_trial, gamma = 2):\n",
    "    return -gamma*g_trial\n",
    "\n",
    "# The cost function:\n",
    "def cost_function(P, x):\n",
    "\n",
    "    # Evaluate the trial function with the current parameters P\n",
    "    g_t = g_trial(x,P)\n",
    "\n",
    "    # Find the derivative w.r.t x of the neural network\n",
    "    d_net_out = elementwise_grad(neural_network,1)(P,x)\n",
    "\n",
    "    # Find the derivative w.r.t x of the trial function\n",
    "    d_g_t = elementwise_grad(g_trial,0)(x,P)\n",
    "\n",
    "    # The right side of the ODE\n",
    "    func = g(x, g_t)\n",
    "\n",
    "    err_sqr = (d_g_t - func)**2\n",
    "    cost_sum = np.sum(err_sqr)\n",
    "\n",
    "    return cost_sum / np.size(err_sqr)\n",
    "\n",
    "# Solve the exponential decay ODE using neural network with one input, hidden, and output layer\n",
    "def solve_ode_neural_network(x, num_neurons_hidden, num_iter, lmb):\n",
    "    ## Set up initial weights and biases\n",
    "\n",
    "    # For the hidden layer\n",
    "    p0 = npr.randn(num_neurons_hidden, 2 )\n",
    "\n",
    "    # For the output layer\n",
    "    p1 = npr.randn(1, num_neurons_hidden + 1 ) # +1 since bias is included\n",
    "\n",
    "    P = [p0, p1]\n",
    "\n",
    "    print('Initial cost: %g'%cost_function(P, x))\n",
    "\n",
    "    ## Start finding the optimal weights using gradient descent\n",
    "\n",
    "    # Find the Python function that represents the gradient of the cost function\n",
    "    # w.r.t the 0-th input argument -- that is the weights and biases in the hidden and output layer\n",
    "    cost_function_grad = grad(cost_function,0)\n",
    "\n",
    "    # Let the update be done num_iter times\n",
    "    for i in range(num_iter):\n",
    "        # Evaluate the gradient at the current weights and biases in P.\n",
    "        # The cost_grad consist now of two arrays;\n",
    "        # one for the gradient w.r.t P_hidden and\n",
    "        # one for the gradient w.r.t P_output\n",
    "        cost_grad =  cost_function_grad(P, x)\n",
    "\n",
    "        P[0] = P[0] - lmb * cost_grad[0]\n",
    "        P[1] = P[1] - lmb * cost_grad[1]\n",
    "\n",
    "    print('Final cost: %g'%cost_function(P, x))\n",
    "\n",
    "    return P\n",
    "\n",
    "def g_analytic(x, gamma = 2, g0 = 10):\n",
    "    return g0*np.exp(-gamma*x)\n",
    "\n",
    "# Solve the given problem\n",
    "if __name__ == '__main__':\n",
    "    # Set seed such that the weight are initialized\n",
    "    # with same weights and biases for every run.\n",
    "    npr.seed(15)\n",
    "\n",
    "    ## Decide the vales of arguments to the function to solve\n",
    "    N = 10\n",
    "    x = np.linspace(0, 1, N)\n",
    "\n",
    "    ## Set up the initial parameters\n",
    "    num_hidden_neurons = 10\n",
    "    num_iter = 10000\n",
    "    lmb = 0.001\n",
    "\n",
    "    # Use the network\n",
    "    P = solve_ode_neural_network(x, num_hidden_neurons, num_iter, lmb)\n",
    "\n",
    "    # Print the deviation from the trial solution and true solution\n",
    "    res = g_trial(x,P)\n",
    "    res_analytical = g_analytic(x)\n",
    "\n",
    "    print('Max absolute difference: %g'%np.max(np.abs(res - res_analytical)))\n",
    "\n",
    "    # Plot the results\n",
    "    plt.figure(figsize=(10,10))\n",
    "\n",
    "    plt.title('Performance of neural network solving an ODE compared to the analytical solution')\n",
    "    plt.plot(x, res_analytical)\n",
    "    plt.plot(x, res[0,:])\n",
    "    plt.legend(['analytical','nn'])\n",
    "    plt.xlabel('x')\n",
    "    plt.ylabel('g(x)')\n",
    "    plt.show()"
   ]
  },
  {
   "cell_type": "markdown",
   "id": "59e5acda",
   "metadata": {
    "editable": true
   },
   "source": [
    "## The network with one input layer, specified number of hidden layers, and one output layer\n",
    "\n",
    "It is also possible to extend the construction of our network into a more general one, allowing the network to contain more than one hidden layers.\n",
    "\n",
    "The number of neurons within each hidden layer are given as a list of integers in the program below."
   ]
  },
  {
   "cell_type": "code",
   "execution_count": 32,
   "id": "f1a60516",
   "metadata": {
    "collapsed": false,
    "editable": true,
    "jupyter": {
     "outputs_hidden": false
    }
   },
   "outputs": [],
   "source": [
    "import autograd.numpy as np\n",
    "from autograd import grad, elementwise_grad\n",
    "import autograd.numpy.random as npr\n",
    "from matplotlib import pyplot as plt\n",
    "\n",
    "def sigmoid(z):\n",
    "    return 1/(1 + np.exp(-z))\n",
    "\n",
    "# The neural network with one input layer and one output layer,\n",
    "# but with number of hidden layers specified by the user.\n",
    "def deep_neural_network(deep_params, x):\n",
    "    # N_hidden is the number of hidden layers\n",
    "    # deep_params is a list, len() should be used\n",
    "    N_hidden = len(deep_params) - 1 # -1 since params consists of\n",
    "                                        # parameters to all the hidden\n",
    "                                        # layers AND the output layer.\n",
    "\n",
    "    # Assumes input x being an one-dimensional array\n",
    "    num_values = np.size(x)\n",
    "    x = x.reshape(-1, num_values)\n",
    "\n",
    "    # Assume that the input layer does nothing to the input x\n",
    "    x_input = x\n",
    "\n",
    "    # Due to multiple hidden layers, define a variable referencing to the\n",
    "    # output of the previous layer:\n",
    "    x_prev = x_input\n",
    "\n",
    "    ## Hidden layers:\n",
    "\n",
    "    for l in range(N_hidden):\n",
    "        # From the list of parameters P; find the correct weigths and bias for this layer\n",
    "        w_hidden = deep_params[l]\n",
    "\n",
    "        # Add a row of ones to include bias\n",
    "        x_prev = np.concatenate((np.ones((1,num_values)), x_prev ), axis = 0)\n",
    "\n",
    "        z_hidden = np.matmul(w_hidden, x_prev)\n",
    "        x_hidden = sigmoid(z_hidden)\n",
    "\n",
    "        # Update x_prev such that next layer can use the output from this layer\n",
    "        x_prev = x_hidden\n",
    "\n",
    "    ## Output layer:\n",
    "\n",
    "    # Get the weights and bias for this layer\n",
    "    w_output = deep_params[-1]\n",
    "\n",
    "    # Include bias:\n",
    "    x_prev = np.concatenate((np.ones((1,num_values)), x_prev), axis = 0)\n",
    "\n",
    "    z_output = np.matmul(w_output, x_prev)\n",
    "    x_output = z_output\n",
    "\n",
    "    return x_output\n",
    "\n",
    "# The trial solution using the deep neural network:\n",
    "def g_trial_deep(x,params, g0 = 10):\n",
    "    return g0 + x*deep_neural_network(params, x)\n",
    "\n",
    "# The right side of the ODE:\n",
    "def g(x, g_trial, gamma = 2):\n",
    "    return -gamma*g_trial\n",
    "\n",
    "# The same cost function as before, but calls deep_neural_network instead.\n",
    "def cost_function_deep(P, x):\n",
    "\n",
    "    # Evaluate the trial function with the current parameters P\n",
    "    g_t = g_trial_deep(x,P)\n",
    "\n",
    "    # Find the derivative w.r.t x of the neural network\n",
    "    d_net_out = elementwise_grad(deep_neural_network,1)(P,x)\n",
    "\n",
    "    # Find the derivative w.r.t x of the trial function\n",
    "    d_g_t = elementwise_grad(g_trial_deep,0)(x,P)\n",
    "\n",
    "    # The right side of the ODE\n",
    "    func = g(x, g_t)\n",
    "\n",
    "    err_sqr = (d_g_t - func)**2\n",
    "    cost_sum = np.sum(err_sqr)\n",
    "\n",
    "    return cost_sum / np.size(err_sqr)\n",
    "\n",
    "# Solve the exponential decay ODE using neural network with one input and one output layer,\n",
    "# but with specified number of hidden layers from the user.\n",
    "def solve_ode_deep_neural_network(x, num_neurons, num_iter, lmb):\n",
    "    # num_hidden_neurons is now a list of number of neurons within each hidden layer\n",
    "\n",
    "    # The number of elements in the list num_hidden_neurons thus represents\n",
    "    # the number of hidden layers.\n",
    "\n",
    "    # Find the number of hidden layers:\n",
    "    N_hidden = np.size(num_neurons)\n",
    "\n",
    "    ## Set up initial weights and biases\n",
    "\n",
    "    # Initialize the list of parameters:\n",
    "    P = [None]*(N_hidden + 1) # + 1 to include the output layer\n",
    "\n",
    "    P[0] = npr.randn(num_neurons[0], 2 )\n",
    "    for l in range(1,N_hidden):\n",
    "        P[l] = npr.randn(num_neurons[l], num_neurons[l-1] + 1) # +1 to include bias\n",
    "\n",
    "    # For the output layer\n",
    "    P[-1] = npr.randn(1, num_neurons[-1] + 1 ) # +1 since bias is included\n",
    "\n",
    "    print('Initial cost: %g'%cost_function_deep(P, x))\n",
    "\n",
    "    ## Start finding the optimal weights using gradient descent\n",
    "\n",
    "    # Find the Python function that represents the gradient of the cost function\n",
    "    # w.r.t the 0-th input argument -- that is the weights and biases in the hidden and output layer\n",
    "    cost_function_deep_grad = grad(cost_function_deep,0)\n",
    "\n",
    "    # Let the update be done num_iter times\n",
    "    for i in range(num_iter):\n",
    "        # Evaluate the gradient at the current weights and biases in P.\n",
    "        # The cost_grad consist now of N_hidden + 1 arrays; the gradient w.r.t the weights and biases\n",
    "        # in the hidden layers and output layers evaluated at x.\n",
    "        cost_deep_grad =  cost_function_deep_grad(P, x)\n",
    "\n",
    "        for l in range(N_hidden+1):\n",
    "            P[l] = P[l] - lmb * cost_deep_grad[l]\n",
    "\n",
    "    print('Final cost: %g'%cost_function_deep(P, x))\n",
    "\n",
    "    return P\n",
    "\n",
    "def g_analytic(x, gamma = 2, g0 = 10):\n",
    "    return g0*np.exp(-gamma*x)\n",
    "\n",
    "# Solve the given problem\n",
    "if __name__ == '__main__':\n",
    "    npr.seed(15)\n",
    "\n",
    "    ## Decide the vales of arguments to the function to solve\n",
    "    N = 10\n",
    "    x = np.linspace(0, 1, N)\n",
    "\n",
    "    ## Set up the initial parameters\n",
    "    num_hidden_neurons = np.array([10,10])\n",
    "    num_iter = 10000\n",
    "    lmb = 0.001\n",
    "\n",
    "    P = solve_ode_deep_neural_network(x, num_hidden_neurons, num_iter, lmb)\n",
    "\n",
    "    res = g_trial_deep(x,P)\n",
    "    res_analytical = g_analytic(x)\n",
    "\n",
    "    plt.figure(figsize=(10,10))\n",
    "\n",
    "    plt.title('Performance of a deep neural network solving an ODE compared to the analytical solution')\n",
    "    plt.plot(x, res_analytical)\n",
    "    plt.plot(x, res[0,:])\n",
    "    plt.legend(['analytical','dnn'])\n",
    "    plt.ylabel('g(x)')\n",
    "    plt.show()"
   ]
  },
  {
   "cell_type": "markdown",
   "id": "807a375c",
   "metadata": {
    "editable": true
   },
   "source": [
    "## Example: Population growth\n",
    "\n",
    "A logistic model of population growth assumes that a population converges toward an equilibrium.\n",
    "The population growth can be modeled by"
   ]
  },
  {
   "cell_type": "markdown",
   "id": "d35839bb",
   "metadata": {
    "editable": true
   },
   "source": [
    "<!-- Equation labels as ordinary links -->\n",
    "<div id=\"log\"></div>\n",
    "\n",
    "$$\n",
    "\\begin{equation} \\label{log} \\tag{10}\n",
    "\tg'(t) = \\alpha g(t)(A - g(t))\n",
    "\\end{equation}\n",
    "$$"
   ]
  },
  {
   "cell_type": "markdown",
   "id": "2991d1fe",
   "metadata": {
    "editable": true
   },
   "source": [
    "where $g(t)$ is the population density at time $t$, $\\alpha > 0$ the growth rate and $A > 0$ is the maximum population number in the environment.\n",
    "Also, at $t = 0$ the population has the size $g(0) = g_0$, where $g_0$ is some chosen constant.\n",
    "\n",
    "In this example, similar network as for the exponential decay using Autograd has been used to solve the equation. However, as the implementation might suffer from e.g numerical instability\n",
    "and high execution time (this might be more apparent in the examples solving PDEs),\n",
    "using a library like  TensorFlow is recommended.\n",
    "Here, we stay with a more simple approach and implement for comparison, the simple forward Euler method."
   ]
  },
  {
   "cell_type": "markdown",
   "id": "ee668a71",
   "metadata": {
    "editable": true
   },
   "source": [
    "## Setting up the problem\n",
    "\n",
    "Here, we will model a population $g(t)$ in an environment having carrying capacity $A$.\n",
    "The population follows the model"
   ]
  },
  {
   "cell_type": "markdown",
   "id": "febf10cc",
   "metadata": {
    "editable": true
   },
   "source": [
    "<!-- Equation labels as ordinary links -->\n",
    "<div id=\"solveode_population\"></div>\n",
    "\n",
    "$$\n",
    "\\begin{equation} \\label{solveode_population} \\tag{11}\n",
    "g'(t) = \\alpha g(t)(A - g(t))\n",
    "\\end{equation}\n",
    "$$"
   ]
  },
  {
   "cell_type": "markdown",
   "id": "494194e3",
   "metadata": {
    "editable": true
   },
   "source": [
    "where $g(0) = g_0$.\n",
    "\n",
    "In this example, we let $\\alpha = 2$, $A = 1$, and $g_0 = 1.2$."
   ]
  },
  {
   "cell_type": "markdown",
   "id": "5efa7b11",
   "metadata": {
    "editable": true
   },
   "source": [
    "## The trial solution\n",
    "\n",
    "We will get a slightly different trial solution, as the boundary conditions are different\n",
    "compared to the case for exponential decay.\n",
    "\n",
    "A possible trial solution satisfying the condition $g(0) = g_0$ could be\n",
    "\n",
    "$$\n",
    "h_1(t) = g_0 + t \\cdot N(t,P)\n",
    "$$\n",
    "\n",
    "with $N(t,P)$ being the output from the neural network with weights and biases for each layer collected in the set $P$.\n",
    "\n",
    "The analytical solution is\n",
    "\n",
    "$$\n",
    "g(t) = \\frac{Ag_0}{g_0 + (A - g_0)\\exp(-\\alpha A t)}\n",
    "$$"
   ]
  },
  {
   "cell_type": "markdown",
   "id": "568131dc",
   "metadata": {
    "editable": true
   },
   "source": [
    "## The program using Autograd\n",
    "\n",
    "The network will be the similar as for the exponential decay example, but with some small modifications for our problem."
   ]
  },
  {
   "cell_type": "code",
   "execution_count": 33,
   "id": "8737e028",
   "metadata": {
    "collapsed": false,
    "editable": true,
    "jupyter": {
     "outputs_hidden": false
    }
   },
   "outputs": [],
   "source": [
    "import autograd.numpy as np\n",
    "from autograd import grad, elementwise_grad\n",
    "import autograd.numpy.random as npr\n",
    "from matplotlib import pyplot as plt\n",
    "\n",
    "def sigmoid(z):\n",
    "    return 1/(1 + np.exp(-z))\n",
    "\n",
    "# Function to get the parameters.\n",
    "# Done such that one can easily change the paramaters after one's liking.\n",
    "def get_parameters():\n",
    "    alpha = 2\n",
    "    A = 1\n",
    "    g0 = 1.2\n",
    "    return alpha, A, g0\n",
    "\n",
    "def deep_neural_network(deep_params, x):\n",
    "    # N_hidden is the number of hidden layers\n",
    "    # deep_params is a list, len() should be used\n",
    "    N_hidden = len(deep_params) - 1 # -1 since params consists of\n",
    "                                        # parameters to all the hidden\n",
    "                                        # layers AND the output layer.\n",
    "\n",
    "    # Assumes input x being an one-dimensional array\n",
    "    num_values = np.size(x)\n",
    "    x = x.reshape(-1, num_values)\n",
    "\n",
    "    # Assume that the input layer does nothing to the input x\n",
    "    x_input = x\n",
    "\n",
    "    # Due to multiple hidden layers, define a variable referencing to the\n",
    "    # output of the previous layer:\n",
    "    x_prev = x_input\n",
    "\n",
    "    ## Hidden layers:\n",
    "\n",
    "    for l in range(N_hidden):\n",
    "        # From the list of parameters P; find the correct weigths and bias for this layer\n",
    "        w_hidden = deep_params[l]\n",
    "\n",
    "        # Add a row of ones to include bias\n",
    "        x_prev = np.concatenate((np.ones((1,num_values)), x_prev ), axis = 0)\n",
    "\n",
    "        z_hidden = np.matmul(w_hidden, x_prev)\n",
    "        x_hidden = sigmoid(z_hidden)\n",
    "\n",
    "        # Update x_prev such that next layer can use the output from this layer\n",
    "        x_prev = x_hidden\n",
    "\n",
    "    ## Output layer:\n",
    "\n",
    "    # Get the weights and bias for this layer\n",
    "    w_output = deep_params[-1]\n",
    "\n",
    "    # Include bias:\n",
    "    x_prev = np.concatenate((np.ones((1,num_values)), x_prev), axis = 0)\n",
    "\n",
    "    z_output = np.matmul(w_output, x_prev)\n",
    "    x_output = z_output\n",
    "\n",
    "    return x_output\n",
    "\n",
    "\n",
    "\n",
    "\n",
    "def cost_function_deep(P, x):\n",
    "\n",
    "    # Evaluate the trial function with the current parameters P\n",
    "    g_t = g_trial_deep(x,P)\n",
    "\n",
    "    # Find the derivative w.r.t x of the trial function\n",
    "    d_g_t = elementwise_grad(g_trial_deep,0)(x,P)\n",
    "\n",
    "    # The right side of the ODE\n",
    "    func = f(x, g_t)\n",
    "\n",
    "    err_sqr = (d_g_t - func)**2\n",
    "    cost_sum = np.sum(err_sqr)\n",
    "\n",
    "    return cost_sum / np.size(err_sqr)\n",
    "\n",
    "# The right side of the ODE:\n",
    "def f(x, g_trial):\n",
    "    alpha,A, g0 = get_parameters()\n",
    "    return alpha*g_trial*(A - g_trial)\n",
    "\n",
    "# The trial solution using the deep neural network:\n",
    "def g_trial_deep(x, params):\n",
    "    alpha,A, g0 = get_parameters()\n",
    "    return g0 + x*deep_neural_network(params,x)\n",
    "\n",
    "# The analytical solution:\n",
    "def g_analytic(t):\n",
    "    alpha,A, g0 = get_parameters()\n",
    "    return A*g0/(g0 + (A - g0)*np.exp(-alpha*A*t))\n",
    "\n",
    "def solve_ode_deep_neural_network(x, num_neurons, num_iter, lmb):\n",
    "    # num_hidden_neurons is now a list of number of neurons within each hidden layer\n",
    "\n",
    "    # Find the number of hidden layers:\n",
    "    N_hidden = np.size(num_neurons)\n",
    "\n",
    "    ## Set up initial weigths and biases\n",
    "\n",
    "    # Initialize the list of parameters:\n",
    "    P = [None]*(N_hidden + 1) # + 1 to include the output layer\n",
    "\n",
    "    P[0] = npr.randn(num_neurons[0], 2 )\n",
    "    for l in range(1,N_hidden):\n",
    "        P[l] = npr.randn(num_neurons[l], num_neurons[l-1] + 1) # +1 to include bias\n",
    "\n",
    "    # For the output layer\n",
    "    P[-1] = npr.randn(1, num_neurons[-1] + 1 ) # +1 since bias is included\n",
    "\n",
    "    print('Initial cost: %g'%cost_function_deep(P, x))\n",
    "\n",
    "    ## Start finding the optimal weigths using gradient descent\n",
    "\n",
    "    # Find the Python function that represents the gradient of the cost function\n",
    "    # w.r.t the 0-th input argument -- that is the weights and biases in the hidden and output layer\n",
    "    cost_function_deep_grad = grad(cost_function_deep,0)\n",
    "\n",
    "    # Let the update be done num_iter times\n",
    "    for i in range(num_iter):\n",
    "        # Evaluate the gradient at the current weights and biases in P.\n",
    "        # The cost_grad consist now of N_hidden + 1 arrays; the gradient w.r.t the weights and biases\n",
    "        # in the hidden layers and output layers evaluated at x.\n",
    "        cost_deep_grad =  cost_function_deep_grad(P, x)\n",
    "\n",
    "        for l in range(N_hidden+1):\n",
    "            P[l] = P[l] - lmb * cost_deep_grad[l]\n",
    "\n",
    "    print('Final cost: %g'%cost_function_deep(P, x))\n",
    "\n",
    "    return P\n",
    "\n",
    "if __name__ == '__main__':\n",
    "    npr.seed(4155)\n",
    "\n",
    "    ## Decide the vales of arguments to the function to solve\n",
    "    Nt = 10\n",
    "    T = 1\n",
    "    t = np.linspace(0,T, Nt)\n",
    "\n",
    "    ## Set up the initial parameters\n",
    "    num_hidden_neurons = [100, 50, 25]\n",
    "    num_iter = 1000\n",
    "    lmb = 1e-3\n",
    "\n",
    "    P = solve_ode_deep_neural_network(t, num_hidden_neurons, num_iter, lmb)\n",
    "\n",
    "    g_dnn_ag = g_trial_deep(t,P)\n",
    "    g_analytical = g_analytic(t)\n",
    "\n",
    "    # Find the maximum absolute difference between the solutons:\n",
    "    diff_ag = np.max(np.abs(g_dnn_ag - g_analytical))\n",
    "    print(\"The max absolute difference between the solutions is: %g\"%diff_ag)\n",
    "\n",
    "    plt.figure(figsize=(10,10))\n",
    "\n",
    "    plt.title('Performance of neural network solving an ODE compared to the analytical solution')\n",
    "    plt.plot(t, g_analytical)\n",
    "    plt.plot(t, g_dnn_ag[0,:])\n",
    "    plt.legend(['analytical','nn'])\n",
    "    plt.xlabel('t')\n",
    "    plt.ylabel('g(t)')\n",
    "\n",
    "    plt.show()"
   ]
  },
  {
   "cell_type": "markdown",
   "id": "0904f64d",
   "metadata": {
    "editable": true
   },
   "source": [
    "## Using forward Euler to solve the ODE\n",
    "\n",
    "A straightforward way of solving an ODE numerically, is to use Euler's method.\n",
    "\n",
    "Euler's method uses Taylor series to approximate the value at a function $f$ at a step $\\Delta x$ from $x$:\n",
    "\n",
    "$$\n",
    "f(x + \\Delta x) \\approx f(x) + \\Delta x f'(x)\n",
    "$$\n",
    "\n",
    "In our case, using Euler's method to approximate the value of $g$ at a step $\\Delta t$ from $t$ yields"
   ]
  },
  {
   "cell_type": "markdown",
   "id": "6f3577a8",
   "metadata": {
    "editable": true
   },
   "source": [
    "$$\n",
    "\\begin{aligned}\n",
    "  g(t + \\Delta t) &\\approx g(t) + \\Delta t g'(t) \\\\\n",
    "  &= g(t) + \\Delta t \\big(\\alpha g(t)(A - g(t))\\big)\n",
    "\\end{aligned}\n",
    "$$"
   ]
  },
  {
   "cell_type": "markdown",
   "id": "56d4410b",
   "metadata": {
    "editable": true
   },
   "source": [
    "along with the condition that $g(0) = g_0$.\n",
    "\n",
    "Let $t_i = i \\cdot \\Delta t$ where $\\Delta t = \\frac{T}{N_t-1}$ where $T$ is the final time our solver must solve for and $N_t$ the number of values for $t \\in [0, T]$ for $i = 0, \\dots, N_t-1$.\n",
    "\n",
    "For $i \\geq 1$, we have that"
   ]
  },
  {
   "cell_type": "markdown",
   "id": "48d2707e",
   "metadata": {
    "editable": true
   },
   "source": [
    "$$\n",
    "\\begin{aligned}\n",
    "t_i &= i\\Delta t \\\\\n",
    "&= (i - 1)\\Delta t + \\Delta t \\\\\n",
    "&= t_{i-1} + \\Delta t\n",
    "\\end{aligned}\n",
    "$$"
   ]
  },
  {
   "cell_type": "markdown",
   "id": "66d99f85",
   "metadata": {
    "editable": true
   },
   "source": [
    "Now, if $g_i = g(t_i)$ then"
   ]
  },
  {
   "cell_type": "markdown",
   "id": "3c9447d9",
   "metadata": {
    "editable": true
   },
   "source": [
    "<!-- Equation labels as ordinary links -->\n",
    "<div id=\"odenum\"></div>\n",
    "\n",
    "$$\n",
    "\\begin{equation}\n",
    "  \\begin{aligned}\n",
    "  g_i &= g(t_i) \\\\\n",
    "  &= g(t_{i-1} + \\Delta t) \\\\\n",
    "  &\\approx g(t_{i-1}) + \\Delta t \\big(\\alpha g(t_{i-1})(A - g(t_{i-1}))\\big) \\\\\n",
    "  &= g_{i-1} + \\Delta t \\big(\\alpha g_{i-1}(A - g_{i-1})\\big)\n",
    "  \\end{aligned}\n",
    "\\end{equation} \\label{odenum} \\tag{12}\n",
    "$$"
   ]
  },
  {
   "cell_type": "markdown",
   "id": "724b97f1",
   "metadata": {
    "editable": true
   },
   "source": [
    "for $i \\geq 1$ and $g_0 = g(t_0) = g(0) = g_0$.\n",
    "\n",
    "Equation ([12](#odenum)) could be implemented in the following way,\n",
    "extending the program that uses the network using Autograd:"
   ]
  },
  {
   "cell_type": "code",
   "execution_count": 34,
   "id": "58b0da70",
   "metadata": {
    "collapsed": false,
    "editable": true,
    "jupyter": {
     "outputs_hidden": false
    }
   },
   "outputs": [],
   "source": [
    "# Assume that all function definitions from the example program using Autograd\n",
    "# are located here.\n",
    "\n",
    "if __name__ == '__main__':\n",
    "    npr.seed(4155)\n",
    "\n",
    "    ## Decide the vales of arguments to the function to solve\n",
    "    Nt = 10\n",
    "    T = 1\n",
    "    t = np.linspace(0,T, Nt)\n",
    "\n",
    "    ## Set up the initial parameters\n",
    "    num_hidden_neurons = [100,50,25]\n",
    "    num_iter = 1000\n",
    "    lmb = 1e-3\n",
    "\n",
    "    P = solve_ode_deep_neural_network(t, num_hidden_neurons, num_iter, lmb)\n",
    "\n",
    "    g_dnn_ag = g_trial_deep(t,P)\n",
    "    g_analytical = g_analytic(t)\n",
    "\n",
    "    # Find the maximum absolute difference between the solutons:\n",
    "    diff_ag = np.max(np.abs(g_dnn_ag - g_analytical))\n",
    "    print(\"The max absolute difference between the solutions is: %g\"%diff_ag)\n",
    "\n",
    "    plt.figure(figsize=(10,10))\n",
    "\n",
    "    plt.title('Performance of neural network solving an ODE compared to the analytical solution')\n",
    "    plt.plot(t, g_analytical)\n",
    "    plt.plot(t, g_dnn_ag[0,:])\n",
    "    plt.legend(['analytical','nn'])\n",
    "    plt.xlabel('t')\n",
    "    plt.ylabel('g(t)')\n",
    "\n",
    "    ## Find an approximation to the funtion using forward Euler\n",
    "\n",
    "    alpha, A, g0 = get_parameters()\n",
    "    dt = T/(Nt - 1)\n",
    "\n",
    "    # Perform forward Euler to solve the ODE\n",
    "    g_euler = np.zeros(Nt)\n",
    "    g_euler[0] = g0\n",
    "\n",
    "    for i in range(1,Nt):\n",
    "        g_euler[i] = g_euler[i-1] + dt*(alpha*g_euler[i-1]*(A - g_euler[i-1]))\n",
    "\n",
    "    # Print the errors done by each method\n",
    "    diff1 = np.max(np.abs(g_euler - g_analytical))\n",
    "    diff2 = np.max(np.abs(g_dnn_ag[0,:] - g_analytical))\n",
    "\n",
    "    print('Max absolute difference between Euler method and analytical: %g'%diff1)\n",
    "    print('Max absolute difference between deep neural network and analytical: %g'%diff2)\n",
    "\n",
    "    # Plot results\n",
    "    plt.figure(figsize=(10,10))\n",
    "\n",
    "    plt.plot(t,g_euler)\n",
    "    plt.plot(t,g_analytical)\n",
    "    plt.plot(t,g_dnn_ag[0,:])\n",
    "\n",
    "    plt.legend(['euler','analytical','dnn'])\n",
    "    plt.xlabel('Time t')\n",
    "    plt.ylabel('g(t)')\n",
    "\n",
    "    plt.show()"
   ]
  },
  {
   "cell_type": "markdown",
   "id": "f1230dee",
   "metadata": {
    "editable": true
   },
   "source": [
    "## Example: Solving the one dimensional Poisson equation\n",
    "\n",
    "The Poisson equation for $g(x)$ in one dimension is"
   ]
  },
  {
   "cell_type": "markdown",
   "id": "ba2c6d0a",
   "metadata": {
    "editable": true
   },
   "source": [
    "<!-- Equation labels as ordinary links -->\n",
    "<div id=\"poisson\"></div>\n",
    "\n",
    "$$\n",
    "\\begin{equation} \\label{poisson} \\tag{13}\n",
    "  -g''(x) = f(x)\n",
    "\\end{equation}\n",
    "$$"
   ]
  },
  {
   "cell_type": "markdown",
   "id": "bab1c7d3",
   "metadata": {
    "editable": true
   },
   "source": [
    "where $f(x)$ is a given function for $x \\in (0,1)$.\n",
    "\n",
    "The conditions that $g(x)$ is chosen to fulfill, are"
   ]
  },
  {
   "cell_type": "markdown",
   "id": "42bfde23",
   "metadata": {
    "editable": true
   },
   "source": [
    "$$\n",
    "\\begin{align*}\n",
    "  g(0) &= 0 \\\\\n",
    "  g(1) &= 0\n",
    "\\end{align*}\n",
    "$$"
   ]
  },
  {
   "cell_type": "markdown",
   "id": "7b3a2504",
   "metadata": {
    "editable": true
   },
   "source": [
    "This equation can be solved numerically using programs where e.g Autograd and TensorFlow are used.\n",
    "The results from the networks can then be compared to the analytical solution.\n",
    "In addition, it could be interesting to see how a typical method for numerically solving second order ODEs compares to the neural networks."
   ]
  },
  {
   "cell_type": "markdown",
   "id": "a419909c",
   "metadata": {
    "editable": true
   },
   "source": [
    "## The specific equation to solve for\n",
    "\n",
    "Here, the function $g(x)$ to solve for follows the equation"
   ]
  },
  {
   "cell_type": "markdown",
   "id": "125f8197",
   "metadata": {
    "editable": true
   },
   "source": [
    "$$\n",
    "-g''(x) = f(x),\\qquad x \\in (0,1)\n",
    "$$"
   ]
  },
  {
   "cell_type": "markdown",
   "id": "16376b60",
   "metadata": {
    "editable": true
   },
   "source": [
    "where $f(x)$ is a given function, along with the chosen conditions"
   ]
  },
  {
   "cell_type": "markdown",
   "id": "044c76ec",
   "metadata": {
    "editable": true
   },
   "source": [
    "<!-- Equation labels as ordinary links -->\n",
    "<div id=\"cond\"></div>\n",
    "\n",
    "$$\n",
    "\\begin{aligned}\n",
    "g(0) = g(1) = 0\n",
    "\\end{aligned}\\label{cond} \\tag{14}\n",
    "$$"
   ]
  },
  {
   "cell_type": "markdown",
   "id": "0ec4860b",
   "metadata": {
    "editable": true
   },
   "source": [
    "In this example, we consider the case when $f(x) = (3x + x^2)\\exp(x)$.\n",
    "\n",
    "For this case, a possible trial solution satisfying the conditions could be"
   ]
  },
  {
   "cell_type": "markdown",
   "id": "03e27ec0",
   "metadata": {
    "editable": true
   },
   "source": [
    "$$\n",
    "g_t(x) = x \\cdot (1-x) \\cdot N(P,x)\n",
    "$$"
   ]
  },
  {
   "cell_type": "markdown",
   "id": "82fdb51f",
   "metadata": {
    "editable": true
   },
   "source": [
    "The analytical solution for this problem is"
   ]
  },
  {
   "cell_type": "markdown",
   "id": "82e39d0e",
   "metadata": {
    "editable": true
   },
   "source": [
    "$$\n",
    "g(x) = x(1 - x)\\exp(x)\n",
    "$$"
   ]
  },
  {
   "cell_type": "markdown",
   "id": "bf029e6c",
   "metadata": {
    "editable": true
   },
   "source": [
    "## Solving the equation using Autograd"
   ]
  },
  {
   "cell_type": "code",
   "execution_count": 35,
   "id": "e10d7641",
   "metadata": {
    "collapsed": false,
    "editable": true,
    "jupyter": {
     "outputs_hidden": false
    }
   },
   "outputs": [],
   "source": [
    "import autograd.numpy as np\n",
    "from autograd import grad, elementwise_grad\n",
    "import autograd.numpy.random as npr\n",
    "from matplotlib import pyplot as plt\n",
    "\n",
    "def sigmoid(z):\n",
    "    return 1/(1 + np.exp(-z))\n",
    "\n",
    "def deep_neural_network(deep_params, x):\n",
    "    # N_hidden is the number of hidden layers\n",
    "    # deep_params is a list, len() should be used\n",
    "    N_hidden = len(deep_params) - 1 # -1 since params consists of\n",
    "                                        # parameters to all the hidden\n",
    "                                        # layers AND the output layer.\n",
    "\n",
    "    # Assumes input x being an one-dimensional array\n",
    "    num_values = np.size(x)\n",
    "    x = x.reshape(-1, num_values)\n",
    "\n",
    "    # Assume that the input layer does nothing to the input x\n",
    "    x_input = x\n",
    "\n",
    "    # Due to multiple hidden layers, define a variable referencing to the\n",
    "    # output of the previous layer:\n",
    "    x_prev = x_input\n",
    "\n",
    "    ## Hidden layers:\n",
    "\n",
    "    for l in range(N_hidden):\n",
    "        # From the list of parameters P; find the correct weigths and bias for this layer\n",
    "        w_hidden = deep_params[l]\n",
    "\n",
    "        # Add a row of ones to include bias\n",
    "        x_prev = np.concatenate((np.ones((1,num_values)), x_prev ), axis = 0)\n",
    "\n",
    "        z_hidden = np.matmul(w_hidden, x_prev)\n",
    "        x_hidden = sigmoid(z_hidden)\n",
    "\n",
    "        # Update x_prev such that next layer can use the output from this layer\n",
    "        x_prev = x_hidden\n",
    "\n",
    "    ## Output layer:\n",
    "\n",
    "    # Get the weights and bias for this layer\n",
    "    w_output = deep_params[-1]\n",
    "\n",
    "    # Include bias:\n",
    "    x_prev = np.concatenate((np.ones((1,num_values)), x_prev), axis = 0)\n",
    "\n",
    "    z_output = np.matmul(w_output, x_prev)\n",
    "    x_output = z_output\n",
    "\n",
    "    return x_output\n",
    "\n",
    "\n",
    "def solve_ode_deep_neural_network(x, num_neurons, num_iter, lmb):\n",
    "    # num_hidden_neurons is now a list of number of neurons within each hidden layer\n",
    "\n",
    "    # Find the number of hidden layers:\n",
    "    N_hidden = np.size(num_neurons)\n",
    "\n",
    "    ## Set up initial weigths and biases\n",
    "\n",
    "    # Initialize the list of parameters:\n",
    "    P = [None]*(N_hidden + 1) # + 1 to include the output layer\n",
    "\n",
    "    P[0] = npr.randn(num_neurons[0], 2 )\n",
    "    for l in range(1,N_hidden):\n",
    "        P[l] = npr.randn(num_neurons[l], num_neurons[l-1] + 1) # +1 to include bias\n",
    "\n",
    "    # For the output layer\n",
    "    P[-1] = npr.randn(1, num_neurons[-1] + 1 ) # +1 since bias is included\n",
    "\n",
    "    print('Initial cost: %g'%cost_function_deep(P, x))\n",
    "\n",
    "    ## Start finding the optimal weigths using gradient descent\n",
    "\n",
    "    # Find the Python function that represents the gradient of the cost function\n",
    "    # w.r.t the 0-th input argument -- that is the weights and biases in the hidden and output layer\n",
    "    cost_function_deep_grad = grad(cost_function_deep,0)\n",
    "\n",
    "    # Let the update be done num_iter times\n",
    "    for i in range(num_iter):\n",
    "        # Evaluate the gradient at the current weights and biases in P.\n",
    "        # The cost_grad consist now of N_hidden + 1 arrays; the gradient w.r.t the weights and biases\n",
    "        # in the hidden layers and output layers evaluated at x.\n",
    "        cost_deep_grad =  cost_function_deep_grad(P, x)\n",
    "\n",
    "        for l in range(N_hidden+1):\n",
    "            P[l] = P[l] - lmb * cost_deep_grad[l]\n",
    "\n",
    "    print('Final cost: %g'%cost_function_deep(P, x))\n",
    "\n",
    "    return P\n",
    "\n",
    "## Set up the cost function specified for this Poisson equation:\n",
    "\n",
    "# The right side of the ODE\n",
    "def f(x):\n",
    "    return (3*x + x**2)*np.exp(x)\n",
    "\n",
    "def cost_function_deep(P, x):\n",
    "\n",
    "    # Evaluate the trial function with the current parameters P\n",
    "    g_t = g_trial_deep(x,P)\n",
    "\n",
    "    # Find the derivative w.r.t x of the trial function\n",
    "    d2_g_t = elementwise_grad(elementwise_grad(g_trial_deep,0))(x,P)\n",
    "\n",
    "    right_side = f(x)\n",
    "\n",
    "    err_sqr = (-d2_g_t - right_side)**2\n",
    "    cost_sum = np.sum(err_sqr)\n",
    "\n",
    "    return cost_sum/np.size(err_sqr)\n",
    "\n",
    "# The trial solution:\n",
    "def g_trial_deep(x,P):\n",
    "    return x*(1-x)*deep_neural_network(P,x)\n",
    "\n",
    "# The analytic solution;\n",
    "def g_analytic(x):\n",
    "    return x*(1-x)*np.exp(x)\n",
    "\n",
    "if __name__ == '__main__':\n",
    "    npr.seed(4155)\n",
    "\n",
    "    ## Decide the vales of arguments to the function to solve\n",
    "    Nx = 10\n",
    "    x = np.linspace(0,1, Nx)\n",
    "\n",
    "    ## Set up the initial parameters\n",
    "    num_hidden_neurons = [200,100]\n",
    "    num_iter = 1000\n",
    "    lmb = 1e-3\n",
    "\n",
    "    P = solve_ode_deep_neural_network(x, num_hidden_neurons, num_iter, lmb)\n",
    "\n",
    "    g_dnn_ag = g_trial_deep(x,P)\n",
    "    g_analytical = g_analytic(x)\n",
    "\n",
    "    # Find the maximum absolute difference between the solutons:\n",
    "    max_diff = np.max(np.abs(g_dnn_ag - g_analytical))\n",
    "    print(\"The max absolute difference between the solutions is: %g\"%max_diff)\n",
    "\n",
    "    plt.figure(figsize=(10,10))\n",
    "\n",
    "    plt.title('Performance of neural network solving an ODE compared to the analytical solution')\n",
    "    plt.plot(x, g_analytical)\n",
    "    plt.plot(x, g_dnn_ag[0,:])\n",
    "    plt.legend(['analytical','nn'])\n",
    "    plt.xlabel('x')\n",
    "    plt.ylabel('g(x)')\n",
    "    plt.show()"
   ]
  },
  {
   "cell_type": "markdown",
   "id": "82891392",
   "metadata": {
    "editable": true
   },
   "source": [
    "## Comparing with a numerical scheme\n",
    "\n",
    "The Poisson equation is possible to solve using Taylor series to approximate the second derivative.\n",
    "\n",
    "Using Taylor series, the second derivative can be expressed as\n",
    "\n",
    "$$\n",
    "g''(x) = \\frac{g(x + \\Delta x) - 2g(x) + g(x-\\Delta x)}{\\Delta x^2} + E_{\\Delta x}(x)\n",
    "$$\n",
    "\n",
    "where $\\Delta x$ is a small step size and $E_{\\Delta x}(x)$ being the error term.\n",
    "\n",
    "Looking away from the error terms gives an approximation to the second derivative:"
   ]
  },
  {
   "cell_type": "markdown",
   "id": "ad4ef510",
   "metadata": {
    "editable": true
   },
   "source": [
    "<!-- Equation labels as ordinary links -->\n",
    "<div id=\"approx\"></div>\n",
    "\n",
    "$$\n",
    "\\begin{equation} \\label{approx} \\tag{15}\n",
    "g''(x) \\approx \\frac{g(x + \\Delta x) - 2g(x) + g(x-\\Delta x)}{\\Delta x^2}\n",
    "\\end{equation}\n",
    "$$"
   ]
  },
  {
   "cell_type": "markdown",
   "id": "eb8ab804",
   "metadata": {
    "editable": true
   },
   "source": [
    "If $x_i = i \\Delta x = x_{i-1} + \\Delta x$ and $g_i = g(x_i)$ for $i = 1,\\dots N_x - 2$ with $N_x$ being the number of values for $x$, ([15](#approx)) becomes"
   ]
  },
  {
   "cell_type": "markdown",
   "id": "f9b7b2a0",
   "metadata": {
    "editable": true
   },
   "source": [
    "$$\n",
    "\\begin{aligned}\n",
    "g''(x_i) &\\approx \\frac{g(x_i + \\Delta x) - 2g(x_i) + g(x_i -\\Delta x)}{\\Delta x^2} \\\\\n",
    "&= \\frac{g_{i+1} - 2g_i + g_{i-1}}{\\Delta x^2}\n",
    "\\end{aligned}\n",
    "$$"
   ]
  },
  {
   "cell_type": "markdown",
   "id": "6a71c7bb",
   "metadata": {
    "editable": true
   },
   "source": [
    "Since we know from our problem that"
   ]
  },
  {
   "cell_type": "markdown",
   "id": "d19780a8",
   "metadata": {
    "editable": true
   },
   "source": [
    "$$\n",
    "\\begin{aligned}\n",
    "-g''(x) &= f(x) \\\\\n",
    "&= (3x + x^2)\\exp(x)\n",
    "\\end{aligned}\n",
    "$$"
   ]
  },
  {
   "cell_type": "markdown",
   "id": "00fedc6e",
   "metadata": {
    "editable": true
   },
   "source": [
    "along with the conditions $g(0) = g(1) = 0$,\n",
    "the following scheme can be used to find an approximate solution for $g(x)$ numerically:"
   ]
  },
  {
   "cell_type": "markdown",
   "id": "28005c86",
   "metadata": {
    "editable": true
   },
   "source": [
    "<!-- Equation labels as ordinary links -->\n",
    "<div id=\"odesys\"></div>\n",
    "\n",
    "$$\n",
    "\\begin{equation}\n",
    "  \\begin{aligned}\n",
    "  -\\Big( \\frac{g_{i+1} - 2g_i + g_{i-1}}{\\Delta x^2} \\Big) &= f(x_i) \\\\\n",
    "  -g_{i+1} + 2g_i - g_{i-1} &= \\Delta x^2 f(x_i)\n",
    "  \\end{aligned}\n",
    "\\end{equation} \\label{odesys} \\tag{16}\n",
    "$$"
   ]
  },
  {
   "cell_type": "markdown",
   "id": "d562bb0c",
   "metadata": {
    "editable": true
   },
   "source": [
    "for $i = 1, \\dots, N_x - 2$ where $g_0 = g_{N_x - 1} = 0$ and $f(x_i) = (3x_i + x_i^2)\\exp(x_i)$, which is given for our specific problem.\n",
    "\n",
    "The equation can be rewritten into a matrix equation:"
   ]
  },
  {
   "cell_type": "markdown",
   "id": "bdee81e4",
   "metadata": {
    "editable": true
   },
   "source": [
    "$$\n",
    "\\begin{aligned}\n",
    "\\begin{pmatrix}\n",
    "2 & -1 & 0 & \\dots & 0 \\\\\n",
    "-1 & 2 & -1 & \\dots & 0 \\\\\n",
    "\\vdots & & \\ddots & & \\vdots \\\\\n",
    "0 & \\dots & -1 & 2 & -1  \\\\\n",
    "0 & \\dots & 0 & -1 & 2\\\\\n",
    "\\end{pmatrix}\n",
    "\\begin{pmatrix}\n",
    "g_1 \\\\\n",
    "g_2 \\\\\n",
    "\\vdots \\\\\n",
    "g_{N_x - 3} \\\\\n",
    "g_{N_x - 2}\n",
    "\\end{pmatrix}\n",
    "&=\n",
    "\\Delta x^2\n",
    "\\begin{pmatrix}\n",
    "f(x_1) \\\\\n",
    "f(x_2) \\\\\n",
    "\\vdots \\\\\n",
    "f(x_{N_x - 3}) \\\\\n",
    "f(x_{N_x - 2})\n",
    "\\end{pmatrix} \\\\\n",
    "\\boldsymbol{A}\\boldsymbol{g} &= \\boldsymbol{f},\n",
    "\\end{aligned}\n",
    "$$"
   ]
  },
  {
   "cell_type": "markdown",
   "id": "ddf436f5",
   "metadata": {
    "editable": true
   },
   "source": [
    "which makes it possible to solve for the vector $\\boldsymbol{g}$."
   ]
  },
  {
   "cell_type": "markdown",
   "id": "66ae2d44",
   "metadata": {
    "editable": true
   },
   "source": [
    "## Setting up the code\n",
    "\n",
    "We can then compare the result from this numerical scheme with the output from our network using Autograd:"
   ]
  },
  {
   "cell_type": "code",
   "execution_count": 36,
   "id": "17f02a24",
   "metadata": {
    "collapsed": false,
    "editable": true,
    "jupyter": {
     "outputs_hidden": false
    }
   },
   "outputs": [],
   "source": [
    "import autograd.numpy as np\n",
    "from autograd import grad, elementwise_grad\n",
    "import autograd.numpy.random as npr\n",
    "from matplotlib import pyplot as plt\n",
    "\n",
    "def sigmoid(z):\n",
    "    return 1/(1 + np.exp(-z))\n",
    "\n",
    "def deep_neural_network(deep_params, x):\n",
    "    # N_hidden is the number of hidden layers\n",
    "    # deep_params is a list, len() should be used\n",
    "    N_hidden = len(deep_params) - 1 # -1 since params consists of\n",
    "                                        # parameters to all the hidden\n",
    "                                        # layers AND the output layer.\n",
    "\n",
    "    # Assumes input x being an one-dimensional array\n",
    "    num_values = np.size(x)\n",
    "    x = x.reshape(-1, num_values)\n",
    "\n",
    "    # Assume that the input layer does nothing to the input x\n",
    "    x_input = x\n",
    "\n",
    "    # Due to multiple hidden layers, define a variable referencing to the\n",
    "    # output of the previous layer:\n",
    "    x_prev = x_input\n",
    "\n",
    "    ## Hidden layers:\n",
    "\n",
    "    for l in range(N_hidden):\n",
    "        # From the list of parameters P; find the correct weigths and bias for this layer\n",
    "        w_hidden = deep_params[l]\n",
    "\n",
    "        # Add a row of ones to include bias\n",
    "        x_prev = np.concatenate((np.ones((1,num_values)), x_prev ), axis = 0)\n",
    "\n",
    "        z_hidden = np.matmul(w_hidden, x_prev)\n",
    "        x_hidden = sigmoid(z_hidden)\n",
    "\n",
    "        # Update x_prev such that next layer can use the output from this layer\n",
    "        x_prev = x_hidden\n",
    "\n",
    "    ## Output layer:\n",
    "\n",
    "    # Get the weights and bias for this layer\n",
    "    w_output = deep_params[-1]\n",
    "\n",
    "    # Include bias:\n",
    "    x_prev = np.concatenate((np.ones((1,num_values)), x_prev), axis = 0)\n",
    "\n",
    "    z_output = np.matmul(w_output, x_prev)\n",
    "    x_output = z_output\n",
    "\n",
    "    return x_output\n",
    "\n",
    "\n",
    "def solve_ode_deep_neural_network(x, num_neurons, num_iter, lmb):\n",
    "    # num_hidden_neurons is now a list of number of neurons within each hidden layer\n",
    "\n",
    "    # Find the number of hidden layers:\n",
    "    N_hidden = np.size(num_neurons)\n",
    "\n",
    "    ## Set up initial weigths and biases\n",
    "\n",
    "    # Initialize the list of parameters:\n",
    "    P = [None]*(N_hidden + 1) # + 1 to include the output layer\n",
    "\n",
    "    P[0] = npr.randn(num_neurons[0], 2 )\n",
    "    for l in range(1,N_hidden):\n",
    "        P[l] = npr.randn(num_neurons[l], num_neurons[l-1] + 1) # +1 to include bias\n",
    "\n",
    "    # For the output layer\n",
    "    P[-1] = npr.randn(1, num_neurons[-1] + 1 ) # +1 since bias is included\n",
    "\n",
    "    print('Initial cost: %g'%cost_function_deep(P, x))\n",
    "\n",
    "    ## Start finding the optimal weigths using gradient descent\n",
    "\n",
    "    # Find the Python function that represents the gradient of the cost function\n",
    "    # w.r.t the 0-th input argument -- that is the weights and biases in the hidden and output layer\n",
    "    cost_function_deep_grad = grad(cost_function_deep,0)\n",
    "\n",
    "    # Let the update be done num_iter times\n",
    "    for i in range(num_iter):\n",
    "        # Evaluate the gradient at the current weights and biases in P.\n",
    "        # The cost_grad consist now of N_hidden + 1 arrays; the gradient w.r.t the weights and biases\n",
    "        # in the hidden layers and output layers evaluated at x.\n",
    "        cost_deep_grad =  cost_function_deep_grad(P, x)\n",
    "\n",
    "        for l in range(N_hidden+1):\n",
    "            P[l] = P[l] - lmb * cost_deep_grad[l]\n",
    "\n",
    "    print('Final cost: %g'%cost_function_deep(P, x))\n",
    "\n",
    "    return P\n",
    "\n",
    "## Set up the cost function specified for this Poisson equation:\n",
    "\n",
    "# The right side of the ODE\n",
    "def f(x):\n",
    "    return (3*x + x**2)*np.exp(x)\n",
    "\n",
    "def cost_function_deep(P, x):\n",
    "\n",
    "    # Evaluate the trial function with the current parameters P\n",
    "    g_t = g_trial_deep(x,P)\n",
    "\n",
    "    # Find the derivative w.r.t x of the trial function\n",
    "    d2_g_t = elementwise_grad(elementwise_grad(g_trial_deep,0))(x,P)\n",
    "\n",
    "    right_side = f(x)\n",
    "\n",
    "    err_sqr = (-d2_g_t - right_side)**2\n",
    "    cost_sum = np.sum(err_sqr)\n",
    "\n",
    "    return cost_sum/np.size(err_sqr)\n",
    "\n",
    "# The trial solution:\n",
    "def g_trial_deep(x,P):\n",
    "    return x*(1-x)*deep_neural_network(P,x)\n",
    "\n",
    "# The analytic solution;\n",
    "def g_analytic(x):\n",
    "    return x*(1-x)*np.exp(x)\n",
    "\n",
    "if __name__ == '__main__':\n",
    "    npr.seed(4155)\n",
    "\n",
    "    ## Decide the vales of arguments to the function to solve\n",
    "    Nx = 10\n",
    "    x = np.linspace(0,1, Nx)\n",
    "\n",
    "    ## Set up the initial parameters\n",
    "    num_hidden_neurons = [200,100]\n",
    "    num_iter = 1000\n",
    "    lmb = 1e-3\n",
    "\n",
    "    P = solve_ode_deep_neural_network(x, num_hidden_neurons, num_iter, lmb)\n",
    "\n",
    "    g_dnn_ag = g_trial_deep(x,P)\n",
    "    g_analytical = g_analytic(x)\n",
    "\n",
    "    # Find the maximum absolute difference between the solutons:\n",
    "\n",
    "    plt.figure(figsize=(10,10))\n",
    "\n",
    "    plt.title('Performance of neural network solving an ODE compared to the analytical solution')\n",
    "    plt.plot(x, g_analytical)\n",
    "    plt.plot(x, g_dnn_ag[0,:])\n",
    "    plt.legend(['analytical','nn'])\n",
    "    plt.xlabel('x')\n",
    "    plt.ylabel('g(x)')\n",
    "\n",
    "    ## Perform the computation using the numerical scheme\n",
    "\n",
    "    dx = 1/(Nx - 1)\n",
    "\n",
    "    # Set up the matrix A\n",
    "    A = np.zeros((Nx-2,Nx-2))\n",
    "\n",
    "    A[0,0] = 2\n",
    "    A[0,1] = -1\n",
    "\n",
    "    for i in range(1,Nx-3):\n",
    "        A[i,i-1] = -1\n",
    "        A[i,i] = 2\n",
    "        A[i,i+1] = -1\n",
    "\n",
    "    A[Nx - 3, Nx - 4] = -1\n",
    "    A[Nx - 3, Nx - 3] = 2\n",
    "\n",
    "    # Set up the vector f\n",
    "    f_vec = dx**2 * f(x[1:-1])\n",
    "\n",
    "    # Solve the equation\n",
    "    g_res = np.linalg.solve(A,f_vec)\n",
    "\n",
    "    g_vec = np.zeros(Nx)\n",
    "    g_vec[1:-1] = g_res\n",
    "\n",
    "    # Print the differences between each method\n",
    "    max_diff1 = np.max(np.abs(g_dnn_ag - g_analytical))\n",
    "    max_diff2 = np.max(np.abs(g_vec - g_analytical))\n",
    "    print(\"The max absolute difference between the analytical solution and DNN Autograd: %g\"%max_diff1)\n",
    "    print(\"The max absolute difference between the analytical solution and numerical scheme: %g\"%max_diff2)\n",
    "\n",
    "    # Plot the results\n",
    "    plt.figure(figsize=(10,10))\n",
    "\n",
    "    plt.plot(x,g_vec)\n",
    "    plt.plot(x,g_analytical)\n",
    "    plt.plot(x,g_dnn_ag[0,:])\n",
    "\n",
    "    plt.legend(['numerical scheme','analytical','dnn'])\n",
    "    plt.show()"
   ]
  },
  {
   "cell_type": "markdown",
   "id": "51ee4433",
   "metadata": {
    "editable": true
   },
   "source": [
    "## Partial Differential Equations\n",
    "\n",
    "A partial differential equation (PDE) has a solution here the function\n",
    "is defined by multiple variables.  The equation may involve all kinds\n",
    "of combinations of which variables the function is differentiated with\n",
    "respect to.\n",
    "\n",
    "In general, a partial differential equation for a function $g(x_1,\\dots,x_N)$ with $N$ variables may be expressed as"
   ]
  },
  {
   "cell_type": "markdown",
   "id": "1ec16aab",
   "metadata": {
    "editable": true
   },
   "source": [
    "<!-- Equation labels as ordinary links -->\n",
    "<div id=\"PDE\"></div>\n",
    "\n",
    "$$\n",
    "\\begin{equation} \\label{PDE} \\tag{17}\n",
    "  f\\left(x_1, \\, \\dots \\, , x_N, \\frac{\\partial g(x_1,\\dots,x_N) }{\\partial x_1}, \\dots , \\frac{\\partial g(x_1,\\dots,x_N) }{\\partial x_N}, \\frac{\\partial g(x_1,\\dots,x_N) }{\\partial x_1\\partial x_2}, \\, \\dots \\, , \\frac{\\partial^n g(x_1,\\dots,x_N) }{\\partial x_N^n} \\right) = 0\n",
    "\\end{equation}\n",
    "$$"
   ]
  },
  {
   "cell_type": "markdown",
   "id": "64fd215d",
   "metadata": {
    "editable": true
   },
   "source": [
    "where $f$ is an expression involving all kinds of possible mixed derivatives of $g(x_1,\\dots,x_N)$ up to an order $n$. In order for the solution to be unique, some additional conditions must also be given."
   ]
  },
  {
   "cell_type": "markdown",
   "id": "3efab799",
   "metadata": {
    "editable": true
   },
   "source": [
    "## Type of problem\n",
    "\n",
    "The problem our network must solve for, is similar to the ODE case.\n",
    "We must have a trial solution $g_t$ at hand.\n",
    "\n",
    "For instance, the trial solution could be expressed as"
   ]
  },
  {
   "cell_type": "markdown",
   "id": "80e6d77c",
   "metadata": {
    "editable": true
   },
   "source": [
    "$$\n",
    "\\begin{align*}\n",
    "  g_t(x_1,\\dots,x_N) = h_1(x_1,\\dots,x_N) + h_2(x_1,\\dots,x_N,N(x_1,\\dots,x_N,P))\n",
    "\\end{align*}\n",
    "$$"
   ]
  },
  {
   "cell_type": "markdown",
   "id": "f08a42bd",
   "metadata": {
    "editable": true
   },
   "source": [
    "where $h_1(x_1,\\dots,x_N)$ is a function that ensures $g_t(x_1,\\dots,x_N)$ satisfies some given conditions.\n",
    "The neural network $N(x_1,\\dots,x_N,P)$ has weights and biases described by $P$ and $h_2(x_1,\\dots,x_N,N(x_1,\\dots,x_N,P))$ is an expression using the output from the neural network in some way.\n",
    "\n",
    "The role of the function $h_2(x_1,\\dots,x_N,N(x_1,\\dots,x_N,P))$, is to ensure that the output of $N(x_1,\\dots,x_N,P)$ is zero when $g_t(x_1,\\dots,x_N)$ is evaluated at the values of $x_1,\\dots,x_N$ where the given conditions must be satisfied. The function $h_1(x_1,\\dots,x_N)$ should alone make $g_t(x_1,\\dots,x_N)$ satisfy the conditions."
   ]
  },
  {
   "cell_type": "markdown",
   "id": "af035b50",
   "metadata": {
    "editable": true
   },
   "source": [
    "## Network requirements\n",
    "\n",
    "The network tries then the minimize the cost function following the\n",
    "same ideas as described for the ODE case, but now with more than one\n",
    "variables to consider.  The concept still remains the same; find a set\n",
    "of parameters $P$ such that the expression $f$ in ([17](#PDE)) is as\n",
    "close to zero as possible.\n",
    "\n",
    "As for the ODE case, the cost function is the mean squared error that\n",
    "the network must try to minimize. The cost function for the network to\n",
    "minimize is"
   ]
  },
  {
   "cell_type": "markdown",
   "id": "ee147dfb",
   "metadata": {
    "editable": true
   },
   "source": [
    "$$\n",
    "C\\left(x_1, \\dots, x_N, P\\right) = \\left(  f\\left(x_1, \\, \\dots \\, , x_N, \\frac{\\partial g(x_1,\\dots,x_N) }{\\partial x_1}, \\dots , \\frac{\\partial g(x_1,\\dots,x_N) }{\\partial x_N}, \\frac{\\partial g(x_1,\\dots,x_N) }{\\partial x_1\\partial x_2}, \\, \\dots \\, , \\frac{\\partial^n g(x_1,\\dots,x_N) }{\\partial x_N^n} \\right) \\right)^2\n",
    "$$"
   ]
  },
  {
   "cell_type": "markdown",
   "id": "850e95ed",
   "metadata": {
    "editable": true
   },
   "source": [
    "## More details\n",
    "\n",
    "If we let $\\boldsymbol{x} = \\big( x_1, \\dots, x_N \\big)$ be an array containing the values for $x_1, \\dots, x_N$ respectively, the cost function can be reformulated into the following:"
   ]
  },
  {
   "cell_type": "markdown",
   "id": "96f9cca4",
   "metadata": {
    "editable": true
   },
   "source": [
    "$$\n",
    "C\\left(\\boldsymbol{x}, P\\right) = f\\left( \\left( \\boldsymbol{x}, \\frac{\\partial g(\\boldsymbol{x}) }{\\partial x_1}, \\dots , \\frac{\\partial g(\\boldsymbol{x}) }{\\partial x_N}, \\frac{\\partial g(\\boldsymbol{x}) }{\\partial x_1\\partial x_2}, \\, \\dots \\, , \\frac{\\partial^n g(\\boldsymbol{x}) }{\\partial x_N^n} \\right) \\right)^2\n",
    "$$"
   ]
  },
  {
   "cell_type": "markdown",
   "id": "70394cae",
   "metadata": {
    "editable": true
   },
   "source": [
    "If we also have $M$ different sets of values for $x_1, \\dots, x_N$, that is $\\boldsymbol{x}_i = \\big(x_1^{(i)}, \\dots, x_N^{(i)}\\big)$ for $i = 1,\\dots,M$ being the rows in matrix $X$, the cost function can be generalized into"
   ]
  },
  {
   "cell_type": "markdown",
   "id": "d06e6c30",
   "metadata": {
    "editable": true
   },
   "source": [
    "$$\n",
    "C\\left(X, P \\right) = \\sum_{i=1}^M f\\left( \\left( \\boldsymbol{x}_i, \\frac{\\partial g(\\boldsymbol{x}_i) }{\\partial x_1}, \\dots , \\frac{\\partial g(\\boldsymbol{x}_i) }{\\partial x_N}, \\frac{\\partial g(\\boldsymbol{x}_i) }{\\partial x_1\\partial x_2}, \\, \\dots \\, , \\frac{\\partial^n g(\\boldsymbol{x}_i) }{\\partial x_N^n} \\right) \\right)^2.\n",
    "$$"
   ]
  },
  {
   "cell_type": "markdown",
   "id": "b4972f88",
   "metadata": {
    "editable": true
   },
   "source": [
    "## Example: The diffusion equation\n",
    "\n",
    "In one spatial dimension, the equation reads"
   ]
  },
  {
   "cell_type": "markdown",
   "id": "3d35cbd3",
   "metadata": {
    "editable": true
   },
   "source": [
    "$$\n",
    "\\frac{\\partial g(x,t)}{\\partial t} = \\frac{\\partial^2 g(x,t)}{\\partial x^2}\n",
    "$$"
   ]
  },
  {
   "cell_type": "markdown",
   "id": "984bf645",
   "metadata": {
    "editable": true
   },
   "source": [
    "where a possible choice of conditions are"
   ]
  },
  {
   "cell_type": "markdown",
   "id": "9d58d0ec",
   "metadata": {
    "editable": true
   },
   "source": [
    "$$\n",
    "\\begin{align*}\n",
    "g(0,t) &= 0 ,\\qquad t \\geq 0 \\\\\n",
    "g(1,t) &= 0, \\qquad t \\geq 0 \\\\\n",
    "g(x,0) &= u(x),\\qquad x\\in [0,1]\n",
    "\\end{align*}\n",
    "$$"
   ]
  },
  {
   "cell_type": "markdown",
   "id": "99cf8f47",
   "metadata": {
    "editable": true
   },
   "source": [
    "with $u(x)$ being some given function."
   ]
  },
  {
   "cell_type": "markdown",
   "id": "777ad3a8",
   "metadata": {
    "editable": true
   },
   "source": [
    "## Defining the problem\n",
    "\n",
    "For this case, we want to find $g(x,t)$ such that"
   ]
  },
  {
   "cell_type": "markdown",
   "id": "7182b747",
   "metadata": {
    "editable": true
   },
   "source": [
    "<!-- Equation labels as ordinary links -->\n",
    "<div id=\"diffonedim\"></div>\n",
    "\n",
    "$$\n",
    "\\begin{equation}\n",
    "  \\frac{\\partial g(x,t)}{\\partial t} = \\frac{\\partial^2 g(x,t)}{\\partial x^2}\n",
    "\\end{equation} \\label{diffonedim} \\tag{18}\n",
    "$$"
   ]
  },
  {
   "cell_type": "markdown",
   "id": "3c40d528",
   "metadata": {
    "editable": true
   },
   "source": [
    "and"
   ]
  },
  {
   "cell_type": "markdown",
   "id": "7cb1e15a",
   "metadata": {
    "editable": true
   },
   "source": [
    "$$\n",
    "\\begin{align*}\n",
    "g(0,t) &= 0 ,\\qquad t \\geq 0 \\\\\n",
    "g(1,t) &= 0, \\qquad t \\geq 0 \\\\\n",
    "g(x,0) &= u(x),\\qquad x\\in [0,1]\n",
    "\\end{align*}\n",
    "$$"
   ]
  },
  {
   "cell_type": "markdown",
   "id": "5c4bcdb5",
   "metadata": {
    "editable": true
   },
   "source": [
    "with $u(x) = \\sin(\\pi x)$.\n",
    "\n",
    "First, let us set up the deep neural network.\n",
    "The deep neural network will follow the same structure as discussed in the examples solving the ODEs.\n",
    "First, we will look into how Autograd could be used in a network tailored to solve for bivariate functions."
   ]
  },
  {
   "cell_type": "markdown",
   "id": "c84ff432",
   "metadata": {
    "editable": true
   },
   "source": [
    "## Setting up the network using Autograd\n",
    "\n",
    "The only change to do here, is to extend our network such that\n",
    "functions of multiple parameters are correctly handled.  In this case\n",
    "we have two variables in our function to solve for, that is time $t$\n",
    "and position $x$.  The variables will be represented by a\n",
    "one-dimensional array in the program.  The program will evaluate the\n",
    "network at each possible pair $(x,t)$, given an array for the desired\n",
    "$x$-values and $t$-values to approximate the solution at."
   ]
  },
  {
   "cell_type": "code",
   "execution_count": 37,
   "id": "ba62ab4c",
   "metadata": {
    "collapsed": false,
    "editable": true,
    "jupyter": {
     "outputs_hidden": false
    }
   },
   "outputs": [],
   "source": [
    "def sigmoid(z):\n",
    "    return 1/(1 + np.exp(-z))\n",
    "\n",
    "def deep_neural_network(deep_params, x):\n",
    "    # x is now a point and a 1D numpy array; make it a column vector\n",
    "    num_coordinates = np.size(x,0)\n",
    "    x = x.reshape(num_coordinates,-1)\n",
    "\n",
    "    num_points = np.size(x,1)\n",
    "\n",
    "    # N_hidden is the number of hidden layers\n",
    "    N_hidden = len(deep_params) - 1 # -1 since params consist of parameters to all the hidden layers AND the output layer\n",
    "\n",
    "    # Assume that the input layer does nothing to the input x\n",
    "    x_input = x\n",
    "    x_prev = x_input\n",
    "\n",
    "    ## Hidden layers:\n",
    "\n",
    "    for l in range(N_hidden):\n",
    "        # From the list of parameters P; find the correct weigths and bias for this layer\n",
    "        w_hidden = deep_params[l]\n",
    "\n",
    "        # Add a row of ones to include bias\n",
    "        x_prev = np.concatenate((np.ones((1,num_points)), x_prev ), axis = 0)\n",
    "\n",
    "        z_hidden = np.matmul(w_hidden, x_prev)\n",
    "        x_hidden = sigmoid(z_hidden)\n",
    "\n",
    "        # Update x_prev such that next layer can use the output from this layer\n",
    "        x_prev = x_hidden\n",
    "\n",
    "    ## Output layer:\n",
    "\n",
    "    # Get the weights and bias for this layer\n",
    "    w_output = deep_params[-1]\n",
    "\n",
    "    # Include bias:\n",
    "    x_prev = np.concatenate((np.ones((1,num_points)), x_prev), axis = 0)\n",
    "\n",
    "    z_output = np.matmul(w_output, x_prev)\n",
    "    x_output = z_output\n",
    "\n",
    "    return x_output[0][0]"
   ]
  },
  {
   "cell_type": "markdown",
   "id": "7fd9e6dc",
   "metadata": {
    "editable": true
   },
   "source": [
    "## Setting up the network using Autograd; The trial solution\n",
    "\n",
    "The cost function must then iterate through the given arrays\n",
    "containing values for $x$ and $t$, defines a point $(x,t)$ the deep\n",
    "neural network and the trial solution is evaluated at, and then finds\n",
    "the Jacobian of the trial solution.\n",
    "\n",
    "A possible trial solution for this PDE is\n",
    "\n",
    "$$\n",
    "g_t(x,t) = h_1(x,t) + x(1-x)tN(x,t,P)\n",
    "$$\n",
    "\n",
    "with $A(x,t)$ being a function ensuring that $g_t(x,t)$ satisfies our given conditions, and $N(x,t,P)$ being the output from the deep neural network using weights and biases for each layer from $P$.\n",
    "\n",
    "To fulfill the conditions, $A(x,t)$ could be:\n",
    "\n",
    "$$\n",
    "h_1(x,t) = (1-t)\\Big(u(x) - \\big((1-x)u(0) + x u(1)\\big)\\Big) = (1-t)u(x) = (1-t)\\sin(\\pi x)\n",
    "$$\n",
    "since $(0) = u(1) = 0$ and $u(x) = \\sin(\\pi x)$."
   ]
  },
  {
   "cell_type": "markdown",
   "id": "6c63c928",
   "metadata": {
    "editable": true
   },
   "source": [
    "## Why the jacobian?\n",
    "\n",
    "The Jacobian is used because the program must find the derivative of\n",
    "the trial solution with respect to $x$ and $t$.\n",
    "\n",
    "This gives the necessity of computing the Jacobian matrix, as we want\n",
    "to evaluate the gradient with respect to $x$ and $t$ (note that the\n",
    "Jacobian of a scalar-valued multivariate function is simply its\n",
    "gradient).\n",
    "\n",
    "In Autograd, the differentiation is by default done with respect to\n",
    "the first input argument of your Python function. Since the points is\n",
    "an array representing $x$ and $t$, the Jacobian is calculated using\n",
    "the values of $x$ and $t$.\n",
    "\n",
    "To find the second derivative with respect to $x$ and $t$, the\n",
    "Jacobian can be found for the second time. The result is a Hessian\n",
    "matrix, which is the matrix containing all the possible second order\n",
    "mixed derivatives of $g(x,t)$."
   ]
  },
  {
   "cell_type": "code",
   "execution_count": 38,
   "id": "4192bf3d",
   "metadata": {
    "collapsed": false,
    "editable": true,
    "jupyter": {
     "outputs_hidden": false
    }
   },
   "outputs": [],
   "source": [
    "# Set up the trial function:\n",
    "def u(x):\n",
    "    return np.sin(np.pi*x)\n",
    "\n",
    "def g_trial(point,P):\n",
    "    x,t = point\n",
    "    return (1-t)*u(x) + x*(1-x)*t*deep_neural_network(P,point)\n",
    "\n",
    "# The right side of the ODE:\n",
    "def f(point):\n",
    "    return 0.\n",
    "\n",
    "# The cost function:\n",
    "def cost_function(P, x, t):\n",
    "    cost_sum = 0\n",
    "\n",
    "    g_t_jacobian_func = jacobian(g_trial)\n",
    "    g_t_hessian_func = hessian(g_trial)\n",
    "\n",
    "    for x_ in x:\n",
    "        for t_ in t:\n",
    "            point = np.array([x_,t_])\n",
    "\n",
    "            g_t = g_trial(point,P)\n",
    "            g_t_jacobian = g_t_jacobian_func(point,P)\n",
    "            g_t_hessian = g_t_hessian_func(point,P)\n",
    "\n",
    "            g_t_dt = g_t_jacobian[1]\n",
    "            g_t_d2x = g_t_hessian[0][0]\n",
    "\n",
    "            func = f(point)\n",
    "\n",
    "            err_sqr = ( (g_t_dt - g_t_d2x) - func)**2\n",
    "            cost_sum += err_sqr\n",
    "\n",
    "    return cost_sum"
   ]
  },
  {
   "cell_type": "markdown",
   "id": "87f8417d",
   "metadata": {
    "editable": true
   },
   "source": [
    "## Setting up the network using Autograd; The full program\n",
    "\n",
    "Having set up the network, along with the trial solution and cost function, we can now see how the deep neural network performs by comparing the results to the analytical solution.\n",
    "\n",
    "The analytical solution of our problem is\n",
    "\n",
    "$$\n",
    "g(x,t) = \\exp(-\\pi^2 t)\\sin(\\pi x)\n",
    "$$\n",
    "\n",
    "A possible way to implement a neural network solving the PDE, is given below.\n",
    "Be aware, though, that it is fairly slow for the parameters used.\n",
    "A better result is possible, but requires more iterations, and thus longer time to complete.\n",
    "\n",
    "Indeed, the program below is not optimal in its implementation, but rather serves as an example on how to implement and use a neural network to solve a PDE.\n",
    "Using TensorFlow results in a much better execution time. Try it!"
   ]
  },
  {
   "cell_type": "code",
   "execution_count": 39,
   "id": "1572e93b",
   "metadata": {
    "collapsed": false,
    "editable": true,
    "jupyter": {
     "outputs_hidden": false
    }
   },
   "outputs": [],
   "source": [
    "import autograd.numpy as np\n",
    "from autograd import jacobian,hessian,grad\n",
    "import autograd.numpy.random as npr\n",
    "from matplotlib import cm\n",
    "from matplotlib import pyplot as plt\n",
    "from mpl_toolkits.mplot3d import axes3d\n",
    "\n",
    "## Set up the network\n",
    "\n",
    "def sigmoid(z):\n",
    "    return 1/(1 + np.exp(-z))\n",
    "\n",
    "def deep_neural_network(deep_params, x):\n",
    "    # x is now a point and a 1D numpy array; make it a column vector\n",
    "    num_coordinates = np.size(x,0)\n",
    "    x = x.reshape(num_coordinates,-1)\n",
    "\n",
    "    num_points = np.size(x,1)\n",
    "\n",
    "    # N_hidden is the number of hidden layers\n",
    "    N_hidden = len(deep_params) - 1 # -1 since params consist of parameters to all the hidden layers AND the output layer\n",
    "\n",
    "    # Assume that the input layer does nothing to the input x\n",
    "    x_input = x\n",
    "    x_prev = x_input\n",
    "\n",
    "    ## Hidden layers:\n",
    "\n",
    "    for l in range(N_hidden):\n",
    "        # From the list of parameters P; find the correct weigths and bias for this layer\n",
    "        w_hidden = deep_params[l]\n",
    "\n",
    "        # Add a row of ones to include bias\n",
    "        x_prev = np.concatenate((np.ones((1,num_points)), x_prev ), axis = 0)\n",
    "\n",
    "        z_hidden = np.matmul(w_hidden, x_prev)\n",
    "        x_hidden = sigmoid(z_hidden)\n",
    "\n",
    "        # Update x_prev such that next layer can use the output from this layer\n",
    "        x_prev = x_hidden\n",
    "\n",
    "    ## Output layer:\n",
    "\n",
    "    # Get the weights and bias for this layer\n",
    "    w_output = deep_params[-1]\n",
    "\n",
    "    # Include bias:\n",
    "    x_prev = np.concatenate((np.ones((1,num_points)), x_prev), axis = 0)\n",
    "\n",
    "    z_output = np.matmul(w_output, x_prev)\n",
    "    x_output = z_output\n",
    "\n",
    "    return x_output[0][0]\n",
    "\n",
    "## Define the trial solution and cost function\n",
    "def u(x):\n",
    "    return np.sin(np.pi*x)\n",
    "\n",
    "def g_trial(point,P):\n",
    "    x,t = point\n",
    "    return (1-t)*u(x) + x*(1-x)*t*deep_neural_network(P,point)\n",
    "\n",
    "# The right side of the ODE:\n",
    "def f(point):\n",
    "    return 0.\n",
    "\n",
    "# The cost function:\n",
    "def cost_function(P, x, t):\n",
    "    cost_sum = 0\n",
    "\n",
    "    g_t_jacobian_func = jacobian(g_trial)\n",
    "    g_t_hessian_func = hessian(g_trial)\n",
    "\n",
    "    for x_ in x:\n",
    "        for t_ in t:\n",
    "            point = np.array([x_,t_])\n",
    "\n",
    "            g_t = g_trial(point,P)\n",
    "            g_t_jacobian = g_t_jacobian_func(point,P)\n",
    "            g_t_hessian = g_t_hessian_func(point,P)\n",
    "\n",
    "            g_t_dt = g_t_jacobian[1]\n",
    "            g_t_d2x = g_t_hessian[0][0]\n",
    "\n",
    "            func = f(point)\n",
    "\n",
    "            err_sqr = ( (g_t_dt - g_t_d2x) - func)**2\n",
    "            cost_sum += err_sqr\n",
    "\n",
    "    return cost_sum /( np.size(x)*np.size(t) )\n",
    "\n",
    "## For comparison, define the analytical solution\n",
    "def g_analytic(point):\n",
    "    x,t = point\n",
    "    return np.exp(-np.pi**2*t)*np.sin(np.pi*x)\n",
    "\n",
    "## Set up a function for training the network to solve for the equation\n",
    "def solve_pde_deep_neural_network(x,t, num_neurons, num_iter, lmb):\n",
    "    ## Set up initial weigths and biases\n",
    "    N_hidden = np.size(num_neurons)\n",
    "\n",
    "    ## Set up initial weigths and biases\n",
    "\n",
    "    # Initialize the list of parameters:\n",
    "    P = [None]*(N_hidden + 1) # + 1 to include the output layer\n",
    "\n",
    "    P[0] = npr.randn(num_neurons[0], 2 + 1 ) # 2 since we have two points, +1 to include bias\n",
    "    for l in range(1,N_hidden):\n",
    "        P[l] = npr.randn(num_neurons[l], num_neurons[l-1] + 1) # +1 to include bias\n",
    "\n",
    "    # For the output layer\n",
    "    P[-1] = npr.randn(1, num_neurons[-1] + 1 ) # +1 since bias is included\n",
    "\n",
    "    print('Initial cost: ',cost_function(P, x, t))\n",
    "\n",
    "    cost_function_grad = grad(cost_function,0)\n",
    "\n",
    "    # Let the update be done num_iter times\n",
    "    for i in range(num_iter):\n",
    "        cost_grad =  cost_function_grad(P, x , t)\n",
    "\n",
    "        for l in range(N_hidden+1):\n",
    "            P[l] = P[l] - lmb * cost_grad[l]\n",
    "\n",
    "    print('Final cost: ',cost_function(P, x, t))\n",
    "\n",
    "    return P\n",
    "\n",
    "if __name__ == '__main__':\n",
    "    ### Use the neural network:\n",
    "    npr.seed(15)\n",
    "\n",
    "    ## Decide the vales of arguments to the function to solve\n",
    "    Nx = 10; Nt = 10\n",
    "    x = np.linspace(0, 1, Nx)\n",
    "    t = np.linspace(0,1,Nt)\n",
    "\n",
    "    ## Set up the parameters for the network\n",
    "    num_hidden_neurons = [100, 25]\n",
    "    num_iter = 250\n",
    "    lmb = 0.01\n",
    "\n",
    "    P = solve_pde_deep_neural_network(x,t, num_hidden_neurons, num_iter, lmb)\n",
    "\n",
    "    ## Store the results\n",
    "    g_dnn_ag = np.zeros((Nx, Nt))\n",
    "    G_analytical = np.zeros((Nx, Nt))\n",
    "    for i,x_ in enumerate(x):\n",
    "        for j, t_ in enumerate(t):\n",
    "            point = np.array([x_, t_])\n",
    "            g_dnn_ag[i,j] = g_trial(point,P)\n",
    "\n",
    "            G_analytical[i,j] = g_analytic(point)\n",
    "\n",
    "    # Find the map difference between the analytical and the computed solution\n",
    "    diff_ag = np.abs(g_dnn_ag - G_analytical)\n",
    "    print('Max absolute difference between the analytical solution and the network: %g'%np.max(diff_ag))\n",
    "\n",
    "    ## Plot the solutions in two dimensions, that being in position and time\n",
    "\n",
    "    T,X = np.meshgrid(t,x)\n",
    "\n",
    "    fig = plt.figure(figsize=(10,10))\n",
    "    ax = fig.add_suplot(projection='3d')\n",
    "    ax.set_title('Solution from the deep neural network w/ %d layer'%len(num_hidden_neurons))\n",
    "    s = ax.plot_surface(T,X,g_dnn_ag,linewidth=0,antialiased=False,cmap=cm.viridis)\n",
    "    ax.set_xlabel('Time $t$')\n",
    "    ax.set_ylabel('Position $x$');\n",
    "\n",
    "\n",
    "    fig = plt.figure(figsize=(10,10))\n",
    "    ax = fig.add_suplot(projection='3d')\n",
    "    ax.set_title('Analytical solution')\n",
    "    s = ax.plot_surface(T,X,G_analytical,linewidth=0,antialiased=False,cmap=cm.viridis)\n",
    "    ax.set_xlabel('Time $t$')\n",
    "    ax.set_ylabel('Position $x$');\n",
    "\n",
    "    fig = plt.figure(figsize=(10,10))\n",
    "    ax = fig.add_suplot(projection='3d')\n",
    "    ax.set_title('Difference')\n",
    "    s = ax.plot_surface(T,X,diff_ag,linewidth=0,antialiased=False,cmap=cm.viridis)\n",
    "    ax.set_xlabel('Time $t$')\n",
    "    ax.set_ylabel('Position $x$');\n",
    "\n",
    "    ## Take some slices of the 3D plots just to see the solutions at particular times\n",
    "    indx1 = 0\n",
    "    indx2 = int(Nt/2)\n",
    "    indx3 = Nt-1\n",
    "\n",
    "    t1 = t[indx1]\n",
    "    t2 = t[indx2]\n",
    "    t3 = t[indx3]\n",
    "\n",
    "    # Slice the results from the DNN\n",
    "    res1 = g_dnn_ag[:,indx1]\n",
    "    res2 = g_dnn_ag[:,indx2]\n",
    "    res3 = g_dnn_ag[:,indx3]\n",
    "\n",
    "    # Slice the analytical results\n",
    "    res_analytical1 = G_analytical[:,indx1]\n",
    "    res_analytical2 = G_analytical[:,indx2]\n",
    "    res_analytical3 = G_analytical[:,indx3]\n",
    "\n",
    "    # Plot the slices\n",
    "    plt.figure(figsize=(10,10))\n",
    "    plt.title(\"Computed solutions at time = %g\"%t1)\n",
    "    plt.plot(x, res1)\n",
    "    plt.plot(x,res_analytical1)\n",
    "    plt.legend(['dnn','analytical'])\n",
    "\n",
    "    plt.figure(figsize=(10,10))\n",
    "    plt.title(\"Computed solutions at time = %g\"%t2)\n",
    "    plt.plot(x, res2)\n",
    "    plt.plot(x,res_analytical2)\n",
    "    plt.legend(['dnn','analytical'])\n",
    "\n",
    "    plt.figure(figsize=(10,10))\n",
    "    plt.title(\"Computed solutions at time = %g\"%t3)\n",
    "    plt.plot(x, res3)\n",
    "    plt.plot(x,res_analytical3)\n",
    "    plt.legend(['dnn','analytical'])\n",
    "\n",
    "    plt.show()"
   ]
  },
  {
   "cell_type": "markdown",
   "id": "bf7afd74",
   "metadata": {
    "editable": true
   },
   "source": [
    "## Example: Solving the wave equation with Neural Networks\n",
    "\n",
    "The wave equation is"
   ]
  },
  {
   "cell_type": "markdown",
   "id": "fdef78b2",
   "metadata": {
    "editable": true
   },
   "source": [
    "$$\n",
    "\\frac{\\partial^2 g(x,t)}{\\partial t^2} = c^2\\frac{\\partial^2 g(x,t)}{\\partial x^2}\n",
    "$$"
   ]
  },
  {
   "cell_type": "markdown",
   "id": "be570613",
   "metadata": {
    "editable": true
   },
   "source": [
    "with $c$ being the specified wave speed.\n",
    "\n",
    "Here, the chosen conditions are"
   ]
  },
  {
   "cell_type": "markdown",
   "id": "9f81e04f",
   "metadata": {
    "editable": true
   },
   "source": [
    "$$\n",
    "\\begin{align*}\n",
    "\tg(0,t) &= 0 \\\\\n",
    "\tg(1,t) &= 0 \\\\\n",
    "\tg(x,0) &= u(x) \\\\\n",
    "\t\\frac{\\partial g(x,t)}{\\partial t} \\Big |_{t = 0} &= v(x)\n",
    "\\end{align*}\n",
    "$$"
   ]
  },
  {
   "cell_type": "markdown",
   "id": "91171d8b",
   "metadata": {
    "editable": true
   },
   "source": [
    "where $\\frac{\\partial g(x,t)}{\\partial t} \\Big |_{t = 0}$ means the derivative of $g(x,t)$ with respect to $t$ is evaluated at $t = 0$, and $u(x)$ and $v(x)$ being given functions."
   ]
  },
  {
   "cell_type": "markdown",
   "id": "dbbbb8a5",
   "metadata": {
    "editable": true
   },
   "source": [
    "## The problem to solve for\n",
    "\n",
    "The wave equation to solve for, is"
   ]
  },
  {
   "cell_type": "markdown",
   "id": "3f1be58e",
   "metadata": {
    "editable": true
   },
   "source": [
    "<!-- Equation labels as ordinary links -->\n",
    "<div id=\"wave\"></div>\n",
    "\n",
    "$$\n",
    "\\begin{equation} \\label{wave} \\tag{19}\n",
    "\\frac{\\partial^2 g(x,t)}{\\partial t^2} = c^2 \\frac{\\partial^2 g(x,t)}{\\partial x^2}\n",
    "\\end{equation}\n",
    "$$"
   ]
  },
  {
   "cell_type": "markdown",
   "id": "d54c4188",
   "metadata": {
    "editable": true
   },
   "source": [
    "where $c$ is the given wave speed.\n",
    "The chosen conditions for this equation are"
   ]
  },
  {
   "cell_type": "markdown",
   "id": "952c58e8",
   "metadata": {
    "editable": true
   },
   "source": [
    "<!-- Equation labels as ordinary links -->\n",
    "<div id=\"condwave\"></div>\n",
    "\n",
    "$$\n",
    "\\begin{aligned}\n",
    "g(0,t) &= 0, &t \\geq 0 \\\\\n",
    "g(1,t) &= 0, &t \\geq 0 \\\\\n",
    "g(x,0) &= u(x), &x\\in[0,1] \\\\\n",
    "\\frac{\\partial g(x,t)}{\\partial t}\\Big |_{t = 0} &= v(x), &x \\in [0,1]\n",
    "\\end{aligned} \\label{condwave} \\tag{20}\n",
    "$$"
   ]
  },
  {
   "cell_type": "markdown",
   "id": "a650bae2",
   "metadata": {
    "editable": true
   },
   "source": [
    "In this example, let $c = 1$ and $u(x) = \\sin(\\pi x)$ and $v(x) = -\\pi\\sin(\\pi x)$."
   ]
  },
  {
   "cell_type": "markdown",
   "id": "9e0b8996",
   "metadata": {
    "editable": true
   },
   "source": [
    "## The trial solution\n",
    "Setting up the network is done in similar matter as for the example of solving the diffusion equation.\n",
    "The only things we have to change, is the trial solution such that it satisfies the conditions from ([20](#condwave)) and the cost function.\n",
    "\n",
    "The trial solution becomes slightly different since we have other conditions than in the example of solving the diffusion equation. Here, a possible trial solution $g_t(x,t)$ is\n",
    "\n",
    "$$\n",
    "g_t(x,t) = h_1(x,t) + x(1-x)t^2N(x,t,P)\n",
    "$$\n",
    "\n",
    "where\n",
    "\n",
    "$$\n",
    "h_1(x,t) = (1-t^2)u(x) + tv(x)\n",
    "$$\n",
    "\n",
    "Note that this trial solution satisfies the conditions only if $u(0) = v(0) = u(1) = v(1) = 0$, which is the case in this example."
   ]
  },
  {
   "cell_type": "markdown",
   "id": "0f3f1985",
   "metadata": {
    "editable": true
   },
   "source": [
    "## The analytical solution\n",
    "\n",
    "The analytical solution for our specific problem, is\n",
    "\n",
    "$$\n",
    "g(x,t) = \\sin(\\pi x)\\cos(\\pi t) - \\sin(\\pi x)\\sin(\\pi t)\n",
    "$$"
   ]
  },
  {
   "cell_type": "markdown",
   "id": "fbd35329",
   "metadata": {
    "editable": true
   },
   "source": [
    "## Solving the wave equation - the full program using Autograd"
   ]
  },
  {
   "cell_type": "code",
   "execution_count": 40,
   "id": "6ccf9344",
   "metadata": {
    "collapsed": false,
    "editable": true,
    "jupyter": {
     "outputs_hidden": false
    }
   },
   "outputs": [],
   "source": [
    "import autograd.numpy as np\n",
    "from autograd import hessian,grad\n",
    "import autograd.numpy.random as npr\n",
    "from matplotlib import cm\n",
    "from matplotlib import pyplot as plt\n",
    "from mpl_toolkits.mplot3d import axes3d\n",
    "\n",
    "## Set up the trial function:\n",
    "def u(x):\n",
    "    return np.sin(np.pi*x)\n",
    "\n",
    "def v(x):\n",
    "    return -np.pi*np.sin(np.pi*x)\n",
    "\n",
    "def h1(point):\n",
    "    x,t = point\n",
    "    return (1 - t**2)*u(x) + t*v(x)\n",
    "\n",
    "def g_trial(point,P):\n",
    "    x,t = point\n",
    "    return h1(point) + x*(1-x)*t**2*deep_neural_network(P,point)\n",
    "\n",
    "## Define the cost function\n",
    "def cost_function(P, x, t):\n",
    "    cost_sum = 0\n",
    "\n",
    "    g_t_hessian_func = hessian(g_trial)\n",
    "\n",
    "    for x_ in x:\n",
    "        for t_ in t:\n",
    "            point = np.array([x_,t_])\n",
    "\n",
    "            g_t_hessian = g_t_hessian_func(point,P)\n",
    "\n",
    "            g_t_d2x = g_t_hessian[0][0]\n",
    "            g_t_d2t = g_t_hessian[1][1]\n",
    "\n",
    "            err_sqr = ( (g_t_d2t - g_t_d2x) )**2\n",
    "            cost_sum += err_sqr\n",
    "\n",
    "    return cost_sum / (np.size(t) * np.size(x))\n",
    "\n",
    "## The neural network\n",
    "def sigmoid(z):\n",
    "    return 1/(1 + np.exp(-z))\n",
    "\n",
    "def deep_neural_network(deep_params, x):\n",
    "    # x is now a point and a 1D numpy array; make it a column vector\n",
    "    num_coordinates = np.size(x,0)\n",
    "    x = x.reshape(num_coordinates,-1)\n",
    "\n",
    "    num_points = np.size(x,1)\n",
    "\n",
    "    # N_hidden is the number of hidden layers\n",
    "    N_hidden = len(deep_params) - 1 # -1 since params consist of parameters to all the hidden layers AND the output layer\n",
    "\n",
    "    # Assume that the input layer does nothing to the input x\n",
    "    x_input = x\n",
    "    x_prev = x_input\n",
    "\n",
    "    ## Hidden layers:\n",
    "\n",
    "    for l in range(N_hidden):\n",
    "        # From the list of parameters P; find the correct weigths and bias for this layer\n",
    "        w_hidden = deep_params[l]\n",
    "\n",
    "        # Add a row of ones to include bias\n",
    "        x_prev = np.concatenate((np.ones((1,num_points)), x_prev ), axis = 0)\n",
    "\n",
    "        z_hidden = np.matmul(w_hidden, x_prev)\n",
    "        x_hidden = sigmoid(z_hidden)\n",
    "\n",
    "        # Update x_prev such that next layer can use the output from this layer\n",
    "        x_prev = x_hidden\n",
    "\n",
    "    ## Output layer:\n",
    "\n",
    "    # Get the weights and bias for this layer\n",
    "    w_output = deep_params[-1]\n",
    "\n",
    "    # Include bias:\n",
    "    x_prev = np.concatenate((np.ones((1,num_points)), x_prev), axis = 0)\n",
    "\n",
    "    z_output = np.matmul(w_output, x_prev)\n",
    "    x_output = z_output\n",
    "\n",
    "    return x_output[0][0]\n",
    "\n",
    "## The analytical solution\n",
    "def g_analytic(point):\n",
    "    x,t = point\n",
    "    return np.sin(np.pi*x)*np.cos(np.pi*t) - np.sin(np.pi*x)*np.sin(np.pi*t)\n",
    "\n",
    "def solve_pde_deep_neural_network(x,t, num_neurons, num_iter, lmb):\n",
    "    ## Set up initial weigths and biases\n",
    "    N_hidden = np.size(num_neurons)\n",
    "\n",
    "    ## Set up initial weigths and biases\n",
    "\n",
    "    # Initialize the list of parameters:\n",
    "    P = [None]*(N_hidden + 1) # + 1 to include the output layer\n",
    "\n",
    "    P[0] = npr.randn(num_neurons[0], 2 + 1 ) # 2 since we have two points, +1 to include bias\n",
    "    for l in range(1,N_hidden):\n",
    "        P[l] = npr.randn(num_neurons[l], num_neurons[l-1] + 1) # +1 to include bias\n",
    "\n",
    "    # For the output layer\n",
    "    P[-1] = npr.randn(1, num_neurons[-1] + 1 ) # +1 since bias is included\n",
    "\n",
    "    print('Initial cost: ',cost_function(P, x, t))\n",
    "\n",
    "    cost_function_grad = grad(cost_function,0)\n",
    "\n",
    "    # Let the update be done num_iter times\n",
    "    for i in range(num_iter):\n",
    "        cost_grad =  cost_function_grad(P, x , t)\n",
    "\n",
    "        for l in range(N_hidden+1):\n",
    "            P[l] = P[l] - lmb * cost_grad[l]\n",
    "\n",
    "\n",
    "    print('Final cost: ',cost_function(P, x, t))\n",
    "\n",
    "    return P\n",
    "\n",
    "if __name__ == '__main__':\n",
    "    ### Use the neural network:\n",
    "    npr.seed(15)\n",
    "\n",
    "    ## Decide the vales of arguments to the function to solve\n",
    "    Nx = 10; Nt = 10\n",
    "    x = np.linspace(0, 1, Nx)\n",
    "    t = np.linspace(0,1,Nt)\n",
    "\n",
    "    ## Set up the parameters for the network\n",
    "    num_hidden_neurons = [50,20]\n",
    "    num_iter = 1000\n",
    "    lmb = 0.01\n",
    "\n",
    "    P = solve_pde_deep_neural_network(x,t, num_hidden_neurons, num_iter, lmb)\n",
    "\n",
    "    ## Store the results\n",
    "    res = np.zeros((Nx, Nt))\n",
    "    res_analytical = np.zeros((Nx, Nt))\n",
    "    for i,x_ in enumerate(x):\n",
    "        for j, t_ in enumerate(t):\n",
    "            point = np.array([x_, t_])\n",
    "            res[i,j] = g_trial(point,P)\n",
    "\n",
    "            res_analytical[i,j] = g_analytic(point)\n",
    "\n",
    "    diff = np.abs(res - res_analytical)\n",
    "    print(\"Max difference between analytical and solution from nn: %g\"%np.max(diff))\n",
    "\n",
    "    ## Plot the solutions in two dimensions, that being in position and time\n",
    "\n",
    "    T,X = np.meshgrid(t,x)\n",
    "\n",
    "    fig = plt.figure(figsize=(10,10))\n",
    "    ax = fig.add_suplot(projection='3d')\n",
    "    ax.set_title('Solution from the deep neural network w/ %d layer'%len(num_hidden_neurons))\n",
    "    s = ax.plot_surface(T,X,res,linewidth=0,antialiased=False,cmap=cm.viridis)\n",
    "    ax.set_xlabel('Time $t$')\n",
    "    ax.set_ylabel('Position $x$');\n",
    "\n",
    "\n",
    "    fig = plt.figure(figsize=(10,10))\n",
    "    ax = fig.add_suplot(projection='3d')\n",
    "    ax.set_title('Analytical solution')\n",
    "    s = ax.plot_surface(T,X,res_analytical,linewidth=0,antialiased=False,cmap=cm.viridis)\n",
    "    ax.set_xlabel('Time $t$')\n",
    "    ax.set_ylabel('Position $x$');\n",
    "\n",
    "\n",
    "    fig = plt.figure(figsize=(10,10))\n",
    "    ax = fig.add_suplot(projection='3d')\n",
    "    ax.set_title('Difference')\n",
    "    s = ax.plot_surface(T,X,diff,linewidth=0,antialiased=False,cmap=cm.viridis)\n",
    "    ax.set_xlabel('Time $t$')\n",
    "    ax.set_ylabel('Position $x$');\n",
    "\n",
    "    ## Take some slices of the 3D plots just to see the solutions at particular times\n",
    "    indx1 = 0\n",
    "    indx2 = int(Nt/2)\n",
    "    indx3 = Nt-1\n",
    "\n",
    "    t1 = t[indx1]\n",
    "    t2 = t[indx2]\n",
    "    t3 = t[indx3]\n",
    "\n",
    "    # Slice the results from the DNN\n",
    "    res1 = res[:,indx1]\n",
    "    res2 = res[:,indx2]\n",
    "    res3 = res[:,indx3]\n",
    "\n",
    "    # Slice the analytical results\n",
    "    res_analytical1 = res_analytical[:,indx1]\n",
    "    res_analytical2 = res_analytical[:,indx2]\n",
    "    res_analytical3 = res_analytical[:,indx3]\n",
    "\n",
    "    # Plot the slices\n",
    "    plt.figure(figsize=(10,10))\n",
    "    plt.title(\"Computed solutions at time = %g\"%t1)\n",
    "    plt.plot(x, res1)\n",
    "    plt.plot(x,res_analytical1)\n",
    "    plt.legend(['dnn','analytical'])\n",
    "\n",
    "    plt.figure(figsize=(10,10))\n",
    "    plt.title(\"Computed solutions at time = %g\"%t2)\n",
    "    plt.plot(x, res2)\n",
    "    plt.plot(x,res_analytical2)\n",
    "    plt.legend(['dnn','analytical'])\n",
    "\n",
    "    plt.figure(figsize=(10,10))\n",
    "    plt.title(\"Computed solutions at time = %g\"%t3)\n",
    "    plt.plot(x, res3)\n",
    "    plt.plot(x,res_analytical3)\n",
    "    plt.legend(['dnn','analytical'])\n",
    "\n",
    "    plt.show()"
   ]
  },
  {
   "cell_type": "markdown",
   "id": "988e09cf",
   "metadata": {
    "editable": true
   },
   "source": [
    "## Resources on differential equations and deep learning\n",
    "\n",
    "1. [Artificial neural networks for solving ordinary and partial differential equations by I.E. Lagaris et al](https://pdfs.semanticscholar.org/d061/df393e0e8fbfd0ea24976458b7d42419040d.pdf)\n",
    "\n",
    "2. [Neural networks for solving differential equations by A. Honchar](https://becominghuman.ai/neural-networks-for-solving-differential-equations-fa230ac5e04c)\n",
    "\n",
    "3. [Solving differential equations using neural networks by M.M Chiaramonte and M. Kiener](http://cs229.stanford.edu/proj2013/ChiaramonteKiener-SolvingDifferentialEquationsUsingNeuralNetworks.pdf)\n",
    "\n",
    "4. [Introduction to Partial Differential Equations by A. Tveito, R. Winther](https://www.springer.com/us/book/9783540225515)"
   ]
  }
 ],
 "metadata": {
  "kernelspec": {
   "display_name": "Python 3 (ipykernel)",
   "language": "python",
   "name": "python3"
  },
  "language_info": {
   "codemirror_mode": {
    "name": "ipython",
    "version": 3
   },
   "file_extension": ".py",
   "mimetype": "text/x-python",
   "name": "python",
   "nbconvert_exporter": "python",
   "pygments_lexer": "ipython3",
   "version": "3.9.15"
  }
 },
 "nbformat": 4,
 "nbformat_minor": 5
}
